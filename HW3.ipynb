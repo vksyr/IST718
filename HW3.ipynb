{
  "nbformat": 4,
  "nbformat_minor": 0,
  "metadata": {
    "colab": {
      "name": "HW3.ipynb",
      "provenance": [],
      "mount_file_id": "https://github.com/vksyr/IST718/blob/master/HW3.ipynb",
      "authorship_tag": "ABX9TyNMli3LW+DQ2/CrRgxcc127",
      "include_colab_link": true
    },
    "kernelspec": {
      "name": "python3",
      "display_name": "Python 3"
    }
  },
  "cells": [
    {
      "cell_type": "markdown",
      "metadata": {
        "id": "view-in-github",
        "colab_type": "text"
      },
      "source": [
        "<a href=\"https://colab.research.google.com/github/vksyr/IST718/blob/master/HW3.ipynb\" target=\"_parent\"><img src=\"https://colab.research.google.com/assets/colab-badge.svg\" alt=\"Open In Colab\"/></a>"
      ]
    },
    {
      "cell_type": "code",
      "metadata": {
        "id": "Dz4MTDFG7V97",
        "colab_type": "code",
        "colab": {}
      },
      "source": [
        "import pandas as pd  # data frame operations\n",
        "import numpy as np  # arrays and math functions\n",
        "from scipy.stats import uniform  # for training-and-test split\n",
        "import statsmodels.api as sm  # statistical models (including regression)\n",
        "import statsmodels.formula.api as smf  # R-like model specification\n",
        "import matplotlib.pyplot as plt  # 2D plotting\n",
        "import seaborn as sns  # PROVIDES TRELLIS AND SMALL MULTIPLE PLOTTING\n",
        "import math\n",
        "\n",
        "import pandas as pd\n"
      ],
      "execution_count": 0,
      "outputs": []
    },
    {
      "cell_type": "code",
      "metadata": {
        "id": "HXTogXzU-HMd",
        "colab_type": "code",
        "colab": {}
      },
      "source": [
        "# Dataset was converted to CSV with this script: \n",
        "# https://pjreddie.com/projects/mnist-in-csv/\n",
        "def convert(imgf, labelf, outf, n):\n",
        "    f = open(imgf, \"rb\")\n",
        "    o = open(outf, \"w\")\n",
        "    l = open(labelf, \"rb\")\n",
        "\n",
        "    f.read(16)\n",
        "    l.read(8)\n",
        "    images = []\n",
        "\n",
        "    for i in range(n):\n",
        "        image = [ord(l.read(1))]\n",
        "        for j in range(28*28):\n",
        "            image.append(ord(f.read(1)))\n",
        "        images.append(image)\n",
        "\n",
        "    for image in images:\n",
        "        o.write(\",\".join(str(pix) for pix in image)+\"\\n\")\n",
        "    f.close()\n",
        "    o.close()\n",
        "    l.close()\n",
        "\n",
        "convert(\"/content/drive/My Drive/IST718/HW3/train-images-idx3-ubyte\", \"/content/drive/My Drive/IST718/HW3/train-labels-idx1-ubyte\",\n",
        "        \"/content/drive/My Drive/IST718/HW3/mnist_train.csv\", 60000)\n",
        "convert(\"/content/drive/My Drive/IST718/HW3/t10k-images-idx3-ubyte\", \"/content/drive/My Drive/IST718/HW3/t10k-labels-idx1-ubyte\",\n",
        "        \"/content/drive/My Drive/IST718/HW3/mnist_test.csv\", 10000)"
      ],
      "execution_count": 0,
      "outputs": []
    },
    {
      "cell_type": "code",
      "metadata": {
        "id": "YMjC5ardKfvy",
        "colab_type": "code",
        "colab": {}
      },
      "source": [
        "# create pandas df\n",
        "cols = np.array(['label'])\n",
        "for i in range(1,785):\n",
        "  cols = np.append(cols, ['pixel' + str(i)])\n",
        "\n",
        "train_images = pd.read_csv('/content/drive/My Drive/IST718/HW3/mnist_train.csv', \n",
        "                          header=None, names=cols)\n",
        "test_images = pd.read_csv('/content/drive/My Drive/IST718/HW3/mnist_test.csv', \n",
        "                          header=None, names=cols)"
      ],
      "execution_count": 0,
      "outputs": []
    },
    {
      "cell_type": "code",
      "metadata": {
        "id": "gcqFRd2uhvmr",
        "colab_type": "code",
        "colab": {}
      },
      "source": [
        "'''\n",
        "# plotting an image\n",
        "import matplotlib.pyplot as plt\n",
        "image = np.asarray(train_images.loc[0][1:]).squeeze()\n",
        "plt.imshow(image)\n",
        "plt.show()\n",
        "\n",
        "\n",
        "# plotting an image\n",
        "import matplotlib.pyplot as plt\n",
        "image = np.asarray(data[0]).squeeze()\n",
        "plt.imshow(image)\n",
        "plt.show()\n",
        "'''"
      ],
      "execution_count": 0,
      "outputs": []
    },
    {
      "cell_type": "markdown",
      "metadata": {
        "id": "DOCgpKbczWAF",
        "colab_type": "text"
      },
      "source": [
        "Tensorflow"
      ]
    },
    {
      "cell_type": "code",
      "metadata": {
        "id": "kvyoEY6zh1lN",
        "colab_type": "code",
        "colab": {}
      },
      "source": [
        "import tensorflow as tf"
      ],
      "execution_count": 0,
      "outputs": []
    },
    {
      "cell_type": "code",
      "metadata": {
        "id": "6tEqBebMx-3u",
        "colab_type": "code",
        "colab": {}
      },
      "source": [
        "# MODEL\n",
        "# CREATE PLACEHOLDER VARIABLES FOR OPERATION MANIPULATION\n",
        "# THE 784 MATCHES THE VECTOR SIZE OF THE MNIST IMAGES - 28*28\n",
        "x = tf.placeholder(tf.float32, [None, 784])\n",
        "\n",
        "# MODEL\n",
        "# CREATE WEIGHTS & BIASES VARIABLES\n",
        "# IN TF, OUR MODEL PARAMETERS ARE OFTEN MANAGED AS VARIABLES\n",
        "W = tf.Variable(tf.zeros([784, 10]))\n",
        "b = tf.Variable(tf.zeros([10]))\n",
        "\n",
        "# MODEL\n",
        "# CREATE MODEL - USES SOFTMAX AS THE ACTIVATION FUNCTION\n",
        "# REMEMBER GOAL FOR ACTIVATION FUNCTION IS TO \"SHAPE\" THE \n",
        "# OUTPUT INTO A PROBABILITY DISTRO OVER THE 10 CLASSES\n",
        "y = tf.nn.softmax(tf.matmul(x, W) + b)\n",
        "\n",
        "# MODEL\n",
        "# CREATE PREDICTED VARIABLE Y-HAT\n",
        "# AND USE CROSS ENTROPY TO DETERMINE LOSS\n",
        "# CROSS ENTROPY - HOW INEFFICIENT ARE OUR PREDICTIONS?\n",
        "y_ = tf.placeholder(tf.float32, [None, 10])\n",
        "cross_entropy = tf.reduce_mean(-tf.reduce_sum(y_ * tf.log(y), reduction_indices=[1]))\n",
        "\n",
        "# MODEL\n",
        "# TRAIN USING GRADIENT DESCENT\n",
        "# LEARNING RATE AT MIDPOINT - .5 - MAKE SMALL ADJUSTMENTS TO MINIMIZE COST\n",
        "train_step = tf.train.GradientDescentOptimizer(0.5).minimize(cross_entropy)\n",
        "\n"
      ],
      "execution_count": 0,
      "outputs": []
    },
    {
      "cell_type": "code",
      "metadata": {
        "id": "B8xGnrz-9RaV",
        "colab_type": "code",
        "colab": {}
      },
      "source": [
        "# pandas df to tensorflow dataset\n",
        "mnist_train = tf.data.Dataset.from_tensor_slices((train_images.iloc[:,1:785]))"
      ],
      "execution_count": 0,
      "outputs": []
    },
    {
      "cell_type": "code",
      "metadata": {
        "id": "xIlrLCmMbyc1",
        "colab_type": "code",
        "colab": {
          "base_uri": "https://localhost:8080/",
          "height": 51
        },
        "outputId": "159de83a-4a93-4d9b-d36c-2d3ad2b1a719"
      },
      "source": [
        "titanic_file = tf.keras.utils.get_file(\"train.csv\", \"https://storage.googleapis.com/tf-datasets/titanic/train.csv\")"
      ],
      "execution_count": 54,
      "outputs": [
        {
          "output_type": "stream",
          "text": [
            "Downloading data from https://storage.googleapis.com/tf-datasets/titanic/train.csv\n",
            "32768/30874 [===============================] - 0s 0us/step\n"
          ],
          "name": "stdout"
        }
      ]
    },
    {
      "cell_type": "code",
      "metadata": {
        "id": "9NhLQq6Nb1Sq",
        "colab_type": "code",
        "colab": {}
      },
      "source": [
        "df = pd.read_csv(titanic_file, index_col=None)\n",
        "titanic_slices = tf.data.Dataset.from_tensor_slices(dict(df))\n",
        "\n",
        "import tensorflow.contrib.eager as tfe\n",
        "dataset = titanic_slices.batch(5)\n",
        "for batch in tfe.Iterator(dataset):\n",
        "     print(batch)\n",
        "\n",
        "for feature_batch in titanic_slices.take(1):\n",
        "  for key, value in feature_batch.items():\n",
        "    print(\"  {!r:20s}: {}\".format(key, value))\n"
      ],
      "execution_count": 0,
      "outputs": []
    },
    {
      "cell_type": "code",
      "metadata": {
        "colab_type": "code",
        "id": "Rb60FigXZTfR",
        "colab": {}
      },
      "source": [
        "for feat, targ in mnist_train.take(5):\n",
        "  print ('Features: {}, Target: {}'.format(feat, targ))\n",
        "\n",
        "\n",
        "\n",
        "for feature_batch in mnist_train.take(1):\n",
        "  for key, value in feature_batch.items():\n",
        "    print(\"  {!r:20s}: {}\".format(key, value))"
      ],
      "execution_count": 0,
      "outputs": []
    },
    {
      "cell_type": "code",
      "metadata": {
        "id": "cjZO_8zOx-33",
        "colab_type": "code",
        "colab": {}
      },
      "source": [
        "# MODEL - RUN\n",
        "sess = tf.InteractiveSession()\n",
        "tf.global_variables_initializer().run()\n",
        "\n",
        "batches = titanic_slices.batch(100)\n",
        "for batch_xs, batch_ys in tfe.Iterator(batches):\n",
        "     print(batch_xs)\n",
        "\n",
        "\n",
        "'''\n",
        "for _ in range(10000):\n",
        "  batch_xs, batch_ys = mnist_train.batch(100)\n",
        "  sess.run(train_step, feed_dict={x: batch_xs, y_: batch_ys})\n",
        "'''"
      ],
      "execution_count": 0,
      "outputs": []
    }
  ]
}