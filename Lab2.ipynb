{
  "nbformat": 4,
  "nbformat_minor": 0,
  "metadata": {
    "colab": {
      "name": "Lab2.ipynb",
      "provenance": [],
      "collapsed_sections": []
    },
    "kernelspec": {
      "name": "python3",
      "display_name": "Python 3"
    }
  },
  "cells": [
    {
      "cell_type": "code",
      "metadata": {
        "id": "qyvnh4APhghB",
        "colab_type": "code",
        "colab": {}
      },
      "source": [
        "import pandas as pd  # data frame operations\n",
        "import numpy as np  # arrays and math functions\n",
        "from scipy.stats import uniform  # for training-and-test split\n",
        "import statsmodels.api as sm  # statistical models (including regression)\n",
        "import statsmodels.formula.api as smf  # R-like model specification\n",
        "import matplotlib.pyplot as plt  # 2D plotting\n",
        "import seaborn as sns  # PROVIDES TRELLIS AND SMALL MULTIPLE PLOTTING\n",
        "import math\n",
        "\n",
        "from pandas import Series\n",
        "from statistics import mean\n",
        "from statistics import median\n",
        "from math import sqrt\n",
        "\n",
        "from matplotlib import pyplot\n",
        "\n",
        "from scipy.stats import boxcox\n",
        "from statsmodels.tsa.stattools import adfuller\n",
        "from statsmodels.tsa.stattools import acf\n",
        "from statsmodels.tsa.stattools import pacf\n",
        "from statsmodels.graphics.tsaplots import plot_acf\n",
        "from statsmodels.graphics.tsaplots import plot_pacf\n",
        "\n",
        "from sklearn.metrics import mean_squared_error\n",
        "from statsmodels.tsa.arima_model import ARIMA\n",
        "from statsmodels.tsa.arima_model import ARIMAResults\n",
        "\n",
        "import plotly as py\n",
        "import plotly.graph_objects as go\n",
        "\n",
        "#!pip install fbprophet\n",
        "from fbprophet import Prophet\n",
        "\n",
        "#!pip install pmdarima\n",
        "import pmdarima as pm\n",
        "from pmdarima.arima import auto_arima\n",
        "\n",
        "pd.plotting.register_matplotlib_converters() # was getting error plotting series until entering this.."
      ],
      "execution_count": 0,
      "outputs": []
    },
    {
      "cell_type": "markdown",
      "metadata": {
        "id": "8ZQ7EhwHruxh",
        "colab_type": "text"
      },
      "source": [
        "Import data"
      ]
    },
    {
      "cell_type": "code",
      "metadata": {
        "id": "cHsHrnCNhfHa",
        "colab_type": "code",
        "colab": {}
      },
      "source": [
        "# zillow\n",
        "homes = pd.read_csv('https://files.zillowstatic.com/research/public/Zip/Zip_Zhvi_SingleFamilyResidence.csv', encoding='latin_1')"
      ],
      "execution_count": 0,
      "outputs": []
    },
    {
      "cell_type": "code",
      "metadata": {
        "id": "pWUXr5IqVBuT",
        "colab_type": "code",
        "outputId": "31207814-7b1a-4f49-8561-1c68efedd88a",
        "colab": {
          "base_uri": "https://localhost:8080/",
          "height": 34
        }
      },
      "source": [
        "homes.shape # (30434, 292)\n",
        "len(homes['RegionName'].unique()) # 30,434 zip codes, one for each row."
      ],
      "execution_count": 0,
      "outputs": [
        {
          "output_type": "execute_result",
          "data": {
            "text/plain": [
              "30434"
            ]
          },
          "metadata": {
            "tags": []
          },
          "execution_count": 61
        }
      ]
    },
    {
      "cell_type": "markdown",
      "metadata": {
        "id": "YF3rInI88dQt",
        "colab_type": "text"
      },
      "source": [
        "Arkansas Metro area analysis"
      ]
    },
    {
      "cell_type": "code",
      "metadata": {
        "id": "0qe4SavYnBNt",
        "colab_type": "code",
        "colab": {
          "base_uri": "https://localhost:8080/",
          "height": 1000
        },
        "outputId": "a990ab3a-c9de-4d73-d89a-3899aec81fe0"
      },
      "source": [
        "ar_homes = homes[homes.State=='AR']\n",
        "\n",
        "df = pd.DataFrame()\n",
        "def getMetroAvg(cityName, col):\n",
        "  global df\n",
        "  city_homes = ar_homes.loc[ar_homes.City==cityName, col]\n",
        "  avg = mean(city_homes[~np.isnan( city_homes)])\n",
        "  df = df.append({'Date':date, 'Avg':avg, 'City':cityName}, ignore_index=True )\n",
        "\n",
        "for col in ar_homes.columns: \n",
        "    date = pd.to_datetime(col, format='%Y-%m', errors='coerce')\n",
        "    if(date >= pd.to_datetime('01-01-2017')):\n",
        "      # get metro averages\n",
        "      getMetroAvg('Hot Springs', col)  \n",
        "      getMetroAvg('Little Rock', col)  \n",
        "      getMetroAvg('Fayetteville', col)  \n",
        "      getMetroAvg('Searcy', col)  \n",
        "\n",
        "df = df.set_index('Date')\n",
        "#df.iloc[0]\n",
        "\n",
        "# Plot\n",
        "groups = df.groupby(pd.Grouper('City'))\n",
        "groups.plot(subplots=False, figsize=(15, 4)); "
      ],
      "execution_count": 169,
      "outputs": [
        {
          "output_type": "display_data",
          "data": {
            "image/png": "[encoded data removed]",
            "text/plain": [
              "<Figure size 1080x288 with 1 Axes>"
            ]
          },
          "metadata": {
            "tags": []
          }
        },
        {
          "output_type": "display_data",
          "data": {
            "image/png": "[encoded data removed]",
            "text/plain": [
              "<Figure size 1080x288 with 1 Axes>"
            ]
          },
          "metadata": {
            "tags": []
          }
        },
        {
          "output_type": "display_data",
          "data": {
            "image/png": "[encoded data removed]",
            "text/plain": [
              "<Figure size 1080x288 with 1 Axes>"
            ]
          },
          "metadata": {
            "tags": []
          }
        },
        {
          "output_type": "display_data",
          "data": {
            "image/png": "[encoded data removed]",
            "text/plain": [
              "<Figure size 1080x288 with 1 Axes>"
            ]
          },
          "metadata": {
            "tags": []
          }
        }
      ]
    },
    {
      "cell_type": "markdown",
      "metadata": {
        "id": "RSV_ZWadRe_N",
        "colab_type": "text"
      },
      "source": [
        "Predicting avg median housing value by zip code in 2018"
      ]
    },
    {
      "cell_type": "code",
      "metadata": {
        "id": "CwiGoJxz9YnE",
        "colab_type": "code",
        "colab": {}
      },
      "source": [
        "# Transpose and make series\n",
        "def getSeries(df):\n",
        "\n",
        "  df = df.transpose()\n",
        "\n",
        "  # row names\n",
        "  df.insert(0, 'Date', df.index.values)\n",
        "  df['Date'] = pd.to_datetime(df['Date'], format='%Y-%m', errors='coerce')\n",
        "\n",
        "  # col names\n",
        "  zips = df.iloc[1]\n",
        "  cols = ['zip_{0}'.format(z) for z in zips]\n",
        "  cols[0] = 'Date'\n",
        "  df.columns = cols\n",
        "\n",
        "  # drop additional info\n",
        "  df = df.drop('RegionID')\n",
        "  df = df.drop('City')\n",
        "  df = df.drop('State')\n",
        "  df = df.drop('Metro')\n",
        "  df = df.drop('CountyName')\n",
        "  df = df.drop('RegionName')\n",
        "  df = df.drop('SizeRank')\n",
        "\n",
        "  # make time series\n",
        "  df = df.set_index('Date')\n",
        "\n",
        "  # create avg column\n",
        "  df['zip_median'] = df.median(axis=1)\n",
        "\n",
        "  # backwards fill for nan values\n",
        "  df = df.fillna(method='bfill')\n",
        "  #homes = homes.fillna(method='ffill')\n",
        "\n",
        "  return df"
      ],
      "execution_count": 0,
      "outputs": []
    },
    {
      "cell_type": "code",
      "metadata": {
        "id": "FkcVcZRwTX1T",
        "colab_type": "code",
        "colab": {}
      },
      "source": [
        "all_homes = getSeries(homes)\n",
        "syr_homes = getSeries(homes[(homes.City=='Syracuse') & (homes.State=='NY')])"
      ],
      "execution_count": 0,
      "outputs": []
    },
    {
      "cell_type": "code",
      "metadata": {
        "id": "t453FUzKXedP",
        "colab_type": "code",
        "outputId": "fc99cdd4-069d-468f-901f-f296eca32002",
        "colab": {
          "base_uri": "https://localhost:8080/",
          "height": 296
        }
      },
      "source": [
        "# Is stationary? Visualize. \n",
        "all_homes['zip_median'].plot() # Dont see seasonality."
      ],
      "execution_count": 50,
      "outputs": [
        {
          "output_type": "execute_result",
          "data": {
            "text/plain": [
              "<matplotlib.axes._subplots.AxesSubplot at 0x7f7cd6420240>"
            ]
          },
          "metadata": {
            "tags": []
          },
          "execution_count": 50
        },
        {
          "output_type": "display_data",
          "data": {
            "image/png": "[encoded data removed]",
            "text/plain": [
              "<Figure size 432x288 with 1 Axes>"
            ]
          },
          "metadata": {
            "tags": []
          }
        }
      ]
    },
    {
      "cell_type": "markdown",
      "metadata": {
        "id": "ZCzKBt7p7o1e",
        "colab_type": "text"
      },
      "source": [
        "Calculate Returns"
      ]
    },
    {
      "cell_type": "code",
      "metadata": {
        "id": "XAIqfW-47nSP",
        "colab_type": "code",
        "colab": {}
      },
      "source": [
        "# function to calculate gain percentage (ROI) on previous 2, 5 and 10 years\n",
        "# source: https://github.com/gioamorim80/Zillow-Time-Series/blob/master/Module%204%20Final%20Project.ipynb\n",
        "def calculate_gain(ts, plot=True): \n",
        "    \n",
        "    '''Takes a real estate time series and performs calculations on returns over investments\n",
        "    for periods of 2 and 5 years.'''\n",
        "    \n",
        "    # calculates ROI by taking current value, decreasing investment(value at x steps in past) and \n",
        "    # dividing by investment. Multiplies by 100 to get percentage number\n",
        "    roi_2 = (ts - ts.shift(periods=24))/ts.shift(periods=24)*100\n",
        "    roi_5 = (ts - ts.shift(periods=60))/ts.shift(periods=60)*100\n",
        "    roi_10 = (ts - ts.shift(periods=120))/ts.shift(periods=120)*100\n",
        "    roi_2.dropna(inplace=True)\n",
        "    roi_5.dropna(inplace=True)\n",
        "    roi_10.dropna(inplace=True)\n",
        "    \n",
        "    # plot results\n",
        "    if plot:\n",
        "        fig = go.Figure()\n",
        "        fig.add_trace(go.Scatter(x=roi_2.index, y=roi_2.value, name='2-Year Investment',\n",
        "                                 line_color='deepskyblue'))\n",
        "        fig.add_trace(go.Scatter(x=roi_5.index, y=roi_5.value, name='5-Year Investment',\n",
        "                                 line_color='red'))\n",
        "        fig.add_trace(go.Scatter(x=roi_10.index, y=roi_10.value, name='10-Year Investment',\n",
        "                                 line_color='gray'))\n",
        "        fig.update_layout(title_text='Mean Zillow Home Value Index (ZHVI) - ROI Over Time Invested',\n",
        "                          xaxis_rangeslider_visible=True)\n",
        "        fig.show()\n",
        "    \n",
        "    # saves new ts with returns for 2, 5 and 10 periods\n",
        "    return roi_2, roi_5, roi_10"
      ],
      "execution_count": 0,
      "outputs": []
    },
    {
      "cell_type": "code",
      "metadata": {
        "id": "JUT7sb9lD78W",
        "colab_type": "code",
        "colab": {}
      },
      "source": [
        "# convert df's to ROI\n",
        "zip_median_df = pd.DataFrame(data = all_homes['zip_median'].values, index = df['zip_median'].index, columns=['value'])\n",
        "zip_median_roi2, zip_median_roi5, zip_median_roi10 = calculate_gain(zip_median_df)"
      ],
      "execution_count": 0,
      "outputs": []
    },
    {
      "cell_type": "code",
      "metadata": {
        "id": "GNXoHEOwWsA4",
        "colab_type": "code",
        "colab": {}
      },
      "source": [
        "# 5-year analysis\n",
        "\n",
        "def stationaryTest(df):\n",
        "  X = df.value\n",
        "  X = X.astype('float32')\n",
        "\n",
        "  # Is stationary? Run AD FUller, p-value < .05 ?\n",
        "  result = adfuller(X)\n",
        "  print('ADF Statistic: %f' % result[0])\n",
        "  print('p-value: %f' % result[1])\n",
        "\n",
        "  # LOOK FOR ACF & PACF\n",
        "  fig, (ax1, ax2) = plt.subplots(1,2, figsize=(14,4))\n",
        "  fig = plot_acf(X, lags=40, ax=ax1)\n",
        "  ax1.axhline(y=0,linestyle='--',color= 'gray')\n",
        "  ax1.axhline(y= - 1.96/np.sqrt(len(stationary)), linestyle='--',color= 'gray')\n",
        "  ax1.axhline(y=  1.96/np.sqrt(len(stationary)), linestyle='--',color= 'gray')\n",
        "  ax1.set_label('Lags')\n",
        "\n",
        "  fig = plot_pacf(X, lags=40, ax=ax2)\n",
        "  ax2.axhline(y=0,linestyle = '--', color = 'gray')\n",
        "  ax2.axhline(y = -1.96/np.sqrt(len(stationary)), linestyle = '--', color = 'gray')\n",
        "  ax2.axhline(y = 1.96/np.sqrt(len(stationary)), linestyle = '--', color = 'gray')\n",
        "  ax2.set_label('Lags')\n",
        "\n",
        "\n",
        "stationaryTest(zip_median_roi2)\n",
        "stationaryTest(zip_median_roi5)\n",
        "stationaryTest(zip_median_roi10)"
      ],
      "execution_count": 0,
      "outputs": []
    },
    {
      "cell_type": "markdown",
      "metadata": {
        "id": "3ADQGx__hnss",
        "colab_type": "text"
      },
      "source": [
        "Dept of Labor Employment Dataset"
      ]
    },
    {
      "cell_type": "code",
      "metadata": {
        "id": "U4qRJFhOhnQi",
        "colab_type": "code",
        "colab": {}
      },
      "source": [
        "# DOL Employment\n",
        "# https://beta.bls.gov/dataViewer/view/timeseries/CES0000000001;jsessionid=542AB1B7EFC43613AD715045DF37B0B6\n",
        "employ = pd.read_csv('https://github.com/vksyr/IST718/raw/master/DOL_empl.csv')\n",
        "employ = employ[3:]  # remove first 3 months not in the main housing dataset\n",
        "employ = pd.DataFrame(data=employ['Value'].values, index=zip_median_df.index, columns=['value'])"
      ],
      "execution_count": 0,
      "outputs": []
    },
    {
      "cell_type": "code",
      "metadata": {
        "id": "JlrPJcZ1GLwX",
        "colab_type": "code",
        "colab": {}
      },
      "source": [
        "'''\n",
        "# Get fuller p-values for different lags\n",
        "\n",
        "# create a differenced series\n",
        "def difference(dataset, interval=1):\n",
        "\tdiff = list()\n",
        "\tfor i in range(interval, len(dataset)):\n",
        "\t\tvalue = dataset[i] - dataset[i - interval]\n",
        "\t\tdiff.append(value)\n",
        "\treturn Series(diff)\n",
        " \n",
        "# Make stationary\n",
        "X = zip_median_roi5.value\n",
        "X = X.astype('float32')\n",
        "\n",
        "# difference data\n",
        "\n",
        "for p in range(0, 40):\n",
        "  lags = p\n",
        "  stationary = difference(X, lags)\n",
        "  result = adfuller(stationary)\n",
        "  if result[1] < .05:\n",
        "    print('lags: ' + str(p) + ', p-value: ' + str(result[1]))\n",
        "\n",
        "#lags: 1, p-value: 0.016\n",
        "'''"
      ],
      "execution_count": 0,
      "outputs": []
    },
    {
      "cell_type": "code",
      "metadata": {
        "id": "Q_yZ286wJygH",
        "colab_type": "code",
        "colab": {}
      },
      "source": [
        "'''\n",
        "# make stationary with lag = 1, as discovered to be best with AD Fuller test\n",
        "lags = 1\n",
        "stationary = difference(X, lags)\n",
        "stationary.index = df.index[lags:]\n",
        "\n",
        "# USING STATIONARY TIME SERIES LOOK FOR ACF & PACF\n",
        "fig, (ax1, ax2) = plt.subplots(1,2, figsize=(14,4))\n",
        "fig = plot_acf(stationary, ax=ax1)\n",
        "ax1.axhline(y=0,linestyle='--',color= 'gray')\n",
        "ax1.axhline(y= - 1.96/np.sqrt(len(stationary)), linestyle='--',color= 'gray')\n",
        "ax1.axhline(y=  1.96/np.sqrt(len(stationary)), linestyle='--',color= 'gray')\n",
        "ax1.set_label('Lags')\n",
        "\n",
        "fig = plot_pacf(stationary, ax=ax2)\n",
        "ax2.axhline(y=0,linestyle = '--', color = 'gray')\n",
        "ax2.axhline(y = -1.96/np.sqrt(len(stationary)), linestyle = '--', color = 'gray')\n",
        "ax2.axhline(y = 1.96/np.sqrt(len(stationary)), linestyle = '--', color = 'gray')\n",
        "ax2.set_label('Lags')\n",
        "'''"
      ],
      "execution_count": 0,
      "outputs": []
    },
    {
      "cell_type": "code",
      "metadata": {
        "id": "yTYj3oA7zYfw",
        "colab_type": "code",
        "colab": {}
      },
      "source": [
        "'''\n",
        "# BEST ARIMA params\n",
        "# CODE RUNS LONG FOR EVALUATION - approximately \n",
        "import warnings\n",
        "\n",
        "# create a differenced series\n",
        "def difference(dataset, interval=1):\n",
        "\tdiff = list()\n",
        "\tfor i in range(interval, len(dataset)):\n",
        "\t\tvalue = dataset[i] - dataset[i - interval]\n",
        "\t\tdiff.append(value)\n",
        "\treturn np.array(diff)\n",
        " \n",
        "# invert differenced value\n",
        "def inverse_difference(history, yhat, interval=1):\n",
        "\treturn yhat + history[-interval]\n",
        " \n",
        "# evaluate an ARIMA model for a given order (p,d,q) and return RMSE\n",
        "def evaluate_arima_model(X, arima_order):\n",
        "\t# prepare training dataset\n",
        "\tX = X.astype('float32')\n",
        "\ttrain_size = int(len(X) * 0.70)\n",
        "\ttrain, test = X[0:train_size], X[train_size:]\n",
        "\thistory = [x for x in train]\n",
        "\t# make predictions\n",
        "\tpredictions = list()\n",
        "\tfor t in range(len(test)):\n",
        "\t\t# difference data\n",
        "\t\tlags = 1 # best value discovered with fuller test above\n",
        "\t\tdiff = difference(history, lags)\n",
        "\t\tmodel = ARIMA(diff, order=arima_order)\n",
        "\t\tmodel_fit = model.fit(trend='nc', disp=0)\n",
        "\t\tyhat = model_fit.forecast()[0]\n",
        "\t\tyhat = inverse_difference(history, yhat, lags)\n",
        "\t\tpredictions.append(yhat)\n",
        "\t\thistory.append(test[t])\n",
        "\t# calculate out of sample error\n",
        "\tmse = mean_squared_error(test, predictions)\n",
        "\trmse = sqrt(mse)\n",
        "\treturn rmse\n",
        " \n",
        "# evaluate combinations of p, d and q values for an ARIMA model\n",
        "def evaluate_models(dataset, p_values, d_values, q_values):\n",
        "\tdataset = dataset.astype('float32')\n",
        "\tbest_score, best_cfg = float(\"inf\"), None\n",
        "\tfor p in p_values:\n",
        "\t\tfor d in d_values:\n",
        "\t\t\tfor q in q_values:\n",
        "\t\t\t\torder = (p,d,q)\n",
        "\t\t\t\ttry:\n",
        "\t\t\t\t\tmse = evaluate_arima_model(dataset, order)\n",
        "\t\t\t\t\tif mse < best_score:\n",
        "\t\t\t\t\t\tbest_score, best_cfg = mse, order\n",
        "\t\t\t\t\tprint('ARIMA%s RMSE=%.3f' % (order,mse))\n",
        "\t\t\t\texcept:\n",
        "\t\t\t\t\tcontinue\n",
        "\tprint('Best ARIMA%s RMSE=%.3f' % (best_cfg, best_score))\n",
        " \n",
        "# evaluate parameters\n",
        "p_values = range(0, 7)\n",
        "d_values = range(0, 3)\n",
        "q_values = range(0, 7)\n",
        "\n",
        "warnings.filterwarnings(\"ignore\")\n",
        "evaluate_models(df['zip_median'].values, p_values, d_values, q_values)\n",
        "\n",
        "# Best: ARIMA(6, 1, 0) RMSE=139.733\n",
        "'''"
      ],
      "execution_count": 0,
      "outputs": []
    },
    {
      "cell_type": "code",
      "metadata": {
        "id": "_5v-MXpzg0f2",
        "colab_type": "code",
        "colab": {}
      },
      "source": [
        "# define a function to run auto arima and search for best model parameters\n",
        "def find_orders(ts, exog):\n",
        "    \n",
        "    '''Takes a time series and finds the best differencing order, as well as the other best\n",
        "    parameters for a SARIMAX model using auto_arima'''\n",
        "    \n",
        "    stepwise_model = pm.auto_arima(ts, start_p=1, start_q=1, max_p=4, max_q=14,\n",
        "                                exogenous=exog, \n",
        "                                m=12, seasonal=True, stationary=False,\n",
        "                                stepwise=True, trend='ct',\n",
        "                                suppress_warnings=True, trace=False, \n",
        "                                error_action='ignore')\n",
        "   \n",
        "    return stepwise_model.order, stepwise_model.seasonal_order"
      ],
      "execution_count": 0,
      "outputs": []
    },
    {
      "cell_type": "code",
      "metadata": {
        "id": "mAqHFdJ_kIIH",
        "colab_type": "code",
        "colab": {}
      },
      "source": [
        ""
      ],
      "execution_count": 0,
      "outputs": []
    },
    {
      "cell_type": "code",
      "metadata": {
        "id": "xpZc9QYKw7u4",
        "colab_type": "code",
        "colab": {}
      },
      "source": [
        "def fit_sarimax_model(ts, exog, order=(1,1,1), seasonal_order=(0, 0, 0, 12), summary=True, plot=True):\n",
        "    \n",
        "    '''Takes a time series and runs a SARIMAX model with parameter order provided. \n",
        "    If no parameter provided default is (1,1,1), (0,0,0,12). \n",
        "    Has the default option to print model summary and plot diagnostics, which can be turned off'''\n",
        "  \n",
        "    # fit model\n",
        "    model = sm.tsa.statespace.SARIMAX(ts, \n",
        "                                    exog = exog,  \n",
        "                                    order=order,\n",
        "                                    seasonal_order=seasonal_order,\n",
        "                                    trend='ct',\n",
        "                                    enforce_stationarity=True,\n",
        "                                    enforce_invertibility=False)\n",
        "    \n",
        "\n",
        "    output = model.fit(d=0)\n",
        "    \n",
        "    if summary==True:\n",
        "        print(output.summary())\n",
        "\n",
        "    if plot==True:\n",
        "        # plot model diagnostics\n",
        "        output.plot_diagnostics(figsize=(15, 18))\n",
        "        plt.show()\n",
        "        \n",
        "    return output"
      ],
      "execution_count": 0,
      "outputs": []
    },
    {
      "cell_type": "code",
      "metadata": {
        "id": "RflIJCIhtb4L",
        "colab_type": "code",
        "colab": {}
      },
      "source": [
        "arr = employ.values\n",
        "\n",
        "\n",
        "exog_lag1 = pd.DataFrame(data = arr[0:len(employ)], index=employ.index)\n",
        "exog = exog_lag1[len(exog_lag1) - len(zip_median_roi5):] \n",
        "\n",
        "\n",
        "\n",
        "# find best params, takes a long time\n",
        "#find_orders(zip_median_roi2, exog) # ((2, 1, 0), (0, 0, 2, 12))\n",
        "#zip_median_roi2_output = fit_sarimax_model(zip_median_roi2, exog=exog, order=(2, 1, 0), seasonal_order=(0, 0, 2, 12)) #  employ p-value: 0.241 :(\n",
        "\n",
        "# exog n+1, p-value = 0.784 :(\n",
        "# exog n+2, p-value = 0.186 :(\n",
        "# exog n+3, p-value = 0.517 :(\n",
        "\n",
        "#find_orders(zip_median_roi5, exog) # ((1, 2, 0), (0, 0, 0, 12))\n",
        "#zip_median_roi5_output = fit_sarimax_model(zip_median_roi5, order=(1, 2, 0), seasonal_order=(0, 0, 0, 12)) # employ p-value: 0.464 :(\n",
        "\n",
        "#find_orders(zip_median_roi5, exog) # ((0, 2, 1), (0, 0, 0, 12))    \n",
        "#zip_median_roi10_output = fit_sarimax_model(zip_median_roi10, order=(0, 2, 1), seasonal_order=(0, 0, 0, 12)) # employ p-value: 0.547 :("
      ],
      "execution_count": 0,
      "outputs": []
    },
    {
      "cell_type": "code",
      "metadata": {
        "id": "QsjiE__97Kqs",
        "colab_type": "code",
        "colab": {
          "base_uri": "https://localhost:8080/",
          "height": 311
        },
        "outputId": "37aebdac-5a41-42e1-f4ba-5100251e41a8"
      },
      "source": [
        "# visualize roi with employment\n",
        "\n",
        "fig, axs = plt.subplots(2)\n",
        "fig.suptitle('Vertically stacked subplots')\n",
        "axs[0].plot(zip_median_roi5)\n",
        "axs[1].plot(employ[len(employ) - len(zip_median_roi5):], color='red')\n",
        "\n",
        "# maybe 2 lags off?"
      ],
      "execution_count": 219,
      "outputs": [
        {
          "output_type": "execute_result",
          "data": {
            "text/plain": [
              "[<matplotlib.lines.Line2D at 0x7f7ccf974f60>]"
            ]
          },
          "metadata": {
            "tags": []
          },
          "execution_count": 219
        },
        {
          "output_type": "display_data",
          "data": {
            "image/png": "[encoded data removed]",
            "text/plain": [
              "<Figure size 432x288 with 2 Axes>"
            ]
          },
          "metadata": {
            "tags": []
          }
        }
      ]
    },
    {
      "cell_type": "code",
      "metadata": {
        "id": "w61rF72p9Mlw",
        "colab_type": "code",
        "colab": {
          "base_uri": "https://localhost:8080/",
          "height": 450
        },
        "outputId": "ddcd9ca0-9e5b-42fd-d75c-fc2ae47e2724"
      },
      "source": [
        "zip_median_roi5"
      ],
      "execution_count": 163,
      "outputs": [
        {
          "output_type": "execute_result",
          "data": {
            "text/html": [
              "<div>\n",
              "<style scoped>\n",
              "    .dataframe tbody tr th:only-of-type {\n",
              "        vertical-align: middle;\n",
              "    }\n",
              "\n",
              "    .dataframe tbody tr th {\n",
              "        vertical-align: top;\n",
              "    }\n",
              "\n",
              "    .dataframe thead th {\n",
              "        text-align: right;\n",
              "    }\n",
              "</style>\n",
              "<table border=\"1\" class=\"dataframe\">\n",
              "  <thead>\n",
              "    <tr style=\"text-align: right;\">\n",
              "      <th></th>\n",
              "      <th>value</th>\n",
              "    </tr>\n",
              "    <tr>\n",
              "      <th>Date</th>\n",
              "      <th></th>\n",
              "    </tr>\n",
              "  </thead>\n",
              "  <tbody>\n",
              "    <tr>\n",
              "      <th>2001-04-01</th>\n",
              "      <td>16.674564</td>\n",
              "    </tr>\n",
              "    <tr>\n",
              "      <th>2001-05-01</th>\n",
              "      <td>16.967127</td>\n",
              "    </tr>\n",
              "    <tr>\n",
              "      <th>2001-06-01</th>\n",
              "      <td>17.471015</td>\n",
              "    </tr>\n",
              "    <tr>\n",
              "      <th>2001-07-01</th>\n",
              "      <td>17.682978</td>\n",
              "    </tr>\n",
              "    <tr>\n",
              "      <th>2001-08-01</th>\n",
              "      <td>18.174666</td>\n",
              "    </tr>\n",
              "    <tr>\n",
              "      <th>...</th>\n",
              "      <td>...</td>\n",
              "    </tr>\n",
              "    <tr>\n",
              "      <th>2019-08-01</th>\n",
              "      <td>23.161963</td>\n",
              "    </tr>\n",
              "    <tr>\n",
              "      <th>2019-09-01</th>\n",
              "      <td>23.254510</td>\n",
              "    </tr>\n",
              "    <tr>\n",
              "      <th>2019-10-01</th>\n",
              "      <td>23.374577</td>\n",
              "    </tr>\n",
              "    <tr>\n",
              "      <th>2019-11-01</th>\n",
              "      <td>23.302640</td>\n",
              "    </tr>\n",
              "    <tr>\n",
              "      <th>2019-12-01</th>\n",
              "      <td>23.260490</td>\n",
              "    </tr>\n",
              "  </tbody>\n",
              "</table>\n",
              "<p>225 rows × 1 columns</p>\n",
              "</div>"
            ],
            "text/plain": [
              "                value\n",
              "Date                 \n",
              "2001-04-01  16.674564\n",
              "2001-05-01  16.967127\n",
              "2001-06-01  17.471015\n",
              "2001-07-01  17.682978\n",
              "2001-08-01  18.174666\n",
              "...               ...\n",
              "2019-08-01  23.161963\n",
              "2019-09-01  23.254510\n",
              "2019-10-01  23.374577\n",
              "2019-11-01  23.302640\n",
              "2019-12-01  23.260490\n",
              "\n",
              "[225 rows x 1 columns]"
            ]
          },
          "metadata": {
            "tags": []
          },
          "execution_count": 163
        }
      ]
    },
    {
      "cell_type": "markdown",
      "metadata": {
        "id": "heavaBB4CPWl",
        "colab_type": "text"
      },
      "source": [
        "Make predictions"
      ]
    },
    {
      "cell_type": "code",
      "metadata": {
        "id": "bnVreRxKGnAc",
        "colab_type": "code",
        "colab": {}
      },
      "source": [
        "# get training data (1997-2017) and test data (2018)\n",
        "\n",
        "homes_before2018 = df['zip_median'].loc[:'2017']\n",
        "homes_2018 = df['zip_median'].loc['2018']\n",
        "train = homes_before2018.values.astype('float32')\n",
        "test = homes_2018.values.astype('float32')\n",
        "\n",
        "history = [x for x in train]\n",
        "\n",
        "#cutoff = round(X.size * .8)\n",
        "#train = X[:cutoff]\n",
        "#test = X[cutoff+1:]\n",
        "\n",
        "# create a differenced series\n",
        "def difference(dataset, interval=1):\n",
        "\tdiff = list()\n",
        "\tfor i in range(interval, len(dataset)):\n",
        "\t\tvalue = dataset[i] - dataset[i - interval]\n",
        "\t\tdiff.append(value)\n",
        "\treturn np.array(diff)\n",
        " \n",
        "# invert differenced value\n",
        "def inverse_difference(history, yhat, interval=1):\n",
        "\treturn yhat + history[-interval]\n",
        "\n",
        "# make predictions\n",
        "predictions = list()\n",
        "\n",
        "for i in range(len(test)):\n",
        "\t\n",
        "\tlags = 1\n",
        "\tdiff = difference(history, lags) \t# difference data\n",
        "\tmodel = ARIMA(diff, order=(6,1,0)) # best p,d, & q values discovered from the loop above\n",
        "\tmodel_fit = model.fit(trend='nc', disp=0)\n",
        "\n",
        "\tyhat = model_fit.forecast()[0]\n",
        "\tyhat = inverse_difference(history, yhat, lags)\n",
        "\tpredictions.append(yhat)\n",
        "\t# observation\n",
        "\tobs = test[i]\n",
        "\thistory.append(obs)\n",
        "\t#print('>Predicted=%.3f, Expected=%3.f' % (yhat, obs))"
      ],
      "execution_count": 0,
      "outputs": []
    },
    {
      "cell_type": "code",
      "metadata": {
        "id": "KAKq3cmiFnu9",
        "colab_type": "code",
        "colab": {}
      },
      "source": [
        "# report performance\n",
        "mse = mean_squared_error(test, predictions)\n",
        "rmse = sqrt(mse)\n",
        "print('RMSE: %.3f' % rmse)\n",
        "\n",
        "# plot\n",
        "pyplot.plot(test)\n",
        "pyplot.plot(predictions, color='red')\n",
        "pyplot.show()"
      ],
      "execution_count": 0,
      "outputs": []
    },
    {
      "cell_type": "code",
      "metadata": {
        "id": "RUPKBtoKoTCj",
        "colab_type": "code",
        "colab": {}
      },
      "source": [
        "# residuals\n",
        "residuals = [test[i]-predictions[i] for i in range(len(test))]\n",
        "residuals = pd.DataFrame(residuals)\n",
        "print(residuals.describe())\n",
        "# plot\n",
        "residuals.hist(ax=pyplot.gca())\n",
        "pyplot.show()\n",
        "\n",
        "# mean: -11.894349"
      ],
      "execution_count": 0,
      "outputs": []
    },
    {
      "cell_type": "code",
      "metadata": {
        "id": "IIDGjyoqEBAI",
        "colab_type": "code",
        "colab": {}
      },
      "source": [
        "# Make new predictions with mean residual as bias\n",
        "bias = -11.894349\n",
        "predictions = list()\n",
        "\n",
        "for i in range(len(test)):\n",
        "\t\n",
        "\tlags = 1\n",
        "\tdiff = difference(history, lags) \t# difference data\n",
        "\tmodel = ARIMA(diff, order=(6,1,0)) # best p,d, & q values discovered from the loop above\n",
        "\tmodel_fit = model.fit(trend='nc', disp=0)\n",
        "\n",
        "\tyhat = model_fit.forecast()[0]\n",
        "\tyhat = bias + inverse_difference(history, yhat, lags)\n",
        "\n",
        "\tpredictions.append(yhat)\n",
        "\t# observation\n",
        "\tobs = test[i]\n",
        "\thistory.append(obs)\n",
        "\t#print('>Predicted=%.3f, Expected=%3.f' % (yhat, obs))"
      ],
      "execution_count": 0,
      "outputs": []
    },
    {
      "cell_type": "code",
      "metadata": {
        "id": "Xnsn8n6nEmUL",
        "colab_type": "code",
        "outputId": "e4f43d01-dd74-4ce5-c35b-0d21046e36a0",
        "colab": {
          "base_uri": "https://localhost:8080/",
          "height": 284
        }
      },
      "source": [
        "# report performance\n",
        "mse = mean_squared_error(test, predictions)\n",
        "rmse = sqrt(mse)\n",
        "print('RMSE: %.3f' % rmse)\n",
        "\n",
        "# plot\n",
        "pyplot.plot(test)\n",
        "pyplot.plot(predictions, color='red')\n",
        "pyplot.show()\n",
        "\n",
        "\n",
        "# not as good"
      ],
      "execution_count": 0,
      "outputs": [
        {
          "output_type": "stream",
          "text": [
            "RMSE: 3047.263\n"
          ],
          "name": "stdout"
        },
        {
          "output_type": "display_data",
          "data": {
            "image/png": "[encoded data removed]",
            "text/plain": [
              "<Figure size 432x288 with 1 Axes>"
            ]
          },
          "metadata": {
            "tags": []
          }
        }
      ]
    },
    {
      "cell_type": "code",
      "metadata": {
        "id": "bZnoZv_VAgQn",
        "colab_type": "code",
        "colab": {}
      },
      "source": [
        "# merge employment data to main df\n",
        "df['Natl_empl'] = list(employ['Value'])"
      ],
      "execution_count": 0,
      "outputs": []
    },
    {
      "cell_type": "code",
      "metadata": {
        "id": "6Kc_AvxZdWeA",
        "colab_type": "code",
        "colab": {}
      },
      "source": [
        "# SARIMAX Model\n",
        "\n",
        "# create a differenced series\n",
        "def difference(dataset, interval=1):\n",
        "  diff = list()\n",
        "  for i in range(interval, len(dataset)):\n",
        "    value = dataset[i] - dataset[i - interval]\n",
        "    diff.append(value)\n",
        "  return Series(diff)\n",
        "\n",
        "# invert differenced value\n",
        "def inverse_difference(history, yhat, interval=1):\n",
        "  return yhat + history[-interval]\n",
        "\n",
        "# test/training data\n",
        "train = df.loc[:'2017']\n",
        "test = df.loc['2018']  \n",
        "\n",
        "history = [x for x in train['zip_median']]\n",
        "\n",
        "# make predictions\n",
        "predictions = list()\n",
        "lags = 1\n",
        "\n",
        "for i in range(len(test)):\n",
        "\n",
        "  # make new series to make new model.\n",
        "  diff_series = pd.DataFrame()\n",
        "  diff_series['zip_median_diff'] = difference(history, lags) # difference data\n",
        "  diff_series.index = df[1:len(diff_series)+1].index\n",
        "\n",
        "  # make new model\n",
        "  model = sm.tsa.statespace.SARIMAX(endog = diff_series['zip_median_diff'],\n",
        "    exog = df['Natl_empl'][1:len(history)],  \n",
        "    trend='t',  # ‘n’,’c’,’t’, or ’ct’\n",
        "    order=(6,1,0)\n",
        "  )\n",
        "  \n",
        "  model_fit = model.fit()\n",
        "\n",
        "  # predict and then add single prediction to history\n",
        "  yhat = model_fit.predict(start = pd.to_datetime('2018-01'), end = pd.to_datetime('2018-12'),\n",
        "    exog = pd.DataFrame(test['Natl_empl'][i:]), \n",
        "    dynamic= True)[i]\n",
        "\n",
        "  yhat = inverse_difference(history, yhat, lags)\n",
        "\n",
        "  predictions.append(yhat)\n",
        "  # observation\n",
        "  obs = test['zip_median'].iloc[i]\n",
        "\n",
        "  history.append(obs)\n",
        "  # should we be saving the test obs or predicted obs to train the model for\n",
        "  # the next prediction"
      ],
      "execution_count": 0,
      "outputs": []
    },
    {
      "cell_type": "code",
      "metadata": {
        "id": "D50Q_YO2dac7",
        "colab_type": "code",
        "colab": {
          "base_uri": "https://localhost:8080/",
          "height": 282
        },
        "outputId": "4cc13a63-e6d5-4443-9607-a259b09a4d1f"
      },
      "source": [
        "# report performance\n",
        "mse = mean_squared_error(test['zip_median'].values, predictions)\n",
        "rmse = sqrt(mse)\n",
        "print('RMSE: %.3f' % rmse)\n",
        "\n",
        "# SARIMAX (6, 1, 0), trend = 'n', w/ exog  --> RMSE: 192.517\n",
        "# SARIMAX (6, 1, 0), trend = 'c', w/ exog  --> RMSE: 192.517\n",
        "# SARIMAX (6, 1, 0), trend = 'ct', w/ exog --> RMSE: 193.963\n",
        "# SARIMAX (6, 1, 0), trend = 't', w/ exog  --> RMSE: 188.584, no exog: RMSE: 188.673\n",
        "\n",
        "# plot\n",
        "pyplot.plot(test['zip_median'].values)\n",
        "pyplot.plot(predictions, color='red')\n",
        "pyplot.show()"
      ],
      "execution_count": 16,
      "outputs": [
        {
          "output_type": "stream",
          "text": [
            "RMSE: 188.584\n"
          ],
          "name": "stdout"
        },
        {
          "output_type": "display_data",
          "data": {
            "image/png": "[encoded data removed]",
            "text/plain": [
              "<Figure size 432x288 with 1 Axes>"
            ]
          },
          "metadata": {
            "tags": []
          }
        }
      ]
    },
    {
      "cell_type": "code",
      "metadata": {
        "id": "BbqfroemrdT6",
        "colab_type": "code",
        "colab": {
          "base_uri": "https://localhost:8080/",
          "height": 265
        },
        "outputId": "7ab5d506-1901-40fd-d0ff-e75e9809b236"
      },
      "source": [
        ""
      ],
      "execution_count": 20,
      "outputs": [
        {
          "output_type": "display_data",
          "data": {
            "image/png": "[encoded data removed]",
            "text/plain": [
              "<Figure size 432x288 with 1 Axes>"
            ]
          },
          "metadata": {
            "tags": []
          }
        }
      ]
    },
    {
      "cell_type": "markdown",
      "metadata": {
        "id": "bNeO8-ZyvX_H",
        "colab_type": "text"
      },
      "source": [
        "Prophet"
      ]
    },
    {
      "cell_type": "code",
      "metadata": {
        "id": "8tiJLKwmD0pA",
        "colab_type": "code",
        "colab": {}
      },
      "source": [
        "# set the uncertainty interval to 95% (the Prophet default is 80%)\n",
        "my_model = Prophet(interval_width=0.95)\n",
        "my_model.fit(df)"
      ],
      "execution_count": 0,
      "outputs": []
    },
    {
      "cell_type": "markdown",
      "metadata": {
        "id": "XTeLissiMu91",
        "colab_type": "text"
      },
      "source": [
        "Forecast"
      ]
    },
    {
      "cell_type": "code",
      "metadata": {
        "id": "jU4vpHLNMtG-",
        "colab_type": "code",
        "outputId": "9b3298ff-cde7-46a2-ce14-e8b17d83d99f",
        "colab": {
          "base_uri": "https://localhost:8080/",
          "height": 103
        }
      },
      "source": [
        "# todo:  return on investment (ROI) for both of these cities for 2-year investments and 5-year investments.\n",
        "# https://medium.com/swlh/time-series-roi-based-analysis-on-a-real-estate-investment-7299dce242da\n",
        "\n",
        "# multi-step out-of-sample forecast\n",
        "forecast = model_fit.forecast(steps=5)[0]\n",
        "\n",
        "wk = 1\n",
        "for yhat in forecast:\n",
        "\tinverted = inverse_difference(history, yhat, 52)\n",
        "\tprint('Week %d: %f' % (wk, inverted))\n",
        "\thistory.append(inverted)\n",
        "\twk += 1"
      ],
      "execution_count": 0,
      "outputs": [
        {
          "output_type": "stream",
          "text": [
            "Week 1: 45.990899\n",
            "Week 2: 46.205453\n",
            "Week 3: 45.903572\n",
            "Week 4: 46.135158\n",
            "Week 5: 45.980117\n"
          ],
          "name": "stdout"
        }
      ]
    }
  ]
}