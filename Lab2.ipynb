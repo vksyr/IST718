{
  "nbformat": 4,
  "nbformat_minor": 0,
  "metadata": {
    "colab": {
      "name": "Lab2.ipynb",
      "provenance": [],
      "collapsed_sections": []
    },
    "kernelspec": {
      "name": "python3",
      "display_name": "Python 3"
    }
  },
  "cells": [
    {
      "cell_type": "code",
      "metadata": {
        "id": "qyvnh4APhghB",
        "colab_type": "code",
        "colab": {}
      },
      "source": [
        "import pandas as pd  # data frame operations\n",
        "import numpy as np  # arrays and math functions\n",
        "from scipy.stats import uniform  # for training-and-test split\n",
        "import statsmodels.api as sm  # statistical models (including regression)\n",
        "import statsmodels.formula.api as smf  # R-like model specification\n",
        "import matplotlib.pyplot as plt  # 2D plotting\n",
        "import seaborn as sns  # PROVIDES TRELLIS AND SMALL MULTIPLE PLOTTING\n",
        "import math\n",
        "\n",
        "from pandas import Series\n",
        "from statistics import mean\n",
        "from statistics import median\n",
        "from math import sqrt\n",
        "\n",
        "from matplotlib import pyplot\n",
        "\n",
        "from scipy.stats import boxcox\n",
        "from statsmodels.tsa.stattools import adfuller\n",
        "from statsmodels.tsa.stattools import acf\n",
        "from statsmodels.tsa.stattools import pacf\n",
        "from statsmodels.graphics.tsaplots import plot_acf\n",
        "from statsmodels.graphics.tsaplots import plot_pacf\n",
        "\n",
        "from sklearn.metrics import mean_squared_error\n",
        "from statsmodels.tsa.arima_model import ARIMA\n",
        "from statsmodels.tsa.arima_model import ARIMAResults\n",
        "\n",
        "import plotly as py\n",
        "import plotly.graph_objects as go\n",
        "\n",
        "#!pip install fbprophet\n",
        "from fbprophet import Prophet\n",
        "\n",
        "!pip install pmdarima\n",
        "import pmdarima as pm\n",
        "from pmdarima.arima import auto_arima\n",
        "\n",
        "pd.plotting.register_matplotlib_converters() # was getting error plotting series until entering this.."
      ],
      "execution_count": 0,
      "outputs": []
    },
    {
      "cell_type": "markdown",
      "metadata": {
        "id": "8ZQ7EhwHruxh",
        "colab_type": "text"
      },
      "source": [
        "Import data"
      ]
    },
    {
      "cell_type": "code",
      "metadata": {
        "id": "cHsHrnCNhfHa",
        "colab_type": "code",
        "colab": {}
      },
      "source": [
        "# zillow\n",
        "homes = pd.read_csv('https://files.zillowstatic.com/research/public/Zip/Zip_Zhvi_SingleFamilyResidence.csv', encoding='latin_1')\n",
        "\n",
        "homes.shape # (30434, 292)\n",
        "len(homes['RegionName'].unique()) # 30,434 zip codes, one for each row."
      ],
      "execution_count": 0,
      "outputs": []
    },
    {
      "cell_type": "markdown",
      "metadata": {
        "id": "YF3rInI88dQt",
        "colab_type": "text"
      },
      "source": [
        "Arkansas Metro area analysis"
      ]
    },
    {
      "cell_type": "code",
      "metadata": {
        "id": "0qe4SavYnBNt",
        "colab_type": "code",
        "colab": {}
      },
      "source": [
        "ar_homes = homes[homes.State=='AR']\n",
        "\n",
        "df = pd.DataFrame()\n",
        "def getMetroAvg(cityName, col):\n",
        "  global df\n",
        "  city_homes = ar_homes.loc[ar_homes.City==cityName, col]\n",
        "  avg = mean(city_homes[~np.isnan( city_homes)])\n",
        "  df = df.append({'Date':date, 'Avg':avg, 'City':cityName}, ignore_index=True )\n",
        "\n",
        "for col in ar_homes.columns: \n",
        "    date = pd.to_datetime(col, format='%Y-%m', errors='coerce')\n",
        "    if(date >= pd.to_datetime('01-01-1997')):\n",
        "      # get metro averages\n",
        "      getMetroAvg('Hot Springs', col)  \n",
        "      getMetroAvg('Little Rock', col)  \n",
        "      getMetroAvg('Fayetteville', col)  \n",
        "      getMetroAvg('Searcy', col)  \n",
        "\n",
        "df = df.set_index('Date')\n",
        "\n",
        "hotSprings_homes = df[df['City']=='Hot Springs']\n",
        "littleRock_homes = df[df['City']=='Little Rock']\n",
        "fayetteville_homes = df[df['City']=='Fayetteville']\n",
        "searcy_homes = df[df['City']=='Searcy']\n",
        "\n",
        "# Plot results\n",
        "fig = go.Figure()\n",
        "fig.add_trace(go.Scatter(x=hotSprings_homes.index, y=hotSprings_homes.Avg, name='Hot Springs',\n",
        "                          line_color='deepskyblue'))\n",
        "fig.add_trace(go.Scatter(x=littleRock_homes.index, y=littleRock_homes.Avg, name='Little Rock',\n",
        "                          line_color='red'))\n",
        "fig.add_trace(go.Scatter(x=fayetteville_homes.index, y=fayetteville_homes.Avg, name='Fayetteville',\n",
        "                          line_color='gray'))\n",
        "fig.add_trace(go.Scatter(x=searcy_homes.index, y=searcy_homes.Avg, name='Searcy',\n",
        "                          line_color='#0028FF'))\n",
        "fig.update_layout(title_text='Average Home Sales in Arkansas Metro Areas',\n",
        "                  xaxis_rangeslider_visible=False)\n",
        "fig.show()"
      ],
      "execution_count": 0,
      "outputs": []
    },
    {
      "cell_type": "markdown",
      "metadata": {
        "id": "RSV_ZWadRe_N",
        "colab_type": "text"
      },
      "source": [
        "Predicting avg median housing value by zip code in 2018"
      ]
    },
    {
      "cell_type": "code",
      "metadata": {
        "id": "CwiGoJxz9YnE",
        "colab_type": "code",
        "colab": {}
      },
      "source": [
        "# Transpose and make series\n",
        "def getSeries(df):\n",
        "\n",
        "  df = df.transpose()\n",
        "\n",
        "  # row names\n",
        "  df.insert(0, 'Date', df.index.values)\n",
        "  df['Date'] = pd.to_datetime(df['Date'], format='%Y-%m', errors='coerce')\n",
        "\n",
        "  # col names\n",
        "  zips = df.iloc[1]\n",
        "  cols = ['zip_{0}'.format(z) for z in zips]\n",
        "  cols[0] = 'Date'\n",
        "  df.columns = cols\n",
        "\n",
        "  # drop additional info\n",
        "  df = df.drop('RegionID')\n",
        "  df = df.drop('City')\n",
        "  df = df.drop('State')\n",
        "  df = df.drop('Metro')\n",
        "  df = df.drop('CountyName')\n",
        "  df = df.drop('RegionName')\n",
        "  df = df.drop('SizeRank')\n",
        "\n",
        "  # make time series\n",
        "  df = df.set_index('Date')\n",
        "\n",
        "  # create avg column\n",
        "  df['zip_median'] = df.median(axis=1)\n",
        "\n",
        "  # backwards fill for nan values\n",
        "  df = df.fillna(method='bfill')\n",
        "  #homes = homes.fillna(method='ffill')\n",
        "\n",
        "  return df"
      ],
      "execution_count": 0,
      "outputs": []
    },
    {
      "cell_type": "code",
      "metadata": {
        "id": "FkcVcZRwTX1T",
        "colab_type": "code",
        "colab": {}
      },
      "source": [
        "all_homes = getSeries(homes)"
      ],
      "execution_count": 0,
      "outputs": []
    },
    {
      "cell_type": "code",
      "metadata": {
        "id": "t453FUzKXedP",
        "colab_type": "code",
        "outputId": "af594c50-caa9-4bfc-c462-c9105efb2c4c",
        "colab": {
          "base_uri": "https://localhost:8080/",
          "height": 296
        }
      },
      "source": [
        "# Is stationary? Visualize. \n",
        "all_homes['zip_median'].plot() # Dont see seasonality."
      ],
      "execution_count": 0,
      "outputs": [
        {
          "output_type": "execute_result",
          "data": {
            "text/plain": [
              "<matplotlib.axes._subplots.AxesSubplot at 0x7fe2f23a9b38>"
            ]
          },
          "metadata": {
            "tags": []
          },
          "execution_count": 7
        },
        {
          "output_type": "display_data",
          "data": {
            "image/png": "[encoded data removed]",
            "text/plain": [
              "<Figure size 432x288 with 1 Axes>"
            ]
          },
          "metadata": {
            "tags": []
          }
        }
      ]
    },
    {
      "cell_type": "markdown",
      "metadata": {
        "id": "ZCzKBt7p7o1e",
        "colab_type": "text"
      },
      "source": [
        "Calculate Returns"
      ]
    },
    {
      "cell_type": "code",
      "metadata": {
        "id": "XAIqfW-47nSP",
        "colab_type": "code",
        "colab": {}
      },
      "source": [
        "# function to calculate gain percentage (ROI) on previous 2, 5 and 10 years\n",
        "# source: https://github.com/gioamorim80/Zillow-Time-Series/blob/master/Module%204%20Final%20Project.ipynb\n",
        "def calculate_gain(ts, plot=True): \n",
        "    \n",
        "    '''Takes a real estate time series and performs calculations on returns over investments\n",
        "    for periods of 2 and 5 years.'''\n",
        "    \n",
        "    # calculates ROI by taking current value, decreasing investment(value at x steps in past) and \n",
        "    # dividing by investment. Multiplies by 100 to get percentage number\n",
        "    roi_2 = (ts - ts.shift(periods=24))/ts.shift(periods=24)*100\n",
        "    roi_5 = (ts - ts.shift(periods=60))/ts.shift(periods=60)*100\n",
        "    roi_10 = (ts - ts.shift(periods=120))/ts.shift(periods=120)*100\n",
        "    roi_2.dropna(inplace=True)\n",
        "    roi_5.dropna(inplace=True)\n",
        "    roi_10.dropna(inplace=True)\n",
        "    \n",
        "    # plot results\n",
        "    if plot:\n",
        "        fig = go.Figure()\n",
        "        fig.add_trace(go.Scatter(x=roi_2.index, y=roi_2.value, name='2-Year Investment',\n",
        "                                 line_color='deepskyblue'))\n",
        "        fig.add_trace(go.Scatter(x=roi_5.index, y=roi_5.value, name='5-Year Investment',\n",
        "                                 line_color='red'))\n",
        "        fig.add_trace(go.Scatter(x=roi_10.index, y=roi_10.value, name='10-Year Investment',\n",
        "                                 line_color='gray'))\n",
        "        fig.update_layout(title_text='Mean Zillow Home Value Index (ZHVI) - ROI Over Time Invested',\n",
        "                          yaxis_title=\"ROI (%)\", \n",
        "                          xaxis_rangeslider_visible=False)\n",
        "        fig.show()\n",
        "    \n",
        "    # saves new ts with returns for 2, 5 and 10 periods\n",
        "    return roi_2, roi_5, roi_10"
      ],
      "execution_count": 0,
      "outputs": []
    },
    {
      "cell_type": "code",
      "metadata": {
        "id": "JUT7sb9lD78W",
        "colab_type": "code",
        "colab": {}
      },
      "source": [
        "'''\n",
        "# convert df's to ROI\n",
        "zip_median_df = pd.DataFrame(data = all_homes['zip_median'].values, index = all_homes['zip_median'].index, columns=['value'])\n",
        "zip_median_roi2, zip_median_roi5, zip_median_roi10 = calculate_gain(zip_median_df)\n",
        "'''"
      ],
      "execution_count": 0,
      "outputs": []
    },
    {
      "cell_type": "code",
      "metadata": {
        "id": "GNXoHEOwWsA4",
        "colab_type": "code",
        "colab": {}
      },
      "source": [
        "def stationaryTest(df):\n",
        "  X = df.value\n",
        "  X = X.astype('float32')\n",
        "\n",
        "  # Is stationary? Run AD FUller, p-value < .05 ?\n",
        "  result = adfuller(X)\n",
        "  print('ADF Statistic: %f' % result[0])\n",
        "  print('p-value: %f' % result[1])\n",
        "\n",
        "  # LOOK FOR ACF & PACF\n",
        "  fig, (ax1, ax2) = plt.subplots(1,2, figsize=(14,4))\n",
        "  fig = plot_acf(X, lags=40, ax=ax1)\n",
        "  ax1.axhline(y=0,linestyle='--',color= 'gray')\n",
        "  ax1.axhline(y= - 1.96/np.sqrt(len(df)), linestyle='--',color= 'gray')\n",
        "  ax1.axhline(y=  1.96/np.sqrt(len(df)), linestyle='--',color= 'gray')\n",
        "  ax1.set_label('Lags')\n",
        "\n",
        "  fig = plot_pacf(X, lags=40, ax=ax2)\n",
        "  ax2.axhline(y=0,linestyle = '--', color = 'gray')\n",
        "  ax2.axhline(y = -1.96/np.sqrt(len(df)), linestyle = '--', color = 'gray')\n",
        "  ax2.axhline(y = 1.96/np.sqrt(len(df)), linestyle = '--', color = 'gray')\n",
        "  ax2.set_label('Lags')\n",
        "\n",
        "\n"
      ],
      "execution_count": 0,
      "outputs": []
    },
    {
      "cell_type": "code",
      "metadata": {
        "id": "jEPyF7Xxjt5E",
        "colab_type": "code",
        "colab": {}
      },
      "source": [
        "df = pd.DataFrame(data=all_homes['zip_median'].values, index=all_homes.index, columns=['value'])\n",
        "stationaryTest(df) # p-value: 0.719121"
      ],
      "execution_count": 0,
      "outputs": []
    },
    {
      "cell_type": "code",
      "metadata": {
        "id": "JlrPJcZ1GLwX",
        "colab_type": "code",
        "colab": {}
      },
      "source": [
        "'''\n",
        "# Get fuller p-values for different lags\n",
        "\n",
        "# create a differenced series\n",
        "def difference(dataset, interval=1):\n",
        "\tdiff = list()\n",
        "\tfor i in range(interval, len(dataset)):\n",
        "\t\tvalue = dataset[i] - dataset[i - interval]\n",
        "\t\tdiff.append(value)\n",
        "\treturn Series(diff)\n",
        " \n",
        "# Make stationary\n",
        "X = zip_median_roi5.value\n",
        "X = X.astype('float32')\n",
        "\n",
        "# difference data\n",
        "\n",
        "for p in range(0, 40):\n",
        "  lags = p\n",
        "  stationary = difference(X, lags)\n",
        "  result = adfuller(stationary)\n",
        "  if result[1] < .05:\n",
        "    print('lags: ' + str(p) + ', p-value: ' + str(result[1]))\n",
        "\n",
        "#lags: 1, p-value: 0.016\n",
        "'''"
      ],
      "execution_count": 0,
      "outputs": []
    },
    {
      "cell_type": "code",
      "metadata": {
        "id": "Q_yZ286wJygH",
        "colab_type": "code",
        "colab": {}
      },
      "source": [
        "'''\n",
        "# make stationary with lag = 1, as discovered to be best with AD Fuller test\n",
        "lags = 1\n",
        "stationary = difference(X, lags)\n",
        "stationary.index = df.index[lags:]\n",
        "\n",
        "# USING STATIONARY TIME SERIES LOOK FOR ACF & PACF\n",
        "fig, (ax1, ax2) = plt.subplots(1,2, figsize=(14,4))\n",
        "fig = plot_acf(stationary, ax=ax1)\n",
        "ax1.axhline(y=0,linestyle='--',color= 'gray')\n",
        "ax1.axhline(y= - 1.96/np.sqrt(len(stationary)), linestyle='--',color= 'gray')\n",
        "ax1.axhline(y=  1.96/np.sqrt(len(stationary)), linestyle='--',color= 'gray')\n",
        "ax1.set_label('Lags')\n",
        "\n",
        "fig = plot_pacf(stationary, ax=ax2)\n",
        "ax2.axhline(y=0,linestyle = '--', color = 'gray')\n",
        "ax2.axhline(y = -1.96/np.sqrt(len(stationary)), linestyle = '--', color = 'gray')\n",
        "ax2.axhline(y = 1.96/np.sqrt(len(stationary)), linestyle = '--', color = 'gray')\n",
        "ax2.set_label('Lags')\n",
        "'''"
      ],
      "execution_count": 0,
      "outputs": []
    },
    {
      "cell_type": "code",
      "metadata": {
        "id": "yTYj3oA7zYfw",
        "colab_type": "code",
        "colab": {}
      },
      "source": [
        "'''\n",
        "# BEST ARIMA params\n",
        "# CODE RUNS LONG FOR EVALUATION - approximately \n",
        "import warnings\n",
        "\n",
        "# create a differenced series\n",
        "def difference(dataset, interval=1):\n",
        "\tdiff = list()\n",
        "\tfor i in range(interval, len(dataset)):\n",
        "\t\tvalue = dataset[i] - dataset[i - interval]\n",
        "\t\tdiff.append(value)\n",
        "\treturn np.array(diff)\n",
        " \n",
        "# invert differenced value\n",
        "def inverse_difference(history, yhat, interval=1):\n",
        "\treturn yhat + history[-interval]\n",
        " \n",
        "# evaluate an ARIMA model for a given order (p,d,q) and return RMSE\n",
        "def evaluate_arima_model(X, arima_order):\n",
        "\t# prepare training dataset\n",
        "\tX = X.astype('float32')\n",
        "\ttrain_size = int(len(X) * 0.70)\n",
        "\ttrain, test = X[0:train_size], X[train_size:]\n",
        "\thistory = [x for x in train]\n",
        "\t# make predictions\n",
        "\tpredictions = list()\n",
        "\tfor t in range(len(test)):\n",
        "\t\t# difference data\n",
        "\t\tlags = 1 # best value discovered with fuller test above\n",
        "\t\tdiff = difference(history, lags)\n",
        "\t\tmodel = ARIMA(diff, order=arima_order)\n",
        "\t\tmodel_fit = model.fit(trend='nc', disp=0)\n",
        "\t\tyhat = model_fit.forecast()[0]\n",
        "\t\tyhat = inverse_difference(history, yhat, lags)\n",
        "\t\tpredictions.append(yhat)\n",
        "\t\thistory.append(test[t])\n",
        "\t# calculate out of sample error\n",
        "\tmse = mean_squared_error(test, predictions)\n",
        "\trmse = sqrt(mse)\n",
        "\treturn rmse\n",
        " \n",
        "# evaluate combinations of p, d and q values for an ARIMA model\n",
        "def evaluate_models(dataset, p_values, d_values, q_values):\n",
        "\tdataset = dataset.astype('float32')\n",
        "\tbest_score, best_cfg = float(\"inf\"), None\n",
        "\tfor p in p_values:\n",
        "\t\tfor d in d_values:\n",
        "\t\t\tfor q in q_values:\n",
        "\t\t\t\torder = (p,d,q)\n",
        "\t\t\t\ttry:\n",
        "\t\t\t\t\tmse = evaluate_arima_model(dataset, order)\n",
        "\t\t\t\t\tif mse < best_score:\n",
        "\t\t\t\t\t\tbest_score, best_cfg = mse, order\n",
        "\t\t\t\t\tprint('ARIMA%s RMSE=%.3f' % (order,mse))\n",
        "\t\t\t\texcept:\n",
        "\t\t\t\t\tcontinue\n",
        "\tprint('Best ARIMA%s RMSE=%.3f' % (best_cfg, best_score))\n",
        " \n",
        "# evaluate parameters\n",
        "p_values = range(0, 7)\n",
        "d_values = range(0, 3)\n",
        "q_values = range(0, 7)\n",
        "\n",
        "warnings.filterwarnings(\"ignore\")\n",
        "evaluate_models(df['zip_median'].values, p_values, d_values, q_values)\n",
        "\n",
        "# Best: ARIMA(6, 1, 0) RMSE=139.733\n",
        "'''"
      ],
      "execution_count": 0,
      "outputs": []
    },
    {
      "cell_type": "code",
      "metadata": {
        "id": "_5v-MXpzg0f2",
        "colab_type": "code",
        "colab": {}
      },
      "source": [
        "# define a function to run auto arima and search for best model parameters\n",
        "def find_orders(ts, exog):\n",
        "    \n",
        "    '''Takes a time series and finds the best differencing order, as well as the other best\n",
        "    parameters for a SARIMAX model using auto_arima'''\n",
        "    \n",
        "\n",
        "    stepwise_model = pm.auto_arima(ts, start_p=1, start_q=1, max_p=4, max_q=14,\n",
        "                                exogenous=exog, \n",
        "                                m=12, seasonal=True, stationary=False,\n",
        "                                stepwise=True, trend='ct',\n",
        "                                suppress_warnings=True, trace=False, \n",
        "                                error_action='ignore')\n",
        "\n",
        "   \n",
        "    return stepwise_model.order, stepwise_model.seasonal_order"
      ],
      "execution_count": 0,
      "outputs": []
    },
    {
      "cell_type": "code",
      "metadata": {
        "id": "xpZc9QYKw7u4",
        "colab_type": "code",
        "colab": {}
      },
      "source": [
        "def fit_sarimax_model(ts, exog, order=(1,1,1), seasonal_order=(0, 0, 0, 12), summary=True, plot=True):\n",
        "    \n",
        "    '''Takes a time series and runs a SARIMAX model with parameter order provided. \n",
        "    If no parameter provided default is (1,1,1), (0,0,0,12). \n",
        "    Has the default option to print model summary and plot diagnostics, which can be turned off'''\n",
        "  \n",
        "    # fit model with exog\n",
        "    model = sm.tsa.statespace.SARIMAX(ts, \n",
        "                                  exog = exog,  \n",
        "                                  order=order,\n",
        "                                  seasonal_order=seasonal_order,\n",
        "                                  trend='ct',\n",
        "                                  enforce_stationarity=True,\n",
        "                                  enforce_invertibility=False)\n",
        "\n",
        "    output = model.fit(d=0)\n",
        "    \n",
        "    if summary==True:\n",
        "        print(output.summary())\n",
        "\n",
        "    if plot==True:\n",
        "        # plot model diagnostics\n",
        "        output.plot_diagnostics(figsize=(15, 18))\n",
        "        plt.show()\n",
        "        \n",
        "# return output"
      ],
      "execution_count": 0,
      "outputs": []
    },
    {
      "cell_type": "code",
      "metadata": {
        "id": "N5I6oLg9t4MQ",
        "colab_type": "code",
        "colab": {}
      },
      "source": [
        "# base model    \n",
        "\n",
        "# find best arima/sarimax params, without exog's\n",
        "df = pd.DataFrame(data=all_homes['zip_median'].values, index=all_homes.index, columns=['value'])\n",
        "find_orders(df) # ((0, 2, 1), (0, 0, 0, 12))\n",
        "\n",
        "zip_median_output = fit_sarimax_model(df, None, order=(0, 2, 1), seasonal_order=(0, 0, 0, 12), plot=False)  # AIC: 4217.217"
      ],
      "execution_count": 0,
      "outputs": []
    },
    {
      "cell_type": "markdown",
      "metadata": {
        "id": "q-FS2cvx-J8r",
        "colab_type": "text"
      },
      "source": [
        "Exog's\n",
        "\n",
        "\n",
        "Notes: \n",
        "- The 30-year mortgage fixed interest rate and the median sale price of new or existing homes sold Intended to capture pricing effects \n",
        "- The Kansas City Federal Reserve Financial Stress Index and the percent of loans in foreclosure \n",
        "- Intended to capture credit conditions \n",
        "- The number of households, the homeowner vacancy rate, the homeownership rate, and the median family income \n",
        "- Intended to capture consumer characteristics Qualitative tax credit variables \n",
        "- Intended to capture the effects of the 2010 first-time homebuyer tax credits \n",
        "- Existing home sales are also used as an input to new home sales and vice versa \n",
        "- Intended to capture housing demand effects"
      ]
    },
    {
      "cell_type": "code",
      "metadata": {
        "id": "ktrVZZNiD0Z4",
        "colab_type": "code",
        "colab": {
          "base_uri": "https://localhost:8080/",
          "height": 374
        },
        "outputId": "c53da48a-6ee6-4f7b-e785-5e62832ab6f6"
      },
      "source": [
        "# Dept of Labor Employment Dataset\n",
        "# https://beta.bls.gov/dataViewer/view/timeseries/CES0000000001;jsessionid=542AB1B7EFC43613AD715045DF37B0B6\n",
        "employ = pd.read_csv('https://github.com/vksyr/IST718/raw/master/DOL_Employment.csv')\n",
        "employ = employ.drop('Date' , axis=1)\n",
        "employ.index = all_homes.index\n",
        "\n",
        "# Dept of Labor Unemployment Rate Dataset\n",
        "# https://beta.bls.gov/dataViewer/view/timeseries/CES0000000001;jsessionid=542AB1B7EFC43613AD715045DF37B0B6\n",
        "unemploy = pd.read_csv('https://github.com/vksyr/IST718/raw/master/DOL_Unemployment.csv')\n",
        "unemploy = unemploy.drop('Date' , axis=1)\n",
        "unemploy.index = all_homes.index\n",
        "\n",
        "# 30-Year Fixed Mortgage Rates\n",
        "# http://www.freddiemac.com/pmms/pmms_archives.html\n",
        "mtg = pd.read_csv('https://github.com/vksyr/IST718/raw/master/30YearFixedMortgage.csv')\n",
        "mtg = mtg.drop('Date' , axis=1)\n",
        "mtg.index = all_homes.index\n",
        "\n",
        "# Delinquencies on All Loans and Leases, Secured by Real Estate, Single-Family Residential Mortgages, \n",
        "# Booked in Domestic Offices, All Commercial Banks \n",
        "# https://fred.stlouisfed.org/series/DALLSRESFRMACBEP\n",
        "# Quarterly\n",
        "foreclosures = pd.read_csv('https://github.com/vksyr/IST718/raw/master/Foreclosures.csv')\n",
        "foreclosures = foreclosures.drop('Date' , axis=1)\n",
        "#foreclosures.index = all_homes.index"
      ],
      "execution_count": 210,
      "outputs": [
        {
          "output_type": "error",
          "ename": "ValueError",
          "evalue": "ignored",
          "traceback": [
            "\u001b[0;31m---------------------------------------------------------------------------\u001b[0m",
            "\u001b[0;31mValueError\u001b[0m                                Traceback (most recent call last)",
            "\u001b[0;32m<ipython-input-210-9306c6619515>\u001b[0m in \u001b[0;36m<module>\u001b[0;34m()\u001b[0m\n\u001b[1;32m     20\u001b[0m \u001b[0mforeclosures\u001b[0m \u001b[0;34m=\u001b[0m \u001b[0mpd\u001b[0m\u001b[0;34m.\u001b[0m\u001b[0mread_csv\u001b[0m\u001b[0;34m(\u001b[0m\u001b[0;34m'https://github.com/vksyr/IST718/raw/master/Foreclosures.csv'\u001b[0m\u001b[0;34m)\u001b[0m\u001b[0;34m\u001b[0m\u001b[0;34m\u001b[0m\u001b[0m\n\u001b[1;32m     21\u001b[0m \u001b[0mforeclosures\u001b[0m \u001b[0;34m=\u001b[0m \u001b[0mforeclosures\u001b[0m\u001b[0;34m.\u001b[0m\u001b[0mdrop\u001b[0m\u001b[0;34m(\u001b[0m\u001b[0;34m'Date'\u001b[0m \u001b[0;34m,\u001b[0m \u001b[0maxis\u001b[0m\u001b[0;34m=\u001b[0m\u001b[0;36m1\u001b[0m\u001b[0;34m)\u001b[0m\u001b[0;34m\u001b[0m\u001b[0;34m\u001b[0m\u001b[0m\n\u001b[0;32m---> 22\u001b[0;31m \u001b[0mforeclosures\u001b[0m\u001b[0;34m.\u001b[0m\u001b[0mindex\u001b[0m \u001b[0;34m=\u001b[0m \u001b[0mall_homes\u001b[0m\u001b[0;34m.\u001b[0m\u001b[0mindex\u001b[0m\u001b[0;34m\u001b[0m\u001b[0;34m\u001b[0m\u001b[0m\n\u001b[0m",
            "\u001b[0;32m/usr/local/lib/python3.6/dist-packages/pandas/core/generic.py\u001b[0m in \u001b[0;36m__setattr__\u001b[0;34m(self, name, value)\u001b[0m\n\u001b[1;32m   5190\u001b[0m         \u001b[0;32mtry\u001b[0m\u001b[0;34m:\u001b[0m\u001b[0;34m\u001b[0m\u001b[0;34m\u001b[0m\u001b[0m\n\u001b[1;32m   5191\u001b[0m             \u001b[0mobject\u001b[0m\u001b[0;34m.\u001b[0m\u001b[0m__getattribute__\u001b[0m\u001b[0;34m(\u001b[0m\u001b[0mself\u001b[0m\u001b[0;34m,\u001b[0m \u001b[0mname\u001b[0m\u001b[0;34m)\u001b[0m\u001b[0;34m\u001b[0m\u001b[0;34m\u001b[0m\u001b[0m\n\u001b[0;32m-> 5192\u001b[0;31m             \u001b[0;32mreturn\u001b[0m \u001b[0mobject\u001b[0m\u001b[0;34m.\u001b[0m\u001b[0m__setattr__\u001b[0m\u001b[0;34m(\u001b[0m\u001b[0mself\u001b[0m\u001b[0;34m,\u001b[0m \u001b[0mname\u001b[0m\u001b[0;34m,\u001b[0m \u001b[0mvalue\u001b[0m\u001b[0;34m)\u001b[0m\u001b[0;34m\u001b[0m\u001b[0;34m\u001b[0m\u001b[0m\n\u001b[0m\u001b[1;32m   5193\u001b[0m         \u001b[0;32mexcept\u001b[0m \u001b[0mAttributeError\u001b[0m\u001b[0;34m:\u001b[0m\u001b[0;34m\u001b[0m\u001b[0;34m\u001b[0m\u001b[0m\n\u001b[1;32m   5194\u001b[0m             \u001b[0;32mpass\u001b[0m\u001b[0;34m\u001b[0m\u001b[0;34m\u001b[0m\u001b[0m\n",
            "\u001b[0;32mpandas/_libs/properties.pyx\u001b[0m in \u001b[0;36mpandas._libs.properties.AxisProperty.__set__\u001b[0;34m()\u001b[0m\n",
            "\u001b[0;32m/usr/local/lib/python3.6/dist-packages/pandas/core/generic.py\u001b[0m in \u001b[0;36m_set_axis\u001b[0;34m(self, axis, labels)\u001b[0m\n\u001b[1;32m    688\u001b[0m \u001b[0;34m\u001b[0m\u001b[0m\n\u001b[1;32m    689\u001b[0m     \u001b[0;32mdef\u001b[0m \u001b[0m_set_axis\u001b[0m\u001b[0;34m(\u001b[0m\u001b[0mself\u001b[0m\u001b[0;34m,\u001b[0m \u001b[0maxis\u001b[0m\u001b[0;34m,\u001b[0m \u001b[0mlabels\u001b[0m\u001b[0;34m)\u001b[0m\u001b[0;34m:\u001b[0m\u001b[0;34m\u001b[0m\u001b[0;34m\u001b[0m\u001b[0m\n\u001b[0;32m--> 690\u001b[0;31m         \u001b[0mself\u001b[0m\u001b[0;34m.\u001b[0m\u001b[0m_data\u001b[0m\u001b[0;34m.\u001b[0m\u001b[0mset_axis\u001b[0m\u001b[0;34m(\u001b[0m\u001b[0maxis\u001b[0m\u001b[0;34m,\u001b[0m \u001b[0mlabels\u001b[0m\u001b[0;34m)\u001b[0m\u001b[0;34m\u001b[0m\u001b[0;34m\u001b[0m\u001b[0m\n\u001b[0m\u001b[1;32m    691\u001b[0m         \u001b[0mself\u001b[0m\u001b[0;34m.\u001b[0m\u001b[0m_clear_item_cache\u001b[0m\u001b[0;34m(\u001b[0m\u001b[0;34m)\u001b[0m\u001b[0;34m\u001b[0m\u001b[0;34m\u001b[0m\u001b[0m\n\u001b[1;32m    692\u001b[0m \u001b[0;34m\u001b[0m\u001b[0m\n",
            "\u001b[0;32m/usr/local/lib/python3.6/dist-packages/pandas/core/internals/managers.py\u001b[0m in \u001b[0;36mset_axis\u001b[0;34m(self, axis, new_labels)\u001b[0m\n\u001b[1;32m    181\u001b[0m             raise ValueError(\n\u001b[1;32m    182\u001b[0m                 \u001b[0;34m\"Length mismatch: Expected axis has {old} elements, new \"\u001b[0m\u001b[0;34m\u001b[0m\u001b[0;34m\u001b[0m\u001b[0m\n\u001b[0;32m--> 183\u001b[0;31m                 \u001b[0;34m\"values have {new} elements\"\u001b[0m\u001b[0;34m.\u001b[0m\u001b[0mformat\u001b[0m\u001b[0;34m(\u001b[0m\u001b[0mold\u001b[0m\u001b[0;34m=\u001b[0m\u001b[0mold_len\u001b[0m\u001b[0;34m,\u001b[0m \u001b[0mnew\u001b[0m\u001b[0;34m=\u001b[0m\u001b[0mnew_len\u001b[0m\u001b[0;34m)\u001b[0m\u001b[0;34m\u001b[0m\u001b[0;34m\u001b[0m\u001b[0m\n\u001b[0m\u001b[1;32m    184\u001b[0m             )\n\u001b[1;32m    185\u001b[0m \u001b[0;34m\u001b[0m\u001b[0m\n",
            "\u001b[0;31mValueError\u001b[0m: Length mismatch: Expected axis has 94 elements, new values have 285 elements"
          ]
        }
      ]
    },
    {
      "cell_type": "code",
      "metadata": {
        "id": "Y7IPnTAleyiA",
        "colab_type": "code",
        "colab": {
          "base_uri": "https://localhost:8080/",
          "height": 617
        },
        "outputId": "5ca5a10b-3678-422f-bfac-5eb89d0934c4"
      },
      "source": [
        "# Plot exogs with home sales\n",
        "\n",
        "from plotly.subplots import make_subplots\n",
        "\n",
        "layout = go.Layout(legend = dict(x = 0.1, y = 0.9))\n",
        "\n",
        "fig = make_subplots(rows=3, cols=1)\n",
        "fig.append_trace(go.Scatter(x=df.index, y=df.value, name='Home Sales',\n",
        "                          line_color='gray'), row=1, col=1)\n",
        "fig.append_trace(go.Scatter(x=employ.index, y=employ.value, name='Natl Employed', \n",
        "                          line_color='deepskyblue'), row=2, col=1)\n",
        "fig.append_trace(go.Scatter(x=mtg.index, y=mtg.value, name='30-Year Fixed Mortgage Rate',\n",
        "                          line_color='red'), row=3, col=1)\n",
        "\n",
        "fig.update_layout(title_text='Average Home Sales in Arkansas Metro Areas',\n",
        "                          xaxis_rangeslider_visible=False, legend = dict(x = 0.6, y = 1.2))\n",
        "\n",
        "fig.update_layout(height=600, width=600, title_text=\"Home Sales vs Other Factors\")\n",
        "fig.show()"
      ],
      "execution_count": 151,
      "outputs": [
        {
          "output_type": "display_data",
          "data": {
            "text/html": [
              "<html>\n",
              "<head><meta charset=\"utf-8\" /></head>\n",
              "<body>\n",
              "    <div>\n",
              "            <script src=\"https://cdnjs.cloudflare.com/ajax/libs/mathjax/2.7.5/MathJax.js?config=TeX-AMS-MML_SVG\"></script><script type=\"text/javascript\">if (window.MathJax) {MathJax.Hub.Config({SVG: {font: \"STIX-Web\"}});}</script>\n",
              "                <script type=\"text/javascript\">window.PlotlyConfig = {MathJaxConfig: 'local'};</script>\n",
              "        <script src=\"https://cdn.plot.ly/plotly-latest.min.js\"></script>    \n",
              "            <div id=\"99d0766a-a477-4ed9-b0f2-c2a3410dcb04\" class=\"plotly-graph-div\" style=\"height:600px; width:600px;\"></div>\n",
              "            <script type=\"text/javascript\">\n",
              "                \n",
              "                    window.PLOTLYENV=window.PLOTLYENV || {};\n",
              "                    \n",
              "                if (document.getElementById(\"99d0766a-a477-4ed9-b0f2-c2a3410dcb04\")) {\n",
              "                    Plotly.newPlot(\n",
              "                        '99d0766a-a477-4ed9-b0f2-c2a3410dcb04',\n",
              "                        [{\"line\": {\"color\": \"gray\"}, \"name\": \"Home Sales\", \"type\": \"scatter\", \"x\": [\"1996-04-01T00:00:00\", \"1996-05-01T00:00:00\", \"1996-06-01T00:00:00\", \"1996-07-01T00:00:00\", \"1996-08-01T00:00:00\", \"1996-09-01T00:00:00\", \"1996-10-01T00:00:00\", \"1996-11-01T00:00:00\", \"1996-12-01T00:00:00\", \"1997-01-01T00:00:00\", \"1997-02-01T00:00:00\", \"1997-03-01T00:00:00\", \"1997-04-01T00:00:00\", \"1997-05-01T00:00:00\", \"1997-06-01T00:00:00\", \"1997-07-01T00:00:00\", \"1997-08-01T00:00:00\", \"1997-09-01T00:00:00\", \"1997-10-01T00:00:00\", \"1997-11-01T00:00:00\", \"1997-12-01T00:00:00\", \"1998-01-01T00:00:00\", \"1998-02-01T00:00:00\", \"1998-03-01T00:00:00\", \"1998-04-01T00:00:00\", \"1998-05-01T00:00:00\", \"1998-06-01T00:00:00\", \"1998-07-01T00:00:00\", \"1998-08-01T00:00:00\", \"1998-09-01T00:00:00\", \"1998-10-01T00:00:00\", \"1998-11-01T00:00:00\", \"1998-12-01T00:00:00\", \"1999-01-01T00:00:00\", \"1999-02-01T00:00:00\", \"1999-03-01T00:00:00\", \"1999-04-01T00:00:00\", \"1999-05-01T00:00:00\", \"1999-06-01T00:00:00\", \"1999-07-01T00:00:00\", \"1999-08-01T00:00:00\", \"1999-09-01T00:00:00\", \"1999-10-01T00:00:00\", \"1999-11-01T00:00:00\", \"1999-12-01T00:00:00\", \"2000-01-01T00:00:00\", \"2000-02-01T00:00:00\", \"2000-03-01T00:00:00\", \"2000-04-01T00:00:00\", \"2000-05-01T00:00:00\", \"2000-06-01T00:00:00\", \"2000-07-01T00:00:00\", \"2000-08-01T00:00:00\", \"2000-09-01T00:00:00\", \"2000-10-01T00:00:00\", \"2000-11-01T00:00:00\", \"2000-12-01T00:00:00\", \"2001-01-01T00:00:00\", \"2001-02-01T00:00:00\", \"2001-03-01T00:00:00\", \"2001-04-01T00:00:00\", \"2001-05-01T00:00:00\", \"2001-06-01T00:00:00\", \"2001-07-01T00:00:00\", \"2001-08-01T00:00:00\", \"2001-09-01T00:00:00\", \"2001-10-01T00:00:00\", \"2001-11-01T00:00:00\", \"2001-12-01T00:00:00\", \"2002-01-01T00:00:00\", \"2002-02-01T00:00:00\", \"2002-03-01T00:00:00\", \"2002-04-01T00:00:00\", \"2002-05-01T00:00:00\", \"2002-06-01T00:00:00\", \"2002-07-01T00:00:00\", \"2002-08-01T00:00:00\", \"2002-09-01T00:00:00\", \"2002-10-01T00:00:00\", \"2002-11-01T00:00:00\", \"2002-12-01T00:00:00\", \"2003-01-01T00:00:00\", \"2003-02-01T00:00:00\", \"2003-03-01T00:00:00\", \"2003-04-01T00:00:00\", \"2003-05-01T00:00:00\", \"2003-06-01T00:00:00\", \"2003-07-01T00:00:00\", \"2003-08-01T00:00:00\", \"2003-09-01T00:00:00\", \"2003-10-01T00:00:00\", \"2003-11-01T00:00:00\", \"2003-12-01T00:00:00\", \"2004-01-01T00:00:00\", \"2004-02-01T00:00:00\", \"2004-03-01T00:00:00\", \"2004-04-01T00:00:00\", \"2004-05-01T00:00:00\", \"2004-06-01T00:00:00\", \"2004-07-01T00:00:00\", \"2004-08-01T00:00:00\", \"2004-09-01T00:00:00\", \"2004-10-01T00:00:00\", \"2004-11-01T00:00:00\", \"2004-12-01T00:00:00\", \"2005-01-01T00:00:00\", \"2005-02-01T00:00:00\", \"2005-03-01T00:00:00\", \"2005-04-01T00:00:00\", \"2005-05-01T00:00:00\", \"2005-06-01T00:00:00\", \"2005-07-01T00:00:00\", \"2005-08-01T00:00:00\", \"2005-09-01T00:00:00\", \"2005-10-01T00:00:00\", \"2005-11-01T00:00:00\", \"2005-12-01T00:00:00\", \"2006-01-01T00:00:00\", \"2006-02-01T00:00:00\", \"2006-03-01T00:00:00\", \"2006-04-01T00:00:00\", \"2006-05-01T00:00:00\", \"2006-06-01T00:00:00\", \"2006-07-01T00:00:00\", \"2006-08-01T00:00:00\", \"2006-09-01T00:00:00\", \"2006-10-01T00:00:00\", \"2006-11-01T00:00:00\", \"2006-12-01T00:00:00\", \"2007-01-01T00:00:00\", \"2007-02-01T00:00:00\", \"2007-03-01T00:00:00\", \"2007-04-01T00:00:00\", \"2007-05-01T00:00:00\", \"2007-06-01T00:00:00\", \"2007-07-01T00:00:00\", \"2007-08-01T00:00:00\", \"2007-09-01T00:00:00\", \"2007-10-01T00:00:00\", \"2007-11-01T00:00:00\", \"2007-12-01T00:00:00\", \"2008-01-01T00:00:00\", \"2008-02-01T00:00:00\", \"2008-03-01T00:00:00\", \"2008-04-01T00:00:00\", \"2008-05-01T00:00:00\", \"2008-06-01T00:00:00\", \"2008-07-01T00:00:00\", \"2008-08-01T00:00:00\", \"2008-09-01T00:00:00\", \"2008-10-01T00:00:00\", \"2008-11-01T00:00:00\", \"2008-12-01T00:00:00\", \"2009-01-01T00:00:00\", \"2009-02-01T00:00:00\", \"2009-03-01T00:00:00\", \"2009-04-01T00:00:00\", \"2009-05-01T00:00:00\", \"2009-06-01T00:00:00\", \"2009-07-01T00:00:00\", \"2009-08-01T00:00:00\", \"2009-09-01T00:00:00\", \"2009-10-01T00:00:00\", \"2009-11-01T00:00:00\", \"2009-12-01T00:00:00\", \"2010-01-01T00:00:00\", \"2010-02-01T00:00:00\", \"2010-03-01T00:00:00\", \"2010-04-01T00:00:00\", \"2010-05-01T00:00:00\", \"2010-06-01T00:00:00\", \"2010-07-01T00:00:00\", \"2010-08-01T00:00:00\", \"2010-09-01T00:00:00\", \"2010-10-01T00:00:00\", \"2010-11-01T00:00:00\", \"2010-12-01T00:00:00\", \"2011-01-01T00:00:00\", \"2011-02-01T00:00:00\", \"2011-03-01T00:00:00\", \"2011-04-01T00:00:00\", \"2011-05-01T00:00:00\", \"2011-06-01T00:00:00\", \"2011-07-01T00:00:00\", \"2011-08-01T00:00:00\", \"2011-09-01T00:00:00\", \"2011-10-01T00:00:00\", \"2011-11-01T00:00:00\", \"2011-12-01T00:00:00\", \"2012-01-01T00:00:00\", \"2012-02-01T00:00:00\", \"2012-03-01T00:00:00\", \"2012-04-01T00:00:00\", \"2012-05-01T00:00:00\", \"2012-06-01T00:00:00\", \"2012-07-01T00:00:00\", \"2012-08-01T00:00:00\", \"2012-09-01T00:00:00\", \"2012-10-01T00:00:00\", \"2012-11-01T00:00:00\", \"2012-12-01T00:00:00\", \"2013-01-01T00:00:00\", \"2013-02-01T00:00:00\", \"2013-03-01T00:00:00\", \"2013-04-01T00:00:00\", \"2013-05-01T00:00:00\", \"2013-06-01T00:00:00\", \"2013-07-01T00:00:00\", \"2013-08-01T00:00:00\", \"2013-09-01T00:00:00\", \"2013-10-01T00:00:00\", \"2013-11-01T00:00:00\", \"2013-12-01T00:00:00\", \"2014-01-01T00:00:00\", \"2014-02-01T00:00:00\", \"2014-03-01T00:00:00\", \"2014-04-01T00:00:00\", \"2014-05-01T00:00:00\", \"2014-06-01T00:00:00\", \"2014-07-01T00:00:00\", \"2014-08-01T00:00:00\", \"2014-09-01T00:00:00\", \"2014-10-01T00:00:00\", \"2014-11-01T00:00:00\", \"2014-12-01T00:00:00\", \"2015-01-01T00:00:00\", \"2015-02-01T00:00:00\", \"2015-03-01T00:00:00\", \"2015-04-01T00:00:00\", \"2015-05-01T00:00:00\", \"2015-06-01T00:00:00\", \"2015-07-01T00:00:00\", \"2015-08-01T00:00:00\", \"2015-09-01T00:00:00\", \"2015-10-01T00:00:00\", \"2015-11-01T00:00:00\", \"2015-12-01T00:00:00\", \"2016-01-01T00:00:00\", \"2016-02-01T00:00:00\", \"2016-03-01T00:00:00\", \"2016-04-01T00:00:00\", \"2016-05-01T00:00:00\", \"2016-06-01T00:00:00\", \"2016-07-01T00:00:00\", \"2016-08-01T00:00:00\", \"2016-09-01T00:00:00\", \"2016-10-01T00:00:00\", \"2016-11-01T00:00:00\", \"2016-12-01T00:00:00\", \"2017-01-01T00:00:00\", \"2017-02-01T00:00:00\", \"2017-03-01T00:00:00\", \"2017-04-01T00:00:00\", \"2017-05-01T00:00:00\", \"2017-06-01T00:00:00\", \"2017-07-01T00:00:00\", \"2017-08-01T00:00:00\", \"2017-09-01T00:00:00\", \"2017-10-01T00:00:00\", \"2017-11-01T00:00:00\", \"2017-12-01T00:00:00\", \"2018-01-01T00:00:00\", \"2018-02-01T00:00:00\", \"2018-03-01T00:00:00\", \"2018-04-01T00:00:00\", \"2018-05-01T00:00:00\", \"2018-06-01T00:00:00\", \"2018-07-01T00:00:00\", \"2018-08-01T00:00:00\", \"2018-09-01T00:00:00\", \"2018-10-01T00:00:00\", \"2018-11-01T00:00:00\", \"2018-12-01T00:00:00\", \"2019-01-01T00:00:00\", \"2019-02-01T00:00:00\", \"2019-03-01T00:00:00\", \"2019-04-01T00:00:00\", \"2019-05-01T00:00:00\", \"2019-06-01T00:00:00\", \"2019-07-01T00:00:00\", \"2019-08-01T00:00:00\", \"2019-09-01T00:00:00\", \"2019-10-01T00:00:00\", \"2019-11-01T00:00:00\", \"2019-12-01T00:00:00\"], \"xaxis\": \"x\", \"y\": [107637.0, 107779.0, 107727.0, 107923.0, 108046.0, 108304.0, 108422.0, 108910.0, 109323.0, 109693.5, 109943.0, 110115.0, 110242.5, 110380.0, 110631.0, 110683.5, 111074.5, 111547.0, 111772.0, 112239.0, 112780.0, 113376.5, 113645.0, 113575.5, 113401.5, 113447.0, 113745.0, 113851.0, 114159.0, 114360.0, 114637.0, 114968.0, 115426.0, 115251.0, 115447.0, 115459.0, 115604.0, 115821.0, 116101.0, 116536.0, 116848.5, 117048.0, 117281.0, 117698.0, 118270.5, 118815.0, 119314.5, 119713.0, 119941.0, 120363.0, 120715.0, 120999.0, 121291.0, 121827.0, 122375.5, 122960.0, 123688.0, 124204.0, 124762.0, 125258.0, 125585.0, 126066.0, 126548.0, 127007.0, 127683.0, 128320.0, 128757.0, 129319.0, 129825.0, 130519.5, 131033.0, 131398.0, 131940.0, 132292.0, 132897.0, 133531.0, 133996.0, 134551.0, 135150.0, 135766.0, 136386.5, 136914.0, 137367.5, 138039.0, 138420.0, 138692.0, 139267.0, 140014.0, 140834.0, 141832.0, 142876.5, 143573.0, 144337.0, 145020.0, 145579.0, 146455.5, 147214.0, 148123.0, 148963.0, 150121.0, 151072.0, 151957.0, 152552.0, 153716.5, 154840.5, 154047.0, 152878.0, 150218.5, 148844.0, 147885.0, 147306.0, 147500.0, 147606.0, 148302.0, 148936.5, 149610.0, 150248.0, 150874.0, 151506.5, 151927.0, 152151.0, 152516.0, 152808.0, 152919.0, 153224.0, 153540.0, 154084.0, 154397.5, 154665.0, 154749.0, 154946.0, 154841.0, 154846.0, 154689.0, 154302.0, 154125.0, 154154.0, 154100.5, 154173.0, 153885.0, 153682.0, 149408.0, 149071.0, 148549.5, 147863.5, 146994.5, 146271.5, 145692.0, 144654.5, 143964.0, 143293.0, 142648.5, 141926.0, 141120.0, 140527.5, 139634.5, 138852.0, 138002.0, 137143.5, 136267.0, 135655.0, 134894.5, 134251.0, 133884.0, 133628.5, 133282.0, 132993.0, 132859.0, 132739.0, 132612.5, 132384.0, 131947.0, 131589.0, 131079.0, 130547.0, 129861.0, 129189.0, 128272.0, 127582.5, 127007.0, 126255.0, 125786.0, 125412.0, 125035.5, 124793.0, 124565.0, 124349.5, 124188.5, 124038.0, 123707.0, 123496.5, 123545.0, 123510.0, 123550.0, 123573.0, 123686.0, 123910.5, 124099.5, 124364.0, 124673.0, 124955.5, 125063.5, 125264.0, 125628.0, 126020.0, 126539.0, 126973.0, 127424.5, 127883.0, 128426.0, 128689.0, 129049.0, 129360.5, 129520.5, 129875.0, 130086.0, 130484.0, 130729.5, 131057.0, 131518.0, 131703.0, 131940.0, 132304.0, 132654.5, 133026.0, 132779.0, 133182.0, 133586.0, 134168.0, 134685.5, 135170.0, 135520.0, 135726.0, 135956.0, 136178.0, 136491.0, 136830.0, 137223.0, 137693.0, 138206.5, 138765.0, 139234.5, 139765.5, 140210.5, 140584.5, 140922.0, 141286.0, 141785.0, 142382.0, 142856.0, 143344.0, 143948.0, 144638.0, 145313.5, 145833.5, 146311.0, 146867.5, 147298.5, 147802.0, 148513.5, 149108.5, 149688.5, 150331.0, 151370.0, 152163.5, 152989.0, 153808.0, 154561.0, 155051.5, 155500.0, 156016.0, 156583.5, 157022.0, 157711.5, 158269.5, 158925.5, 159611.5, 160459.5, 161149.5, 161731.5, 162208.0, 162622.0, 163229.5, 163566.5, 163968.5], \"yaxis\": \"y\"}, {\"line\": {\"color\": \"deepskyblue\"}, \"name\": \"Natl Employed\", \"type\": \"scatter\", \"x\": [\"1996-04-01T00:00:00\", \"1996-05-01T00:00:00\", \"1996-06-01T00:00:00\", \"1996-07-01T00:00:00\", \"1996-08-01T00:00:00\", \"1996-09-01T00:00:00\", \"1996-10-01T00:00:00\", \"1996-11-01T00:00:00\", \"1996-12-01T00:00:00\", \"1997-01-01T00:00:00\", \"1997-02-01T00:00:00\", \"1997-03-01T00:00:00\", \"1997-04-01T00:00:00\", \"1997-05-01T00:00:00\", \"1997-06-01T00:00:00\", \"1997-07-01T00:00:00\", \"1997-08-01T00:00:00\", \"1997-09-01T00:00:00\", \"1997-10-01T00:00:00\", \"1997-11-01T00:00:00\", \"1997-12-01T00:00:00\", \"1998-01-01T00:00:00\", \"1998-02-01T00:00:00\", \"1998-03-01T00:00:00\", \"1998-04-01T00:00:00\", \"1998-05-01T00:00:00\", \"1998-06-01T00:00:00\", \"1998-07-01T00:00:00\", \"1998-08-01T00:00:00\", \"1998-09-01T00:00:00\", \"1998-10-01T00:00:00\", \"1998-11-01T00:00:00\", \"1998-12-01T00:00:00\", \"1999-01-01T00:00:00\", \"1999-02-01T00:00:00\", \"1999-03-01T00:00:00\", \"1999-04-01T00:00:00\", \"1999-05-01T00:00:00\", \"1999-06-01T00:00:00\", \"1999-07-01T00:00:00\", \"1999-08-01T00:00:00\", \"1999-09-01T00:00:00\", \"1999-10-01T00:00:00\", \"1999-11-01T00:00:00\", \"1999-12-01T00:00:00\", \"2000-01-01T00:00:00\", \"2000-02-01T00:00:00\", \"2000-03-01T00:00:00\", \"2000-04-01T00:00:00\", \"2000-05-01T00:00:00\", \"2000-06-01T00:00:00\", \"2000-07-01T00:00:00\", \"2000-08-01T00:00:00\", \"2000-09-01T00:00:00\", \"2000-10-01T00:00:00\", \"2000-11-01T00:00:00\", \"2000-12-01T00:00:00\", \"2001-01-01T00:00:00\", \"2001-02-01T00:00:00\", \"2001-03-01T00:00:00\", \"2001-04-01T00:00:00\", \"2001-05-01T00:00:00\", \"2001-06-01T00:00:00\", \"2001-07-01T00:00:00\", \"2001-08-01T00:00:00\", \"2001-09-01T00:00:00\", \"2001-10-01T00:00:00\", \"2001-11-01T00:00:00\", \"2001-12-01T00:00:00\", \"2002-01-01T00:00:00\", \"2002-02-01T00:00:00\", \"2002-03-01T00:00:00\", \"2002-04-01T00:00:00\", \"2002-05-01T00:00:00\", \"2002-06-01T00:00:00\", \"2002-07-01T00:00:00\", \"2002-08-01T00:00:00\", \"2002-09-01T00:00:00\", \"2002-10-01T00:00:00\", \"2002-11-01T00:00:00\", \"2002-12-01T00:00:00\", \"2003-01-01T00:00:00\", \"2003-02-01T00:00:00\", \"2003-03-01T00:00:00\", \"2003-04-01T00:00:00\", \"2003-05-01T00:00:00\", \"2003-06-01T00:00:00\", \"2003-07-01T00:00:00\", \"2003-08-01T00:00:00\", \"2003-09-01T00:00:00\", \"2003-10-01T00:00:00\", \"2003-11-01T00:00:00\", \"2003-12-01T00:00:00\", \"2004-01-01T00:00:00\", \"2004-02-01T00:00:00\", \"2004-03-01T00:00:00\", \"2004-04-01T00:00:00\", \"2004-05-01T00:00:00\", \"2004-06-01T00:00:00\", \"2004-07-01T00:00:00\", \"2004-08-01T00:00:00\", \"2004-09-01T00:00:00\", \"2004-10-01T00:00:00\", \"2004-11-01T00:00:00\", \"2004-12-01T00:00:00\", \"2005-01-01T00:00:00\", \"2005-02-01T00:00:00\", \"2005-03-01T00:00:00\", \"2005-04-01T00:00:00\", \"2005-05-01T00:00:00\", \"2005-06-01T00:00:00\", \"2005-07-01T00:00:00\", \"2005-08-01T00:00:00\", \"2005-09-01T00:00:00\", \"2005-10-01T00:00:00\", \"2005-11-01T00:00:00\", \"2005-12-01T00:00:00\", \"2006-01-01T00:00:00\", \"2006-02-01T00:00:00\", \"2006-03-01T00:00:00\", \"2006-04-01T00:00:00\", \"2006-05-01T00:00:00\", \"2006-06-01T00:00:00\", \"2006-07-01T00:00:00\", \"2006-08-01T00:00:00\", \"2006-09-01T00:00:00\", \"2006-10-01T00:00:00\", \"2006-11-01T00:00:00\", \"2006-12-01T00:00:00\", \"2007-01-01T00:00:00\", \"2007-02-01T00:00:00\", \"2007-03-01T00:00:00\", \"2007-04-01T00:00:00\", \"2007-05-01T00:00:00\", \"2007-06-01T00:00:00\", \"2007-07-01T00:00:00\", \"2007-08-01T00:00:00\", \"2007-09-01T00:00:00\", \"2007-10-01T00:00:00\", \"2007-11-01T00:00:00\", \"2007-12-01T00:00:00\", \"2008-01-01T00:00:00\", \"2008-02-01T00:00:00\", \"2008-03-01T00:00:00\", \"2008-04-01T00:00:00\", \"2008-05-01T00:00:00\", \"2008-06-01T00:00:00\", \"2008-07-01T00:00:00\", \"2008-08-01T00:00:00\", \"2008-09-01T00:00:00\", \"2008-10-01T00:00:00\", \"2008-11-01T00:00:00\", \"2008-12-01T00:00:00\", \"2009-01-01T00:00:00\", \"2009-02-01T00:00:00\", \"2009-03-01T00:00:00\", \"2009-04-01T00:00:00\", \"2009-05-01T00:00:00\", \"2009-06-01T00:00:00\", \"2009-07-01T00:00:00\", \"2009-08-01T00:00:00\", \"2009-09-01T00:00:00\", \"2009-10-01T00:00:00\", \"2009-11-01T00:00:00\", \"2009-12-01T00:00:00\", \"2010-01-01T00:00:00\", \"2010-02-01T00:00:00\", \"2010-03-01T00:00:00\", \"2010-04-01T00:00:00\", \"2010-05-01T00:00:00\", \"2010-06-01T00:00:00\", \"2010-07-01T00:00:00\", \"2010-08-01T00:00:00\", \"2010-09-01T00:00:00\", \"2010-10-01T00:00:00\", \"2010-11-01T00:00:00\", \"2010-12-01T00:00:00\", \"2011-01-01T00:00:00\", \"2011-02-01T00:00:00\", \"2011-03-01T00:00:00\", \"2011-04-01T00:00:00\", \"2011-05-01T00:00:00\", \"2011-06-01T00:00:00\", \"2011-07-01T00:00:00\", \"2011-08-01T00:00:00\", \"2011-09-01T00:00:00\", \"2011-10-01T00:00:00\", \"2011-11-01T00:00:00\", \"2011-12-01T00:00:00\", \"2012-01-01T00:00:00\", \"2012-02-01T00:00:00\", \"2012-03-01T00:00:00\", \"2012-04-01T00:00:00\", \"2012-05-01T00:00:00\", \"2012-06-01T00:00:00\", \"2012-07-01T00:00:00\", \"2012-08-01T00:00:00\", \"2012-09-01T00:00:00\", \"2012-10-01T00:00:00\", \"2012-11-01T00:00:00\", \"2012-12-01T00:00:00\", \"2013-01-01T00:00:00\", \"2013-02-01T00:00:00\", \"2013-03-01T00:00:00\", \"2013-04-01T00:00:00\", \"2013-05-01T00:00:00\", \"2013-06-01T00:00:00\", \"2013-07-01T00:00:00\", \"2013-08-01T00:00:00\", \"2013-09-01T00:00:00\", \"2013-10-01T00:00:00\", \"2013-11-01T00:00:00\", \"2013-12-01T00:00:00\", \"2014-01-01T00:00:00\", \"2014-02-01T00:00:00\", \"2014-03-01T00:00:00\", \"2014-04-01T00:00:00\", \"2014-05-01T00:00:00\", \"2014-06-01T00:00:00\", \"2014-07-01T00:00:00\", \"2014-08-01T00:00:00\", \"2014-09-01T00:00:00\", \"2014-10-01T00:00:00\", \"2014-11-01T00:00:00\", \"2014-12-01T00:00:00\", \"2015-01-01T00:00:00\", \"2015-02-01T00:00:00\", \"2015-03-01T00:00:00\", \"2015-04-01T00:00:00\", \"2015-05-01T00:00:00\", \"2015-06-01T00:00:00\", \"2015-07-01T00:00:00\", \"2015-08-01T00:00:00\", \"2015-09-01T00:00:00\", \"2015-10-01T00:00:00\", \"2015-11-01T00:00:00\", \"2015-12-01T00:00:00\", \"2016-01-01T00:00:00\", \"2016-02-01T00:00:00\", \"2016-03-01T00:00:00\", \"2016-04-01T00:00:00\", \"2016-05-01T00:00:00\", \"2016-06-01T00:00:00\", \"2016-07-01T00:00:00\", \"2016-08-01T00:00:00\", \"2016-09-01T00:00:00\", \"2016-10-01T00:00:00\", \"2016-11-01T00:00:00\", \"2016-12-01T00:00:00\", \"2017-01-01T00:00:00\", \"2017-02-01T00:00:00\", \"2017-03-01T00:00:00\", \"2017-04-01T00:00:00\", \"2017-05-01T00:00:00\", \"2017-06-01T00:00:00\", \"2017-07-01T00:00:00\", \"2017-08-01T00:00:00\", \"2017-09-01T00:00:00\", \"2017-10-01T00:00:00\", \"2017-11-01T00:00:00\", \"2017-12-01T00:00:00\", \"2018-01-01T00:00:00\", \"2018-02-01T00:00:00\", \"2018-03-01T00:00:00\", \"2018-04-01T00:00:00\", \"2018-05-01T00:00:00\", \"2018-06-01T00:00:00\", \"2018-07-01T00:00:00\", \"2018-08-01T00:00:00\", \"2018-09-01T00:00:00\", \"2018-10-01T00:00:00\", \"2018-11-01T00:00:00\", \"2018-12-01T00:00:00\", \"2019-01-01T00:00:00\", \"2019-02-01T00:00:00\", \"2019-03-01T00:00:00\", \"2019-04-01T00:00:00\", \"2019-05-01T00:00:00\", \"2019-06-01T00:00:00\", \"2019-07-01T00:00:00\", \"2019-08-01T00:00:00\", \"2019-09-01T00:00:00\", \"2019-10-01T00:00:00\", \"2019-11-01T00:00:00\", \"2019-12-01T00:00:00\"], \"xaxis\": \"x2\", \"y\": [119158, 119486, 119769, 120015, 120199, 120410, 120665, 120961, 121143, 121363, 121675, 121990, 122286, 122546, 122814, 123111, 123093, 123585, 123929, 124235, 124549, 124812, 125016, 125164, 125442, 125844, 126076, 126205, 126544, 126752, 126954, 127231, 127596, 127702, 128120, 128227, 128597, 128808, 129089, 129414, 129569, 129772, 130177, 130466, 130772, 131005, 131124, 131596, 131888, 132105, 132061, 132236, 132230, 132353, 132351, 132556, 132709, 132698, 132789, 132747, 132463, 132410, 132299, 132177, 132028, 131771, 131454, 131142, 130982, 130852, 130736, 130717, 130623, 130634, 130684, 130590, 130587, 130501, 130628, 130615, 130472, 130580, 130444, 130232, 130177, 130196, 130194, 130191, 130149, 130254, 130454, 130474, 130588, 130769, 130825, 131142, 131411, 131694, 131793, 131848, 131937, 132093, 132447, 132503, 132624, 132774, 133032, 133156, 133518, 133690, 133942, 134296, 134498, 134566, 134655, 134993, 135149, 135429, 135737, 136047, 136205, 136244, 136325, 136520, 136694, 136843, 136852, 137063, 137249, 137477, 137558, 137793, 137842, 137993, 138069, 138038, 138015, 138095, 138174, 138284, 138392, 138403, 138324, 138275, 138035, 137858, 137687, 137491, 137213, 136753, 136272, 135545, 134839, 134055, 133312, 132512, 131817, 131475, 131008, 130668, 130485, 130244, 130045, 130057, 129788, 129790, 129698, 129879, 130110, 130650, 130511, 130427, 130422, 130357, 130625, 130750, 130822, 130841, 131053, 131288, 131602, 131703, 131939, 131999, 132125, 132358, 132562, 132694, 132896, 133250, 133512, 133752, 133834, 133934, 134007, 134159, 134331, 134518, 134677, 134833, 135072, 135263, 135541, 135680, 135871, 136093, 136274, 136386, 136628, 136815, 137040, 137304, 137373, 137548, 137714, 137968, 138293, 138511, 138837, 139069, 139257, 139566, 139818, 140109, 140377, 140568, 140839, 140910, 141194, 141525, 141699, 142001, 142126, 142281, 142587, 142824, 143097, 143170, 143433, 143662, 143849, 143891, 144158, 144512, 144647, 144916, 145061, 145212, 145442, 145627, 145815, 145944, 146141, 146296, 146512, 146727, 146911, 146929, 147196, 147421, 147551, 147672, 148078, 148254, 148391, 148669, 148888, 149024, 149268, 149348, 149549, 149683, 149865, 150134, 150135, 150282, 150492, 150577, 150759, 150953, 151160, 151368, 151553, 151814, 151961], \"yaxis\": \"y2\"}, {\"line\": {\"color\": \"red\"}, \"name\": \"30-Year Fixed Mortgage Rate\", \"type\": \"scatter\", \"x\": [\"1996-04-01T00:00:00\", \"1996-05-01T00:00:00\", \"1996-06-01T00:00:00\", \"1996-07-01T00:00:00\", \"1996-08-01T00:00:00\", \"1996-09-01T00:00:00\", \"1996-10-01T00:00:00\", \"1996-11-01T00:00:00\", \"1996-12-01T00:00:00\", \"1997-01-01T00:00:00\", \"1997-02-01T00:00:00\", \"1997-03-01T00:00:00\", \"1997-04-01T00:00:00\", \"1997-05-01T00:00:00\", \"1997-06-01T00:00:00\", \"1997-07-01T00:00:00\", \"1997-08-01T00:00:00\", \"1997-09-01T00:00:00\", \"1997-10-01T00:00:00\", \"1997-11-01T00:00:00\", \"1997-12-01T00:00:00\", \"1998-01-01T00:00:00\", \"1998-02-01T00:00:00\", \"1998-03-01T00:00:00\", \"1998-04-01T00:00:00\", \"1998-05-01T00:00:00\", \"1998-06-01T00:00:00\", \"1998-07-01T00:00:00\", \"1998-08-01T00:00:00\", \"1998-09-01T00:00:00\", \"1998-10-01T00:00:00\", \"1998-11-01T00:00:00\", \"1998-12-01T00:00:00\", \"1999-01-01T00:00:00\", \"1999-02-01T00:00:00\", \"1999-03-01T00:00:00\", \"1999-04-01T00:00:00\", \"1999-05-01T00:00:00\", \"1999-06-01T00:00:00\", \"1999-07-01T00:00:00\", \"1999-08-01T00:00:00\", \"1999-09-01T00:00:00\", \"1999-10-01T00:00:00\", \"1999-11-01T00:00:00\", \"1999-12-01T00:00:00\", \"2000-01-01T00:00:00\", \"2000-02-01T00:00:00\", \"2000-03-01T00:00:00\", \"2000-04-01T00:00:00\", \"2000-05-01T00:00:00\", \"2000-06-01T00:00:00\", \"2000-07-01T00:00:00\", \"2000-08-01T00:00:00\", \"2000-09-01T00:00:00\", \"2000-10-01T00:00:00\", \"2000-11-01T00:00:00\", \"2000-12-01T00:00:00\", \"2001-01-01T00:00:00\", \"2001-02-01T00:00:00\", \"2001-03-01T00:00:00\", \"2001-04-01T00:00:00\", \"2001-05-01T00:00:00\", \"2001-06-01T00:00:00\", \"2001-07-01T00:00:00\", \"2001-08-01T00:00:00\", \"2001-09-01T00:00:00\", \"2001-10-01T00:00:00\", \"2001-11-01T00:00:00\", \"2001-12-01T00:00:00\", \"2002-01-01T00:00:00\", \"2002-02-01T00:00:00\", \"2002-03-01T00:00:00\", \"2002-04-01T00:00:00\", \"2002-05-01T00:00:00\", \"2002-06-01T00:00:00\", \"2002-07-01T00:00:00\", \"2002-08-01T00:00:00\", \"2002-09-01T00:00:00\", \"2002-10-01T00:00:00\", \"2002-11-01T00:00:00\", \"2002-12-01T00:00:00\", \"2003-01-01T00:00:00\", \"2003-02-01T00:00:00\", \"2003-03-01T00:00:00\", \"2003-04-01T00:00:00\", \"2003-05-01T00:00:00\", \"2003-06-01T00:00:00\", \"2003-07-01T00:00:00\", \"2003-08-01T00:00:00\", \"2003-09-01T00:00:00\", \"2003-10-01T00:00:00\", \"2003-11-01T00:00:00\", \"2003-12-01T00:00:00\", \"2004-01-01T00:00:00\", \"2004-02-01T00:00:00\", \"2004-03-01T00:00:00\", \"2004-04-01T00:00:00\", \"2004-05-01T00:00:00\", \"2004-06-01T00:00:00\", \"2004-07-01T00:00:00\", \"2004-08-01T00:00:00\", \"2004-09-01T00:00:00\", \"2004-10-01T00:00:00\", \"2004-11-01T00:00:00\", \"2004-12-01T00:00:00\", \"2005-01-01T00:00:00\", \"2005-02-01T00:00:00\", \"2005-03-01T00:00:00\", \"2005-04-01T00:00:00\", \"2005-05-01T00:00:00\", \"2005-06-01T00:00:00\", \"2005-07-01T00:00:00\", \"2005-08-01T00:00:00\", \"2005-09-01T00:00:00\", \"2005-10-01T00:00:00\", \"2005-11-01T00:00:00\", \"2005-12-01T00:00:00\", \"2006-01-01T00:00:00\", \"2006-02-01T00:00:00\", \"2006-03-01T00:00:00\", \"2006-04-01T00:00:00\", \"2006-05-01T00:00:00\", \"2006-06-01T00:00:00\", \"2006-07-01T00:00:00\", \"2006-08-01T00:00:00\", \"2006-09-01T00:00:00\", \"2006-10-01T00:00:00\", \"2006-11-01T00:00:00\", \"2006-12-01T00:00:00\", \"2007-01-01T00:00:00\", \"2007-02-01T00:00:00\", \"2007-03-01T00:00:00\", \"2007-04-01T00:00:00\", \"2007-05-01T00:00:00\", \"2007-06-01T00:00:00\", \"2007-07-01T00:00:00\", \"2007-08-01T00:00:00\", \"2007-09-01T00:00:00\", \"2007-10-01T00:00:00\", \"2007-11-01T00:00:00\", \"2007-12-01T00:00:00\", \"2008-01-01T00:00:00\", \"2008-02-01T00:00:00\", \"2008-03-01T00:00:00\", \"2008-04-01T00:00:00\", \"2008-05-01T00:00:00\", \"2008-06-01T00:00:00\", \"2008-07-01T00:00:00\", \"2008-08-01T00:00:00\", \"2008-09-01T00:00:00\", \"2008-10-01T00:00:00\", \"2008-11-01T00:00:00\", \"2008-12-01T00:00:00\", \"2009-01-01T00:00:00\", \"2009-02-01T00:00:00\", \"2009-03-01T00:00:00\", \"2009-04-01T00:00:00\", \"2009-05-01T00:00:00\", \"2009-06-01T00:00:00\", \"2009-07-01T00:00:00\", \"2009-08-01T00:00:00\", \"2009-09-01T00:00:00\", \"2009-10-01T00:00:00\", \"2009-11-01T00:00:00\", \"2009-12-01T00:00:00\", \"2010-01-01T00:00:00\", \"2010-02-01T00:00:00\", \"2010-03-01T00:00:00\", \"2010-04-01T00:00:00\", \"2010-05-01T00:00:00\", \"2010-06-01T00:00:00\", \"2010-07-01T00:00:00\", \"2010-08-01T00:00:00\", \"2010-09-01T00:00:00\", \"2010-10-01T00:00:00\", \"2010-11-01T00:00:00\", \"2010-12-01T00:00:00\", \"2011-01-01T00:00:00\", \"2011-02-01T00:00:00\", \"2011-03-01T00:00:00\", \"2011-04-01T00:00:00\", \"2011-05-01T00:00:00\", \"2011-06-01T00:00:00\", \"2011-07-01T00:00:00\", \"2011-08-01T00:00:00\", \"2011-09-01T00:00:00\", \"2011-10-01T00:00:00\", \"2011-11-01T00:00:00\", \"2011-12-01T00:00:00\", \"2012-01-01T00:00:00\", \"2012-02-01T00:00:00\", \"2012-03-01T00:00:00\", \"2012-04-01T00:00:00\", \"2012-05-01T00:00:00\", \"2012-06-01T00:00:00\", \"2012-07-01T00:00:00\", \"2012-08-01T00:00:00\", \"2012-09-01T00:00:00\", \"2012-10-01T00:00:00\", \"2012-11-01T00:00:00\", \"2012-12-01T00:00:00\", \"2013-01-01T00:00:00\", \"2013-02-01T00:00:00\", \"2013-03-01T00:00:00\", \"2013-04-01T00:00:00\", \"2013-05-01T00:00:00\", \"2013-06-01T00:00:00\", \"2013-07-01T00:00:00\", \"2013-08-01T00:00:00\", \"2013-09-01T00:00:00\", \"2013-10-01T00:00:00\", \"2013-11-01T00:00:00\", \"2013-12-01T00:00:00\", \"2014-01-01T00:00:00\", \"2014-02-01T00:00:00\", \"2014-03-01T00:00:00\", \"2014-04-01T00:00:00\", \"2014-05-01T00:00:00\", \"2014-06-01T00:00:00\", \"2014-07-01T00:00:00\", \"2014-08-01T00:00:00\", \"2014-09-01T00:00:00\", \"2014-10-01T00:00:00\", \"2014-11-01T00:00:00\", \"2014-12-01T00:00:00\", \"2015-01-01T00:00:00\", \"2015-02-01T00:00:00\", \"2015-03-01T00:00:00\", \"2015-04-01T00:00:00\", \"2015-05-01T00:00:00\", \"2015-06-01T00:00:00\", \"2015-07-01T00:00:00\", \"2015-08-01T00:00:00\", \"2015-09-01T00:00:00\", \"2015-10-01T00:00:00\", \"2015-11-01T00:00:00\", \"2015-12-01T00:00:00\", \"2016-01-01T00:00:00\", \"2016-02-01T00:00:00\", \"2016-03-01T00:00:00\", \"2016-04-01T00:00:00\", \"2016-05-01T00:00:00\", \"2016-06-01T00:00:00\", \"2016-07-01T00:00:00\", \"2016-08-01T00:00:00\", \"2016-09-01T00:00:00\", \"2016-10-01T00:00:00\", \"2016-11-01T00:00:00\", \"2016-12-01T00:00:00\", \"2017-01-01T00:00:00\", \"2017-02-01T00:00:00\", \"2017-03-01T00:00:00\", \"2017-04-01T00:00:00\", \"2017-05-01T00:00:00\", \"2017-06-01T00:00:00\", \"2017-07-01T00:00:00\", \"2017-08-01T00:00:00\", \"2017-09-01T00:00:00\", \"2017-10-01T00:00:00\", \"2017-11-01T00:00:00\", \"2017-12-01T00:00:00\", \"2018-01-01T00:00:00\", \"2018-02-01T00:00:00\", \"2018-03-01T00:00:00\", \"2018-04-01T00:00:00\", \"2018-05-01T00:00:00\", \"2018-06-01T00:00:00\", \"2018-07-01T00:00:00\", \"2018-08-01T00:00:00\", \"2018-09-01T00:00:00\", \"2018-10-01T00:00:00\", \"2018-11-01T00:00:00\", \"2018-12-01T00:00:00\", \"2019-01-01T00:00:00\", \"2019-02-01T00:00:00\", \"2019-03-01T00:00:00\", \"2019-04-01T00:00:00\", \"2019-05-01T00:00:00\", \"2019-06-01T00:00:00\", \"2019-07-01T00:00:00\", \"2019-08-01T00:00:00\", \"2019-09-01T00:00:00\", \"2019-10-01T00:00:00\", \"2019-11-01T00:00:00\", \"2019-12-01T00:00:00\"], \"xaxis\": \"x3\", \"y\": [7.93, 8.07, 8.32, 8.25, 8.0, 8.23, 7.92, 7.62, 7.6, 7.82, 7.65, 7.9, 8.14, 7.94, 7.69, 7.5, 7.48, 7.43, 7.29, 7.21, 7.1, 6.99, 7.04, 7.13, 7.14, 7.14, 7.0, 6.95, 6.92, 6.72, 6.71, 6.87, 6.74, 6.79, 6.81, 7.04, 6.92, 7.15, 7.55, 7.63, 7.94, 7.82, 7.85, 7.74, 7.91, 8.21, 8.33, 8.24, 8.15, 8.52, 8.29, 8.15, 8.03, 7.91, 7.8, 7.75, 7.38, 7.03, 7.05, 6.95, 7.08, 7.15, 7.16, 7.13, 6.95, 6.82, 6.62, 6.66, 7.07, 7.0, 6.89, 7.01, 6.99, 6.81, 6.65, 6.49, 6.29, 6.09, 6.11, 6.07, 6.05, 5.92, 5.84, 5.75, 5.81, 5.48, 5.23, 5.63, 6.26, 6.15, 5.95, 5.93, 5.88, 5.71, 5.64, 5.45, 5.83, 6.27, 6.29, 6.06, 5.87, 5.75, 5.72, 5.73, 5.75, 5.71, 5.63, 5.93, 5.86, 5.72, 5.58, 5.7, 5.82, 5.77, 6.07, 6.33, 6.27, 6.15, 6.25, 6.32, 6.51, 6.6, 6.68, 6.76, 6.52, 6.4, 6.36, 6.24, 6.14, 6.22, 6.29, 6.16, 6.18, 6.26, 6.66, 6.7, 6.57, 6.38, 6.38, 6.21, 6.1, 5.76, 5.92, 5.97, 5.92, 6.04, 6.32, 6.43, 6.48, 6.04, 6.2, 6.09, 5.29, 5.05, 5.13, 5.0, 4.81, 4.86, 5.42, 5.22, 5.19, 5.06, 4.95, 4.88, 4.93, 5.03, 4.99, 4.97, 5.1, 4.89, 4.74, 4.56, 4.43, 4.35, 4.23, 4.3, 4.71, 4.76, 4.95, 4.84, 4.84, 4.64, 4.51, 4.55, 4.27, 4.11, 4.07, 3.99, 3.96, 3.92, 3.89, 3.95, 3.91, 3.8, 3.68, 3.55, 3.6, 3.5, 3.38, 3.35, 3.35, 3.41, 3.53, 3.57, 3.45, 3.54, 4.07, 4.37, 4.46, 4.49, 4.19, 4.26, 4.46, 4.43, 4.3, 4.34, 4.34, 4.19, 4.16, 4.13, 4.12, 4.16, 4.04, 4.0, 3.86, 3.67, 3.71, 3.77, 3.67, 3.84, 3.98, 4.05, 3.91, 3.89, 3.8, 3.94, 3.96, 3.87, 3.66, 3.69, 3.61, 3.6, 3.57, 3.44, 3.44, 3.46, 3.47, 3.77, 4.2, 4.15, 4.17, 4.2, 4.05, 4.01, 3.9, 3.97, 3.88, 3.81, 3.9, 3.92, 3.95, 4.03, 4.33, 4.44, 4.47, 4.59, 4.57, 4.53, 4.55, 4.63, 4.83, 4.87, 4.64, 4.46, 4.37, 4.27, 4.14, 4.07, 3.8, 3.77, 3.62, 3.61, 3.69, 3.7, 3.72], \"yaxis\": \"y3\"}],\n",
              "                        {\"height\": 600, \"legend\": {\"x\": 0.6, \"y\": 1.2}, \"template\": {\"data\": {\"bar\": [{\"error_x\": {\"color\": \"#2a3f5f\"}, \"error_y\": {\"color\": \"#2a3f5f\"}, \"marker\": {\"line\": {\"color\": \"#E5ECF6\", \"width\": 0.5}}, \"type\": \"bar\"}], \"barpolar\": [{\"marker\": {\"line\": {\"color\": \"#E5ECF6\", \"width\": 0.5}}, \"type\": \"barpolar\"}], \"carpet\": [{\"aaxis\": {\"endlinecolor\": \"#2a3f5f\", \"gridcolor\": \"white\", \"linecolor\": \"white\", \"minorgridcolor\": \"white\", \"startlinecolor\": \"#2a3f5f\"}, \"baxis\": {\"endlinecolor\": \"#2a3f5f\", \"gridcolor\": \"white\", \"linecolor\": \"white\", \"minorgridcolor\": \"white\", \"startlinecolor\": \"#2a3f5f\"}, \"type\": \"carpet\"}], \"choropleth\": [{\"colorbar\": {\"outlinewidth\": 0, \"ticks\": \"\"}, \"type\": \"choropleth\"}], \"contour\": [{\"colorbar\": {\"outlinewidth\": 0, \"ticks\": \"\"}, \"colorscale\": [[0.0, \"#0d0887\"], [0.1111111111111111, \"#46039f\"], [0.2222222222222222, \"#7201a8\"], [0.3333333333333333, \"#9c179e\"], [0.4444444444444444, \"#bd3786\"], [0.5555555555555556, \"#d8576b\"], [0.6666666666666666, \"#ed7953\"], [0.7777777777777778, \"#fb9f3a\"], [0.8888888888888888, \"#fdca26\"], [1.0, \"#f0f921\"]], \"type\": \"contour\"}], \"contourcarpet\": [{\"colorbar\": {\"outlinewidth\": 0, \"ticks\": \"\"}, \"type\": \"contourcarpet\"}], \"heatmap\": [{\"colorbar\": {\"outlinewidth\": 0, \"ticks\": \"\"}, \"colorscale\": [[0.0, \"#0d0887\"], [0.1111111111111111, \"#46039f\"], [0.2222222222222222, \"#7201a8\"], [0.3333333333333333, \"#9c179e\"], [0.4444444444444444, \"#bd3786\"], [0.5555555555555556, \"#d8576b\"], [0.6666666666666666, \"#ed7953\"], [0.7777777777777778, \"#fb9f3a\"], [0.8888888888888888, \"#fdca26\"], [1.0, \"#f0f921\"]], \"type\": \"heatmap\"}], \"heatmapgl\": [{\"colorbar\": {\"outlinewidth\": 0, \"ticks\": \"\"}, \"colorscale\": [[0.0, \"#0d0887\"], [0.1111111111111111, \"#46039f\"], [0.2222222222222222, \"#7201a8\"], [0.3333333333333333, \"#9c179e\"], [0.4444444444444444, \"#bd3786\"], [0.5555555555555556, \"#d8576b\"], [0.6666666666666666, \"#ed7953\"], [0.7777777777777778, \"#fb9f3a\"], [0.8888888888888888, \"#fdca26\"], [1.0, \"#f0f921\"]], \"type\": \"heatmapgl\"}], \"histogram\": [{\"marker\": {\"colorbar\": {\"outlinewidth\": 0, \"ticks\": \"\"}}, \"type\": \"histogram\"}], \"histogram2d\": [{\"colorbar\": {\"outlinewidth\": 0, \"ticks\": \"\"}, \"colorscale\": [[0.0, \"#0d0887\"], [0.1111111111111111, \"#46039f\"], [0.2222222222222222, \"#7201a8\"], [0.3333333333333333, \"#9c179e\"], [0.4444444444444444, \"#bd3786\"], [0.5555555555555556, \"#d8576b\"], [0.6666666666666666, \"#ed7953\"], [0.7777777777777778, \"#fb9f3a\"], [0.8888888888888888, \"#fdca26\"], [1.0, \"#f0f921\"]], \"type\": \"histogram2d\"}], \"histogram2dcontour\": [{\"colorbar\": {\"outlinewidth\": 0, \"ticks\": \"\"}, \"colorscale\": [[0.0, \"#0d0887\"], [0.1111111111111111, \"#46039f\"], [0.2222222222222222, \"#7201a8\"], [0.3333333333333333, \"#9c179e\"], [0.4444444444444444, \"#bd3786\"], [0.5555555555555556, \"#d8576b\"], [0.6666666666666666, \"#ed7953\"], [0.7777777777777778, \"#fb9f3a\"], [0.8888888888888888, \"#fdca26\"], [1.0, \"#f0f921\"]], \"type\": \"histogram2dcontour\"}], \"mesh3d\": [{\"colorbar\": {\"outlinewidth\": 0, \"ticks\": \"\"}, \"type\": \"mesh3d\"}], \"parcoords\": [{\"line\": {\"colorbar\": {\"outlinewidth\": 0, \"ticks\": \"\"}}, \"type\": \"parcoords\"}], \"pie\": [{\"automargin\": true, \"type\": \"pie\"}], \"scatter\": [{\"marker\": {\"colorbar\": {\"outlinewidth\": 0, \"ticks\": \"\"}}, \"type\": \"scatter\"}], \"scatter3d\": [{\"line\": {\"colorbar\": {\"outlinewidth\": 0, \"ticks\": \"\"}}, \"marker\": {\"colorbar\": {\"outlinewidth\": 0, \"ticks\": \"\"}}, \"type\": \"scatter3d\"}], \"scattercarpet\": [{\"marker\": {\"colorbar\": {\"outlinewidth\": 0, \"ticks\": \"\"}}, \"type\": \"scattercarpet\"}], \"scattergeo\": [{\"marker\": {\"colorbar\": {\"outlinewidth\": 0, \"ticks\": \"\"}}, \"type\": \"scattergeo\"}], \"scattergl\": [{\"marker\": {\"colorbar\": {\"outlinewidth\": 0, \"ticks\": \"\"}}, \"type\": \"scattergl\"}], \"scattermapbox\": [{\"marker\": {\"colorbar\": {\"outlinewidth\": 0, \"ticks\": \"\"}}, \"type\": \"scattermapbox\"}], \"scatterpolar\": [{\"marker\": {\"colorbar\": {\"outlinewidth\": 0, \"ticks\": \"\"}}, \"type\": \"scatterpolar\"}], \"scatterpolargl\": [{\"marker\": {\"colorbar\": {\"outlinewidth\": 0, \"ticks\": \"\"}}, \"type\": \"scatterpolargl\"}], \"scatterternary\": [{\"marker\": {\"colorbar\": {\"outlinewidth\": 0, \"ticks\": \"\"}}, \"type\": \"scatterternary\"}], \"surface\": [{\"colorbar\": {\"outlinewidth\": 0, \"ticks\": \"\"}, \"colorscale\": [[0.0, \"#0d0887\"], [0.1111111111111111, \"#46039f\"], [0.2222222222222222, \"#7201a8\"], [0.3333333333333333, \"#9c179e\"], [0.4444444444444444, \"#bd3786\"], [0.5555555555555556, \"#d8576b\"], [0.6666666666666666, \"#ed7953\"], [0.7777777777777778, \"#fb9f3a\"], [0.8888888888888888, \"#fdca26\"], [1.0, \"#f0f921\"]], \"type\": \"surface\"}], \"table\": [{\"cells\": {\"fill\": {\"color\": \"#EBF0F8\"}, \"line\": {\"color\": \"white\"}}, \"header\": {\"fill\": {\"color\": \"#C8D4E3\"}, \"line\": {\"color\": \"white\"}}, \"type\": \"table\"}]}, \"layout\": {\"annotationdefaults\": {\"arrowcolor\": \"#2a3f5f\", \"arrowhead\": 0, \"arrowwidth\": 1}, \"coloraxis\": {\"colorbar\": {\"outlinewidth\": 0, \"ticks\": \"\"}}, \"colorscale\": {\"diverging\": [[0, \"#8e0152\"], [0.1, \"#c51b7d\"], [0.2, \"#de77ae\"], [0.3, \"#f1b6da\"], [0.4, \"#fde0ef\"], [0.5, \"#f7f7f7\"], [0.6, \"#e6f5d0\"], [0.7, \"#b8e186\"], [0.8, \"#7fbc41\"], [0.9, \"#4d9221\"], [1, \"#276419\"]], \"sequential\": [[0.0, \"#0d0887\"], [0.1111111111111111, \"#46039f\"], [0.2222222222222222, \"#7201a8\"], [0.3333333333333333, \"#9c179e\"], [0.4444444444444444, \"#bd3786\"], [0.5555555555555556, \"#d8576b\"], [0.6666666666666666, \"#ed7953\"], [0.7777777777777778, \"#fb9f3a\"], [0.8888888888888888, \"#fdca26\"], [1.0, \"#f0f921\"]], \"sequentialminus\": [[0.0, \"#0d0887\"], [0.1111111111111111, \"#46039f\"], [0.2222222222222222, \"#7201a8\"], [0.3333333333333333, \"#9c179e\"], [0.4444444444444444, \"#bd3786\"], [0.5555555555555556, \"#d8576b\"], [0.6666666666666666, \"#ed7953\"], [0.7777777777777778, \"#fb9f3a\"], [0.8888888888888888, \"#fdca26\"], [1.0, \"#f0f921\"]]}, \"colorway\": [\"#636efa\", \"#EF553B\", \"#00cc96\", \"#ab63fa\", \"#FFA15A\", \"#19d3f3\", \"#FF6692\", \"#B6E880\", \"#FF97FF\", \"#FECB52\"], \"font\": {\"color\": \"#2a3f5f\"}, \"geo\": {\"bgcolor\": \"white\", \"lakecolor\": \"white\", \"landcolor\": \"#E5ECF6\", \"showlakes\": true, \"showland\": true, \"subunitcolor\": \"white\"}, \"hoverlabel\": {\"align\": \"left\"}, \"hovermode\": \"closest\", \"mapbox\": {\"style\": \"light\"}, \"paper_bgcolor\": \"white\", \"plot_bgcolor\": \"#E5ECF6\", \"polar\": {\"angularaxis\": {\"gridcolor\": \"white\", \"linecolor\": \"white\", \"ticks\": \"\"}, \"bgcolor\": \"#E5ECF6\", \"radialaxis\": {\"gridcolor\": \"white\", \"linecolor\": \"white\", \"ticks\": \"\"}}, \"scene\": {\"xaxis\": {\"backgroundcolor\": \"#E5ECF6\", \"gridcolor\": \"white\", \"gridwidth\": 2, \"linecolor\": \"white\", \"showbackground\": true, \"ticks\": \"\", \"zerolinecolor\": \"white\"}, \"yaxis\": {\"backgroundcolor\": \"#E5ECF6\", \"gridcolor\": \"white\", \"gridwidth\": 2, \"linecolor\": \"white\", \"showbackground\": true, \"ticks\": \"\", \"zerolinecolor\": \"white\"}, \"zaxis\": {\"backgroundcolor\": \"#E5ECF6\", \"gridcolor\": \"white\", \"gridwidth\": 2, \"linecolor\": \"white\", \"showbackground\": true, \"ticks\": \"\", \"zerolinecolor\": \"white\"}}, \"shapedefaults\": {\"line\": {\"color\": \"#2a3f5f\"}}, \"ternary\": {\"aaxis\": {\"gridcolor\": \"white\", \"linecolor\": \"white\", \"ticks\": \"\"}, \"baxis\": {\"gridcolor\": \"white\", \"linecolor\": \"white\", \"ticks\": \"\"}, \"bgcolor\": \"#E5ECF6\", \"caxis\": {\"gridcolor\": \"white\", \"linecolor\": \"white\", \"ticks\": \"\"}}, \"title\": {\"x\": 0.05}, \"xaxis\": {\"automargin\": true, \"gridcolor\": \"white\", \"linecolor\": \"white\", \"ticks\": \"\", \"title\": {\"standoff\": 15}, \"zerolinecolor\": \"white\", \"zerolinewidth\": 2}, \"yaxis\": {\"automargin\": true, \"gridcolor\": \"white\", \"linecolor\": \"white\", \"ticks\": \"\", \"title\": {\"standoff\": 15}, \"zerolinecolor\": \"white\", \"zerolinewidth\": 2}}}, \"title\": {\"text\": \"Home Sales vs Other Factors\"}, \"width\": 600, \"xaxis\": {\"anchor\": \"y\", \"domain\": [0.0, 1.0], \"rangeslider\": {\"visible\": false}}, \"xaxis2\": {\"anchor\": \"y2\", \"domain\": [0.0, 1.0]}, \"xaxis3\": {\"anchor\": \"y3\", \"domain\": [0.0, 1.0]}, \"yaxis\": {\"anchor\": \"x\", \"domain\": [0.7333333333333333, 1.0]}, \"yaxis2\": {\"anchor\": \"x2\", \"domain\": [0.36666666666666664, 0.6333333333333333]}, \"yaxis3\": {\"anchor\": \"x3\", \"domain\": [0.0, 0.26666666666666666]}},\n",
              "                        {\"responsive\": true}\n",
              "                    ).then(function(){\n",
              "                            \n",
              "var gd = document.getElementById('99d0766a-a477-4ed9-b0f2-c2a3410dcb04');\n",
              "var x = new MutationObserver(function (mutations, observer) {{\n",
              "        var display = window.getComputedStyle(gd).display;\n",
              "        if (!display || display === 'none') {{\n",
              "            console.log([gd, 'removed!']);\n",
              "            Plotly.purge(gd);\n",
              "            observer.disconnect();\n",
              "        }}\n",
              "}});\n",
              "\n",
              "// Listen for the removal of the full notebook cells\n",
              "var notebookContainer = gd.closest('#notebook-container');\n",
              "if (notebookContainer) {{\n",
              "    x.observe(notebookContainer, {childList: true});\n",
              "}}\n",
              "\n",
              "// Listen for the clearing of the current output cell\n",
              "var outputEl = gd.closest('.output');\n",
              "if (outputEl) {{\n",
              "    x.observe(outputEl, {childList: true});\n",
              "}}\n",
              "\n",
              "                        })\n",
              "                };\n",
              "                \n",
              "            </script>\n",
              "        </div>\n",
              "</body>\n",
              "</html>"
            ]
          },
          "metadata": {
            "tags": []
          }
        }
      ]
    },
    {
      "cell_type": "code",
      "metadata": {
        "id": "ohL7E6Fy4Lyc",
        "colab_type": "code",
        "colab": {}
      },
      "source": [
        "exogs = pd.DataFrame(data=employ.values, index=employ.index, columns=['Natl_Employment'])\n",
        "exogs['30_Year_Mortgage'] = mtg.values\n",
        "\n",
        "# try shifting values to detect lagged significance... mortgage still not significant.\n",
        "#exog_shift = exogs.shift(periods=-4)\n",
        "#exog_shift = exogs_shift.fillna(method='ffill')\n",
        "\n",
        "# find best arima/sarimax params, witg exog's\n",
        "#find_orders(df, exog) # ((2, 1, 0), (1, 0, 1, 12))\n",
        "#zip_median_exog_output = fit_sarimax_model(df, exog=exogs, order=(2, 1, 0), seasonal_order=(1, 0, 1, 12), plot=False)  # AIC: 4186.809\n",
        "\n",
        "\n",
        "#### 2-year ROI - employment exog test ####\n",
        "# exog,     p-value = 0.241 :(\n",
        "# exog n+1, p-value = 0.171 :(\n",
        "# exog n+2, p-value = 0.156 :(\n",
        "# exog n+3, p-value = 0.381 :(\n",
        "# exog n+4, p-value = 0.042 :)\n",
        "# exog n+5, p-value = 0.807 :(\n",
        "# exog n+6, p-value = 0.777 :(\n",
        "# exog n+7, p-value = 0.540 :(\n",
        "    \n",
        "#### 5-year ROI - employment exog test ####\n",
        "# exog,     p-value = 0.464 :(\n",
        "# exog n+1, p-value = 0.620 :(\n",
        "# exog n+2, p-value = 0.328 :(\n",
        "# exog n+3, p-value = 0.485 :(\n",
        "# exog n+4, p-value = 0.231 :(\n",
        "# exog n+5, p-value = 0.287 :(\n",
        "# exog n+6, p-value = 0.739 :(\n",
        "# exog n+7, p-value = 0.194 :("
      ],
      "execution_count": 0,
      "outputs": []
    },
    {
      "cell_type": "code",
      "metadata": {
        "id": "KX3OzIw-VDMX",
        "colab_type": "code",
        "colab": {
          "base_uri": "https://localhost:8080/",
          "height": 595
        },
        "outputId": "3b5641f4-3e4f-4389-be0f-a399673ce62d"
      },
      "source": [
        "zip_median_exog_output = fit_sarimax_model(df, exog=exogs_shift, order=(2, 1, 0), seasonal_order=(1, 0, 1, 12), plot=False)  # AIC: 4186.809"
      ],
      "execution_count": 203,
      "outputs": [
        {
          "output_type": "stream",
          "text": [
            "/usr/local/lib/python3.6/dist-packages/statsmodels/tsa/base/tsa_model.py:165: ValueWarning:\n",
            "\n",
            "No frequency information was provided, so inferred frequency MS will be used.\n",
            "\n"
          ],
          "name": "stderr"
        },
        {
          "output_type": "stream",
          "text": [
            "                                 Statespace Model Results                                 \n",
            "==========================================================================================\n",
            "Dep. Variable:                              value   No. Observations:                  285\n",
            "Model:             SARIMAX(2, 1, 0)x(1, 0, 1, 12)   Log Likelihood               -2089.070\n",
            "Date:                            Fri, 14 Feb 2020   AIC                           4196.140\n",
            "Time:                                    20:43:17   BIC                           4228.980\n",
            "Sample:                                04-01-1996   HQIC                          4209.306\n",
            "                                     - 12-01-2019                                         \n",
            "Covariance Type:                              opg                                         \n",
            "====================================================================================\n",
            "                       coef    std err          z      P>|z|      [0.025      0.975]\n",
            "------------------------------------------------------------------------------------\n",
            "intercept            2.7934     20.376      0.137      0.891     -37.143      42.729\n",
            "drift                0.0294      0.165      0.179      0.858      -0.294       0.353\n",
            "Natl_Employment      0.8881      0.059     15.023      0.000       0.772       1.004\n",
            "30_Year_Mortgage   -13.2214    171.575     -0.077      0.939    -349.501     323.058\n",
            "ar.L1                0.4727      0.025     18.983      0.000       0.424       0.522\n",
            "ar.L2                0.2753      0.028      9.706      0.000       0.220       0.331\n",
            "ar.S.L12             0.7867      0.284      2.772      0.006       0.231       1.343\n",
            "ma.S.L12            -0.6957      0.326     -2.135      0.033      -1.334      -0.057\n",
            "sigma2            1.403e+05   4379.084     32.041      0.000    1.32e+05    1.49e+05\n",
            "===================================================================================\n",
            "Ljung-Box (Q):                       58.93   Jarque-Bera (JB):             29068.24\n",
            "Prob(Q):                              0.03   Prob(JB):                         0.00\n",
            "Heteroskedasticity (H):               0.70   Skew:                            -4.77\n",
            "Prob(H) (two-sided):                  0.08   Kurtosis:                        51.64\n",
            "===================================================================================\n",
            "\n",
            "Warnings:\n",
            "[1] Covariance matrix calculated using the outer product of gradients (complex-step).\n"
          ],
          "name": "stdout"
        }
      ]
    },
    {
      "cell_type": "code",
      "metadata": {
        "id": "RflIJCIhtb4L",
        "colab_type": "code",
        "colab": {}
      },
      "source": [
        "\n",
        "#exog_lag1 = pd.DataFrame(data = arr[0:len(employ)], index=employ.index)\n",
        "exog = exog[len(exog) - len(zip_median_roi2):] \n",
        "\n",
        "# find best params, takes a long time\n",
        "#find_orders(zip_median_roi2, exog) # ((2, 1, 0), (0, 0, 0, 12))\n",
        "zip_median_roi2_output = fit_sarimax_model(zip_median_roi2, exog=exog, order=(2, 1, 0), seasonal_order=(0, 0, 0, 12), plot=False) #  employ p-value: 0.241 :(\n",
        "\n",
        "#find_orders(zip_median_roi5, exog) # ((1, 2, 0), (0, 0, 0, 12))\n",
        "#zip_median_roi5_output = fit_sarimax_model(zip_median_roi5, exog=exog, order=(1, 2, 0), seasonal_order=(0, 0, 0, 12), plot=False) # employ p-value: 0.464 :(\n",
        "\n",
        "#find_orders(zip_median_roi5, exog) # ((0, 2, 1), (0, 0, 0, 12))    \n",
        "#zip_median_roi10_output = fit_sarimax_model(zip_median_roi10, exog=exog, order=(0, 2, 1), seasonal_order=(0, 0, 0, 12), plot=False) # employ p-value: 0.547 :("
      ],
      "execution_count": 0,
      "outputs": []
    },
    {
      "cell_type": "code",
      "metadata": {
        "id": "QsjiE__97Kqs",
        "colab_type": "code",
        "colab": {}
      },
      "source": [
        "# visualize roi with employment\n",
        "\n",
        "fig, axs = plt.subplots(2)\n",
        "fig.suptitle('Vertically stacked subplots')\n",
        "axs[0].plot(zip_median_roi2)\n",
        "axs[1].plot(employ[len(employ) - len(zip_median_roi2):], color='red')\n",
        "\n",
        "# maybe 2 lags off?"
      ],
      "execution_count": 0,
      "outputs": []
    },
    {
      "cell_type": "code",
      "metadata": {
        "id": "w61rF72p9Mlw",
        "colab_type": "code",
        "colab": {}
      },
      "source": [
        "zip_median_roi5"
      ],
      "execution_count": 0,
      "outputs": []
    },
    {
      "cell_type": "markdown",
      "metadata": {
        "id": "heavaBB4CPWl",
        "colab_type": "text"
      },
      "source": [
        "Make predictions"
      ]
    },
    {
      "cell_type": "code",
      "metadata": {
        "id": "bnVreRxKGnAc",
        "colab_type": "code",
        "colab": {}
      },
      "source": [
        "'''\n",
        "# get training data (1997-2017) and test data (2018)\n",
        "\n",
        "homes_before2018 = df['zip_median'].loc[:'2017']\n",
        "homes_2018 = df['zip_median'].loc['2018']\n",
        "train = homes_before2018.values.astype('float32')\n",
        "test = homes_2018.values.astype('float32')\n",
        "\n",
        "history = [x for x in train]\n",
        "\n",
        "#cutoff = round(X.size * .8)\n",
        "#train = X[:cutoff]\n",
        "#test = X[cutoff+1:]\n",
        "\n",
        "# create a differenced series\n",
        "def difference(dataset, interval=1):\n",
        "\tdiff = list()\n",
        "\tfor i in range(interval, len(dataset)):\n",
        "\t\tvalue = dataset[i] - dataset[i - interval]\n",
        "\t\tdiff.append(value)\n",
        "\treturn np.array(diff)\n",
        " \n",
        "# invert differenced value\n",
        "def inverse_difference(history, yhat, interval=1):\n",
        "\treturn yhat + history[-interval]\n",
        "\n",
        "# make predictions\n",
        "predictions = list()\n",
        "\n",
        "for i in range(len(test)):\n",
        "\t\n",
        "\tlags = 1\n",
        "\tdiff = difference(history, lags) \t# difference data\n",
        "\tmodel = ARIMA(diff, order=(6,1,0)) # best p,d, & q values discovered from the loop above\n",
        "\tmodel_fit = model.fit(trend='nc', disp=0)\n",
        "\n",
        "\tyhat = model_fit.forecast()[0]\n",
        "\tyhat = inverse_difference(history, yhat, lags)\n",
        "\tpredictions.append(yhat)\n",
        "\t# observation\n",
        "\tobs = test[i]\n",
        "\thistory.append(obs)\n",
        "\t#print('>Predicted=%.3f, Expected=%3.f' % (yhat, obs))\n",
        "\t'''"
      ],
      "execution_count": 0,
      "outputs": []
    },
    {
      "cell_type": "code",
      "metadata": {
        "id": "KAKq3cmiFnu9",
        "colab_type": "code",
        "colab": {}
      },
      "source": [
        "'''\n",
        "# report performance\n",
        "mse = mean_squared_error(test, predictions)\n",
        "rmse = sqrt(mse)\n",
        "print('RMSE: %.3f' % rmse)\n",
        "\n",
        "# plot\n",
        "pyplot.plot(test)\n",
        "pyplot.plot(predictions, color='red')\n",
        "pyplot.show()\n",
        "'''"
      ],
      "execution_count": 0,
      "outputs": []
    },
    {
      "cell_type": "code",
      "metadata": {
        "id": "RUPKBtoKoTCj",
        "colab_type": "code",
        "colab": {}
      },
      "source": [
        "'''\n",
        "# residuals\n",
        "residuals = [test[i]-predictions[i] for i in range(len(test))]\n",
        "residuals = pd.DataFrame(residuals)\n",
        "print(residuals.describe())\n",
        "# plot\n",
        "residuals.hist(ax=pyplot.gca())\n",
        "pyplot.show()\n",
        "\n",
        "# mean: -11.894349\n",
        "'''"
      ],
      "execution_count": 0,
      "outputs": []
    },
    {
      "cell_type": "code",
      "metadata": {
        "id": "IIDGjyoqEBAI",
        "colab_type": "code",
        "colab": {}
      },
      "source": [
        "'''\n",
        "# Make new predictions with mean residual as bias\n",
        "bias = -11.894349\n",
        "predictions = list()\n",
        "\n",
        "for i in range(len(test)):\n",
        "\t\n",
        "\tlags = 1\n",
        "\tdiff = difference(history, lags) \t# difference data\n",
        "\tmodel = ARIMA(diff, order=(6,1,0)) # best p,d, & q values discovered from the loop above\n",
        "\tmodel_fit = model.fit(trend='nc', disp=0)\n",
        "\n",
        "\tyhat = model_fit.forecast()[0]\n",
        "\tyhat = bias + inverse_difference(history, yhat, lags)\n",
        "\n",
        "\tpredictions.append(yhat)\n",
        "\t# observation\n",
        "\tobs = test[i]\n",
        "\thistory.append(obs)\n",
        "\t#print('>Predicted=%.3f, Expected=%3.f' % (yhat, obs))\n",
        "\t'''"
      ],
      "execution_count": 0,
      "outputs": []
    },
    {
      "cell_type": "code",
      "metadata": {
        "id": "Xnsn8n6nEmUL",
        "colab_type": "code",
        "colab": {}
      },
      "source": [
        "'''\n",
        "# report performance\n",
        "mse = mean_squared_error(test, predictions)\n",
        "rmse = sqrt(mse)\n",
        "print('RMSE: %.3f' % rmse)\n",
        "\n",
        "# plot\n",
        "pyplot.plot(test)\n",
        "pyplot.plot(predictions, color='red')\n",
        "pyplot.show()\n",
        "\n",
        "\n",
        "# not as good\n",
        "'''"
      ],
      "execution_count": 0,
      "outputs": []
    },
    {
      "cell_type": "code",
      "metadata": {
        "id": "bZnoZv_VAgQn",
        "colab_type": "code",
        "colab": {}
      },
      "source": [
        "'''\n",
        "# merge employment data to main df\n",
        "df['Natl_empl'] = list(employ['Value'])\n",
        "'''"
      ],
      "execution_count": 0,
      "outputs": []
    },
    {
      "cell_type": "code",
      "metadata": {
        "id": "6Kc_AvxZdWeA",
        "colab_type": "code",
        "colab": {}
      },
      "source": [
        "'''\n",
        "# SARIMAX Model\n",
        "\n",
        "# create a differenced series\n",
        "def difference(dataset, interval=1):\n",
        "  diff = list()\n",
        "  for i in range(interval, len(dataset)):\n",
        "    value = dataset[i] - dataset[i - interval]\n",
        "    diff.append(value)\n",
        "  return Series(diff)\n",
        "\n",
        "# invert differenced value\n",
        "def inverse_difference(history, yhat, interval=1):\n",
        "  return yhat + history[-interval]\n",
        "\n",
        "# test/training data\n",
        "train = df.loc[:'2017']\n",
        "test = df.loc['2018']  \n",
        "\n",
        "history = [x for x in train['zip_median']]\n",
        "\n",
        "# make predictions\n",
        "predictions = list()\n",
        "lags = 1\n",
        "\n",
        "for i in range(len(test)):\n",
        "\n",
        "  # make new series to make new model.\n",
        "  diff_series = pd.DataFrame()\n",
        "  diff_series['zip_median_diff'] = difference(history, lags) # difference data\n",
        "  diff_series.index = df[1:len(diff_series)+1].index\n",
        "\n",
        "  # make new model\n",
        "  model = sm.tsa.statespace.SARIMAX(endog = diff_series['zip_median_diff'],\n",
        "    exog = df['Natl_empl'][1:len(history)],  \n",
        "    trend='t',  # ‘n’,’c’,’t’, or ’ct’\n",
        "    order=(6,1,0)\n",
        "  )\n",
        "  \n",
        "  model_fit = model.fit()\n",
        "\n",
        "  # predict and then add single prediction to history\n",
        "  yhat = model_fit.predict(start = pd.to_datetime('2018-01'), end = pd.to_datetime('2018-12'),\n",
        "    exog = pd.DataFrame(test['Natl_empl'][i:]), \n",
        "    dynamic= True)[i]\n",
        "\n",
        "  yhat = inverse_difference(history, yhat, lags)\n",
        "\n",
        "  predictions.append(yhat)\n",
        "  # observation\n",
        "  obs = test['zip_median'].iloc[i]\n",
        "\n",
        "  history.append(obs)\n",
        "  # should we be saving the test obs or predicted obs to train the model for\n",
        "  # the next prediction\n",
        "  '''"
      ],
      "execution_count": 0,
      "outputs": []
    },
    {
      "cell_type": "code",
      "metadata": {
        "id": "D50Q_YO2dac7",
        "colab_type": "code",
        "colab": {}
      },
      "source": [
        "'''\n",
        "# report performance\n",
        "mse = mean_squared_error(test['zip_median'].values, predictions)\n",
        "rmse = sqrt(mse)\n",
        "print('RMSE: %.3f' % rmse)\n",
        "\n",
        "# SARIMAX (6, 1, 0), trend = 'n', w/ exog  --> RMSE: 192.517\n",
        "# SARIMAX (6, 1, 0), trend = 'c', w/ exog  --> RMSE: 192.517\n",
        "# SARIMAX (6, 1, 0), trend = 'ct', w/ exog --> RMSE: 193.963\n",
        "# SARIMAX (6, 1, 0), trend = 't', w/ exog  --> RMSE: 188.584, no exog: RMSE: 188.673\n",
        "\n",
        "# plot\n",
        "pyplot.plot(test['zip_median'].values)\n",
        "pyplot.plot(predictions, color='red')\n",
        "pyplot.show()\n",
        "'''"
      ],
      "execution_count": 0,
      "outputs": []
    },
    {
      "cell_type": "code",
      "metadata": {
        "id": "BbqfroemrdT6",
        "colab_type": "code",
        "colab": {}
      },
      "source": [
        "def get_predictions(ts, model_output, steps=24, plot=True, show=True):\n",
        "    \n",
        "    '''Gets one-step-ahead forecast for model, \n",
        "    calculates Root of Mean Squared Error, \n",
        "    makes future predictions for number\n",
        "    of steps passed as parameter(default is 24), \n",
        "    plots results, \n",
        "    provides last forecasted value with confidence interval'''\n",
        "\n",
        "    \n",
        "    # get preditions from model for data period\n",
        "    pred = model_output.get_prediction(start='2018-01-01', dynamic=True, full_results=True)\n",
        "    conf = pred.conf_int()\n",
        "    \n",
        "    if plot:\n",
        "        #Plot observed and predicted values with confidence interval\n",
        "        ax = ts['1997':].plot(label='Observed', figsize=(12, 8))\n",
        "        pred.predicted_mean.plot(ax=ax, label='One-step ahead Forecast', alpha=.9)\n",
        "        ax.fill_between(conf.index,\n",
        "                        conf.iloc[:, 0],\n",
        "                        conf.iloc[:, 1], color='g', alpha=.2,\n",
        "                        label='Confidence Interval')\n",
        "        ax.set_ylabel('Return %')\n",
        "        plt.title('Observations vs Predictions')\n",
        "        ax.legend()\n",
        "        plt.show()\n",
        "\n",
        "    # compare real and predicted values to validade model and compute the rmse\n",
        "    predicted = pred.predicted_mean\n",
        "    real = ts['1997-01-01':].value\n",
        "    mse = mean_squared_error(real, predicted)\n",
        "    rmse = math.sqrt(mse)\n",
        "    \n",
        "    if show:\n",
        "        print(f'The RMSE of our forecast is {round(rmse, 2)}.' + '\\n')\n",
        "        \n",
        "    \n",
        "    # Get forecast and confidence interval for steps ahead in future\n",
        "    future = model_output.get_forecast(steps=steps, dynamic=True)\n",
        "    future_conf = future.conf_int(steps=steps)\n",
        "\n",
        "    if plot:\n",
        "        # plot results\n",
        "        ax = ts['1997':].plot(label='Observed', figsize=(12, 8))\n",
        "        future.predicted_mean.plot(ax=ax, label='Forecast')\n",
        "        ax.fill_between(future_conf.index,\n",
        "                        future_conf.iloc[:, 0],\n",
        "                        future_conf.iloc[:, 1], color='k', alpha=.25)\n",
        "        ax.set_xlabel('Date')\n",
        "        ax.set_ylabel('Returns')\n",
        "        ax.legend()\n",
        "        plt.show()\n",
        "\n",
        "    # show prediction for end of step-period (in this case in 2 years future time)\n",
        "    forecast = future.predicted_mean[-1]\n",
        "    maximum = future_conf.iloc[-1,1]\n",
        "    minimum = future_conf.iloc[-1,0]\n",
        "    predictions = {}\n",
        "    predictions['forecast'] = forecast\n",
        "    predictions['maximum'] = maximum\n",
        "    predictions['minimum'] = minimum\n",
        "    \n",
        "    predictions = pd.DataFrame.from_dict(predictions, orient='index', columns=['Return at End of Forecast'])\n",
        "    \n",
        "    if show:\n",
        "        print(predictions)\n",
        "        \n",
        "    return forecast, maximum, minimum"
      ],
      "execution_count": 0,
      "outputs": []
    },
    {
      "cell_type": "markdown",
      "metadata": {
        "id": "bNeO8-ZyvX_H",
        "colab_type": "text"
      },
      "source": [
        "Prophet"
      ]
    },
    {
      "cell_type": "code",
      "metadata": {
        "id": "8tiJLKwmD0pA",
        "colab_type": "code",
        "colab": {}
      },
      "source": [
        "# set the uncertainty interval to 95% (the Prophet default is 80%)\n",
        "my_model = Prophet(interval_width=0.95)\n",
        "my_model.fit(df)"
      ],
      "execution_count": 0,
      "outputs": []
    },
    {
      "cell_type": "markdown",
      "metadata": {
        "id": "XTeLissiMu91",
        "colab_type": "text"
      },
      "source": [
        "Forecast"
      ]
    },
    {
      "cell_type": "code",
      "metadata": {
        "id": "jU4vpHLNMtG-",
        "colab_type": "code",
        "outputId": "9b3298ff-cde7-46a2-ce14-e8b17d83d99f",
        "colab": {
          "base_uri": "https://localhost:8080/",
          "height": 103
        }
      },
      "source": [
        "# todo:  return on investment (ROI) for both of these cities for 2-year investments and 5-year investments.\n",
        "# https://medium.com/swlh/time-series-roi-based-analysis-on-a-real-estate-investment-7299dce242da\n",
        "\n",
        "# multi-step out-of-sample forecast\n",
        "forecast = model_fit.forecast(steps=5)[0]\n",
        "\n",
        "wk = 1\n",
        "for yhat in forecast:\n",
        "\tinverted = inverse_difference(history, yhat, 52)\n",
        "\tprint('Week %d: %f' % (wk, inverted))\n",
        "\thistory.append(inverted)\n",
        "\twk += 1"
      ],
      "execution_count": 0,
      "outputs": [
        {
          "output_type": "stream",
          "text": [
            "Week 1: 45.990899\n",
            "Week 2: 46.205453\n",
            "Week 3: 45.903572\n",
            "Week 4: 46.135158\n",
            "Week 5: 45.980117\n"
          ],
          "name": "stdout"
        }
      ]
    },
    {
      "cell_type": "markdown",
      "metadata": {
        "id": "zZ5Fvb5F0OLY",
        "colab_type": "text"
      },
      "source": [
        "https://github.com/MartnAR/IST718/blob/master/Labs/Alonso_Lab2_2019/Lab%202%20Project.ipynb\n"
      ]
    }
  ]
}