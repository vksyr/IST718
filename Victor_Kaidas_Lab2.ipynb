{
  "nbformat": 4,
  "nbformat_minor": 0,
  "metadata": {
    "colab": {
      "name": "Lab2.ipynb",
      "provenance": [],
      "collapsed_sections": []
    },
    "kernelspec": {
      "name": "python3",
      "display_name": "Python 3"
    }
  },
  "cells": [
    {
      "cell_type": "code",
      "metadata": {
        "id": "qyvnh4APhghB",
        "colab_type": "code",
        "colab": {
          "base_uri": "https://localhost:8080/",
          "height": 242
        },
        "outputId": "27de3bfc-599c-4698-a216-83f8855c55d9"
      },
      "source": [
        "import pandas as pd  # data frame operations\n",
        "import numpy as np  # arrays and math functions\n",
        "from scipy.stats import uniform  # for training-and-test split\n",
        "import statsmodels.api as sm  # statistical models (including regression)\n",
        "import statsmodels.formula.api as smf  # R-like model specification\n",
        "import matplotlib.pyplot as plt  # 2D plotting\n",
        "import seaborn as sns  # PROVIDES TRELLIS AND SMALL MULTIPLE PLOTTING\n",
        "import math\n",
        "\n",
        "from pandas import Series\n",
        "from statistics import mean\n",
        "from statistics import median\n",
        "from math import sqrt\n",
        "\n",
        "from matplotlib import pyplot\n",
        "\n",
        "from scipy.stats import boxcox\n",
        "from statsmodels.tsa.stattools import adfuller\n",
        "from statsmodels.tsa.stattools import acf\n",
        "from statsmodels.tsa.stattools import pacf\n",
        "from statsmodels.graphics.tsaplots import plot_acf\n",
        "from statsmodels.graphics.tsaplots import plot_pacf\n",
        "\n",
        "from sklearn.metrics import mean_squared_error, r2_score\n",
        "from statsmodels.tsa.arima_model import ARIMA\n",
        "from statsmodels.tsa.arima_model import ARIMAResults\n",
        "\n",
        "import plotly as py\n",
        "import plotly.graph_objects as go\n",
        "\n",
        "#!pip install fbprophet\n",
        "from fbprophet import Prophet\n",
        "\n",
        "!pip install pmdarima\n",
        "import pmdarima as pm\n",
        "from pmdarima.arima import auto_arima\n",
        "\n",
        "pd.plotting.register_matplotlib_converters() # was getting error plotting series until entering this.."
      ],
      "execution_count": 56,
      "outputs": [
        {
          "output_type": "stream",
          "text": [
            "Requirement already satisfied: pmdarima in /usr/local/lib/python3.6/dist-packages (1.5.3)\n",
            "Requirement already satisfied: Cython>=0.29 in /usr/local/lib/python3.6/dist-packages (from pmdarima) (0.29.15)\n",
            "Requirement already satisfied: joblib>=0.11 in /usr/local/lib/python3.6/dist-packages (from pmdarima) (0.14.1)\n",
            "Requirement already satisfied: urllib3 in /usr/local/lib/python3.6/dist-packages (from pmdarima) (1.24.3)\n",
            "Requirement already satisfied: scikit-learn>=0.22 in /usr/local/lib/python3.6/dist-packages (from pmdarima) (0.22.1)\n",
            "Requirement already satisfied: numpy>=1.17.3 in /usr/local/lib/python3.6/dist-packages (from pmdarima) (1.17.5)\n",
            "Requirement already satisfied: scipy>=1.3.2 in /usr/local/lib/python3.6/dist-packages (from pmdarima) (1.4.1)\n",
            "Requirement already satisfied: statsmodels>=0.10.2 in /usr/local/lib/python3.6/dist-packages (from pmdarima) (0.10.2)\n",
            "Requirement already satisfied: pandas>=0.19 in /usr/local/lib/python3.6/dist-packages (from pmdarima) (0.25.3)\n",
            "Requirement already satisfied: patsy>=0.4.0 in /usr/local/lib/python3.6/dist-packages (from statsmodels>=0.10.2->pmdarima) (0.5.1)\n",
            "Requirement already satisfied: python-dateutil>=2.6.1 in /usr/local/lib/python3.6/dist-packages (from pandas>=0.19->pmdarima) (2.6.1)\n",
            "Requirement already satisfied: pytz>=2017.2 in /usr/local/lib/python3.6/dist-packages (from pandas>=0.19->pmdarima) (2018.9)\n",
            "Requirement already satisfied: six in /usr/local/lib/python3.6/dist-packages (from patsy>=0.4.0->statsmodels>=0.10.2->pmdarima) (1.12.0)\n"
          ],
          "name": "stdout"
        }
      ]
    },
    {
      "cell_type": "markdown",
      "metadata": {
        "id": "8ZQ7EhwHruxh",
        "colab_type": "text"
      },
      "source": [
        "Import data"
      ]
    },
    {
      "cell_type": "code",
      "metadata": {
        "id": "cHsHrnCNhfHa",
        "colab_type": "code",
        "colab": {
          "base_uri": "https://localhost:8080/",
          "height": 34
        },
        "outputId": "072caa76-e33e-482e-bfcd-da718317bee0"
      },
      "source": [
        "# zillow\n",
        "homes = pd.read_csv('https://files.zillowstatic.com/research/public/Zip/Zip_Zhvi_SingleFamilyResidence.csv', encoding='latin_1')\n",
        "\n",
        "homes.shape # (30434, 292)\n",
        "len(homes['RegionName'].unique()) # 30,434 zip codes, one for each row."
      ],
      "execution_count": 3,
      "outputs": [
        {
          "output_type": "execute_result",
          "data": {
            "text/plain": [
              "30434"
            ]
          },
          "metadata": {
            "tags": []
          },
          "execution_count": 3
        }
      ]
    },
    {
      "cell_type": "markdown",
      "metadata": {
        "id": "YF3rInI88dQt",
        "colab_type": "text"
      },
      "source": [
        "Arkansas Metro area analysis"
      ]
    },
    {
      "cell_type": "code",
      "metadata": {
        "id": "0qe4SavYnBNt",
        "colab_type": "code",
        "colab": {}
      },
      "source": [
        "ar_homes = homes[homes.State=='AR']\n",
        "\n",
        "df = pd.DataFrame()\n",
        "def getMetroAvg(cityName, col):\n",
        "  global df\n",
        "  city_homes = ar_homes.loc[ar_homes.City==cityName, col]\n",
        "  avg = mean(city_homes[~np.isnan( city_homes)])\n",
        "  df = df.append({'Date':date, 'Avg':avg, 'City':cityName}, ignore_index=True )\n",
        "\n",
        "for col in ar_homes.columns: \n",
        "    date = pd.to_datetime(col, format='%Y-%m', errors='coerce')\n",
        "    if(date >= pd.to_datetime('01-01-1997')):\n",
        "      # get metro averages\n",
        "      getMetroAvg('Hot Springs', col)  \n",
        "      getMetroAvg('Little Rock', col)  \n",
        "      getMetroAvg('Fayetteville', col)  \n",
        "      getMetroAvg('Searcy', col)  \n",
        "\n",
        "df = df.set_index('Date')\n",
        "\n",
        "hotSprings_homes = df[df['City']=='Hot Springs']\n",
        "littleRock_homes = df[df['City']=='Little Rock']\n",
        "fayetteville_homes = df[df['City']=='Fayetteville']\n",
        "searcy_homes = df[df['City']=='Searcy']\n",
        "\n",
        "# Plot results\n",
        "fig = go.Figure()\n",
        "fig.add_trace(go.Scatter(x=hotSprings_homes.index, y=hotSprings_homes.Avg, name='Hot Springs',\n",
        "                          line_color='deepskyblue'))\n",
        "fig.add_trace(go.Scatter(x=littleRock_homes.index, y=littleRock_homes.Avg, name='Little Rock',\n",
        "                          line_color='red'))\n",
        "fig.add_trace(go.Scatter(x=fayetteville_homes.index, y=fayetteville_homes.Avg, name='Fayetteville',\n",
        "                          line_color='gray'))\n",
        "fig.add_trace(go.Scatter(x=searcy_homes.index, y=searcy_homes.Avg, name='Searcy',\n",
        "                          line_color='#0028FF'))\n",
        "fig.update_layout(title_text='Average Home Sales in Arkansas Metro Areas',\n",
        "                  xaxis_rangeslider_visible=False)\n",
        "fig.show()"
      ],
      "execution_count": 0,
      "outputs": []
    },
    {
      "cell_type": "markdown",
      "metadata": {
        "id": "RSV_ZWadRe_N",
        "colab_type": "text"
      },
      "source": [
        "Predicting avg median housing value by zip code in 2018"
      ]
    },
    {
      "cell_type": "code",
      "metadata": {
        "id": "CwiGoJxz9YnE",
        "colab_type": "code",
        "colab": {}
      },
      "source": [
        "# Transpose and make series\n",
        "def getSeries(df):\n",
        "\n",
        "  df = df.transpose()\n",
        "\n",
        "  # row names\n",
        "  df.insert(0, 'Date', df.index.values)\n",
        "  df['Date'] = pd.to_datetime(df['Date'], format='%Y-%m', errors='coerce')\n",
        "\n",
        "  # col names\n",
        "  zips = df.iloc[1]\n",
        "  cols = ['zip_{0}'.format(z) for z in zips]\n",
        "  cols[0] = 'Date'\n",
        "  df.columns = cols\n",
        "\n",
        "  # drop additional info\n",
        "  df = df.drop('RegionID')\n",
        "  df = df.drop('City')\n",
        "  df = df.drop('State')\n",
        "  df = df.drop('Metro')\n",
        "  df = df.drop('CountyName')\n",
        "  df = df.drop('RegionName')\n",
        "  df = df.drop('SizeRank')\n",
        "\n",
        "  # make time series\n",
        "  df = df.set_index('Date')\n",
        "\n",
        "  # create avg column\n",
        "  df['zip_median'] = df.median(axis=1)\n",
        "\n",
        "  # backwards fill for nan values\n",
        "  df = df.fillna(method='bfill')\n",
        "  #homes = homes.fillna(method='ffill')\n",
        "\n",
        "  return df"
      ],
      "execution_count": 0,
      "outputs": []
    },
    {
      "cell_type": "code",
      "metadata": {
        "id": "FkcVcZRwTX1T",
        "colab_type": "code",
        "colab": {}
      },
      "source": [
        "all_homes = getSeries(homes)\n",
        "fl_homes = getSeries(homes[homes['State']=='FL'])\n",
        "ca_homes = getSeries(homes[homes['State']=='CA'])"
      ],
      "execution_count": 0,
      "outputs": []
    },
    {
      "cell_type": "markdown",
      "metadata": {
        "id": "ZCzKBt7p7o1e",
        "colab_type": "text"
      },
      "source": [
        "Calculate Returns"
      ]
    },
    {
      "cell_type": "code",
      "metadata": {
        "id": "XAIqfW-47nSP",
        "colab_type": "code",
        "colab": {}
      },
      "source": [
        "# function to calculate gain percentage (ROI) on previous 2, 5 and 10 years\n",
        "# source: https://github.com/gioamorim80/Zillow-Time-Series/blob/master/Module%204%20Final%20Project.ipynb\n",
        "def calculate_gain(ts, plot=True): \n",
        "    \n",
        "    '''Takes a real estate time series and performs calculations on returns over investments\n",
        "    for periods of 2 and 5 years.'''\n",
        "    \n",
        "    # calculates ROI by taking current value, decreasing investment(value at x steps in past) and \n",
        "    # dividing by investment. Multiplies by 100 to get percentage number\n",
        "    roi_2 = (ts - ts.shift(periods=24))/ts.shift(periods=24)*100\n",
        "    roi_5 = (ts - ts.shift(periods=59))/ts.shift(periods=59)*100\n",
        "    roi_2.dropna(inplace=True)\n",
        "    roi_5.dropna(inplace=True)\n",
        "    \n",
        "    # plot results\n",
        "    if plot:\n",
        "        fig = go.Figure()\n",
        "        fig.add_trace(go.Scatter(x=roi_2.index, y=roi_2.value, name='2-Year Investment',\n",
        "                                 line_color='deepskyblue'))\n",
        "        fig.add_trace(go.Scatter(x=roi_5.index, y=roi_5.value, name='5-Year Investment',\n",
        "                                 line_color='red'))\n",
        "        fig.update_layout(title_text='Mean Zillow Home Value Index (ZHVI) - ROI Over Time Invested',\n",
        "                          yaxis_title=\"ROI (%)\", \n",
        "                          xaxis_rangeslider_visible=False)\n",
        "        fig.show()\n",
        "    \n",
        "    # saves new ts with returns for 2, 5 and 10 periods\n",
        "    return roi_2, roi_5"
      ],
      "execution_count": 0,
      "outputs": []
    },
    {
      "cell_type": "code",
      "metadata": {
        "id": "GNXoHEOwWsA4",
        "colab_type": "code",
        "colab": {}
      },
      "source": [
        "def stationaryTest(df):\n",
        "  X = df.value\n",
        "  X = X.astype('float32')\n",
        "\n",
        "  # Is stationary? Run AD FUller, p-value < .05 ?\n",
        "  result = adfuller(X)\n",
        "  print('ADF Statistic: %f' % result[0])\n",
        "  print('p-value: %f' % result[1])\n",
        "\n",
        "  # LOOK FOR ACF & PACF\n",
        "  fig, (ax1, ax2) = plt.subplots(1,2, figsize=(14,4))\n",
        "  fig = plot_acf(X, lags=40, ax=ax1)\n",
        "  ax1.axhline(y=0,linestyle='--',color= 'gray')\n",
        "  ax1.axhline(y= - 1.96/np.sqrt(len(df)), linestyle='--',color= 'gray')\n",
        "  ax1.axhline(y=  1.96/np.sqrt(len(df)), linestyle='--',color= 'gray')\n",
        "  ax1.set_label('Lags')\n",
        "\n",
        "  fig = plot_pacf(X, lags=40, ax=ax2)\n",
        "  ax2.axhline(y=0,linestyle = '--', color = 'gray')\n",
        "  ax2.axhline(y = -1.96/np.sqrt(len(df)), linestyle = '--', color = 'gray')\n",
        "  ax2.axhline(y = 1.96/np.sqrt(len(df)), linestyle = '--', color = 'gray')\n",
        "  ax2.set_label('Lags')\n",
        "\n",
        "\n"
      ],
      "execution_count": 0,
      "outputs": []
    },
    {
      "cell_type": "code",
      "metadata": {
        "id": "jEPyF7Xxjt5E",
        "colab_type": "code",
        "colab": {
          "base_uri": "https://localhost:8080/",
          "height": 315
        },
        "outputId": "68889181-c9fd-433c-a3a2-862572ad32a5"
      },
      "source": [
        "df = pd.DataFrame(data=all_homes['zip_median'].values, index=all_homes.index, columns=['value'])\n",
        "stationaryTest(df) # p-value: 0.719121"
      ],
      "execution_count": 216,
      "outputs": [
        {
          "output_type": "stream",
          "text": [
            "ADF Statistic: -1.089803\n",
            "p-value: 0.719121\n"
          ],
          "name": "stdout"
        },
        {
          "output_type": "display_data",
          "data": {
            "image/png": "[encoded data removed]",
            "text/plain": [
              "<Figure size 1008x288 with 2 Axes>"
            ]
          },
          "metadata": {
            "tags": []
          }
        }
      ]
    },
    {
      "cell_type": "code",
      "metadata": {
        "id": "JlrPJcZ1GLwX",
        "colab_type": "code",
        "colab": {}
      },
      "source": [
        "'''\n",
        "# Get fuller p-values for different lags\n",
        "\n",
        "# create a differenced series\n",
        "def difference(dataset, interval=1):\n",
        "\tdiff = list()\n",
        "\tfor i in range(interval, len(dataset)):\n",
        "\t\tvalue = dataset[i] - dataset[i - interval]\n",
        "\t\tdiff.append(value)\n",
        "\treturn Series(diff)\n",
        " \n",
        "# Make stationary\n",
        "X = zip_median_roi5.value\n",
        "X = X.astype('float32')\n",
        "\n",
        "# difference data\n",
        "\n",
        "for p in range(0, 40):\n",
        "  lags = p\n",
        "  stationary = difference(X, lags)\n",
        "  result = adfuller(stationary)\n",
        "  if result[1] < .05:\n",
        "    print('lags: ' + str(p) + ', p-value: ' + str(result[1]))\n",
        "\n",
        "#lags: 1, p-value: 0.016\n",
        "'''"
      ],
      "execution_count": 0,
      "outputs": []
    },
    {
      "cell_type": "code",
      "metadata": {
        "id": "Q_yZ286wJygH",
        "colab_type": "code",
        "colab": {}
      },
      "source": [
        "'''\n",
        "# make stationary with lag = 1, as discovered to be best with AD Fuller test\n",
        "lags = 1\n",
        "stationary = difference(X, lags)\n",
        "stationary.index = df.index[lags:]\n",
        "\n",
        "# USING STATIONARY TIME SERIES LOOK FOR ACF & PACF\n",
        "fig, (ax1, ax2) = plt.subplots(1,2, figsize=(14,4))\n",
        "fig = plot_acf(stationary, ax=ax1)\n",
        "ax1.axhline(y=0,linestyle='--',color= 'gray')\n",
        "ax1.axhline(y= - 1.96/np.sqrt(len(stationary)), linestyle='--',color= 'gray')\n",
        "ax1.axhline(y=  1.96/np.sqrt(len(stationary)), linestyle='--',color= 'gray')\n",
        "ax1.set_label('Lags')\n",
        "\n",
        "fig = plot_pacf(stationary, ax=ax2)\n",
        "ax2.axhline(y=0,linestyle = '--', color = 'gray')\n",
        "ax2.axhline(y = -1.96/np.sqrt(len(stationary)), linestyle = '--', color = 'gray')\n",
        "ax2.axhline(y = 1.96/np.sqrt(len(stationary)), linestyle = '--', color = 'gray')\n",
        "ax2.set_label('Lags')\n",
        "'''"
      ],
      "execution_count": 0,
      "outputs": []
    },
    {
      "cell_type": "code",
      "metadata": {
        "id": "yTYj3oA7zYfw",
        "colab_type": "code",
        "colab": {}
      },
      "source": [
        "'''\n",
        "# BEST ARIMA params\n",
        "# CODE RUNS LONG FOR EVALUATION - approximately \n",
        "import warnings\n",
        "\n",
        "# create a differenced series\n",
        "def difference(dataset, interval=1):\n",
        "\tdiff = list()\n",
        "\tfor i in range(interval, len(dataset)):\n",
        "\t\tvalue = dataset[i] - dataset[i - interval]\n",
        "\t\tdiff.append(value)\n",
        "\treturn np.array(diff)\n",
        " \n",
        "# invert differenced value\n",
        "def inverse_difference(history, yhat, interval=1):\n",
        "\treturn yhat + history[-interval]\n",
        " \n",
        "# evaluate an ARIMA model for a given order (p,d,q) and return RMSE\n",
        "def evaluate_arima_model(X, arima_order):\n",
        "\t# prepare training dataset\n",
        "\tX = X.astype('float32')\n",
        "\ttrain_size = int(len(X) * 0.70)\n",
        "\ttrain, test = X[0:train_size], X[train_size:]\n",
        "\thistory = [x for x in train]\n",
        "\t# make predictions\n",
        "\tpredictions = list()\n",
        "\tfor t in range(len(test)):\n",
        "\t\t# difference data\n",
        "\t\tlags = 1 # best value discovered with fuller test above\n",
        "\t\tdiff = difference(history, lags)\n",
        "\t\tmodel = ARIMA(diff, order=arima_order)\n",
        "\t\tmodel_fit = model.fit(trend='nc', disp=0)\n",
        "\t\tyhat = model_fit.forecast()[0]\n",
        "\t\tyhat = inverse_difference(history, yhat, lags)\n",
        "\t\tpredictions.append(yhat)\n",
        "\t\thistory.append(test[t])\n",
        "\t# calculate out of sample error\n",
        "\tmse = mean_squared_error(test, predictions)\n",
        "\trmse = sqrt(mse)\n",
        "\treturn rmse\n",
        " \n",
        "# evaluate combinations of p, d and q values for an ARIMA model\n",
        "def evaluate_models(dataset, p_values, d_values, q_values):\n",
        "\tdataset = dataset.astype('float32')\n",
        "\tbest_score, best_cfg = float(\"inf\"), None\n",
        "\tfor p in p_values:\n",
        "\t\tfor d in d_values:\n",
        "\t\t\tfor q in q_values:\n",
        "\t\t\t\torder = (p,d,q)\n",
        "\t\t\t\ttry:\n",
        "\t\t\t\t\tmse = evaluate_arima_model(dataset, order)\n",
        "\t\t\t\t\tif mse < best_score:\n",
        "\t\t\t\t\t\tbest_score, best_cfg = mse, order\n",
        "\t\t\t\t\tprint('ARIMA%s RMSE=%.3f' % (order,mse))\n",
        "\t\t\t\texcept:\n",
        "\t\t\t\t\tcontinue\n",
        "\tprint('Best ARIMA%s RMSE=%.3f' % (best_cfg, best_score))\n",
        " \n",
        "# evaluate parameters\n",
        "p_values = range(0, 7)\n",
        "d_values = range(0, 3)\n",
        "q_values = range(0, 7)\n",
        "\n",
        "warnings.filterwarnings(\"ignore\")\n",
        "evaluate_models(df['zip_median'].values, p_values, d_values, q_values)\n",
        "\n",
        "# Best: ARIMA(6, 1, 0) RMSE=139.733\n",
        "'''"
      ],
      "execution_count": 0,
      "outputs": []
    },
    {
      "cell_type": "code",
      "metadata": {
        "id": "_5v-MXpzg0f2",
        "colab_type": "code",
        "colab": {}
      },
      "source": [
        "# define a function to run auto arima and search for best model parameters\n",
        "def find_orders(ts, exog=None):\n",
        "\n",
        "    stepwise_model = pm.auto_arima(ts, start_p=1, start_q=1, max_p=4, max_q=14,\n",
        "                                exogenous=exog, \n",
        "                                m=12, seasonal=True, stationary=False,\n",
        "                                stepwise=True, trend='ct',\n",
        "                                suppress_warnings=True, trace=False, \n",
        "                                error_action='ignore')\n",
        "\n",
        "    return stepwise_model.order, stepwise_model.seasonal_order"
      ],
      "execution_count": 0,
      "outputs": []
    },
    {
      "cell_type": "code",
      "metadata": {
        "id": "xpZc9QYKw7u4",
        "colab_type": "code",
        "colab": {}
      },
      "source": [
        "def fit_sarimax_model(ts, exog=None, order=(1,1,1), seasonal_order=(0, 0, 0, 12), summary=True, plot=True):\n",
        "  \n",
        "    # fit model with exog\n",
        "    model = sm.tsa.statespace.SARIMAX(ts, \n",
        "                                  exog = exog,  \n",
        "                                  order=order,\n",
        "                                  seasonal_order=seasonal_order,\n",
        "                                  trend='ct',\n",
        "                                  enforce_stationarity=True,\n",
        "                                  enforce_invertibility=False)\n",
        "\n",
        "    output = model.fit(d=0)\n",
        "    \n",
        "    if summary==True:\n",
        "        print(output.summary())\n",
        "\n",
        "    if plot==True:\n",
        "        # plot model diagnostics\n",
        "        output.plot_diagnostics(figsize=(15, 18))\n",
        "        plt.show()\n",
        "        \n",
        "    return output"
      ],
      "execution_count": 0,
      "outputs": []
    },
    {
      "cell_type": "code",
      "metadata": {
        "id": "1g2BLCvglDpx",
        "colab_type": "code",
        "colab": {}
      },
      "source": [
        "def get_predictions(test, exog, model_output, plot=True, show=True):\n",
        "    \n",
        "    # Use the model to forecast twelve months into 2018 and store the confidence intervals\n",
        "    pred = model_output.get_prediction(start=pd.to_datetime('2018-01-01'), end=pd.to_datetime('2018-12-01'), dynamic=False, exog=exog)\n",
        "    pred_ci = pred.conf_int()\n",
        "    \n",
        "    # Plot the actual results for 2018 vs the projected results. \n",
        "    ax = test['2018-01-01':].plot(label='observed')\n",
        "    pred.predicted_mean.plot(ax=ax, label='One-step ahead Forecast', alpha=.7, figsize=(8,6))\n",
        "    \n",
        "    \n",
        "    if plot:\n",
        "        #Plot observed and predicted values with confidence interval\n",
        "        ax.fill_between(pred_ci.index,\n",
        "                    pred_ci.iloc[:, 0],\n",
        "                    pred_ci.iloc[:, 1], color='k', alpha=.2)\n",
        "\n",
        "        ax.set_xlabel('Date')\n",
        "        ax.set_ylabel('Household Value')\n",
        "        plt.legend(loc='upper left')\n",
        "        plt.show()\n",
        "\n",
        "    \n",
        "    if show:\n",
        "        \n",
        "        # Obtain the predicted mean, merge with the actual values, and compute the MSE. \n",
        "        y_pred = pred.predicted_mean.reset_index()\n",
        "        y_pred.columns = ['date', 'value']\n",
        "        \n",
        "        y_test = test.reset_index()\n",
        "        \n",
        "        # Compute the mean square error / RMSE\n",
        "        mse = mean_squared_error(y_test.value, y_pred.value)\n",
        "        rmse = math.sqrt(mse)\n",
        "        r2 = r2_score(y_test.value, y_pred.value)\n",
        "\n",
        "        # Print the results. \n",
        "        print('RMSE: ' +  str(format(round(rmse, 3))))\n",
        "        print('R-squared: ' + str(format(round(r2, 3))))\n"
      ],
      "execution_count": 0,
      "outputs": []
    },
    {
      "cell_type": "code",
      "metadata": {
        "id": "90Dcw2a8QWd2",
        "colab_type": "code",
        "colab": {}
      },
      "source": [
        "def get_future(ds, plot):\n",
        "\n",
        "    # Get forecast and confidence interval from base model, by steps 60\n",
        "    \n",
        "    future_2y = model_output.get_forecast(steps=24, dynamic=True)\n",
        "    future_conf_2y = future_2y.conf_int(steps=24)\n",
        "\n",
        "    future_5y = model_output.get_forecast(steps=60, dynamic=True)\n",
        "    future_conf_5y = future_5y.conf_int(steps=60)    \n",
        "\n",
        "    if plot: # plot results\n",
        "\n",
        "        # 5 yr\n",
        "        ax = ds.plot(label='Observed', figsize=(12, 8))\n",
        "        future_5y.predicted_mean.plot(ax=ax, label='Forecast')\n",
        "        ax.fill_between(future_conf_5y.index,\n",
        "                        future_conf_5y.iloc[:, 0],\n",
        "                        future_conf_5y.iloc[:, 1], color='k', alpha=.25)\n",
        "        ax.set_xlabel('Date')\n",
        "        ax.set_ylabel('Returns')\n",
        "        ax.set_title('5-Year Forecast')\n",
        "        ax.legend()\n",
        "        plt.show()        \n",
        "\n",
        "    df_out = future_conf_5y\n",
        "    df_out['yhat'] = future_5y.predicted_mean\n",
        "    df_out.columns = ['yhat_lower', 'yhat_upper', 'yhat']\n",
        "\n",
        "\n",
        "    gain_df = pd.DataFrame({'value':df_out['yhat'].values, 'date':df_out.index})\n",
        "    gain_df = gain_df.set_index('date')\n",
        "    #gain_df.loc['2025-01'] = 0\n",
        "\n",
        "    roi = calculate_gain(gain_df, plot=False)\n",
        "    roi_2y = pd.DataFrame(roi[0])\n",
        "    roi_5y = pd.DataFrame(roi[1])\n",
        "    roi_2y.index = pd.date_range(start='1/1/2022', periods=36, freq='M')\n",
        "    roi_5y.index = pd.date_range(start='12/1/2024', periods=1, freq='M')\n",
        "\n",
        "    #print('2-Year ROI: ' + str(roi_2y.loc['2022-01'].value[0]) + '%')\n",
        "    #print('5-Year ROI: ' + str(roi_5y.loc['2024-12'].value[0]) + '%')\n",
        "\n",
        "    # show prediction for end of step-period\n",
        "    maximum_2y = future_conf_2y.iloc[-1,1]\n",
        "    minimum_2y = future_conf_2y.iloc[-1,0]    \n",
        "    maximum_5y = future_conf_5y.iloc[-1,1]\n",
        "    minimum_5y = future_conf_5y.iloc[-1,0]\n",
        "\n",
        "    #return (df_out) # returns predicted values\n",
        "    return (pd.DataFrame({'roi_2y':roi_2y.loc['2022-01'].value[0], \n",
        "                          'min_conf_2y': minimum_2y, \n",
        "                          'max_conf_2y': maximum_2y, \n",
        "                          'roi_5y':roi_5y.loc['2024-12'].value[0], \n",
        "                          'min_conf_5y': minimum_5y, \n",
        "                          'max_conf_5y': maximum_5y, \n",
        "                          }, index=[0]))"
      ],
      "execution_count": 0,
      "outputs": []
    },
    {
      "cell_type": "code",
      "metadata": {
        "id": "N5I6oLg9t4MQ",
        "colab_type": "code",
        "colab": {
          "base_uri": "https://localhost:8080/",
          "height": 519
        },
        "outputId": "e4f9ac3e-de39-411c-c1a2-e8fa74e9a299"
      },
      "source": [
        "# base model    \n",
        "\n",
        "# find best arima/sarimax params, without exog's\n",
        "df = pd.DataFrame(data=all_homes['zip_median'].values, index=all_homes.index, columns=['value'])\n",
        "find_orders(df) # ((0, 2, 1), (0, 0, 0, 12))\n",
        "\n",
        "zip_median_output = fit_sarimax_model(df, order=(0, 2, 1), seasonal_order=(0, 0, 0, 12), plot=False)  # AIC: 4217.217"
      ],
      "execution_count": 12,
      "outputs": [
        {
          "output_type": "stream",
          "text": [
            "/usr/local/lib/python3.6/dist-packages/statsmodels/tsa/base/tsa_model.py:165: ValueWarning:\n",
            "\n",
            "No frequency information was provided, so inferred frequency MS will be used.\n",
            "\n"
          ],
          "name": "stderr"
        },
        {
          "output_type": "stream",
          "text": [
            "                           Statespace Model Results                           \n",
            "==============================================================================\n",
            "Dep. Variable:                  value   No. Observations:                  285\n",
            "Model:               SARIMAX(0, 2, 1)   Log Likelihood               -2104.608\n",
            "Date:                Sun, 16 Feb 2020   AIC                           4217.217\n",
            "Time:                        06:31:55   BIC                           4231.799\n",
            "Sample:                    04-01-1996   HQIC                          4223.064\n",
            "                         - 12-01-2019                                         \n",
            "Covariance Type:                  opg                                         \n",
            "==============================================================================\n",
            "                 coef    std err          z      P>|z|      [0.025      0.975]\n",
            "------------------------------------------------------------------------------\n",
            "intercept     -2.9102     88.687     -0.033      0.974    -176.733     170.912\n",
            "drift          0.0225      0.583      0.039      0.969      -1.119       1.165\n",
            "ma.L1         -0.0740      0.012     -6.244      0.000      -0.097      -0.051\n",
            "sigma2      1.622e+05   3262.220     49.731      0.000    1.56e+05    1.69e+05\n",
            "===================================================================================\n",
            "Ljung-Box (Q):                      102.87   Jarque-Bera (JB):             36769.39\n",
            "Prob(Q):                              0.00   Prob(JB):                         0.00\n",
            "Heteroskedasticity (H):               0.51   Skew:                            -1.47\n",
            "Prob(H) (two-sided):                  0.00   Kurtosis:                        58.76\n",
            "===================================================================================\n",
            "\n",
            "Warnings:\n",
            "[1] Covariance matrix calculated using the outer product of gradients (complex-step).\n"
          ],
          "name": "stdout"
        }
      ]
    },
    {
      "cell_type": "code",
      "metadata": {
        "id": "ktrVZZNiD0Z4",
        "colab_type": "code",
        "colab": {}
      },
      "source": [
        "# Dept of Labor Employment Dataset\n",
        "# https://beta.bls.gov/dataViewer/view/timeseries/CES0000000001;jsessionid=542AB1B7EFC43613AD715045DF37B0B6\n",
        "employ = pd.read_csv('https://github.com/vksyr/IST718/raw/master/DOL_Employment.csv')\n",
        "employ = employ.drop('Date' , axis=1)\n",
        "employ.index = all_homes.index\n",
        "\n",
        "# Dept of Labor Unemployment Rate Dataset\n",
        "# https://beta.bls.gov/dataViewer/view/timeseries/CES0000000001;jsessionid=542AB1B7EFC43613AD715045DF37B0B6\n",
        "unemploy = pd.read_csv('https://github.com/vksyr/IST718/raw/master/DOL_Unemployment.csv')\n",
        "unemploy = unemploy.drop('Date' , axis=1)\n",
        "unemploy.index = all_homes.index\n",
        "\n",
        "# 30-Year Fixed Mortgage Rates\n",
        "# http://www.freddiemac.com/pmms/pmms_archives.html\n",
        "mtg = pd.read_csv('https://github.com/vksyr/IST718/raw/master/30YearFixedMortgage.csv')\n",
        "mtg = mtg.drop('Date' , axis=1)\n",
        "mtg.index = all_homes.index\n",
        "\n",
        "# Delinquencies on All Loans and Leases, Secured by Real Estate, Single-Family Residential Mortgages, \n",
        "# Booked in Domestic Offices, All Commercial Banks \n",
        "# https://fred.stlouisfed.org/series/DALLSRESFRMACBEP\n",
        "# Quarterly\n",
        "foreclosures = pd.read_csv('https://github.com/vksyr/IST718/raw/master/Foreclosures.csv')\n",
        "foreclosures['Date'] = pd.to_datetime(foreclosures['Date'], format='%m/%d/%Y', errors='coerce')\n",
        "foreclosures = foreclosures.set_index('Date')"
      ],
      "execution_count": 0,
      "outputs": []
    },
    {
      "cell_type": "code",
      "metadata": {
        "id": "3KVLA09k1SOY",
        "colab_type": "code",
        "colab": {}
      },
      "source": [
        "# since foreclosures is quarterly, ffill unlisted months\n",
        "newDf = pd.DataFrame(index=all_homes.index)\n",
        "newDf['value'] = 0\n",
        "\n",
        "for index, row in foreclosures.iterrows():\n",
        "  date = str(index)[:7]\n",
        "  newDf.loc[date].value = row.value\n",
        "\n",
        "newDf = newDf.replace(0,np.NaN)\n",
        "foreclosures = newDf.fillna(method='ffill')"
      ],
      "execution_count": 0,
      "outputs": []
    },
    {
      "cell_type": "code",
      "metadata": {
        "id": "Y7IPnTAleyiA",
        "colab_type": "code",
        "outputId": "967ffa90-761a-4cf3-8461-fba5e91736ac",
        "colab": {
          "base_uri": "https://localhost:8080/",
          "height": 617
        }
      },
      "source": [
        "# Plot exogs with home sales\n",
        "\n",
        "from plotly.subplots import make_subplots\n",
        "\n",
        "layout = go.Layout(legend = dict(x = 0.1, y = 0.9))\n",
        "\n",
        "fig = make_subplots(rows=5, cols=1)\n",
        "fig.append_trace(go.Scatter(x=df.index, y=df.value, name='Home Sales',\n",
        "                          line_color='gray'), row=1, col=1)\n",
        "fig.append_trace(go.Scatter(x=employ.index, y=employ.value, name='# Employed', \n",
        "                          line_color='deepskyblue'), row=2, col=1)\n",
        "fig.append_trace(go.Scatter(x=unemploy.index, y=unemploy.value, name='Unemployment Rate', \n",
        "                          line_color='#0028FF'), row=3, col=1)\n",
        "fig.append_trace(go.Scatter(x=foreclosures.index, y=foreclosures.value, name='Foreclosures',\n",
        "                          line_color='orange'), row=4, col=1)\n",
        "fig.append_trace(go.Scatter(x=mtg.index, y=mtg.value, name='30-Year Fixed Mortgage Rate',\n",
        "                          line_color='red'), row=5, col=1)\n",
        "\n",
        "fig.update_layout(title_text='Average Home Sales in Arkansas Metro Areas',\n",
        "                          xaxis_rangeslider_visible=False, legend = dict(x = 0.6, y = 1.2))\n",
        "\n",
        "fig.update_layout(height=600, width=600, title_text=\"Home Sales vs Other Factors (Natl)\")\n",
        "fig.show()"
      ],
      "execution_count": 18,
      "outputs": [
        {
          "output_type": "display_data",
          "data": {
            "text/html": [
              "<html>\n",
              "<head><meta charset=\"utf-8\" /></head>\n",
              "<body>\n",
              "    <div>\n",
              "            <script src=\"https://cdnjs.cloudflare.com/ajax/libs/mathjax/2.7.5/MathJax.js?config=TeX-AMS-MML_SVG\"></script><script type=\"text/javascript\">if (window.MathJax) {MathJax.Hub.Config({SVG: {font: \"STIX-Web\"}});}</script>\n",
              "                <script type=\"text/javascript\">window.PlotlyConfig = {MathJaxConfig: 'local'};</script>\n",
              "        <script src=\"https://cdn.plot.ly/plotly-latest.min.js\"></script>    \n",
              "            <div id=\"157fbd89-6d58-40c8-ba15-56879eafe8bb\" class=\"plotly-graph-div\" style=\"height:600px; width:600px;\"></div>\n",
              "            <script type=\"text/javascript\">\n",
              "                \n",
              "                    window.PLOTLYENV=window.PLOTLYENV || {};\n",
              "                    \n",
              "                if (document.getElementById(\"157fbd89-6d58-40c8-ba15-56879eafe8bb\")) {\n",
              "                    Plotly.newPlot(\n",
              "                        '157fbd89-6d58-40c8-ba15-56879eafe8bb',\n",
              "                        [{\"line\": {\"color\": \"gray\"}, \"name\": \"Home Sales\", \"type\": \"scatter\", \"x\": [\"1996-04-01T00:00:00\", \"1996-05-01T00:00:00\", \"1996-06-01T00:00:00\", \"1996-07-01T00:00:00\", \"1996-08-01T00:00:00\", \"1996-09-01T00:00:00\", \"1996-10-01T00:00:00\", \"1996-11-01T00:00:00\", \"1996-12-01T00:00:00\", \"1997-01-01T00:00:00\", \"1997-02-01T00:00:00\", \"1997-03-01T00:00:00\", \"1997-04-01T00:00:00\", \"1997-05-01T00:00:00\", \"1997-06-01T00:00:00\", \"1997-07-01T00:00:00\", \"1997-08-01T00:00:00\", \"1997-09-01T00:00:00\", \"1997-10-01T00:00:00\", \"1997-11-01T00:00:00\", \"1997-12-01T00:00:00\", \"1998-01-01T00:00:00\", \"1998-02-01T00:00:00\", \"1998-03-01T00:00:00\", \"1998-04-01T00:00:00\", \"1998-05-01T00:00:00\", \"1998-06-01T00:00:00\", \"1998-07-01T00:00:00\", \"1998-08-01T00:00:00\", \"1998-09-01T00:00:00\", \"1998-10-01T00:00:00\", \"1998-11-01T00:00:00\", \"1998-12-01T00:00:00\", \"1999-01-01T00:00:00\", \"1999-02-01T00:00:00\", \"1999-03-01T00:00:00\", \"1999-04-01T00:00:00\", \"1999-05-01T00:00:00\", \"1999-06-01T00:00:00\", \"1999-07-01T00:00:00\", \"1999-08-01T00:00:00\", \"1999-09-01T00:00:00\", \"1999-10-01T00:00:00\", \"1999-11-01T00:00:00\", \"1999-12-01T00:00:00\", \"2000-01-01T00:00:00\", \"2000-02-01T00:00:00\", \"2000-03-01T00:00:00\", \"2000-04-01T00:00:00\", \"2000-05-01T00:00:00\", \"2000-06-01T00:00:00\", \"2000-07-01T00:00:00\", \"2000-08-01T00:00:00\", \"2000-09-01T00:00:00\", \"2000-10-01T00:00:00\", \"2000-11-01T00:00:00\", \"2000-12-01T00:00:00\", \"2001-01-01T00:00:00\", \"2001-02-01T00:00:00\", \"2001-03-01T00:00:00\", \"2001-04-01T00:00:00\", \"2001-05-01T00:00:00\", \"2001-06-01T00:00:00\", \"2001-07-01T00:00:00\", \"2001-08-01T00:00:00\", \"2001-09-01T00:00:00\", \"2001-10-01T00:00:00\", \"2001-11-01T00:00:00\", \"2001-12-01T00:00:00\", \"2002-01-01T00:00:00\", \"2002-02-01T00:00:00\", \"2002-03-01T00:00:00\", \"2002-04-01T00:00:00\", \"2002-05-01T00:00:00\", \"2002-06-01T00:00:00\", \"2002-07-01T00:00:00\", \"2002-08-01T00:00:00\", \"2002-09-01T00:00:00\", \"2002-10-01T00:00:00\", \"2002-11-01T00:00:00\", \"2002-12-01T00:00:00\", \"2003-01-01T00:00:00\", \"2003-02-01T00:00:00\", \"2003-03-01T00:00:00\", \"2003-04-01T00:00:00\", \"2003-05-01T00:00:00\", \"2003-06-01T00:00:00\", \"2003-07-01T00:00:00\", \"2003-08-01T00:00:00\", \"2003-09-01T00:00:00\", \"2003-10-01T00:00:00\", \"2003-11-01T00:00:00\", \"2003-12-01T00:00:00\", \"2004-01-01T00:00:00\", \"2004-02-01T00:00:00\", \"2004-03-01T00:00:00\", \"2004-04-01T00:00:00\", \"2004-05-01T00:00:00\", \"2004-06-01T00:00:00\", \"2004-07-01T00:00:00\", \"2004-08-01T00:00:00\", \"2004-09-01T00:00:00\", \"2004-10-01T00:00:00\", \"2004-11-01T00:00:00\", \"2004-12-01T00:00:00\", \"2005-01-01T00:00:00\", \"2005-02-01T00:00:00\", \"2005-03-01T00:00:00\", \"2005-04-01T00:00:00\", \"2005-05-01T00:00:00\", \"2005-06-01T00:00:00\", \"2005-07-01T00:00:00\", \"2005-08-01T00:00:00\", \"2005-09-01T00:00:00\", \"2005-10-01T00:00:00\", \"2005-11-01T00:00:00\", \"2005-12-01T00:00:00\", \"2006-01-01T00:00:00\", \"2006-02-01T00:00:00\", \"2006-03-01T00:00:00\", \"2006-04-01T00:00:00\", \"2006-05-01T00:00:00\", \"2006-06-01T00:00:00\", \"2006-07-01T00:00:00\", \"2006-08-01T00:00:00\", \"2006-09-01T00:00:00\", \"2006-10-01T00:00:00\", \"2006-11-01T00:00:00\", \"2006-12-01T00:00:00\", \"2007-01-01T00:00:00\", \"2007-02-01T00:00:00\", \"2007-03-01T00:00:00\", \"2007-04-01T00:00:00\", \"2007-05-01T00:00:00\", \"2007-06-01T00:00:00\", \"2007-07-01T00:00:00\", \"2007-08-01T00:00:00\", \"2007-09-01T00:00:00\", \"2007-10-01T00:00:00\", \"2007-11-01T00:00:00\", \"2007-12-01T00:00:00\", \"2008-01-01T00:00:00\", \"2008-02-01T00:00:00\", \"2008-03-01T00:00:00\", \"2008-04-01T00:00:00\", \"2008-05-01T00:00:00\", \"2008-06-01T00:00:00\", \"2008-07-01T00:00:00\", \"2008-08-01T00:00:00\", \"2008-09-01T00:00:00\", \"2008-10-01T00:00:00\", \"2008-11-01T00:00:00\", \"2008-12-01T00:00:00\", \"2009-01-01T00:00:00\", \"2009-02-01T00:00:00\", \"2009-03-01T00:00:00\", \"2009-04-01T00:00:00\", \"2009-05-01T00:00:00\", \"2009-06-01T00:00:00\", \"2009-07-01T00:00:00\", \"2009-08-01T00:00:00\", \"2009-09-01T00:00:00\", \"2009-10-01T00:00:00\", \"2009-11-01T00:00:00\", \"2009-12-01T00:00:00\", \"2010-01-01T00:00:00\", \"2010-02-01T00:00:00\", \"2010-03-01T00:00:00\", \"2010-04-01T00:00:00\", \"2010-05-01T00:00:00\", \"2010-06-01T00:00:00\", \"2010-07-01T00:00:00\", \"2010-08-01T00:00:00\", \"2010-09-01T00:00:00\", \"2010-10-01T00:00:00\", \"2010-11-01T00:00:00\", \"2010-12-01T00:00:00\", \"2011-01-01T00:00:00\", \"2011-02-01T00:00:00\", \"2011-03-01T00:00:00\", \"2011-04-01T00:00:00\", \"2011-05-01T00:00:00\", \"2011-06-01T00:00:00\", \"2011-07-01T00:00:00\", \"2011-08-01T00:00:00\", \"2011-09-01T00:00:00\", \"2011-10-01T00:00:00\", \"2011-11-01T00:00:00\", \"2011-12-01T00:00:00\", \"2012-01-01T00:00:00\", \"2012-02-01T00:00:00\", \"2012-03-01T00:00:00\", \"2012-04-01T00:00:00\", \"2012-05-01T00:00:00\", \"2012-06-01T00:00:00\", \"2012-07-01T00:00:00\", \"2012-08-01T00:00:00\", \"2012-09-01T00:00:00\", \"2012-10-01T00:00:00\", \"2012-11-01T00:00:00\", \"2012-12-01T00:00:00\", \"2013-01-01T00:00:00\", \"2013-02-01T00:00:00\", \"2013-03-01T00:00:00\", \"2013-04-01T00:00:00\", \"2013-05-01T00:00:00\", \"2013-06-01T00:00:00\", \"2013-07-01T00:00:00\", \"2013-08-01T00:00:00\", \"2013-09-01T00:00:00\", \"2013-10-01T00:00:00\", \"2013-11-01T00:00:00\", \"2013-12-01T00:00:00\", \"2014-01-01T00:00:00\", \"2014-02-01T00:00:00\", \"2014-03-01T00:00:00\", \"2014-04-01T00:00:00\", \"2014-05-01T00:00:00\", \"2014-06-01T00:00:00\", \"2014-07-01T00:00:00\", \"2014-08-01T00:00:00\", \"2014-09-01T00:00:00\", \"2014-10-01T00:00:00\", \"2014-11-01T00:00:00\", \"2014-12-01T00:00:00\", \"2015-01-01T00:00:00\", \"2015-02-01T00:00:00\", \"2015-03-01T00:00:00\", \"2015-04-01T00:00:00\", \"2015-05-01T00:00:00\", \"2015-06-01T00:00:00\", \"2015-07-01T00:00:00\", \"2015-08-01T00:00:00\", \"2015-09-01T00:00:00\", \"2015-10-01T00:00:00\", \"2015-11-01T00:00:00\", \"2015-12-01T00:00:00\", \"2016-01-01T00:00:00\", \"2016-02-01T00:00:00\", \"2016-03-01T00:00:00\", \"2016-04-01T00:00:00\", \"2016-05-01T00:00:00\", \"2016-06-01T00:00:00\", \"2016-07-01T00:00:00\", \"2016-08-01T00:00:00\", \"2016-09-01T00:00:00\", \"2016-10-01T00:00:00\", \"2016-11-01T00:00:00\", \"2016-12-01T00:00:00\", \"2017-01-01T00:00:00\", \"2017-02-01T00:00:00\", \"2017-03-01T00:00:00\", \"2017-04-01T00:00:00\", \"2017-05-01T00:00:00\", \"2017-06-01T00:00:00\", \"2017-07-01T00:00:00\", \"2017-08-01T00:00:00\", \"2017-09-01T00:00:00\", \"2017-10-01T00:00:00\", \"2017-11-01T00:00:00\", \"2017-12-01T00:00:00\", \"2018-01-01T00:00:00\", \"2018-02-01T00:00:00\", \"2018-03-01T00:00:00\", \"2018-04-01T00:00:00\", \"2018-05-01T00:00:00\", \"2018-06-01T00:00:00\", \"2018-07-01T00:00:00\", \"2018-08-01T00:00:00\", \"2018-09-01T00:00:00\", \"2018-10-01T00:00:00\", \"2018-11-01T00:00:00\", \"2018-12-01T00:00:00\", \"2019-01-01T00:00:00\", \"2019-02-01T00:00:00\", \"2019-03-01T00:00:00\", \"2019-04-01T00:00:00\", \"2019-05-01T00:00:00\", \"2019-06-01T00:00:00\", \"2019-07-01T00:00:00\", \"2019-08-01T00:00:00\", \"2019-09-01T00:00:00\", \"2019-10-01T00:00:00\", \"2019-11-01T00:00:00\", \"2019-12-01T00:00:00\"], \"xaxis\": \"x\", \"y\": [107637.0, 107779.0, 107727.0, 107923.0, 108046.0, 108304.0, 108422.0, 108910.0, 109323.0, 109693.5, 109943.0, 110115.0, 110242.5, 110380.0, 110631.0, 110683.5, 111074.5, 111547.0, 111772.0, 112239.0, 112780.0, 113376.5, 113645.0, 113575.5, 113401.5, 113447.0, 113745.0, 113851.0, 114159.0, 114360.0, 114637.0, 114968.0, 115426.0, 115251.0, 115447.0, 115459.0, 115604.0, 115821.0, 116101.0, 116536.0, 116848.5, 117048.0, 117281.0, 117698.0, 118270.5, 118815.0, 119314.5, 119713.0, 119941.0, 120363.0, 120715.0, 120999.0, 121291.0, 121827.0, 122375.5, 122960.0, 123688.0, 124204.0, 124762.0, 125258.0, 125585.0, 126066.0, 126548.0, 127007.0, 127683.0, 128320.0, 128757.0, 129319.0, 129825.0, 130519.5, 131033.0, 131398.0, 131940.0, 132292.0, 132897.0, 133531.0, 133996.0, 134551.0, 135150.0, 135766.0, 136386.5, 136914.0, 137367.5, 138039.0, 138420.0, 138692.0, 139267.0, 140014.0, 140834.0, 141832.0, 142876.5, 143573.0, 144337.0, 145020.0, 145579.0, 146455.5, 147214.0, 148123.0, 148963.0, 150121.0, 151072.0, 151957.0, 152552.0, 153716.5, 154840.5, 154047.0, 152878.0, 150218.5, 148844.0, 147885.0, 147306.0, 147500.0, 147606.0, 148302.0, 148936.5, 149610.0, 150248.0, 150874.0, 151506.5, 151927.0, 152151.0, 152516.0, 152808.0, 152919.0, 153224.0, 153540.0, 154084.0, 154397.5, 154665.0, 154749.0, 154946.0, 154841.0, 154846.0, 154689.0, 154302.0, 154125.0, 154154.0, 154100.5, 154173.0, 153885.0, 153682.0, 149408.0, 149071.0, 148549.5, 147863.5, 146994.5, 146271.5, 145692.0, 144654.5, 143964.0, 143293.0, 142648.5, 141926.0, 141120.0, 140527.5, 139634.5, 138852.0, 138002.0, 137143.5, 136267.0, 135655.0, 134894.5, 134251.0, 133884.0, 133628.5, 133282.0, 132993.0, 132859.0, 132739.0, 132612.5, 132384.0, 131947.0, 131589.0, 131079.0, 130547.0, 129861.0, 129189.0, 128272.0, 127582.5, 127007.0, 126255.0, 125786.0, 125412.0, 125035.5, 124793.0, 124565.0, 124349.5, 124188.5, 124038.0, 123707.0, 123496.5, 123545.0, 123510.0, 123550.0, 123573.0, 123686.0, 123910.5, 124099.5, 124364.0, 124673.0, 124955.5, 125063.5, 125264.0, 125628.0, 126020.0, 126539.0, 126973.0, 127424.5, 127883.0, 128426.0, 128689.0, 129049.0, 129360.5, 129520.5, 129875.0, 130086.0, 130484.0, 130729.5, 131057.0, 131518.0, 131703.0, 131940.0, 132304.0, 132654.5, 133026.0, 132779.0, 133182.0, 133586.0, 134168.0, 134685.5, 135170.0, 135520.0, 135726.0, 135956.0, 136178.0, 136491.0, 136830.0, 137223.0, 137693.0, 138206.5, 138765.0, 139234.5, 139765.5, 140210.5, 140584.5, 140922.0, 141286.0, 141785.0, 142382.0, 142856.0, 143344.0, 143948.0, 144638.0, 145313.5, 145833.5, 146311.0, 146867.5, 147298.5, 147802.0, 148513.5, 149108.5, 149688.5, 150331.0, 151370.0, 152163.5, 152989.0, 153808.0, 154561.0, 155051.5, 155500.0, 156016.0, 156583.5, 157022.0, 157711.5, 158269.5, 158925.5, 159611.5, 160459.5, 161149.5, 161731.5, 162208.0, 162622.0, 163229.5, 163566.5, 163968.5], \"yaxis\": \"y\"}, {\"line\": {\"color\": \"deepskyblue\"}, \"name\": \"# Employed\", \"type\": \"scatter\", \"x\": [\"1996-04-01T00:00:00\", \"1996-05-01T00:00:00\", \"1996-06-01T00:00:00\", \"1996-07-01T00:00:00\", \"1996-08-01T00:00:00\", \"1996-09-01T00:00:00\", \"1996-10-01T00:00:00\", \"1996-11-01T00:00:00\", \"1996-12-01T00:00:00\", \"1997-01-01T00:00:00\", \"1997-02-01T00:00:00\", \"1997-03-01T00:00:00\", \"1997-04-01T00:00:00\", \"1997-05-01T00:00:00\", \"1997-06-01T00:00:00\", \"1997-07-01T00:00:00\", \"1997-08-01T00:00:00\", \"1997-09-01T00:00:00\", \"1997-10-01T00:00:00\", \"1997-11-01T00:00:00\", \"1997-12-01T00:00:00\", \"1998-01-01T00:00:00\", \"1998-02-01T00:00:00\", \"1998-03-01T00:00:00\", \"1998-04-01T00:00:00\", \"1998-05-01T00:00:00\", \"1998-06-01T00:00:00\", \"1998-07-01T00:00:00\", \"1998-08-01T00:00:00\", \"1998-09-01T00:00:00\", \"1998-10-01T00:00:00\", \"1998-11-01T00:00:00\", \"1998-12-01T00:00:00\", \"1999-01-01T00:00:00\", \"1999-02-01T00:00:00\", \"1999-03-01T00:00:00\", \"1999-04-01T00:00:00\", \"1999-05-01T00:00:00\", \"1999-06-01T00:00:00\", \"1999-07-01T00:00:00\", \"1999-08-01T00:00:00\", \"1999-09-01T00:00:00\", \"1999-10-01T00:00:00\", \"1999-11-01T00:00:00\", \"1999-12-01T00:00:00\", \"2000-01-01T00:00:00\", \"2000-02-01T00:00:00\", \"2000-03-01T00:00:00\", \"2000-04-01T00:00:00\", \"2000-05-01T00:00:00\", \"2000-06-01T00:00:00\", \"2000-07-01T00:00:00\", \"2000-08-01T00:00:00\", \"2000-09-01T00:00:00\", \"2000-10-01T00:00:00\", \"2000-11-01T00:00:00\", \"2000-12-01T00:00:00\", \"2001-01-01T00:00:00\", \"2001-02-01T00:00:00\", \"2001-03-01T00:00:00\", \"2001-04-01T00:00:00\", \"2001-05-01T00:00:00\", \"2001-06-01T00:00:00\", \"2001-07-01T00:00:00\", \"2001-08-01T00:00:00\", \"2001-09-01T00:00:00\", \"2001-10-01T00:00:00\", \"2001-11-01T00:00:00\", \"2001-12-01T00:00:00\", \"2002-01-01T00:00:00\", \"2002-02-01T00:00:00\", \"2002-03-01T00:00:00\", \"2002-04-01T00:00:00\", \"2002-05-01T00:00:00\", \"2002-06-01T00:00:00\", \"2002-07-01T00:00:00\", \"2002-08-01T00:00:00\", \"2002-09-01T00:00:00\", \"2002-10-01T00:00:00\", \"2002-11-01T00:00:00\", \"2002-12-01T00:00:00\", \"2003-01-01T00:00:00\", \"2003-02-01T00:00:00\", \"2003-03-01T00:00:00\", \"2003-04-01T00:00:00\", \"2003-05-01T00:00:00\", \"2003-06-01T00:00:00\", \"2003-07-01T00:00:00\", \"2003-08-01T00:00:00\", \"2003-09-01T00:00:00\", \"2003-10-01T00:00:00\", \"2003-11-01T00:00:00\", \"2003-12-01T00:00:00\", \"2004-01-01T00:00:00\", \"2004-02-01T00:00:00\", \"2004-03-01T00:00:00\", \"2004-04-01T00:00:00\", \"2004-05-01T00:00:00\", \"2004-06-01T00:00:00\", \"2004-07-01T00:00:00\", \"2004-08-01T00:00:00\", \"2004-09-01T00:00:00\", \"2004-10-01T00:00:00\", \"2004-11-01T00:00:00\", \"2004-12-01T00:00:00\", \"2005-01-01T00:00:00\", \"2005-02-01T00:00:00\", \"2005-03-01T00:00:00\", \"2005-04-01T00:00:00\", \"2005-05-01T00:00:00\", \"2005-06-01T00:00:00\", \"2005-07-01T00:00:00\", \"2005-08-01T00:00:00\", \"2005-09-01T00:00:00\", \"2005-10-01T00:00:00\", \"2005-11-01T00:00:00\", \"2005-12-01T00:00:00\", \"2006-01-01T00:00:00\", \"2006-02-01T00:00:00\", \"2006-03-01T00:00:00\", \"2006-04-01T00:00:00\", \"2006-05-01T00:00:00\", \"2006-06-01T00:00:00\", \"2006-07-01T00:00:00\", \"2006-08-01T00:00:00\", \"2006-09-01T00:00:00\", \"2006-10-01T00:00:00\", \"2006-11-01T00:00:00\", \"2006-12-01T00:00:00\", \"2007-01-01T00:00:00\", \"2007-02-01T00:00:00\", \"2007-03-01T00:00:00\", \"2007-04-01T00:00:00\", \"2007-05-01T00:00:00\", \"2007-06-01T00:00:00\", \"2007-07-01T00:00:00\", \"2007-08-01T00:00:00\", \"2007-09-01T00:00:00\", \"2007-10-01T00:00:00\", \"2007-11-01T00:00:00\", \"2007-12-01T00:00:00\", \"2008-01-01T00:00:00\", \"2008-02-01T00:00:00\", \"2008-03-01T00:00:00\", \"2008-04-01T00:00:00\", \"2008-05-01T00:00:00\", \"2008-06-01T00:00:00\", \"2008-07-01T00:00:00\", \"2008-08-01T00:00:00\", \"2008-09-01T00:00:00\", \"2008-10-01T00:00:00\", \"2008-11-01T00:00:00\", \"2008-12-01T00:00:00\", \"2009-01-01T00:00:00\", \"2009-02-01T00:00:00\", \"2009-03-01T00:00:00\", \"2009-04-01T00:00:00\", \"2009-05-01T00:00:00\", \"2009-06-01T00:00:00\", \"2009-07-01T00:00:00\", \"2009-08-01T00:00:00\", \"2009-09-01T00:00:00\", \"2009-10-01T00:00:00\", \"2009-11-01T00:00:00\", \"2009-12-01T00:00:00\", \"2010-01-01T00:00:00\", \"2010-02-01T00:00:00\", \"2010-03-01T00:00:00\", \"2010-04-01T00:00:00\", \"2010-05-01T00:00:00\", \"2010-06-01T00:00:00\", \"2010-07-01T00:00:00\", \"2010-08-01T00:00:00\", \"2010-09-01T00:00:00\", \"2010-10-01T00:00:00\", \"2010-11-01T00:00:00\", \"2010-12-01T00:00:00\", \"2011-01-01T00:00:00\", \"2011-02-01T00:00:00\", \"2011-03-01T00:00:00\", \"2011-04-01T00:00:00\", \"2011-05-01T00:00:00\", \"2011-06-01T00:00:00\", \"2011-07-01T00:00:00\", \"2011-08-01T00:00:00\", \"2011-09-01T00:00:00\", \"2011-10-01T00:00:00\", \"2011-11-01T00:00:00\", \"2011-12-01T00:00:00\", \"2012-01-01T00:00:00\", \"2012-02-01T00:00:00\", \"2012-03-01T00:00:00\", \"2012-04-01T00:00:00\", \"2012-05-01T00:00:00\", \"2012-06-01T00:00:00\", \"2012-07-01T00:00:00\", \"2012-08-01T00:00:00\", \"2012-09-01T00:00:00\", \"2012-10-01T00:00:00\", \"2012-11-01T00:00:00\", \"2012-12-01T00:00:00\", \"2013-01-01T00:00:00\", \"2013-02-01T00:00:00\", \"2013-03-01T00:00:00\", \"2013-04-01T00:00:00\", \"2013-05-01T00:00:00\", \"2013-06-01T00:00:00\", \"2013-07-01T00:00:00\", \"2013-08-01T00:00:00\", \"2013-09-01T00:00:00\", \"2013-10-01T00:00:00\", \"2013-11-01T00:00:00\", \"2013-12-01T00:00:00\", \"2014-01-01T00:00:00\", \"2014-02-01T00:00:00\", \"2014-03-01T00:00:00\", \"2014-04-01T00:00:00\", \"2014-05-01T00:00:00\", \"2014-06-01T00:00:00\", \"2014-07-01T00:00:00\", \"2014-08-01T00:00:00\", \"2014-09-01T00:00:00\", \"2014-10-01T00:00:00\", \"2014-11-01T00:00:00\", \"2014-12-01T00:00:00\", \"2015-01-01T00:00:00\", \"2015-02-01T00:00:00\", \"2015-03-01T00:00:00\", \"2015-04-01T00:00:00\", \"2015-05-01T00:00:00\", \"2015-06-01T00:00:00\", \"2015-07-01T00:00:00\", \"2015-08-01T00:00:00\", \"2015-09-01T00:00:00\", \"2015-10-01T00:00:00\", \"2015-11-01T00:00:00\", \"2015-12-01T00:00:00\", \"2016-01-01T00:00:00\", \"2016-02-01T00:00:00\", \"2016-03-01T00:00:00\", \"2016-04-01T00:00:00\", \"2016-05-01T00:00:00\", \"2016-06-01T00:00:00\", \"2016-07-01T00:00:00\", \"2016-08-01T00:00:00\", \"2016-09-01T00:00:00\", \"2016-10-01T00:00:00\", \"2016-11-01T00:00:00\", \"2016-12-01T00:00:00\", \"2017-01-01T00:00:00\", \"2017-02-01T00:00:00\", \"2017-03-01T00:00:00\", \"2017-04-01T00:00:00\", \"2017-05-01T00:00:00\", \"2017-06-01T00:00:00\", \"2017-07-01T00:00:00\", \"2017-08-01T00:00:00\", \"2017-09-01T00:00:00\", \"2017-10-01T00:00:00\", \"2017-11-01T00:00:00\", \"2017-12-01T00:00:00\", \"2018-01-01T00:00:00\", \"2018-02-01T00:00:00\", \"2018-03-01T00:00:00\", \"2018-04-01T00:00:00\", \"2018-05-01T00:00:00\", \"2018-06-01T00:00:00\", \"2018-07-01T00:00:00\", \"2018-08-01T00:00:00\", \"2018-09-01T00:00:00\", \"2018-10-01T00:00:00\", \"2018-11-01T00:00:00\", \"2018-12-01T00:00:00\", \"2019-01-01T00:00:00\", \"2019-02-01T00:00:00\", \"2019-03-01T00:00:00\", \"2019-04-01T00:00:00\", \"2019-05-01T00:00:00\", \"2019-06-01T00:00:00\", \"2019-07-01T00:00:00\", \"2019-08-01T00:00:00\", \"2019-09-01T00:00:00\", \"2019-10-01T00:00:00\", \"2019-11-01T00:00:00\", \"2019-12-01T00:00:00\"], \"xaxis\": \"x2\", \"y\": [119158, 119486, 119769, 120015, 120199, 120410, 120665, 120961, 121143, 121363, 121675, 121990, 122286, 122546, 122814, 123111, 123093, 123585, 123929, 124235, 124549, 124812, 125016, 125164, 125442, 125844, 126076, 126205, 126544, 126752, 126954, 127231, 127596, 127702, 128120, 128227, 128597, 128808, 129089, 129414, 129569, 129772, 130177, 130466, 130772, 131005, 131124, 131596, 131888, 132105, 132061, 132236, 132230, 132353, 132351, 132556, 132709, 132698, 132789, 132747, 132463, 132410, 132299, 132177, 132028, 131771, 131454, 131142, 130982, 130852, 130736, 130717, 130623, 130634, 130684, 130590, 130587, 130501, 130628, 130615, 130472, 130580, 130444, 130232, 130177, 130196, 130194, 130191, 130149, 130254, 130454, 130474, 130588, 130769, 130825, 131142, 131411, 131694, 131793, 131848, 131937, 132093, 132447, 132503, 132624, 132774, 133032, 133156, 133518, 133690, 133942, 134296, 134498, 134566, 134655, 134993, 135149, 135429, 135737, 136047, 136205, 136244, 136325, 136520, 136694, 136843, 136852, 137063, 137249, 137477, 137558, 137793, 137842, 137993, 138069, 138038, 138015, 138095, 138174, 138284, 138392, 138403, 138324, 138275, 138035, 137858, 137687, 137491, 137213, 136753, 136272, 135545, 134839, 134055, 133312, 132512, 131817, 131475, 131008, 130668, 130485, 130244, 130045, 130057, 129788, 129790, 129698, 129879, 130110, 130650, 130511, 130427, 130422, 130357, 130625, 130750, 130822, 130841, 131053, 131288, 131602, 131703, 131939, 131999, 132125, 132358, 132562, 132694, 132896, 133250, 133512, 133752, 133834, 133934, 134007, 134159, 134331, 134518, 134677, 134833, 135072, 135263, 135541, 135680, 135871, 136093, 136274, 136386, 136628, 136815, 137040, 137304, 137373, 137548, 137714, 137968, 138293, 138511, 138837, 139069, 139257, 139566, 139818, 140109, 140377, 140568, 140839, 140910, 141194, 141525, 141699, 142001, 142126, 142281, 142587, 142824, 143097, 143170, 143433, 143662, 143849, 143891, 144158, 144512, 144647, 144916, 145061, 145212, 145442, 145627, 145815, 145944, 146141, 146296, 146512, 146727, 146911, 146929, 147196, 147421, 147551, 147672, 148078, 148254, 148391, 148669, 148888, 149024, 149268, 149348, 149549, 149683, 149865, 150134, 150135, 150282, 150492, 150577, 150759, 150953, 151160, 151368, 151553, 151814, 151961], \"yaxis\": \"y2\"}, {\"line\": {\"color\": \"#0028FF\"}, \"name\": \"Unemployment Rate\", \"type\": \"scatter\", \"x\": [\"1996-04-01T00:00:00\", \"1996-05-01T00:00:00\", \"1996-06-01T00:00:00\", \"1996-07-01T00:00:00\", \"1996-08-01T00:00:00\", \"1996-09-01T00:00:00\", \"1996-10-01T00:00:00\", \"1996-11-01T00:00:00\", \"1996-12-01T00:00:00\", \"1997-01-01T00:00:00\", \"1997-02-01T00:00:00\", \"1997-03-01T00:00:00\", \"1997-04-01T00:00:00\", \"1997-05-01T00:00:00\", \"1997-06-01T00:00:00\", \"1997-07-01T00:00:00\", \"1997-08-01T00:00:00\", \"1997-09-01T00:00:00\", \"1997-10-01T00:00:00\", \"1997-11-01T00:00:00\", \"1997-12-01T00:00:00\", \"1998-01-01T00:00:00\", \"1998-02-01T00:00:00\", \"1998-03-01T00:00:00\", \"1998-04-01T00:00:00\", \"1998-05-01T00:00:00\", \"1998-06-01T00:00:00\", \"1998-07-01T00:00:00\", \"1998-08-01T00:00:00\", \"1998-09-01T00:00:00\", \"1998-10-01T00:00:00\", \"1998-11-01T00:00:00\", \"1998-12-01T00:00:00\", \"1999-01-01T00:00:00\", \"1999-02-01T00:00:00\", \"1999-03-01T00:00:00\", \"1999-04-01T00:00:00\", \"1999-05-01T00:00:00\", \"1999-06-01T00:00:00\", \"1999-07-01T00:00:00\", \"1999-08-01T00:00:00\", \"1999-09-01T00:00:00\", \"1999-10-01T00:00:00\", \"1999-11-01T00:00:00\", \"1999-12-01T00:00:00\", \"2000-01-01T00:00:00\", \"2000-02-01T00:00:00\", \"2000-03-01T00:00:00\", \"2000-04-01T00:00:00\", \"2000-05-01T00:00:00\", \"2000-06-01T00:00:00\", \"2000-07-01T00:00:00\", \"2000-08-01T00:00:00\", \"2000-09-01T00:00:00\", \"2000-10-01T00:00:00\", \"2000-11-01T00:00:00\", \"2000-12-01T00:00:00\", \"2001-01-01T00:00:00\", \"2001-02-01T00:00:00\", \"2001-03-01T00:00:00\", \"2001-04-01T00:00:00\", \"2001-05-01T00:00:00\", \"2001-06-01T00:00:00\", \"2001-07-01T00:00:00\", \"2001-08-01T00:00:00\", \"2001-09-01T00:00:00\", \"2001-10-01T00:00:00\", \"2001-11-01T00:00:00\", \"2001-12-01T00:00:00\", \"2002-01-01T00:00:00\", \"2002-02-01T00:00:00\", \"2002-03-01T00:00:00\", \"2002-04-01T00:00:00\", \"2002-05-01T00:00:00\", \"2002-06-01T00:00:00\", \"2002-07-01T00:00:00\", \"2002-08-01T00:00:00\", \"2002-09-01T00:00:00\", \"2002-10-01T00:00:00\", \"2002-11-01T00:00:00\", \"2002-12-01T00:00:00\", \"2003-01-01T00:00:00\", \"2003-02-01T00:00:00\", \"2003-03-01T00:00:00\", \"2003-04-01T00:00:00\", \"2003-05-01T00:00:00\", \"2003-06-01T00:00:00\", \"2003-07-01T00:00:00\", \"2003-08-01T00:00:00\", \"2003-09-01T00:00:00\", \"2003-10-01T00:00:00\", \"2003-11-01T00:00:00\", \"2003-12-01T00:00:00\", \"2004-01-01T00:00:00\", \"2004-02-01T00:00:00\", \"2004-03-01T00:00:00\", \"2004-04-01T00:00:00\", \"2004-05-01T00:00:00\", \"2004-06-01T00:00:00\", \"2004-07-01T00:00:00\", \"2004-08-01T00:00:00\", \"2004-09-01T00:00:00\", \"2004-10-01T00:00:00\", \"2004-11-01T00:00:00\", \"2004-12-01T00:00:00\", \"2005-01-01T00:00:00\", \"2005-02-01T00:00:00\", \"2005-03-01T00:00:00\", \"2005-04-01T00:00:00\", \"2005-05-01T00:00:00\", \"2005-06-01T00:00:00\", \"2005-07-01T00:00:00\", \"2005-08-01T00:00:00\", \"2005-09-01T00:00:00\", \"2005-10-01T00:00:00\", \"2005-11-01T00:00:00\", \"2005-12-01T00:00:00\", \"2006-01-01T00:00:00\", \"2006-02-01T00:00:00\", \"2006-03-01T00:00:00\", \"2006-04-01T00:00:00\", \"2006-05-01T00:00:00\", \"2006-06-01T00:00:00\", \"2006-07-01T00:00:00\", \"2006-08-01T00:00:00\", \"2006-09-01T00:00:00\", \"2006-10-01T00:00:00\", \"2006-11-01T00:00:00\", \"2006-12-01T00:00:00\", \"2007-01-01T00:00:00\", \"2007-02-01T00:00:00\", \"2007-03-01T00:00:00\", \"2007-04-01T00:00:00\", \"2007-05-01T00:00:00\", \"2007-06-01T00:00:00\", \"2007-07-01T00:00:00\", \"2007-08-01T00:00:00\", \"2007-09-01T00:00:00\", \"2007-10-01T00:00:00\", \"2007-11-01T00:00:00\", \"2007-12-01T00:00:00\", \"2008-01-01T00:00:00\", \"2008-02-01T00:00:00\", \"2008-03-01T00:00:00\", \"2008-04-01T00:00:00\", \"2008-05-01T00:00:00\", \"2008-06-01T00:00:00\", \"2008-07-01T00:00:00\", \"2008-08-01T00:00:00\", \"2008-09-01T00:00:00\", \"2008-10-01T00:00:00\", \"2008-11-01T00:00:00\", \"2008-12-01T00:00:00\", \"2009-01-01T00:00:00\", \"2009-02-01T00:00:00\", \"2009-03-01T00:00:00\", \"2009-04-01T00:00:00\", \"2009-05-01T00:00:00\", \"2009-06-01T00:00:00\", \"2009-07-01T00:00:00\", \"2009-08-01T00:00:00\", \"2009-09-01T00:00:00\", \"2009-10-01T00:00:00\", \"2009-11-01T00:00:00\", \"2009-12-01T00:00:00\", \"2010-01-01T00:00:00\", \"2010-02-01T00:00:00\", \"2010-03-01T00:00:00\", \"2010-04-01T00:00:00\", \"2010-05-01T00:00:00\", \"2010-06-01T00:00:00\", \"2010-07-01T00:00:00\", \"2010-08-01T00:00:00\", \"2010-09-01T00:00:00\", \"2010-10-01T00:00:00\", \"2010-11-01T00:00:00\", \"2010-12-01T00:00:00\", \"2011-01-01T00:00:00\", \"2011-02-01T00:00:00\", \"2011-03-01T00:00:00\", \"2011-04-01T00:00:00\", \"2011-05-01T00:00:00\", \"2011-06-01T00:00:00\", \"2011-07-01T00:00:00\", \"2011-08-01T00:00:00\", \"2011-09-01T00:00:00\", \"2011-10-01T00:00:00\", \"2011-11-01T00:00:00\", \"2011-12-01T00:00:00\", \"2012-01-01T00:00:00\", \"2012-02-01T00:00:00\", \"2012-03-01T00:00:00\", \"2012-04-01T00:00:00\", \"2012-05-01T00:00:00\", \"2012-06-01T00:00:00\", \"2012-07-01T00:00:00\", \"2012-08-01T00:00:00\", \"2012-09-01T00:00:00\", \"2012-10-01T00:00:00\", \"2012-11-01T00:00:00\", \"2012-12-01T00:00:00\", \"2013-01-01T00:00:00\", \"2013-02-01T00:00:00\", \"2013-03-01T00:00:00\", \"2013-04-01T00:00:00\", \"2013-05-01T00:00:00\", \"2013-06-01T00:00:00\", \"2013-07-01T00:00:00\", \"2013-08-01T00:00:00\", \"2013-09-01T00:00:00\", \"2013-10-01T00:00:00\", \"2013-11-01T00:00:00\", \"2013-12-01T00:00:00\", \"2014-01-01T00:00:00\", \"2014-02-01T00:00:00\", \"2014-03-01T00:00:00\", \"2014-04-01T00:00:00\", \"2014-05-01T00:00:00\", \"2014-06-01T00:00:00\", \"2014-07-01T00:00:00\", \"2014-08-01T00:00:00\", \"2014-09-01T00:00:00\", \"2014-10-01T00:00:00\", \"2014-11-01T00:00:00\", \"2014-12-01T00:00:00\", \"2015-01-01T00:00:00\", \"2015-02-01T00:00:00\", \"2015-03-01T00:00:00\", \"2015-04-01T00:00:00\", \"2015-05-01T00:00:00\", \"2015-06-01T00:00:00\", \"2015-07-01T00:00:00\", \"2015-08-01T00:00:00\", \"2015-09-01T00:00:00\", \"2015-10-01T00:00:00\", \"2015-11-01T00:00:00\", \"2015-12-01T00:00:00\", \"2016-01-01T00:00:00\", \"2016-02-01T00:00:00\", \"2016-03-01T00:00:00\", \"2016-04-01T00:00:00\", \"2016-05-01T00:00:00\", \"2016-06-01T00:00:00\", \"2016-07-01T00:00:00\", \"2016-08-01T00:00:00\", \"2016-09-01T00:00:00\", \"2016-10-01T00:00:00\", \"2016-11-01T00:00:00\", \"2016-12-01T00:00:00\", \"2017-01-01T00:00:00\", \"2017-02-01T00:00:00\", \"2017-03-01T00:00:00\", \"2017-04-01T00:00:00\", \"2017-05-01T00:00:00\", \"2017-06-01T00:00:00\", \"2017-07-01T00:00:00\", \"2017-08-01T00:00:00\", \"2017-09-01T00:00:00\", \"2017-10-01T00:00:00\", \"2017-11-01T00:00:00\", \"2017-12-01T00:00:00\", \"2018-01-01T00:00:00\", \"2018-02-01T00:00:00\", \"2018-03-01T00:00:00\", \"2018-04-01T00:00:00\", \"2018-05-01T00:00:00\", \"2018-06-01T00:00:00\", \"2018-07-01T00:00:00\", \"2018-08-01T00:00:00\", \"2018-09-01T00:00:00\", \"2018-10-01T00:00:00\", \"2018-11-01T00:00:00\", \"2018-12-01T00:00:00\", \"2019-01-01T00:00:00\", \"2019-02-01T00:00:00\", \"2019-03-01T00:00:00\", \"2019-04-01T00:00:00\", \"2019-05-01T00:00:00\", \"2019-06-01T00:00:00\", \"2019-07-01T00:00:00\", \"2019-08-01T00:00:00\", \"2019-09-01T00:00:00\", \"2019-10-01T00:00:00\", \"2019-11-01T00:00:00\", \"2019-12-01T00:00:00\"], \"xaxis\": \"x3\", \"y\": [5.6, 5.6, 5.3, 5.5, 5.1, 5.2, 5.2, 5.4, 5.4, 5.3, 5.2, 5.2, 5.1, 4.9, 5.0, 4.9, 4.8, 4.9, 4.7, 4.6, 4.7, 4.6, 4.6, 4.7, 4.3, 4.4, 4.5, 4.5, 4.5, 4.6, 4.5, 4.4, 4.4, 4.3, 4.4, 4.2, 4.3, 4.2, 4.3, 4.3, 4.2, 4.2, 4.1, 4.1, 4.0, 4.0, 4.1, 4.0, 3.8, 4.0, 4.0, 4.0, 4.1, 3.9, 3.9, 3.9, 3.9, 4.2, 4.2, 4.3, 4.4, 4.3, 4.5, 4.6, 4.9, 5.0, 5.3, 5.5, 5.7, 5.7, 5.7, 5.7, 5.9, 5.8, 5.8, 5.8, 5.7, 5.7, 5.7, 5.9, 6.0, 5.8, 5.9, 5.9, 6.0, 6.1, 6.3, 6.2, 6.1, 6.1, 6.0, 5.8, 5.7, 5.7, 5.6, 5.8, 5.6, 5.6, 5.6, 5.5, 5.4, 5.4, 5.5, 5.4, 5.4, 5.3, 5.4, 5.2, 5.2, 5.1, 5.0, 5.0, 4.9, 5.0, 5.0, 5.0, 4.9, 4.7, 4.8, 4.7, 4.7, 4.6, 4.6, 4.7, 4.7, 4.5, 4.4, 4.5, 4.4, 4.6, 4.5, 4.4, 4.5, 4.4, 4.6, 4.7, 4.6, 4.7, 4.7, 4.7, 5.0, 5.0, 4.9, 5.1, 5.0, 5.4, 5.6, 5.8, 6.1, 6.1, 6.5, 6.8, 7.3, 7.8, 8.3, 8.7, 9.0, 9.4, 9.5, 9.5, 9.6, 9.8, 10.0, 9.9, 9.9, 9.8, 9.8, 9.9, 9.9, 9.6, 9.4, 9.4, 9.5, 9.5, 9.4, 9.8, 9.3, 9.1, 9.0, 9.0, 9.1, 9.0, 9.1, 9.0, 9.0, 9.0, 8.8, 8.6, 8.5, 8.3, 8.3, 8.2, 8.2, 8.2, 8.2, 8.2, 8.1, 7.8, 7.8, 7.7, 7.9, 8.0, 7.7, 7.5, 7.6, 7.5, 7.5, 7.3, 7.2, 7.2, 7.2, 6.9, 6.7, 6.6, 6.7, 6.7, 6.2, 6.3, 6.1, 6.2, 6.1, 5.9, 5.7, 5.8, 5.6, 5.7, 5.5, 5.4, 5.4, 5.6, 5.3, 5.2, 5.1, 5.0, 5.0, 5.1, 5.0, 4.9, 4.9, 5.0, 5.0, 4.8, 4.9, 4.8, 4.9, 5.0, 4.9, 4.7, 4.7, 4.7, 4.6, 4.4, 4.4, 4.4, 4.3, 4.3, 4.4, 4.2, 4.1, 4.2, 4.1, 4.1, 4.1, 4.0, 4.0, 3.8, 4.0, 3.8, 3.8, 3.7, 3.8, 3.7, 3.9, 4.0, 3.8, 3.8, 3.6, 3.6, 3.7, 3.7, 3.7, 3.5, 3.6, 3.5, 3.5], \"yaxis\": \"y3\"}, {\"line\": {\"color\": \"orange\"}, \"name\": \"Foreclosures\", \"type\": \"scatter\", \"x\": [\"1996-04-01T00:00:00\", \"1996-07-01T00:00:00\", \"1996-10-01T00:00:00\", \"1997-01-01T00:00:00\", \"1997-04-01T00:00:00\", \"1997-07-01T00:00:00\", \"1997-10-01T00:00:00\", \"1998-01-01T00:00:00\", \"1998-04-01T00:00:00\", \"1998-07-01T00:00:00\", \"1998-10-01T00:00:00\", \"1999-01-01T00:00:00\", \"1999-04-01T00:00:00\", \"1999-07-01T00:00:00\", \"1999-10-01T00:00:00\", \"2000-01-01T00:00:00\", \"2000-04-01T00:00:00\", \"2000-07-01T00:00:00\", \"2000-10-01T00:00:00\", \"2001-01-01T00:00:00\", \"2001-04-01T00:00:00\", \"2001-07-01T00:00:00\", \"2001-10-01T00:00:00\", \"2002-01-01T00:00:00\", \"2002-04-01T00:00:00\", \"2002-07-01T00:00:00\", \"2002-10-01T00:00:00\", \"2003-01-01T00:00:00\", \"2003-04-01T00:00:00\", \"2003-07-01T00:00:00\", \"2003-10-01T00:00:00\", \"2004-01-01T00:00:00\", \"2004-04-01T00:00:00\", \"2004-07-01T00:00:00\", \"2004-10-01T00:00:00\", \"2005-01-01T00:00:00\", \"2005-04-01T00:00:00\", \"2005-07-01T00:00:00\", \"2005-10-01T00:00:00\", \"2006-01-01T00:00:00\", \"2006-04-01T00:00:00\", \"2006-07-01T00:00:00\", \"2006-10-01T00:00:00\", \"2007-01-01T00:00:00\", \"2007-04-01T00:00:00\", \"2007-07-01T00:00:00\", \"2007-10-01T00:00:00\", \"2008-01-01T00:00:00\", \"2008-04-01T00:00:00\", \"2008-07-01T00:00:00\", \"2008-10-01T00:00:00\", \"2009-01-01T00:00:00\", \"2009-04-01T00:00:00\", \"2009-07-01T00:00:00\", \"2009-10-01T00:00:00\", \"2010-01-01T00:00:00\", \"2010-04-01T00:00:00\", \"2010-07-01T00:00:00\", \"2010-10-01T00:00:00\", \"2011-01-01T00:00:00\", \"2011-04-01T00:00:00\", \"2011-07-01T00:00:00\", \"2011-10-01T00:00:00\", \"2012-01-01T00:00:00\", \"2012-04-01T00:00:00\", \"2012-07-01T00:00:00\", \"2012-10-01T00:00:00\", \"2013-01-01T00:00:00\", \"2013-04-01T00:00:00\", \"2013-07-01T00:00:00\", \"2013-10-01T00:00:00\", \"2014-01-01T00:00:00\", \"2014-04-01T00:00:00\", \"2014-07-01T00:00:00\", \"2014-10-01T00:00:00\", \"2015-01-01T00:00:00\", \"2015-04-01T00:00:00\", \"2015-07-01T00:00:00\", \"2015-10-01T00:00:00\", \"2016-01-01T00:00:00\", \"2016-04-01T00:00:00\", \"2016-07-01T00:00:00\", \"2016-10-01T00:00:00\", \"2017-01-01T00:00:00\", \"2017-04-01T00:00:00\", \"2017-07-01T00:00:00\", \"2017-10-01T00:00:00\", \"2018-01-01T00:00:00\", \"2018-04-01T00:00:00\", \"2018-07-01T00:00:00\", \"2018-10-01T00:00:00\", \"2019-01-01T00:00:00\", \"2019-04-01T00:00:00\", \"2019-07-01T00:00:00\"], \"xaxis\": \"x4\", \"y\": [13649, 14073, 15649, 15330, 14981, 15594, 16719, 15803, 14930, 15408, 16466, 14100, 13463, 16812, 17330, 16632, 16900, 18849, 21974, 20944, 21533, 20213, 23074, 21076, 20696, 22079, 24507, 22957, 21715, 21735, 24462, 21303, 21060, 22059, 22157, 21368, 23188, 25089, 29221, 26118, 26384, 29655, 39932, 37199, 41332, 52362, 65956, 72568, 80244, 107184, 145047, 163342, 175070, 195618, 232757, 237837, 223208, 222554, 220410, 213568, 208412, 210285, 217748, 215486, 213464, 221399, 214991, 203127, 188911, 175418, 169270, 157955, 148651, 140825, 135909, 125279, 117374, 111541, 109828, 101000, 95546, 91840, 90999, 82951, 77510, 78820, 81730, 75107, 69159, 66912, 64286, 59980, 56785, 54587], \"yaxis\": \"y4\"}, {\"line\": {\"color\": \"red\"}, \"name\": \"30-Year Fixed Mortgage Rate\", \"type\": \"scatter\", \"x\": [\"1996-04-01T00:00:00\", \"1996-05-01T00:00:00\", \"1996-06-01T00:00:00\", \"1996-07-01T00:00:00\", \"1996-08-01T00:00:00\", \"1996-09-01T00:00:00\", \"1996-10-01T00:00:00\", \"1996-11-01T00:00:00\", \"1996-12-01T00:00:00\", \"1997-01-01T00:00:00\", \"1997-02-01T00:00:00\", \"1997-03-01T00:00:00\", \"1997-04-01T00:00:00\", \"1997-05-01T00:00:00\", \"1997-06-01T00:00:00\", \"1997-07-01T00:00:00\", \"1997-08-01T00:00:00\", \"1997-09-01T00:00:00\", \"1997-10-01T00:00:00\", \"1997-11-01T00:00:00\", \"1997-12-01T00:00:00\", \"1998-01-01T00:00:00\", \"1998-02-01T00:00:00\", \"1998-03-01T00:00:00\", \"1998-04-01T00:00:00\", \"1998-05-01T00:00:00\", \"1998-06-01T00:00:00\", \"1998-07-01T00:00:00\", \"1998-08-01T00:00:00\", \"1998-09-01T00:00:00\", \"1998-10-01T00:00:00\", \"1998-11-01T00:00:00\", \"1998-12-01T00:00:00\", \"1999-01-01T00:00:00\", \"1999-02-01T00:00:00\", \"1999-03-01T00:00:00\", \"1999-04-01T00:00:00\", \"1999-05-01T00:00:00\", \"1999-06-01T00:00:00\", \"1999-07-01T00:00:00\", \"1999-08-01T00:00:00\", \"1999-09-01T00:00:00\", \"1999-10-01T00:00:00\", \"1999-11-01T00:00:00\", \"1999-12-01T00:00:00\", \"2000-01-01T00:00:00\", \"2000-02-01T00:00:00\", \"2000-03-01T00:00:00\", \"2000-04-01T00:00:00\", \"2000-05-01T00:00:00\", \"2000-06-01T00:00:00\", \"2000-07-01T00:00:00\", \"2000-08-01T00:00:00\", \"2000-09-01T00:00:00\", \"2000-10-01T00:00:00\", \"2000-11-01T00:00:00\", \"2000-12-01T00:00:00\", \"2001-01-01T00:00:00\", \"2001-02-01T00:00:00\", \"2001-03-01T00:00:00\", \"2001-04-01T00:00:00\", \"2001-05-01T00:00:00\", \"2001-06-01T00:00:00\", \"2001-07-01T00:00:00\", \"2001-08-01T00:00:00\", \"2001-09-01T00:00:00\", \"2001-10-01T00:00:00\", \"2001-11-01T00:00:00\", \"2001-12-01T00:00:00\", \"2002-01-01T00:00:00\", \"2002-02-01T00:00:00\", \"2002-03-01T00:00:00\", \"2002-04-01T00:00:00\", \"2002-05-01T00:00:00\", \"2002-06-01T00:00:00\", \"2002-07-01T00:00:00\", \"2002-08-01T00:00:00\", \"2002-09-01T00:00:00\", \"2002-10-01T00:00:00\", \"2002-11-01T00:00:00\", \"2002-12-01T00:00:00\", \"2003-01-01T00:00:00\", \"2003-02-01T00:00:00\", \"2003-03-01T00:00:00\", \"2003-04-01T00:00:00\", \"2003-05-01T00:00:00\", \"2003-06-01T00:00:00\", \"2003-07-01T00:00:00\", \"2003-08-01T00:00:00\", \"2003-09-01T00:00:00\", \"2003-10-01T00:00:00\", \"2003-11-01T00:00:00\", \"2003-12-01T00:00:00\", \"2004-01-01T00:00:00\", \"2004-02-01T00:00:00\", \"2004-03-01T00:00:00\", \"2004-04-01T00:00:00\", \"2004-05-01T00:00:00\", \"2004-06-01T00:00:00\", \"2004-07-01T00:00:00\", \"2004-08-01T00:00:00\", \"2004-09-01T00:00:00\", \"2004-10-01T00:00:00\", \"2004-11-01T00:00:00\", \"2004-12-01T00:00:00\", \"2005-01-01T00:00:00\", \"2005-02-01T00:00:00\", \"2005-03-01T00:00:00\", \"2005-04-01T00:00:00\", \"2005-05-01T00:00:00\", \"2005-06-01T00:00:00\", \"2005-07-01T00:00:00\", \"2005-08-01T00:00:00\", \"2005-09-01T00:00:00\", \"2005-10-01T00:00:00\", \"2005-11-01T00:00:00\", \"2005-12-01T00:00:00\", \"2006-01-01T00:00:00\", \"2006-02-01T00:00:00\", \"2006-03-01T00:00:00\", \"2006-04-01T00:00:00\", \"2006-05-01T00:00:00\", \"2006-06-01T00:00:00\", \"2006-07-01T00:00:00\", \"2006-08-01T00:00:00\", \"2006-09-01T00:00:00\", \"2006-10-01T00:00:00\", \"2006-11-01T00:00:00\", \"2006-12-01T00:00:00\", \"2007-01-01T00:00:00\", \"2007-02-01T00:00:00\", \"2007-03-01T00:00:00\", \"2007-04-01T00:00:00\", \"2007-05-01T00:00:00\", \"2007-06-01T00:00:00\", \"2007-07-01T00:00:00\", \"2007-08-01T00:00:00\", \"2007-09-01T00:00:00\", \"2007-10-01T00:00:00\", \"2007-11-01T00:00:00\", \"2007-12-01T00:00:00\", \"2008-01-01T00:00:00\", \"2008-02-01T00:00:00\", \"2008-03-01T00:00:00\", \"2008-04-01T00:00:00\", \"2008-05-01T00:00:00\", \"2008-06-01T00:00:00\", \"2008-07-01T00:00:00\", \"2008-08-01T00:00:00\", \"2008-09-01T00:00:00\", \"2008-10-01T00:00:00\", \"2008-11-01T00:00:00\", \"2008-12-01T00:00:00\", \"2009-01-01T00:00:00\", \"2009-02-01T00:00:00\", \"2009-03-01T00:00:00\", \"2009-04-01T00:00:00\", \"2009-05-01T00:00:00\", \"2009-06-01T00:00:00\", \"2009-07-01T00:00:00\", \"2009-08-01T00:00:00\", \"2009-09-01T00:00:00\", \"2009-10-01T00:00:00\", \"2009-11-01T00:00:00\", \"2009-12-01T00:00:00\", \"2010-01-01T00:00:00\", \"2010-02-01T00:00:00\", \"2010-03-01T00:00:00\", \"2010-04-01T00:00:00\", \"2010-05-01T00:00:00\", \"2010-06-01T00:00:00\", \"2010-07-01T00:00:00\", \"2010-08-01T00:00:00\", \"2010-09-01T00:00:00\", \"2010-10-01T00:00:00\", \"2010-11-01T00:00:00\", \"2010-12-01T00:00:00\", \"2011-01-01T00:00:00\", \"2011-02-01T00:00:00\", \"2011-03-01T00:00:00\", \"2011-04-01T00:00:00\", \"2011-05-01T00:00:00\", \"2011-06-01T00:00:00\", \"2011-07-01T00:00:00\", \"2011-08-01T00:00:00\", \"2011-09-01T00:00:00\", \"2011-10-01T00:00:00\", \"2011-11-01T00:00:00\", \"2011-12-01T00:00:00\", \"2012-01-01T00:00:00\", \"2012-02-01T00:00:00\", \"2012-03-01T00:00:00\", \"2012-04-01T00:00:00\", \"2012-05-01T00:00:00\", \"2012-06-01T00:00:00\", \"2012-07-01T00:00:00\", \"2012-08-01T00:00:00\", \"2012-09-01T00:00:00\", \"2012-10-01T00:00:00\", \"2012-11-01T00:00:00\", \"2012-12-01T00:00:00\", \"2013-01-01T00:00:00\", \"2013-02-01T00:00:00\", \"2013-03-01T00:00:00\", \"2013-04-01T00:00:00\", \"2013-05-01T00:00:00\", \"2013-06-01T00:00:00\", \"2013-07-01T00:00:00\", \"2013-08-01T00:00:00\", \"2013-09-01T00:00:00\", \"2013-10-01T00:00:00\", \"2013-11-01T00:00:00\", \"2013-12-01T00:00:00\", \"2014-01-01T00:00:00\", \"2014-02-01T00:00:00\", \"2014-03-01T00:00:00\", \"2014-04-01T00:00:00\", \"2014-05-01T00:00:00\", \"2014-06-01T00:00:00\", \"2014-07-01T00:00:00\", \"2014-08-01T00:00:00\", \"2014-09-01T00:00:00\", \"2014-10-01T00:00:00\", \"2014-11-01T00:00:00\", \"2014-12-01T00:00:00\", \"2015-01-01T00:00:00\", \"2015-02-01T00:00:00\", \"2015-03-01T00:00:00\", \"2015-04-01T00:00:00\", \"2015-05-01T00:00:00\", \"2015-06-01T00:00:00\", \"2015-07-01T00:00:00\", \"2015-08-01T00:00:00\", \"2015-09-01T00:00:00\", \"2015-10-01T00:00:00\", \"2015-11-01T00:00:00\", \"2015-12-01T00:00:00\", \"2016-01-01T00:00:00\", \"2016-02-01T00:00:00\", \"2016-03-01T00:00:00\", \"2016-04-01T00:00:00\", \"2016-05-01T00:00:00\", \"2016-06-01T00:00:00\", \"2016-07-01T00:00:00\", \"2016-08-01T00:00:00\", \"2016-09-01T00:00:00\", \"2016-10-01T00:00:00\", \"2016-11-01T00:00:00\", \"2016-12-01T00:00:00\", \"2017-01-01T00:00:00\", \"2017-02-01T00:00:00\", \"2017-03-01T00:00:00\", \"2017-04-01T00:00:00\", \"2017-05-01T00:00:00\", \"2017-06-01T00:00:00\", \"2017-07-01T00:00:00\", \"2017-08-01T00:00:00\", \"2017-09-01T00:00:00\", \"2017-10-01T00:00:00\", \"2017-11-01T00:00:00\", \"2017-12-01T00:00:00\", \"2018-01-01T00:00:00\", \"2018-02-01T00:00:00\", \"2018-03-01T00:00:00\", \"2018-04-01T00:00:00\", \"2018-05-01T00:00:00\", \"2018-06-01T00:00:00\", \"2018-07-01T00:00:00\", \"2018-08-01T00:00:00\", \"2018-09-01T00:00:00\", \"2018-10-01T00:00:00\", \"2018-11-01T00:00:00\", \"2018-12-01T00:00:00\", \"2019-01-01T00:00:00\", \"2019-02-01T00:00:00\", \"2019-03-01T00:00:00\", \"2019-04-01T00:00:00\", \"2019-05-01T00:00:00\", \"2019-06-01T00:00:00\", \"2019-07-01T00:00:00\", \"2019-08-01T00:00:00\", \"2019-09-01T00:00:00\", \"2019-10-01T00:00:00\", \"2019-11-01T00:00:00\", \"2019-12-01T00:00:00\"], \"xaxis\": \"x5\", \"y\": [7.93, 8.07, 8.32, 8.25, 8.0, 8.23, 7.92, 7.62, 7.6, 7.82, 7.65, 7.9, 8.14, 7.94, 7.69, 7.5, 7.48, 7.43, 7.29, 7.21, 7.1, 6.99, 7.04, 7.13, 7.14, 7.14, 7.0, 6.95, 6.92, 6.72, 6.71, 6.87, 6.74, 6.79, 6.81, 7.04, 6.92, 7.15, 7.55, 7.63, 7.94, 7.82, 7.85, 7.74, 7.91, 8.21, 8.33, 8.24, 8.15, 8.52, 8.29, 8.15, 8.03, 7.91, 7.8, 7.75, 7.38, 7.03, 7.05, 6.95, 7.08, 7.15, 7.16, 7.13, 6.95, 6.82, 6.62, 6.66, 7.07, 7.0, 6.89, 7.01, 6.99, 6.81, 6.65, 6.49, 6.29, 6.09, 6.11, 6.07, 6.05, 5.92, 5.84, 5.75, 5.81, 5.48, 5.23, 5.63, 6.26, 6.15, 5.95, 5.93, 5.88, 5.71, 5.64, 5.45, 5.83, 6.27, 6.29, 6.06, 5.87, 5.75, 5.72, 5.73, 5.75, 5.71, 5.63, 5.93, 5.86, 5.72, 5.58, 5.7, 5.82, 5.77, 6.07, 6.33, 6.27, 6.15, 6.25, 6.32, 6.51, 6.6, 6.68, 6.76, 6.52, 6.4, 6.36, 6.24, 6.14, 6.22, 6.29, 6.16, 6.18, 6.26, 6.66, 6.7, 6.57, 6.38, 6.38, 6.21, 6.1, 5.76, 5.92, 5.97, 5.92, 6.04, 6.32, 6.43, 6.48, 6.04, 6.2, 6.09, 5.29, 5.05, 5.13, 5.0, 4.81, 4.86, 5.42, 5.22, 5.19, 5.06, 4.95, 4.88, 4.93, 5.03, 4.99, 4.97, 5.1, 4.89, 4.74, 4.56, 4.43, 4.35, 4.23, 4.3, 4.71, 4.76, 4.95, 4.84, 4.84, 4.64, 4.51, 4.55, 4.27, 4.11, 4.07, 3.99, 3.96, 3.92, 3.89, 3.95, 3.91, 3.8, 3.68, 3.55, 3.6, 3.5, 3.38, 3.35, 3.35, 3.41, 3.53, 3.57, 3.45, 3.54, 4.07, 4.37, 4.46, 4.49, 4.19, 4.26, 4.46, 4.43, 4.3, 4.34, 4.34, 4.19, 4.16, 4.13, 4.12, 4.16, 4.04, 4.0, 3.86, 3.67, 3.71, 3.77, 3.67, 3.84, 3.98, 4.05, 3.91, 3.89, 3.8, 3.94, 3.96, 3.87, 3.66, 3.69, 3.61, 3.6, 3.57, 3.44, 3.44, 3.46, 3.47, 3.77, 4.2, 4.15, 4.17, 4.2, 4.05, 4.01, 3.9, 3.97, 3.88, 3.81, 3.9, 3.92, 3.95, 4.03, 4.33, 4.44, 4.47, 4.59, 4.57, 4.53, 4.55, 4.63, 4.83, 4.87, 4.64, 4.46, 4.37, 4.27, 4.14, 4.07, 3.8, 3.77, 3.62, 3.61, 3.69, 3.7, 3.72], \"yaxis\": \"y5\"}],\n",
              "                        {\"height\": 600, \"legend\": {\"x\": 0.6, \"y\": 1.2}, \"template\": {\"data\": {\"bar\": [{\"error_x\": {\"color\": \"#2a3f5f\"}, \"error_y\": {\"color\": \"#2a3f5f\"}, \"marker\": {\"line\": {\"color\": \"#E5ECF6\", \"width\": 0.5}}, \"type\": \"bar\"}], \"barpolar\": [{\"marker\": {\"line\": {\"color\": \"#E5ECF6\", \"width\": 0.5}}, \"type\": \"barpolar\"}], \"carpet\": [{\"aaxis\": {\"endlinecolor\": \"#2a3f5f\", \"gridcolor\": \"white\", \"linecolor\": \"white\", \"minorgridcolor\": \"white\", \"startlinecolor\": \"#2a3f5f\"}, \"baxis\": {\"endlinecolor\": \"#2a3f5f\", \"gridcolor\": \"white\", \"linecolor\": \"white\", \"minorgridcolor\": \"white\", \"startlinecolor\": \"#2a3f5f\"}, \"type\": \"carpet\"}], \"choropleth\": [{\"colorbar\": {\"outlinewidth\": 0, \"ticks\": \"\"}, \"type\": \"choropleth\"}], \"contour\": [{\"colorbar\": {\"outlinewidth\": 0, \"ticks\": \"\"}, \"colorscale\": [[0.0, \"#0d0887\"], [0.1111111111111111, \"#46039f\"], [0.2222222222222222, \"#7201a8\"], [0.3333333333333333, \"#9c179e\"], [0.4444444444444444, \"#bd3786\"], [0.5555555555555556, \"#d8576b\"], [0.6666666666666666, \"#ed7953\"], [0.7777777777777778, \"#fb9f3a\"], [0.8888888888888888, \"#fdca26\"], [1.0, \"#f0f921\"]], \"type\": \"contour\"}], \"contourcarpet\": [{\"colorbar\": {\"outlinewidth\": 0, \"ticks\": \"\"}, \"type\": \"contourcarpet\"}], \"heatmap\": [{\"colorbar\": {\"outlinewidth\": 0, \"ticks\": \"\"}, \"colorscale\": [[0.0, \"#0d0887\"], [0.1111111111111111, \"#46039f\"], [0.2222222222222222, \"#7201a8\"], [0.3333333333333333, \"#9c179e\"], [0.4444444444444444, \"#bd3786\"], [0.5555555555555556, \"#d8576b\"], [0.6666666666666666, \"#ed7953\"], [0.7777777777777778, \"#fb9f3a\"], [0.8888888888888888, \"#fdca26\"], [1.0, \"#f0f921\"]], \"type\": \"heatmap\"}], \"heatmapgl\": [{\"colorbar\": {\"outlinewidth\": 0, \"ticks\": \"\"}, \"colorscale\": [[0.0, \"#0d0887\"], [0.1111111111111111, \"#46039f\"], [0.2222222222222222, \"#7201a8\"], [0.3333333333333333, \"#9c179e\"], [0.4444444444444444, \"#bd3786\"], [0.5555555555555556, \"#d8576b\"], [0.6666666666666666, \"#ed7953\"], [0.7777777777777778, \"#fb9f3a\"], [0.8888888888888888, \"#fdca26\"], [1.0, \"#f0f921\"]], \"type\": \"heatmapgl\"}], \"histogram\": [{\"marker\": {\"colorbar\": {\"outlinewidth\": 0, \"ticks\": \"\"}}, \"type\": \"histogram\"}], \"histogram2d\": [{\"colorbar\": {\"outlinewidth\": 0, \"ticks\": \"\"}, \"colorscale\": [[0.0, \"#0d0887\"], [0.1111111111111111, \"#46039f\"], [0.2222222222222222, \"#7201a8\"], [0.3333333333333333, \"#9c179e\"], [0.4444444444444444, \"#bd3786\"], [0.5555555555555556, \"#d8576b\"], [0.6666666666666666, \"#ed7953\"], [0.7777777777777778, \"#fb9f3a\"], [0.8888888888888888, \"#fdca26\"], [1.0, \"#f0f921\"]], \"type\": \"histogram2d\"}], \"histogram2dcontour\": [{\"colorbar\": {\"outlinewidth\": 0, \"ticks\": \"\"}, \"colorscale\": [[0.0, \"#0d0887\"], [0.1111111111111111, \"#46039f\"], [0.2222222222222222, \"#7201a8\"], [0.3333333333333333, \"#9c179e\"], [0.4444444444444444, \"#bd3786\"], [0.5555555555555556, \"#d8576b\"], [0.6666666666666666, \"#ed7953\"], [0.7777777777777778, \"#fb9f3a\"], [0.8888888888888888, \"#fdca26\"], [1.0, \"#f0f921\"]], \"type\": \"histogram2dcontour\"}], \"mesh3d\": [{\"colorbar\": {\"outlinewidth\": 0, \"ticks\": \"\"}, \"type\": \"mesh3d\"}], \"parcoords\": [{\"line\": {\"colorbar\": {\"outlinewidth\": 0, \"ticks\": \"\"}}, \"type\": \"parcoords\"}], \"pie\": [{\"automargin\": true, \"type\": \"pie\"}], \"scatter\": [{\"marker\": {\"colorbar\": {\"outlinewidth\": 0, \"ticks\": \"\"}}, \"type\": \"scatter\"}], \"scatter3d\": [{\"line\": {\"colorbar\": {\"outlinewidth\": 0, \"ticks\": \"\"}}, \"marker\": {\"colorbar\": {\"outlinewidth\": 0, \"ticks\": \"\"}}, \"type\": \"scatter3d\"}], \"scattercarpet\": [{\"marker\": {\"colorbar\": {\"outlinewidth\": 0, \"ticks\": \"\"}}, \"type\": \"scattercarpet\"}], \"scattergeo\": [{\"marker\": {\"colorbar\": {\"outlinewidth\": 0, \"ticks\": \"\"}}, \"type\": \"scattergeo\"}], \"scattergl\": [{\"marker\": {\"colorbar\": {\"outlinewidth\": 0, \"ticks\": \"\"}}, \"type\": \"scattergl\"}], \"scattermapbox\": [{\"marker\": {\"colorbar\": {\"outlinewidth\": 0, \"ticks\": \"\"}}, \"type\": \"scattermapbox\"}], \"scatterpolar\": [{\"marker\": {\"colorbar\": {\"outlinewidth\": 0, \"ticks\": \"\"}}, \"type\": \"scatterpolar\"}], \"scatterpolargl\": [{\"marker\": {\"colorbar\": {\"outlinewidth\": 0, \"ticks\": \"\"}}, \"type\": \"scatterpolargl\"}], \"scatterternary\": [{\"marker\": {\"colorbar\": {\"outlinewidth\": 0, \"ticks\": \"\"}}, \"type\": \"scatterternary\"}], \"surface\": [{\"colorbar\": {\"outlinewidth\": 0, \"ticks\": \"\"}, \"colorscale\": [[0.0, \"#0d0887\"], [0.1111111111111111, \"#46039f\"], [0.2222222222222222, \"#7201a8\"], [0.3333333333333333, \"#9c179e\"], [0.4444444444444444, \"#bd3786\"], [0.5555555555555556, \"#d8576b\"], [0.6666666666666666, \"#ed7953\"], [0.7777777777777778, \"#fb9f3a\"], [0.8888888888888888, \"#fdca26\"], [1.0, \"#f0f921\"]], \"type\": \"surface\"}], \"table\": [{\"cells\": {\"fill\": {\"color\": \"#EBF0F8\"}, \"line\": {\"color\": \"white\"}}, \"header\": {\"fill\": {\"color\": \"#C8D4E3\"}, \"line\": {\"color\": \"white\"}}, \"type\": \"table\"}]}, \"layout\": {\"annotationdefaults\": {\"arrowcolor\": \"#2a3f5f\", \"arrowhead\": 0, \"arrowwidth\": 1}, \"coloraxis\": {\"colorbar\": {\"outlinewidth\": 0, \"ticks\": \"\"}}, \"colorscale\": {\"diverging\": [[0, \"#8e0152\"], [0.1, \"#c51b7d\"], [0.2, \"#de77ae\"], [0.3, \"#f1b6da\"], [0.4, \"#fde0ef\"], [0.5, \"#f7f7f7\"], [0.6, \"#e6f5d0\"], [0.7, \"#b8e186\"], [0.8, \"#7fbc41\"], [0.9, \"#4d9221\"], [1, \"#276419\"]], \"sequential\": [[0.0, \"#0d0887\"], [0.1111111111111111, \"#46039f\"], [0.2222222222222222, \"#7201a8\"], [0.3333333333333333, \"#9c179e\"], [0.4444444444444444, \"#bd3786\"], [0.5555555555555556, \"#d8576b\"], [0.6666666666666666, \"#ed7953\"], [0.7777777777777778, \"#fb9f3a\"], [0.8888888888888888, \"#fdca26\"], [1.0, \"#f0f921\"]], \"sequentialminus\": [[0.0, \"#0d0887\"], [0.1111111111111111, \"#46039f\"], [0.2222222222222222, \"#7201a8\"], [0.3333333333333333, \"#9c179e\"], [0.4444444444444444, \"#bd3786\"], [0.5555555555555556, \"#d8576b\"], [0.6666666666666666, \"#ed7953\"], [0.7777777777777778, \"#fb9f3a\"], [0.8888888888888888, \"#fdca26\"], [1.0, \"#f0f921\"]]}, \"colorway\": [\"#636efa\", \"#EF553B\", \"#00cc96\", \"#ab63fa\", \"#FFA15A\", \"#19d3f3\", \"#FF6692\", \"#B6E880\", \"#FF97FF\", \"#FECB52\"], \"font\": {\"color\": \"#2a3f5f\"}, \"geo\": {\"bgcolor\": \"white\", \"lakecolor\": \"white\", \"landcolor\": \"#E5ECF6\", \"showlakes\": true, \"showland\": true, \"subunitcolor\": \"white\"}, \"hoverlabel\": {\"align\": \"left\"}, \"hovermode\": \"closest\", \"mapbox\": {\"style\": \"light\"}, \"paper_bgcolor\": \"white\", \"plot_bgcolor\": \"#E5ECF6\", \"polar\": {\"angularaxis\": {\"gridcolor\": \"white\", \"linecolor\": \"white\", \"ticks\": \"\"}, \"bgcolor\": \"#E5ECF6\", \"radialaxis\": {\"gridcolor\": \"white\", \"linecolor\": \"white\", \"ticks\": \"\"}}, \"scene\": {\"xaxis\": {\"backgroundcolor\": \"#E5ECF6\", \"gridcolor\": \"white\", \"gridwidth\": 2, \"linecolor\": \"white\", \"showbackground\": true, \"ticks\": \"\", \"zerolinecolor\": \"white\"}, \"yaxis\": {\"backgroundcolor\": \"#E5ECF6\", \"gridcolor\": \"white\", \"gridwidth\": 2, \"linecolor\": \"white\", \"showbackground\": true, \"ticks\": \"\", \"zerolinecolor\": \"white\"}, \"zaxis\": {\"backgroundcolor\": \"#E5ECF6\", \"gridcolor\": \"white\", \"gridwidth\": 2, \"linecolor\": \"white\", \"showbackground\": true, \"ticks\": \"\", \"zerolinecolor\": \"white\"}}, \"shapedefaults\": {\"line\": {\"color\": \"#2a3f5f\"}}, \"ternary\": {\"aaxis\": {\"gridcolor\": \"white\", \"linecolor\": \"white\", \"ticks\": \"\"}, \"baxis\": {\"gridcolor\": \"white\", \"linecolor\": \"white\", \"ticks\": \"\"}, \"bgcolor\": \"#E5ECF6\", \"caxis\": {\"gridcolor\": \"white\", \"linecolor\": \"white\", \"ticks\": \"\"}}, \"title\": {\"x\": 0.05}, \"xaxis\": {\"automargin\": true, \"gridcolor\": \"white\", \"linecolor\": \"white\", \"ticks\": \"\", \"title\": {\"standoff\": 15}, \"zerolinecolor\": \"white\", \"zerolinewidth\": 2}, \"yaxis\": {\"automargin\": true, \"gridcolor\": \"white\", \"linecolor\": \"white\", \"ticks\": \"\", \"title\": {\"standoff\": 15}, \"zerolinecolor\": \"white\", \"zerolinewidth\": 2}}}, \"title\": {\"text\": \"Home Sales vs Other Factors (Natl)\"}, \"width\": 600, \"xaxis\": {\"anchor\": \"y\", \"domain\": [0.0, 1.0], \"rangeslider\": {\"visible\": false}}, \"xaxis2\": {\"anchor\": \"y2\", \"domain\": [0.0, 1.0]}, \"xaxis3\": {\"anchor\": \"y3\", \"domain\": [0.0, 1.0]}, \"xaxis4\": {\"anchor\": \"y4\", \"domain\": [0.0, 1.0]}, \"xaxis5\": {\"anchor\": \"y5\", \"domain\": [0.0, 1.0]}, \"yaxis\": {\"anchor\": \"x\", \"domain\": [0.848, 1.0]}, \"yaxis2\": {\"anchor\": \"x2\", \"domain\": [0.6359999999999999, 0.7879999999999999]}, \"yaxis3\": {\"anchor\": \"x3\", \"domain\": [0.424, 0.576]}, \"yaxis4\": {\"anchor\": \"x4\", \"domain\": [0.212, 0.364]}, \"yaxis5\": {\"anchor\": \"x5\", \"domain\": [0.0, 0.152]}},\n",
              "                        {\"responsive\": true}\n",
              "                    ).then(function(){\n",
              "                            \n",
              "var gd = document.getElementById('157fbd89-6d58-40c8-ba15-56879eafe8bb');\n",
              "var x = new MutationObserver(function (mutations, observer) {{\n",
              "        var display = window.getComputedStyle(gd).display;\n",
              "        if (!display || display === 'none') {{\n",
              "            console.log([gd, 'removed!']);\n",
              "            Plotly.purge(gd);\n",
              "            observer.disconnect();\n",
              "        }}\n",
              "}});\n",
              "\n",
              "// Listen for the removal of the full notebook cells\n",
              "var notebookContainer = gd.closest('#notebook-container');\n",
              "if (notebookContainer) {{\n",
              "    x.observe(notebookContainer, {childList: true});\n",
              "}}\n",
              "\n",
              "// Listen for the clearing of the current output cell\n",
              "var outputEl = gd.closest('.output');\n",
              "if (outputEl) {{\n",
              "    x.observe(outputEl, {childList: true});\n",
              "}}\n",
              "\n",
              "                        })\n",
              "                };\n",
              "                \n",
              "            </script>\n",
              "        </div>\n",
              "</body>\n",
              "</html>"
            ]
          },
          "metadata": {
            "tags": []
          }
        }
      ]
    },
    {
      "cell_type": "code",
      "metadata": {
        "id": "ohL7E6Fy4Lyc",
        "colab_type": "code",
        "colab": {
          "base_uri": "https://localhost:8080/",
          "height": 937
        },
        "outputId": "369d27bc-ecad-4657-ac76-2dddc63781fe"
      },
      "source": [
        "## SARIMAX w/ Exogs ##\n",
        "\n",
        "# The 4 exogs below can be added to the model, but it was discovered that just the top one is significant\n",
        "exogs = pd.DataFrame(data=employ.values, index=employ.index, columns=['Natl_Employment_#'])\n",
        "#exogs['Natl_Unemployment_Rate'] = unemploy.values\n",
        "#exogs['Foreclosures'] = foreclosures.values\n",
        "#exogs['30_Year_Mortgage'] = mtg.values\n",
        "\n",
        "# try shifting values to detect lagged significance... mortgage still not significant.\n",
        "#exog_shift = exogs.shift(periods=-4)\n",
        "#exog_shift = exogs_shift.fillna(method='ffill')\n",
        "\n",
        "# train/test datasets\n",
        "homes_before2018 = pd.DataFrame(all_homes[col].loc['1997':'2017'], index=all_homes.loc['1997':'2017'].index)\n",
        "homes_2018 = pd.DataFrame(all_homes[col].loc['2018'], index=all_homes.loc['2018'].index)\n",
        "train = homes_before2018\n",
        "train.columns = ['value']\n",
        "test = homes_2018\n",
        "test.columns = ['value']\n",
        "\n",
        "# find best arima/sarimax params, witg exog's\n",
        "#df = pd.DataFrame(data=all_homes['zip_median'].values, index=all_homes.index, columns=['value'])\n",
        "#find_orders(df, exog) # ((2, 1, 0), (1, 0, 1, 12))\n",
        "\n",
        "# create model\n",
        "model_output = fit_sarimax_model(train, exog=exogs.loc['1997':'2017'], order=(2, 1, 0), seasonal_order=(1, 0, 1, 12), plot=False)  # AIC: 4186.809\n",
        "\n",
        "# get predictions\n",
        "get_predictions(test, exog=exogs.loc['2018'], model_output=model_output, plot=True, show=True)"
      ],
      "execution_count": 80,
      "outputs": [
        {
          "output_type": "stream",
          "text": [
            "                                 Statespace Model Results                                 \n",
            "==========================================================================================\n",
            "Dep. Variable:                              value   No. Observations:                  252\n",
            "Model:             SARIMAX(2, 1, 0)x(1, 0, 1, 12)   Log Likelihood               -1855.329\n",
            "Date:                            Sun, 16 Feb 2020   AIC                           3726.658\n",
            "Time:                                    08:14:06   BIC                           3754.861\n",
            "Sample:                                01-01-1997   HQIC                          3738.007\n",
            "                                     - 12-01-2017                                         \n",
            "Covariance Type:                              opg                                         \n",
            "=====================================================================================\n",
            "                        coef    std err          z      P>|z|      [0.025      0.975]\n",
            "-------------------------------------------------------------------------------------\n",
            "intercept             8.1567     27.471      0.297      0.767     -45.686      62.000\n",
            "drift                -0.0362      0.238     -0.152      0.879      -0.502       0.430\n",
            "Natl_Employment_#     0.8993      0.061     14.640      0.000       0.779       1.020\n",
            "ar.L1                 0.4983      0.023     21.474      0.000       0.453       0.544\n",
            "ar.L2                 0.2450      0.034      7.286      0.000       0.179       0.311\n",
            "ar.S.L12              0.7795      0.378      2.062      0.039       0.038       1.521\n",
            "ma.S.L12             -0.6952      0.428     -1.626      0.104      -1.533       0.143\n",
            "sigma2             1.457e+05   4833.114     30.153      0.000    1.36e+05    1.55e+05\n",
            "===================================================================================\n",
            "Ljung-Box (Q):                       50.50   Jarque-Bera (JB):             23086.24\n",
            "Prob(Q):                              0.12   Prob(JB):                         0.00\n",
            "Heteroskedasticity (H):               0.63   Skew:                            -4.50\n",
            "Prob(H) (two-sided):                  0.04   Kurtosis:                        49.11\n",
            "===================================================================================\n",
            "\n",
            "Warnings:\n",
            "[1] Covariance matrix calculated using the outer product of gradients (complex-step).\n"
          ],
          "name": "stdout"
        },
        {
          "output_type": "display_data",
          "data": {
            "image/png": "[encoded data removed]",
            "text/plain": [
              "<Figure size 576x432 with 1 Axes>"
            ]
          },
          "metadata": {
            "tags": []
          }
        },
        {
          "output_type": "stream",
          "text": [
            "RMSE: 2325.693\n",
            "R-squared: 0.02\n"
          ],
          "name": "stdout"
        }
      ]
    },
    {
      "cell_type": "code",
      "metadata": {
        "id": "Qhux3E_QVEPo",
        "colab_type": "code",
        "colab": {}
      },
      "source": [
        "import warnings\n",
        "warnings.filterwarnings(\"ignore\")\n",
        "\n",
        "i=0\n",
        "for col in all_homes.columns[27545:]:\n",
        "    i = i+1\n",
        "    if i % 300 == 0:\n",
        "      print(str(i/300) + '%')\n",
        "    \n",
        "    df = pd.DataFrame(data=all_homes[col].values, index=all_homes.index, columns=['value'])\n",
        "    model_output = fit_sarimax_model(df, order=(0, 2, 1), seasonal_order=(0, 0, 0, 12), plot=False, summary=False)\n",
        "\n",
        "    forecast = get_future(df, plot=False)\n",
        "\n",
        "    #f_out = pd.DataFrame({'zip':col, 'date': forecast.index, \n",
        "    #                     'yhat':forecast['yhat'], 'yhat_lower':forecast['yhat_lower'], 'yhat_upper':forecast['yhat_upper'], } )\n",
        "\n",
        "    roi_out = pd.DataFrame({'zip':col, \n",
        "                            'roi_2y':forecast['roi_2y'], \n",
        "                            'min_conf_2y':forecast['min_conf_2y'],\n",
        "                            'max_conf_2y':forecast['max_conf_2y'],\n",
        "                            'roi_5y':forecast['roi_5y'],\n",
        "                            'min_conf_5y':forecast['min_conf_5y'],\n",
        "                            'max_conf_5y':forecast['max_conf_5y']\n",
        "                            })\n",
        "\n",
        "    roi_out.to_csv('/content/drive/My Drive/IST718/home_zip_predictions_ALL.csv', mode='a', header=False)\n",
        "\n"
      ],
      "execution_count": 0,
      "outputs": []
    },
    {
      "cell_type": "code",
      "metadata": {
        "id": "HRTyBF8qjLpT",
        "colab_type": "code",
        "colab": {}
      },
      "source": [
        "# analyze above\n",
        "\n",
        "pred_rois = pd.read_csv('https://github.com/vksyr/IST718/raw/master/home_zip_predictions_ALL.csv',)\n",
        "\n",
        "pred_rois.columns = ['--', 'zip', 'roi_2y', 'min_conf_2y', 'max_conf_2y', 'roi_5y', 'min_conf_5y', 'max_conf_5y']\n",
        "pred_rois['conf_int_size_2y'] = pred_rois['max_conf_2y'] - pred_rois['min_conf_2y']\n",
        "pred_rois['conf_int_size_5y'] = pred_rois['max_conf_5y'] - pred_rois['min_conf_5y']\n",
        "\n",
        "avg_conf_inv_2y = pred_rois['conf_int_size_2y'].mean()\n",
        "avg_conf_inv_5y = pred_rois['conf_int_size_5y'].mean()\n",
        "\n",
        "print('Avg 2-Yr 95% Ci: ' + str(avg_conf_inv_2y))\n",
        "print('Avg 5-Yr 95% Ci: ' + str(avg_conf_inv_5y))\n",
        "\n",
        "\n",
        "# sort by size\n",
        "pred_rois.sort_values(by=['roi_2y'], ascending=False)[0:10]"
      ],
      "execution_count": 0,
      "outputs": []
    },
    {
      "cell_type": "code",
      "metadata": {
        "id": "0iBnLzPtXT7Q",
        "colab_type": "code",
        "colab": {}
      },
      "source": [
        "\n",
        "ts = pd.DataFrame(data=f_out['yhat'].values, index=f_out.index, columns=['value'])\n",
        "\n",
        "\n",
        "# calculates ROI by taking current value, decreasing investment(value at x steps in past) and \n",
        "# dividing by investment. Multiplies by 100 to get percentage number\n",
        "roi_2 = (ts - ts.shift(periods=24))/ts.shift(periods=24)*100\n",
        "roi_5 = (ts - ts.shift(periods=60))/ts.shift(periods=60)*100\n",
        "roi_2.dropna(inplace=True)\n",
        "roi_5.dropna(inplace=True)\n",
        "\n",
        "# plot results\n",
        "if 1==2:\n",
        "    fig = go.Figure()\n",
        "    fig.add_trace(go.Scatter(x=roi_2.index, y=roi_2.value, name='2-Year Investment',\n",
        "                              line_color='deepskyblue'))\n",
        "    fig.add_trace(go.Scatter(x=roi_5.index, y=roi_5.value, name='5-Year Investment',\n",
        "                              line_color='red'))\n",
        "    fig.update_layout(title_text='Mean Zillow Home Value Index (ZHVI) - ROI Over Time Invested',\n",
        "                      yaxis_title=\"ROI (%)\", \n",
        "                      xaxis_rangeslider_visible=False)\n",
        "    fig.show()\n",
        "  \n",
        "# saves new ts with returns for 2, 5 and 10 periods\n",
        "roi_2.loc['2022-01'].value[0]\n"
      ],
      "execution_count": 0,
      "outputs": []
    },
    {
      "cell_type": "code",
      "metadata": {
        "id": "RUPKBtoKoTCj",
        "colab_type": "code",
        "colab": {}
      },
      "source": [
        "'''\n",
        "# residuals\n",
        "residuals = [test[i]-predictions[i] for i in range(len(test))]\n",
        "residuals = pd.DataFrame(residuals)\n",
        "print(residuals.describe())\n",
        "# plot\n",
        "residuals.hist(ax=pyplot.gca())\n",
        "pyplot.show()\n",
        "\n",
        "# mean: -11.894349\n",
        "'''"
      ],
      "execution_count": 0,
      "outputs": []
    },
    {
      "cell_type": "markdown",
      "metadata": {
        "id": "bNeO8-ZyvX_H",
        "colab_type": "text"
      },
      "source": [
        "Prophet"
      ]
    },
    {
      "cell_type": "code",
      "metadata": {
        "id": "3bBQlV_njqX8",
        "colab_type": "code",
        "colab": {}
      },
      "source": [
        "# try exog with binning employed\n",
        "\n",
        "exogs = pd.DataFrame(data=employ.values, index=employ.index, columns=['Natl_Employment_#'])\n",
        "empl_bins = pd.cut(exogs['Natl_Employment_#'], 7, labels=[\"extrememly-low\", \"low\", \"medium-low\", \"medium\", \"medium-high\", \"high\", \"extremely-high\"])\n",
        "empl_bins_df = pd.DataFrame(empl_bins, index=all_homes.index)\n",
        "empl_bins_df = empl_bins_df.reset_index()\n",
        "empl_bins_df.columns = ['ds', 'holiday']"
      ],
      "execution_count": 0,
      "outputs": []
    },
    {
      "cell_type": "code",
      "metadata": {
        "id": "8tiJLKwmD0pA",
        "colab_type": "code",
        "colab": {
          "base_uri": "https://localhost:8080/",
          "height": 51
        },
        "outputId": "2859d360-d084-41d2-9eea-1a906f07c57c"
      },
      "source": [
        "import logging\n",
        "from fbprophet import Prophet\n",
        "\n",
        "logging.getLogger('fbprophet').setLevel(logging.WARNING)\n",
        "\n",
        "predictions = pd.DataFrame()\n",
        "col = 'zip_median'\n",
        "#i=0\n",
        "#for col in ca_homes.columns:\n",
        "#  i = i+1\n",
        "#  if i % 16.86 == 0:\n",
        "#    print(str(i/16.86) + '%')\n",
        "if 1==1:\n",
        "  # train/test datasets\n",
        "  homes_before2018 = pd.DataFrame(ca_homes[col].loc['1997':'2017'], index=ca_homes.loc['1997':'2017'].index)\n",
        "  homes_2018 = pd.DataFrame(all_homes[col].loc['2018'], index=all_homes.loc['2018'].index)\n",
        "  train = homes_before2018\n",
        "  test = homes_2018\n",
        "\n",
        "  train = train.reset_index()\n",
        "  train.columns = ['ds', 'y']\n",
        "  \n",
        "  \n",
        "  # set the uncertainty interval to 95% (the Prophet default is 80%)\n",
        "  # set to 6 months and seasonality change point set to 1 month. \n",
        "  m1 = Prophet(interval_width=.95, holidays=empl_bins_df, changepoint_prior_scale=6, yearly_seasonality=True, \n",
        "              seasonality_prior_scale=1)\n",
        "  m1.add_seasonality(name='monthly', period=120, fourier_order=4)\n",
        "  m1.fit(train)\n",
        "\n",
        "  # Look at the next 12 months. \n",
        "  future_dates = m1.make_future_dataframe(periods=12, freq='MS')\n",
        "\n",
        "\n",
        "  # Forecast next 12 months with confidence intervals\n",
        "  forecast = m1.predict(future_dates)\n",
        "  forecast[['ds', 'yhat', 'yhat_lower', 'yhat_upper']]\n",
        "\n",
        "\n",
        "  predictions = pd.DataFrame({'zip':col, 'date': forecast['ds'], 'yhat':forecast['yhat'], 'yhat_lower':forecast['yhat_lower'], 'yhat_upper':forecast['yhat_upper'] } )\n",
        "  #predictions.to_csv('/content/drive/My Drive/IST718/home_zip_predictions_CA_1146.csv', mode='a', header=False)\n",
        "\n",
        "  # Compute the mean square error / RMSE\n",
        "  mse_prophet = mean_squared_error(test['zip_median'].values, forecast[forecast['ds']>='2018-01-01'].yhat.values)\n",
        "  r2_prophet = r2_score(test['zip_median'].values, forecast[forecast['ds']>='2018-01-01'].yhat.values)\n",
        "\n",
        "  # Print the results. \n",
        "  print('RMSE: ' +  str(format(round(sqrt(mse_prophet), 3))))\n",
        "  print('R-squared: ' + str(format(round(r2_prophet, 3))))\n",
        "\n",
        "\n",
        "  #Plot observed and predicted values with confidence interval\n",
        "  ax.fill_between(pred_ci.index,\n",
        "              pred_ci.iloc[:, 0],\n",
        "              pred_ci.iloc[:, 1], color='k', alpha=.2)\n",
        "\n",
        "  ax.set_xlabel('Date')\n",
        "  ax.set_ylabel('Household Value')\n",
        "  plt.legend(loc='upper left')\n",
        "  plt.show()\n",
        "\n"
      ],
      "execution_count": 69,
      "outputs": [
        {
          "output_type": "stream",
          "text": [
            "RMSE: 306579.223\n",
            "R-squared: -17028.326\n"
          ],
          "name": "stdout"
        }
      ]
    },
    {
      "cell_type": "markdown",
      "metadata": {
        "id": "Iapo9KUZw1pm",
        "colab_type": "text"
      },
      "source": [
        "Maps"
      ]
    },
    {
      "cell_type": "code",
      "metadata": {
        "id": "MWFXQR-xJu32",
        "colab_type": "code",
        "colab": {}
      },
      "source": [
        "# get state means in december\n",
        "dec_arr = np.array(pd.date_range(start='12/1/1997', end='12/01/2018', freq='12M'))\n",
        "cols = np.array(['State'])\n",
        "\n",
        "for mon in dec_arr: \n",
        "    cols = np.append(cols, pd.to_datetime(mon).strftime('%Y-%m'))\n",
        "\n",
        "dec_homes = homes[cols]\n",
        "dec_homes = dec_homes.groupby(['State']).mean()\n",
        "dec_homes['avg'] = dec_homes.mean(axis=1)\n",
        "\n",
        "dec_homes = pd.DataFrame(dec_homes['avg'])\n",
        "dec_homes = dec_homes.reset_index()\n",
        "dec_homes.columns = ['State', 'Avg']\n",
        "\n",
        "# map!\n",
        "import plotly.express as px\n",
        "fig = px.choropleth(dec_homes, locationmode=\"USA-states\", locations=\"State\", scope=\"usa\",                     color=\"Avg\", # lifeExp is a column of gapminder\n",
        "                    #hover_name=\"state\", # column to add to hover information\n",
        "                    color_continuous_scale=px.colors.sequential.Plasma)\n",
        "fig.show()\n",
        "\n"
      ],
      "execution_count": 0,
      "outputs": []
    }
  ]
}