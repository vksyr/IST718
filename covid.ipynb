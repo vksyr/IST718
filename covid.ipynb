{
  "nbformat": 4,
  "nbformat_minor": 0,
  "metadata": {
    "colab": {
      "name": "Proj.ipynb",
      "provenance": [],
      "collapsed_sections": [],
      "include_colab_link": true
    },
    "kernelspec": {
      "name": "python3",
      "display_name": "Python 3"
    }
  },
  "cells": [
    {
      "cell_type": "markdown",
      "metadata": {
        "id": "view-in-github",
        "colab_type": "text"
      },
      "source": [
        "<a href=\"https://colab.research.google.com/github/vksyr/IST718/blob/master/covid.ipynb\" target=\"_parent\"><img src=\"https://colab.research.google.com/assets/colab-badge.svg\" alt=\"Open In Colab\"/></a>"
      ]
    },
    {
      "cell_type": "markdown",
      "metadata": {
        "id": "6Pb0jdYiWzyQ",
        "colab_type": "text"
      },
      "source": [
        "https://www.kdnuggets.com/2018/09/end-to-end-project-time-series-analysis-forecasting-python.html"
      ]
    },
    {
      "cell_type": "code",
      "metadata": {
        "id": "jD2UktD-e2XU",
        "colab_type": "code",
        "outputId": "520b5713-227c-4c05-f050-2d8d26e1208f",
        "colab": {
          "base_uri": "https://localhost:8080/",
          "height": 331
        }
      },
      "source": [
        "import pandas as pd  # data frame operations\n",
        "import numpy as np  # arrays and math functions\n",
        "from scipy.stats import uniform  # for training-and-test split\n",
        "import statsmodels.api as sm  # statistical models (including regression)\n",
        "import statsmodels.formula.api as smf  # R-like model specification\n",
        "import matplotlib.pyplot as plt  # 2D plotting\n",
        "import seaborn as sns  # PROVIDES TRELLIS AND SMALL MULTIPLE PLOTTING\n",
        "import math\n",
        "\n",
        "from pandas import Series\n",
        "from statistics import mean\n",
        "from statistics import median\n",
        "\n",
        "from matplotlib import pyplot\n",
        "import matplotlib.dates as mdates\n",
        "\n",
        "\n",
        "from statsmodels.graphics.tsaplots import plot_acf\n",
        "from statsmodels.graphics.tsaplots import plot_pacf\n",
        "\n",
        "import plotly as py\n",
        "import plotly.graph_objects as go\n",
        "\n",
        "from plotly.subplots import make_subplots\n",
        "from sklearn.metrics import mean_squared_error, r2_score\n",
        "\n",
        "import statsmodels.tsa.stattools as st\n",
        "from scipy import stats as stats\n",
        "\n",
        "!pip install pmdarima\n",
        "import pmdarima as pm\n",
        "from pmdarima.arima import auto_arima\n",
        "\n",
        "pd.set_option('display.max_columns', None)\n",
        "pd.set_option('display.max_rows', None)\n",
        "np.set_printoptions(threshold=9999)\n",
        "\n",
        "import warnings\n",
        "warnings.filterwarnings(\"ignore\")"
      ],
      "execution_count": 2,
      "outputs": [
        {
          "output_type": "stream",
          "text": [
            "Collecting pmdarima\n",
            "\u001b[?25l  Downloading https://files.pythonhosted.org/packages/83/aa/feb76414043592c3149059ab772a51de03fbf7544a8e19237f229a50a949/pmdarima-1.5.3-cp36-cp36m-manylinux1_x86_64.whl (1.5MB)\n",
            "\u001b[K     |████████████████████████████████| 1.5MB 2.8MB/s \n",
            "\u001b[?25hRequirement already satisfied: pandas>=0.19 in /usr/local/lib/python3.6/dist-packages (from pmdarima) (0.25.3)\n",
            "Requirement already satisfied: urllib3 in /usr/local/lib/python3.6/dist-packages (from pmdarima) (1.24.3)\n",
            "Requirement already satisfied: Cython>=0.29 in /usr/local/lib/python3.6/dist-packages (from pmdarima) (0.29.15)\n",
            "Requirement already satisfied: scikit-learn>=0.22 in /usr/local/lib/python3.6/dist-packages (from pmdarima) (0.22.2.post1)\n",
            "Requirement already satisfied: joblib>=0.11 in /usr/local/lib/python3.6/dist-packages (from pmdarima) (0.14.1)\n",
            "Requirement already satisfied: statsmodels>=0.10.2 in /usr/local/lib/python3.6/dist-packages (from pmdarima) (0.10.2)\n",
            "Requirement already satisfied: scipy>=1.3.2 in /usr/local/lib/python3.6/dist-packages (from pmdarima) (1.4.1)\n",
            "Requirement already satisfied: numpy>=1.17.3 in /usr/local/lib/python3.6/dist-packages (from pmdarima) (1.18.2)\n",
            "Requirement already satisfied: python-dateutil>=2.6.1 in /usr/local/lib/python3.6/dist-packages (from pandas>=0.19->pmdarima) (2.8.1)\n",
            "Requirement already satisfied: pytz>=2017.2 in /usr/local/lib/python3.6/dist-packages (from pandas>=0.19->pmdarima) (2018.9)\n",
            "Requirement already satisfied: patsy>=0.4.0 in /usr/local/lib/python3.6/dist-packages (from statsmodels>=0.10.2->pmdarima) (0.5.1)\n",
            "Requirement already satisfied: six>=1.5 in /usr/local/lib/python3.6/dist-packages (from python-dateutil>=2.6.1->pandas>=0.19->pmdarima) (1.12.0)\n",
            "Installing collected packages: pmdarima\n",
            "Successfully installed pmdarima-1.5.3\n"
          ],
          "name": "stdout"
        }
      ]
    },
    {
      "cell_type": "markdown",
      "metadata": {
        "id": "9ZmuQTdmIkUO",
        "colab_type": "text"
      },
      "source": [
        "ARIMA functions"
      ]
    },
    {
      "cell_type": "code",
      "metadata": {
        "id": "kc_muheUIi3z",
        "colab_type": "code",
        "colab": {}
      },
      "source": [
        "# define a function to run auto arima and search for best model parameters\n",
        "def find_orders(ts, exog=None):\n",
        "\n",
        "    stepwise_model = pm.auto_arima(ts, start_p=1, start_q=1, max_p=4, max_q=14,\n",
        "                                exogenous=exog, \n",
        "                                m=12, seasonal=True, stationary=False,\n",
        "                                stepwise=True, trend='ct',\n",
        "                                suppress_warnings=True, trace=False, \n",
        "                                error_action='ignore')\n",
        "\n",
        "    return stepwise_model.order, stepwise_model.seasonal_order\n",
        "\n",
        "def fit_sarimax_model(ts, exog=None, order=(1,1,1), seasonal_order=(0, 0, 0, 12), summary=True, plot=True):\n",
        "  \n",
        "    # fit model with exog\n",
        "    model = sm.tsa.statespace.SARIMAX(ts, \n",
        "                                  exog = exog,  \n",
        "                                  order=order,\n",
        "                                  seasonal_order=seasonal_order,\n",
        "                                  trend='ct',\n",
        "                                  enforce_stationarity=True,\n",
        "                                  enforce_invertibility=False)\n",
        "\n",
        "    output = model.fit(d=0)\n",
        "    \n",
        "    if summary==True:\n",
        "        print(output.summary())\n",
        "\n",
        "    if plot==True:\n",
        "        # plot model diagnostics\n",
        "        output.plot_diagnostics(figsize=(15, 18))\n",
        "        plt.show()\n",
        "        \n",
        "    return output\n",
        "\n",
        "def get_predictions(test, exog, model_output, plot=True, show=True):\n",
        "    \n",
        "    # Use the model to forecast twelve months into 2018 and store the confidence intervals\n",
        "    pred = model_output.get_prediction(start=pd.to_datetime('2019-01-31'), end=pd.to_datetime('2019-12-31'), dynamic=False, exog=exog)\n",
        "    pred_ci = pred.conf_int()\n",
        "    \n",
        "    # Plot the actual results for 2018 vs the projected results. \n",
        "    ax = test['2019-01-31':].plot(label='observed')\n",
        "    pred.predicted_mean.plot(ax=ax, label='One-step ahead Forecast', alpha=.7, figsize=(8,6))\n",
        "    \n",
        "    \n",
        "    if plot:\n",
        "        #Plot observed and predicted values with confidence interval\n",
        "        ax.fill_between(pred_ci.index,\n",
        "                    pred_ci.iloc[:, 0],\n",
        "                    pred_ci.iloc[:, 1], color='k', alpha=.2)\n",
        "\n",
        "        ax.set_xlabel('Date')\n",
        "        ax.set_ylabel('Household Value')\n",
        "        plt.legend(loc='upper left')\n",
        "        plt.show()\n",
        "\n",
        "    \n",
        "    if show:\n",
        "        \n",
        "        # Obtain the predicted mean, merge with the actual values, and compute the MSE. \n",
        "        y_pred = pred.predicted_mean.reset_index()\n",
        "        y_pred.columns = ['date', 'value']\n",
        "        \n",
        "        y_test = test.reset_index()\n",
        "        \n",
        "        # Compute the mean square error / RMSE\n",
        "        mse = mean_squared_error(y_test.value, y_pred.value)\n",
        "\n",
        "        rmse = math.sqrt(mse)\n",
        "        r2 = r2_score(y_test.value, y_pred.value)\n",
        "\n",
        "        # Print the results. \n",
        "        print('RMSE: ' +  str(format(round(rmse, 3))))\n",
        "        print('R-squared: ' + str(format(round(r2, 3))))\n",
        "\n",
        "def get_future(ds, exog, steps, model_output, plot):\n",
        "\n",
        "    # Get forecast and confidence interval from base model, by steps 60\n",
        "    \n",
        "\n",
        "    #future_1y= model_output.forecast(steps=12, exog=exog)\n",
        "    future_1y = model_output.get_forecast(steps=steps, exog=exog, dynamic=True)\n",
        "    future_conf_1y = future_1y.conf_int(steps=steps)\n",
        "\n",
        "    print(future_1y.predicted_mean)\n",
        "\n",
        "    if plot: # plot results\n",
        "\n",
        "        # 1 yr\n",
        "        ax = ds.plot(label='Observed', figsize=(12, 8))\n",
        "        future_1y.predicted_mean.plot(ax=ax, label='Forecast')\n",
        "        ax.fill_between(future_conf_1y.index,\n",
        "                        future_conf_1y.iloc[:, 0],\n",
        "                        future_conf_1y.iloc[:, 1], color='k', alpha=.25)\n",
        "        ax.xaxis.set_minor_locator(mdates.DayLocator())\n",
        "        ax.set_xlabel('Date')\n",
        "        ax.set_ylabel('Returns')\n",
        "        ax.set_title('1-Year Forecast')\n",
        "        ax.legend()\n",
        "        plt.show()        \n",
        "\n",
        "    df_out = future_conf_1y\n",
        "    df_out['yhat'] = future_1y.predicted_mean\n",
        "    df_out.columns = ['yhat_lower', 'yhat_upper', 'yhat']\n",
        "\n",
        "\n",
        "    gain_df = pd.DataFrame({'value':df_out['yhat'].values, 'date':df_out.index})\n",
        "    lastObs = pd.DataFrame({'value':ds.iloc[-1]['value'], 'date':ds.index[-1]}, index=[0])\n",
        "\n",
        "    # preappend one row from actuals to forecast so that roi can be projected.\n",
        "    gain_df = pd.concat([ lastObs, gain_df])\n",
        "    gain_df = gain_df.set_index('date')\n",
        "\n",
        "    roi = calculate_gain(gain_df, steps=steps, plot=False)\n",
        "\n",
        "    print(str(steps) + '-Step ROI: ' + str(roi.iloc[0,0]))\n",
        "    return (df_out)\n",
        "\n",
        "# function to calculate gain percentage (ROI) on previous 2, 5 and 10 years\n",
        "# source: https://github.com/gioamorim80/Zillow-Time-Series/blob/master/Module%204%20Final%20Project.ipynb\n",
        "def calculate_gain(ts, steps=12, plot=True): \n",
        "    \n",
        "    '''Takes a time series and performs calculations on returns over investments\n",
        "    for period of 1 year'''\n",
        "    \n",
        "    # calculates ROI by taking current value, decreasing investment(value at x steps in past) and \n",
        "    # dividing by investment. Multiplies by 100 to get percentage number\n",
        "    roi_1 = (ts - ts.shift(periods=steps))/ts.shift(periods=steps)*100\n",
        "    roi_1.dropna(inplace=True)  \n",
        "\n",
        "    # plot results\n",
        "    if plot:\n",
        "        fig = go.Figure()\n",
        "        fig.add_trace(go.Scatter(x=roi_1.index, y=roi_1.value, name='1-Year Investment',\n",
        "                                 line_color='deepskyblue'))\n",
        "        \n",
        "        fig.update_layout(title_text='ROI',\n",
        "                          yaxis_title=\"ROI (%)\", \n",
        "                          xaxis_rangeslider_visible=False)\n",
        "        fig.show()\n",
        "    \n",
        "    # saves new ts with returns for 1 period\n",
        "    return roi_1"
      ],
      "execution_count": 0,
      "outputs": []
    },
    {
      "cell_type": "markdown",
      "metadata": {
        "id": "5CZTN2vbaZGC",
        "colab_type": "text"
      },
      "source": [
        "COVID-19"
      ]
    },
    {
      "cell_type": "code",
      "metadata": {
        "id": "CcNbZeCoaYnE",
        "colab_type": "code",
        "colab": {}
      },
      "source": [
        "baseUrl = \"https://raw.githubusercontent.com/CSSEGISandData/COVID-19/master/csse_covid_19_data/csse_covid_19_time_series/\"\n",
        "covid = pd.read_csv(baseUrl + 'time_series_19-covid-Confirmed.csv')"
      ],
      "execution_count": 0,
      "outputs": []
    },
    {
      "cell_type": "code",
      "metadata": {
        "id": "rRNPQ0zxcl8Y",
        "colab_type": "code",
        "colab": {}
      },
      "source": [
        "covid_us = covid.loc[covid['Country/Region']=='US']\n",
        "covid_fl = covid_us[covid['Province/State']=='Florida']\n",
        "covid_italy = covid.loc[covid['Country/Region']=='Italy']\n",
        "\n",
        "def formatTS(ds):\n",
        "  ds = ds.reset_index()\n",
        "  ds.columns = ['date', 'value']\n",
        "  ds['date'] = pd.to_datetime(ds['date'], format='%m/%d/%y', errors='coerce')\n",
        "  ds['value'] = pd.to_numeric(ds['value'])\n",
        "  ds = ds.set_index('date')\n",
        "  return(ds)\n",
        "\n",
        "covid_us = covid_us.transpose()\n",
        "covid_us = covid_us.iloc[4:,:]\n",
        "covid_us['total'] = covid_us.sum(axis=1)\n",
        "covid_us = covid_us.iloc[:,len(covid_us.columns)-1]\n",
        "covid_us = formatTS(covid_us)\n",
        "\n",
        "covid_fl = covid_fl.transpose()\n",
        "covid_fl = covid_fl.iloc[4:,:]\n",
        "covid_fl = formatTS(covid_fl)\n",
        "\n",
        "covid_italy = covid_italy.transpose()\n",
        "covid_italy = covid_italy.iloc[4:,:]\n",
        "covid_italy = formatTS(covid_italy)"
      ],
      "execution_count": 0,
      "outputs": []
    },
    {
      "cell_type": "code",
      "metadata": {
        "id": "ZA3mzNWxdXdK",
        "colab_type": "code",
        "colab": {
          "base_uri": "https://localhost:8080/",
          "height": 790
        },
        "outputId": "f4d0f5d1-587e-4ae4-a015-26ce7feb24c2"
      },
      "source": [
        "# find best orders\n",
        "\n",
        "def get_forecast(ds, steps):\n",
        "  orders = find_orders(ds, exog=None) # takes a bit of time, best --> ((1, 1, 1), (1, 0, 1, 12))\n",
        "  model_output = fit_sarimax_model(ds, None, order=orders[0], seasonal_order=orders[1], summary=False, plot=False)  \n",
        "  get_future(ds, exog=None, steps=steps, model_output=model_output, plot=True)\n",
        "\n",
        "\n",
        "get_forecast(covid_italy, 12)"
      ],
      "execution_count": 78,
      "outputs": [
        {
          "output_type": "stream",
          "text": [
            "2020-03-22     59130.129078\n",
            "2020-03-23     66406.297921\n",
            "2020-03-24     71641.063089\n",
            "2020-03-25     82380.879596\n",
            "2020-03-26     91728.731790\n",
            "2020-03-27    101487.979247\n",
            "2020-03-28    111216.356419\n",
            "2020-03-29    121571.955850\n",
            "2020-03-30    132950.791182\n",
            "2020-03-31    145794.893441\n",
            "2020-04-01    159661.289823\n",
            "2020-04-02    174465.008368\n",
            "Freq: D, dtype: float64\n"
          ],
          "name": "stdout"
        },
        {
          "output_type": "display_data",
          "data": {
            "image/png": "[encoded data removed]",
            "text/plain": [
              "<Figure size 864x576 with 1 Axes>"
            ]
          },
          "metadata": {
            "tags": []
          }
        },
        {
          "output_type": "stream",
          "text": [
            "12-Step ROI: 225.6280719096118\n"
          ],
          "name": "stdout"
        }
      ]
    }
  ]
}