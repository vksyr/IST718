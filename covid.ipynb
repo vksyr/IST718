{
  "nbformat": 4,
  "nbformat_minor": 0,
  "metadata": {
    "colab": {
      "name": "Proj.ipynb",
      "provenance": [],
      "collapsed_sections": []
    },
    "kernelspec": {
      "name": "python3",
      "display_name": "Python 3"
    }
  },
  "cells": [
    {
      "cell_type": "code",
      "metadata": {
        "id": "jD2UktD-e2XU",
        "colab_type": "code",
        "outputId": "54e79006-ad7b-43cb-b859-f88c7aa043ff",
        "colab": {
          "base_uri": "https://localhost:8080/",
          "height": 262
        }
      },
      "source": [
        "import pandas as pd  # data frame operations\n",
        "import numpy as np  # arrays and math functions\n",
        "from scipy.stats import uniform  # for training-and-test split\n",
        "import statsmodels.api as sm  # statistical models (including regression)\n",
        "import statsmodels.formula.api as smf  # R-like model specification\n",
        "import matplotlib.pyplot as plt  # 2D plotting\n",
        "import seaborn as sns  # PROVIDES TRELLIS AND SMALL MULTIPLE PLOTTING\n",
        "import math\n",
        "\n",
        "from pandas import Series\n",
        "from statistics import mean\n",
        "from statistics import median\n",
        "\n",
        "from matplotlib import pyplot\n",
        "from statsmodels.graphics.tsaplots import plot_acf\n",
        "from statsmodels.graphics.tsaplots import plot_pacf\n",
        "\n",
        "import plotly as py\n",
        "import plotly.graph_objects as go\n",
        "\n",
        "from plotly.subplots import make_subplots\n",
        "from sklearn.metrics import mean_squared_error, r2_score\n",
        "\n",
        "import statsmodels.tsa.stattools as st\n",
        "from scipy import stats as stats\n",
        "\n",
        "!pip install pmdarima\n",
        "import pmdarima as pm\n",
        "from pmdarima.arima import auto_arima\n",
        "\n",
        "pd.set_option('display.max_columns', None)\n",
        "pd.set_option('display.max_rows', None)\n",
        "np.set_printoptions(threshold=9999)\n",
        "\n",
        "import warnings\n",
        "warnings.filterwarnings(\"ignore\")"
      ],
      "execution_count": 68,
      "outputs": [
        {
          "output_type": "stream",
          "text": [
            "Requirement already satisfied: pmdarima in /usr/local/lib/python3.6/dist-packages (1.5.3)\n",
            "Requirement already satisfied: urllib3 in /usr/local/lib/python3.6/dist-packages (from pmdarima) (1.24.3)\n",
            "Requirement already satisfied: numpy>=1.17.3 in /usr/local/lib/python3.6/dist-packages (from pmdarima) (1.18.2)\n",
            "Requirement already satisfied: scikit-learn>=0.22 in /usr/local/lib/python3.6/dist-packages (from pmdarima) (0.22.2.post1)\n",
            "Requirement already satisfied: joblib>=0.11 in /usr/local/lib/python3.6/dist-packages (from pmdarima) (0.14.1)\n",
            "Requirement already satisfied: pandas>=0.19 in /usr/local/lib/python3.6/dist-packages (from pmdarima) (0.25.3)\n",
            "Requirement already satisfied: Cython>=0.29 in /usr/local/lib/python3.6/dist-packages (from pmdarima) (0.29.15)\n",
            "Requirement already satisfied: statsmodels>=0.10.2 in /usr/local/lib/python3.6/dist-packages (from pmdarima) (0.10.2)\n",
            "Requirement already satisfied: scipy>=1.3.2 in /usr/local/lib/python3.6/dist-packages (from pmdarima) (1.4.1)\n",
            "Requirement already satisfied: python-dateutil>=2.6.1 in /usr/local/lib/python3.6/dist-packages (from pandas>=0.19->pmdarima) (2.8.1)\n",
            "Requirement already satisfied: pytz>=2017.2 in /usr/local/lib/python3.6/dist-packages (from pandas>=0.19->pmdarima) (2018.9)\n",
            "Requirement already satisfied: patsy>=0.4.0 in /usr/local/lib/python3.6/dist-packages (from statsmodels>=0.10.2->pmdarima) (0.5.1)\n",
            "Requirement already satisfied: six>=1.5 in /usr/local/lib/python3.6/dist-packages (from python-dateutil>=2.6.1->pandas>=0.19->pmdarima) (1.12.0)\n"
          ],
          "name": "stdout"
        }
      ]
    },
    {
      "cell_type": "code",
      "metadata": {
        "id": "hWIw5JHNfLxB",
        "colab_type": "code",
        "colab": {}
      },
      "source": [
        "# https://data.kcmo.org/311/311-Call-Center-Service-Requests/7at3-sxhp\n",
        "kc_311_calls = pd.read_csv('/content/drive/My Drive/IST718/311_Call_Center_Service_Requests.csv') # large\n",
        "\n",
        "# https://data.kcmo.org/Budget/Budget-for-budget-kcmo-gov/whg3-khkh\n",
        "kc_budget = pd.read_csv('https://raw.githubusercontent.com/vksyr/IST718/master/Budget_for_budget.kcmo.gov.csv')\n",
        "\n",
        "# https://data.kcmo.org/Budget/KCMO-FY-2012-2020-Submitted-Adopted-and-Actual-Bud/mwmk-j86a #25mb\n",
        "kc_expenses = pd.read_csv('/content/drive/My Drive/IST718/KCMO_FY_2012-_2020_Submitted__Adopted__and_Actual_Budget_-_Expenditures.csv')"
      ],
      "execution_count": 0,
      "outputs": []
    },
    {
      "cell_type": "code",
      "metadata": {
        "id": "bvJsh6s81Mt0",
        "colab_type": "code",
        "outputId": "d8ec0c8d-259c-491a-c8bc-5fa7b557bab0",
        "colab": {
          "base_uri": "https://localhost:8080/",
          "height": 138
        }
      },
      "source": [
        "kc_311_calls.DEPARTMENT.unique()"
      ],
      "execution_count": 6,
      "outputs": [
        {
          "output_type": "execute_result",
          "data": {
            "text/plain": [
              "array(['NHS', 'Northland', 'Water Services', 'Public Works', 'Health',\n",
              "       'Parks and Rec', 'City Managers Office',\n",
              "       'City Planning and Development', 'KCPD', 'Finance', 'South',\n",
              "       'Fire', 'Aviation', 'General Service', 'Parks & Rec',\n",
              "       'Convention and Entertainment Center', 'NCS',\n",
              "       'Information Technology', 'Parks & Recreation',\n",
              "       'Housing Community Dev', 'IT', 'Municipal Court'], dtype=object)"
            ]
          },
          "metadata": {
            "tags": []
          },
          "execution_count": 6
        }
      ]
    },
    {
      "cell_type": "markdown",
      "metadata": {
        "colab_type": "text",
        "id": "hgO5AuZ51L6e"
      },
      "source": [
        "Clean data"
      ]
    },
    {
      "cell_type": "code",
      "metadata": {
        "id": "F4B4eFOYq1D-",
        "colab_type": "code",
        "outputId": "f68a90f9-6855-4804-8872-fa8797aacc0e",
        "colab": {
          "base_uri": "https://localhost:8080/",
          "height": 329
        }
      },
      "source": [
        "kc_311_calls['DEPARTMENT'].loc[kc_311_calls.DEPARTMENT=='Parks & Rec'] = 'Parks and Rec'\n",
        "kc_311_calls['DEPARTMENT'].loc[kc_311_calls.DEPARTMENT=='Parks & Recreation'] = 'Parks and Rec'\n",
        "kc_311_calls['DEPARTMENT'].loc[kc_311_calls.DEPARTMENT=='IT'] = 'Information Technology'\n",
        "kc_311_calls['DEPARTMENT'].loc[kc_311_calls.DEPARTMENT=='Housing Community Dev'] = 'NHS'\n",
        "kc_311_calls['DEPARTMENT'].loc[kc_311_calls.DEPARTMENT=='NCS'] = 'NHS'\n",
        "kc_311_calls.DEPARTMENT.value_counts()"
      ],
      "execution_count": 7,
      "outputs": [
        {
          "output_type": "execute_result",
          "data": {
            "text/plain": [
              "NHS                                    728914\n",
              "Public Works                           328815\n",
              "Water Services                         196823\n",
              "Parks and Rec                           81919\n",
              "KCPD                                    32411\n",
              "Health                                  31064\n",
              "City Planning and Development           11394\n",
              "City Managers Office                    10483\n",
              "Northland                                4966\n",
              "Finance                                  1513\n",
              "Fire                                      562\n",
              "General Service                           464\n",
              "South                                     295\n",
              "Aviation                                  145\n",
              "Convention and Entertainment Center        51\n",
              "Information Technology                     20\n",
              "Municipal Court                             8\n",
              "Name: DEPARTMENT, dtype: int64"
            ]
          },
          "metadata": {
            "tags": []
          },
          "execution_count": 7
        }
      ]
    },
    {
      "cell_type": "code",
      "metadata": {
        "id": "2bSyOvjvm75s",
        "colab_type": "code",
        "outputId": "572838b4-4be4-48de-d3b9-9325c3ec2ac9",
        "colab": {
          "base_uri": "https://localhost:8080/",
          "height": 450
        }
      },
      "source": [
        "kc_budget['Department'].loc[kc_budget.Department=='Health and Medical Care'] = 'Health'\n",
        "kc_budget['Department'].loc[kc_budget.Department=='Convention and Entertainment Facilities'] = 'Convention and Tourism'\n",
        "kc_budget.Department.value_counts()"
      ],
      "execution_count": 8,
      "outputs": [
        {
          "output_type": "execute_result",
          "data": {
            "text/plain": [
              "Water Services                        13870\n",
              "Parks and Recreation                  11911\n",
              "Public Works                          10698\n",
              "Police                                 7534\n",
              "Health                                 6511\n",
              "Aviation                               6329\n",
              "Fire                                   5414\n",
              "Neighborhoods and Housing Services     4817\n",
              "General Services                       4114\n",
              "City Planning and Development          2567\n",
              "Office of the City Manager             2274\n",
              "Convention and Tourism                 2033\n",
              "Municipal Court                        1447\n",
              "Finance                                1256\n",
              "Offices of Mayor and Council           1055\n",
              "Human Resources                         928\n",
              "Law                                     832\n",
              "Human Relations                         829\n",
              "Economic Development                    646\n",
              "Office of the City Auditor              215\n",
              "Office of the City Clerk                203\n",
              "Transportation Authorities              136\n",
              "Boards of Election Commissioners        107\n",
              "Contingent Appropriation                 10\n",
              "Name: Department, dtype: int64"
            ]
          },
          "metadata": {
            "tags": []
          },
          "execution_count": 8
        }
      ]
    },
    {
      "cell_type": "code",
      "metadata": {
        "id": "Hc7WNorRX737",
        "colab_type": "code",
        "outputId": "eaea858f-1cca-4b48-91ac-501bd0af2f89",
        "colab": {
          "base_uri": "https://localhost:8080/",
          "height": 450
        }
      },
      "source": [
        "kc_expenses['department'].loc[kc_expenses.department=='Health and Medical Care'] = 'Health'\n",
        "kc_expenses['department'].loc[kc_expenses.department=='Convention and Entertainment Facilities'] = 'Convention and Tourism'\n",
        "kc_expenses.department.value_counts()"
      ],
      "execution_count": 9,
      "outputs": [
        {
          "output_type": "execute_result",
          "data": {
            "text/plain": [
              "Public Works                          26774\n",
              "Parks and Recreation                  23616\n",
              "Water Services                        23069\n",
              "Health                                16377\n",
              "Police                                10607\n",
              "Fire                                   9666\n",
              "Neighborhoods and Housing Services     9420\n",
              "Aviation                               8911\n",
              "General Services                       6749\n",
              "City Planning and Development          4460\n",
              "Office of the City Manager             4092\n",
              "Convention and Tourism                 3555\n",
              "Municipal Court                        2564\n",
              "Offices of Mayor and Council           2009\n",
              "Finance                                1969\n",
              "Human Relations                        1697\n",
              "Human Resources                        1408\n",
              "Law                                     994\n",
              "Economic Development                    861\n",
              "Office of the City Clerk                305\n",
              "Office of the City Auditor              275\n",
              "Transportation Authorities              196\n",
              "Boards of Election Commissioners        151\n",
              "Contingent Appropriation                 14\n",
              "Name: department, dtype: int64"
            ]
          },
          "metadata": {
            "tags": []
          },
          "execution_count": 9
        }
      ]
    },
    {
      "cell_type": "code",
      "metadata": {
        "id": "uVXa4van_-o-",
        "colab_type": "code",
        "colab": {}
      },
      "source": [
        "# Number of 311 Calls vs Budget (2012 - 2019)\n",
        "kc_311_calls_12_19 = kc_311_calls[(kc_311_calls['CREATION YEAR']>=2012) & (kc_311_calls['CREATION YEAR']<=2019)]\n",
        "\n",
        "# 311 calls\n",
        "groups = kc_311_calls_12_19.groupby([\"DEPARTMENT\", \"CREATION YEAR\"])\n",
        "call_totals = pd.DataFrame({'Total' : groups.size()}).reset_index()\n",
        "\n",
        "# Budget\n",
        "groups = kc_budget.groupby([\"Department\", \"Fiscal Year\"])[\"Approved Amount\"]\n",
        "budget_totals = pd.DataFrame({'Total' : groups.sum()}).reset_index()\n",
        "\n",
        "# Expenses\n",
        "groups = kc_expenses.groupby([\"department\", \"year\"])[\"actuals\"]\n",
        "expenses_totals = pd.DataFrame({'Total' : groups.sum()}).reset_index()"
      ],
      "execution_count": 0,
      "outputs": []
    },
    {
      "cell_type": "code",
      "metadata": {
        "id": "S54Uex24AFfH",
        "colab_type": "code",
        "colab": {}
      },
      "source": [
        "# dept matching between datasets\n",
        "mapping = [\n",
        "  {'budget':'Neighborhoods and Housing Services', 'call':'NHS', 'expense':['trash',\n",
        "                                                                           'recycl', \n",
        "                                                                           'neighborhood', \n",
        "                                                                           'Regulated Industries', \n",
        "                                                                           'Housing',\n",
        "                                                                           'Community',\n",
        "                                                                           'homeowner',\n",
        "                                                                           'Dangerous Building',\n",
        "                                                                           'Tow Service',\n",
        "                                                                           'Animal Health',\n",
        "                                                                           'Public Safety',\n",
        "                                                                           'Homestead',\n",
        "                                                                           'Regulated Industr',\n",
        "                                                                           'Dangerous Building']}, \n",
        "  {'budget':'Public Works', 'call':'Public Works', 'expense':['public works', \n",
        "                                                              'construction',\n",
        "                                                              'maintenance', \n",
        "                                                              'engineer',\n",
        "                                                              'facilities',\n",
        "                                                              'facility',\n",
        "                                                              'fleet',\n",
        "                                                              'lakes',\n",
        "                                                              'stormwater',\n",
        "                                                              'solid waste',\n",
        "                                                              'traffic',\n",
        "                                                              'parking',\n",
        "                                                              'sewer']},\n",
        "  {'budget':'Water Services', 'call':'Water Services'}, \n",
        "  {'budget':'Parks and Recreation', 'call':'Parks and Rec', 'expense':['park ', 'parks', 'rec ', 'Recreation', \n",
        "                                                                       'snow', 'ice ', 'Fountain', \n",
        "                                                                       'Central Region Blvds-West Park', \n",
        "                                                                       'Observation Park', 'Iser Park', \n",
        "                                                                       'South Region Blvds - West Park',\n",
        "                                                                       'West Bottoms Garage', 'Ivanhoe Park',\n",
        "                                                                       'Golf Crs Oper-Hodge Park',\n",
        "                                                                       'Golf Crs Oper-Minor Park', \n",
        "                                                                       'Columbus Park', 'Natural Resource']},\n",
        "  {'budget':'Police', 'call':'KCPD', 'expense':['police']}, \n",
        "  {'budget':'Health', 'call':'Health', 'expense':['health', \n",
        "                                                  'safety',\n",
        "                                                  'immunization',\n",
        "                                                  'violence',\n",
        "                                                  'economic mobility',\n",
        "                                                  'disease',\n",
        "                                                  'HIV', 'Flu', 'Opioid', 'STD', 'Food Handl',\n",
        "                                                  'vaccin', 'Aim4Peace', 'Poison', 'disease', \n",
        "                                                  'Tuberculosis', 'TB', 'Food Inspection',\n",
        "                                                  'one touch']}, \n",
        "  {'budget':'City Planning and Development', 'call':'City Planning and Development', 'expense':['plans', \n",
        "                                                                                                'planning',\n",
        "                                                                                                'board',\n",
        "                                                                                                'commission',\n",
        "                                                                                                'zoning',\n",
        "                                                                                                'Historic Preservation', \n",
        "                                                                                                'Development Management',\n",
        "                                                                                                'Urban Redevelopment',\n",
        "                                                                                                'Land Development'\n",
        "                                                                                                'Permits', 'Permits and Development']}, \n",
        "  {'budget':'Office of the City Manager', 'call':'City Managers Office', 'expense':['Ada '\n",
        "                                                                                    'disabilit', \n",
        "                                                                                    'communication',\n",
        "                                                                                    'datakc',\n",
        "                                                                                    'contract',\n",
        "                                                                                    'EMS Education',\n",
        "                                                                                    'EMS Administration', \n",
        "                                                                                    'EMS Oversight', \n",
        "                                                                                    'EMS Training', \n",
        "                                                                                    'Emergency Medical Training'\n",
        "                                                                                    'Emergency Medical Services',\n",
        "                                                                                    'NTDF', \n",
        "                                                                                    'Neighborhood Tourist', \n",
        "                                                                                    'Creative', \n",
        "                                                                                    'Economic',\n",
        "                                                                                    'Emergency',\n",
        "                                                                                    'Environment']},\n",
        "  #{'budget':'', 'call':'NCS'},\n",
        "  #{'budget':'', 'call':'Northland'},\n",
        "  {'budget':'Finance', 'call':'Finance'},\n",
        "  {'budget':'Fire', 'call':'Fire'},\n",
        "  {'budget':'General Services', 'call':'General Service'},\n",
        "  #{'budget':'', 'call':'South'},\n",
        "  {'budget':'Aviation', 'call':'Aviation'},\n",
        "  {'budget':'Convention and Tourism', 'call':'Convention and Entertainment Center'} \n",
        "  #{'budget':'', 'call':'Information Technology'},\n",
        "  #{'budget':'Municipal Court', 'call':'Municipal Court'} .. none in dataset for years specified\n",
        "]\n",
        "\n",
        "#vendor['dept'].unique()"
      ],
      "execution_count": 0,
      "outputs": []
    },
    {
      "cell_type": "code",
      "metadata": {
        "id": "ztVDQWw9B882",
        "colab_type": "code",
        "colab": {}
      },
      "source": [
        "budget_totals = budget_totals.set_index('Fiscal Year')"
      ],
      "execution_count": 0,
      "outputs": []
    },
    {
      "cell_type": "code",
      "metadata": {
        "id": "6YwaeUT__2Dn",
        "colab_type": "code",
        "outputId": "88a7275e-fad1-4f1c-e175-5d83650785a2",
        "colab": {
          "base_uri": "https://localhost:8080/",
          "height": 542
        }
      },
      "source": [
        "# plot dept budget by year\n",
        "palette = sns.color_palette('Paired', 13).as_hex()\n",
        "\n",
        "\n",
        "fig = go.Figure()\n",
        "for m in range(0, len(mapping)):\n",
        "    fig.add_trace(go.Scatter(x=budget_totals[budget_totals['Department']==mapping[m]['budget']].index, \n",
        "                             y=budget_totals[budget_totals['Department']==mapping[m]['budget']].Total, \n",
        "                             name=mapping[m]['budget'], line_color=palette[m]))\n",
        "\n",
        "fig.update_layout(title_text='Total Dept Budget per Year',\n",
        "                  xaxis_rangeslider_visible=False)\n",
        "fig.show()"
      ],
      "execution_count": 13,
      "outputs": [
        {
          "output_type": "display_data",
          "data": {
            "text/html": [
              "<html>\n",
              "<head><meta charset=\"utf-8\" /></head>\n",
              "<body>\n",
              "    <div>\n",
              "            <script src=\"https://cdnjs.cloudflare.com/ajax/libs/mathjax/2.7.5/MathJax.js?config=TeX-AMS-MML_SVG\"></script><script type=\"text/javascript\">if (window.MathJax) {MathJax.Hub.Config({SVG: {font: \"STIX-Web\"}});}</script>\n",
              "                <script type=\"text/javascript\">window.PlotlyConfig = {MathJaxConfig: 'local'};</script>\n",
              "        <script src=\"https://cdn.plot.ly/plotly-latest.min.js\"></script>    \n",
              "            <div id=\"3b53a9d0-ee54-4266-8c58-90f3fbeec543\" class=\"plotly-graph-div\" style=\"height:525px; width:100%;\"></div>\n",
              "            <script type=\"text/javascript\">\n",
              "                \n",
              "                    window.PLOTLYENV=window.PLOTLYENV || {};\n",
              "                    \n",
              "                if (document.getElementById(\"3b53a9d0-ee54-4266-8c58-90f3fbeec543\")) {\n",
              "                    Plotly.newPlot(\n",
              "                        '3b53a9d0-ee54-4266-8c58-90f3fbeec543',\n",
              "                        [{\"line\": {\"color\": \"#a6cee3\"}, \"name\": \"Neighborhoods and Housing Services\", \"type\": \"scatter\", \"x\": [2012, 2013, 2014, 2015, 2016, 2017, 2018, 2019], \"y\": [54689063.0, 60682672.0, 58636339.0, 55323865.0, 52965636.0, 56679844.0, 55764093.0, 54837131.0]}, {\"line\": {\"color\": \"#1f78b4\"}, \"name\": \"Public Works\", \"type\": \"scatter\", \"x\": [2012, 2013, 2014, 2015, 2016, 2017, 2018, 2019], \"y\": [119716282.0, 118175684.0, 133952832.0, 110290654.0, 110856367.0, 118447844.0, 119323928.0, 127531104.0]}, {\"line\": {\"color\": \"#b2df8a\"}, \"name\": \"Water Services\", \"type\": \"scatter\", \"x\": [2012, 2013, 2014, 2015, 2016, 2017, 2018, 2019], \"y\": [239600042.0, 274713846.0, 322782779.0, 361503593.0, 376777430.0, 371323735.0, 391977858.0, 417717565.0]}, {\"line\": {\"color\": \"#33a02c\"}, \"name\": \"Parks and Recreation\", \"type\": \"scatter\", \"x\": [2012, 2013, 2014, 2015, 2016, 2017, 2018, 2019], \"y\": [51420045.0, 49151362.0, 59308391.0, 53645834.0, 60038931.0, 65867163.0, 67207015.0, 68523846.0]}, {\"line\": {\"color\": \"#fb9a99\"}, \"name\": \"Police\", \"type\": \"scatter\", \"x\": [2012, 2013, 2014, 2015, 2016, 2017, 2018, 2019], \"y\": [206587683.0, 200897274.0, 213252579.0, 231462127.0, 230895440.0, 240610445.0, 251458229.0, 254539051.0]}, {\"line\": {\"color\": \"#e31a1c\"}, \"name\": \"Health\", \"type\": \"scatter\", \"x\": [2012, 2013, 2014, 2015, 2016, 2017, 2018, 2019], \"y\": [53943594.0, 52606208.0, 54709865.0, 52745864.0, 53475778.9, 54515275.0, 56493010.0, 59455090.0]}, {\"line\": {\"color\": \"#fdbf6f\"}, \"name\": \"City Planning and Development\", \"type\": \"scatter\", \"x\": [2012, 2013, 2014, 2015, 2016, 2017, 2018, 2019], \"y\": [14559013.0, 13018490.0, 14528694.0, 15722900.0, 15887910.0, 16721638.0, 17849253.0, 28180178.0]}, {\"line\": {\"color\": \"#ff7f00\"}, \"name\": \"Office of the City Manager\", \"type\": \"scatter\", \"x\": [2012, 2013, 2014, 2015, 2016, 2017, 2018, 2019], \"y\": [10087703.0, 9413573.0, 9133393.0, 9303964.0, 12194357.0, 12107906.0, 12761920.0, 15007093.0]}, {\"line\": {\"color\": \"#cab2d6\"}, \"name\": \"Finance\", \"type\": \"scatter\", \"x\": [2012, 2013, 2014, 2015, 2016, 2017, 2018, 2019], \"y\": [11427821.0, 12126405.0, 13535559.0, 13678746.0, 14538902.0, 16379625.0, 16298769.0, 22836502.0]}, {\"line\": {\"color\": \"#6a3d9a\"}, \"name\": \"Fire\", \"type\": \"scatter\", \"x\": [2012, 2013, 2014, 2015, 2016, 2017, 2018, 2019], \"y\": [131886203.0, 129968873.0, 135527915.0, 140555601.0, 150945059.0, 155300076.0, 166327431.0, 174584071.0]}, {\"line\": {\"color\": \"#ffff99\"}, \"name\": \"General Services\", \"type\": \"scatter\", \"x\": [2012, 2013, 2014, 2015, 2016, 2017, 2018, 2019], \"y\": [49868976.0, 50301863.0, 52437689.0, 48885286.0, 38699746.0, 36059417.0, 52984043.0, 43180610.0]}, {\"line\": {\"color\": \"#b15928\"}, \"name\": \"Aviation\", \"type\": \"scatter\", \"x\": [2012, 2013, 2014, 2015, 2016, 2017, 2018, 2019], \"y\": [146888499.0, 173569142.0, 144152400.0, 155100052.0, 159860202.0, 166835992.0, 180168600.0, 177787615.0]}, {\"line\": {\"color\": \"#a6cee3\"}, \"name\": \"Convention and Tourism\", \"type\": \"scatter\", \"x\": [2012, 2013, 2014, 2015, 2016, 2017, 2018, 2019], \"y\": [60055442.0, 60873433.0, 62798618.0, 63597242.0, 66671185.0, 69885285.0, 70840133.0, 73517637.0]}],\n",
              "                        {\"template\": {\"data\": {\"bar\": [{\"error_x\": {\"color\": \"#2a3f5f\"}, \"error_y\": {\"color\": \"#2a3f5f\"}, \"marker\": {\"line\": {\"color\": \"#E5ECF6\", \"width\": 0.5}}, \"type\": \"bar\"}], \"barpolar\": [{\"marker\": {\"line\": {\"color\": \"#E5ECF6\", \"width\": 0.5}}, \"type\": \"barpolar\"}], \"carpet\": [{\"aaxis\": {\"endlinecolor\": \"#2a3f5f\", \"gridcolor\": \"white\", \"linecolor\": \"white\", \"minorgridcolor\": \"white\", \"startlinecolor\": \"#2a3f5f\"}, \"baxis\": {\"endlinecolor\": \"#2a3f5f\", \"gridcolor\": \"white\", \"linecolor\": \"white\", \"minorgridcolor\": \"white\", \"startlinecolor\": \"#2a3f5f\"}, \"type\": \"carpet\"}], \"choropleth\": [{\"colorbar\": {\"outlinewidth\": 0, \"ticks\": \"\"}, \"type\": \"choropleth\"}], \"contour\": [{\"colorbar\": {\"outlinewidth\": 0, \"ticks\": \"\"}, \"colorscale\": [[0.0, \"#0d0887\"], [0.1111111111111111, \"#46039f\"], [0.2222222222222222, \"#7201a8\"], [0.3333333333333333, \"#9c179e\"], [0.4444444444444444, \"#bd3786\"], [0.5555555555555556, \"#d8576b\"], [0.6666666666666666, \"#ed7953\"], [0.7777777777777778, \"#fb9f3a\"], [0.8888888888888888, \"#fdca26\"], [1.0, \"#f0f921\"]], \"type\": \"contour\"}], \"contourcarpet\": [{\"colorbar\": {\"outlinewidth\": 0, \"ticks\": \"\"}, \"type\": \"contourcarpet\"}], \"heatmap\": [{\"colorbar\": {\"outlinewidth\": 0, \"ticks\": \"\"}, \"colorscale\": [[0.0, \"#0d0887\"], [0.1111111111111111, \"#46039f\"], [0.2222222222222222, \"#7201a8\"], [0.3333333333333333, \"#9c179e\"], [0.4444444444444444, \"#bd3786\"], [0.5555555555555556, \"#d8576b\"], [0.6666666666666666, \"#ed7953\"], [0.7777777777777778, \"#fb9f3a\"], [0.8888888888888888, \"#fdca26\"], [1.0, \"#f0f921\"]], \"type\": \"heatmap\"}], \"heatmapgl\": [{\"colorbar\": {\"outlinewidth\": 0, \"ticks\": \"\"}, \"colorscale\": [[0.0, \"#0d0887\"], [0.1111111111111111, \"#46039f\"], [0.2222222222222222, \"#7201a8\"], [0.3333333333333333, \"#9c179e\"], [0.4444444444444444, \"#bd3786\"], [0.5555555555555556, \"#d8576b\"], [0.6666666666666666, \"#ed7953\"], [0.7777777777777778, \"#fb9f3a\"], [0.8888888888888888, \"#fdca26\"], [1.0, \"#f0f921\"]], \"type\": \"heatmapgl\"}], \"histogram\": [{\"marker\": {\"colorbar\": {\"outlinewidth\": 0, \"ticks\": \"\"}}, \"type\": \"histogram\"}], \"histogram2d\": [{\"colorbar\": {\"outlinewidth\": 0, \"ticks\": \"\"}, \"colorscale\": [[0.0, \"#0d0887\"], [0.1111111111111111, \"#46039f\"], [0.2222222222222222, \"#7201a8\"], [0.3333333333333333, \"#9c179e\"], [0.4444444444444444, \"#bd3786\"], [0.5555555555555556, \"#d8576b\"], [0.6666666666666666, \"#ed7953\"], [0.7777777777777778, \"#fb9f3a\"], [0.8888888888888888, \"#fdca26\"], [1.0, \"#f0f921\"]], \"type\": \"histogram2d\"}], \"histogram2dcontour\": [{\"colorbar\": {\"outlinewidth\": 0, \"ticks\": \"\"}, \"colorscale\": [[0.0, \"#0d0887\"], [0.1111111111111111, \"#46039f\"], [0.2222222222222222, \"#7201a8\"], [0.3333333333333333, \"#9c179e\"], [0.4444444444444444, \"#bd3786\"], [0.5555555555555556, \"#d8576b\"], [0.6666666666666666, \"#ed7953\"], [0.7777777777777778, \"#fb9f3a\"], [0.8888888888888888, \"#fdca26\"], [1.0, \"#f0f921\"]], \"type\": \"histogram2dcontour\"}], \"mesh3d\": [{\"colorbar\": {\"outlinewidth\": 0, \"ticks\": \"\"}, \"type\": \"mesh3d\"}], \"parcoords\": [{\"line\": {\"colorbar\": {\"outlinewidth\": 0, \"ticks\": \"\"}}, \"type\": \"parcoords\"}], \"pie\": [{\"automargin\": true, \"type\": \"pie\"}], \"scatter\": [{\"marker\": {\"colorbar\": {\"outlinewidth\": 0, \"ticks\": \"\"}}, \"type\": \"scatter\"}], \"scatter3d\": [{\"line\": {\"colorbar\": {\"outlinewidth\": 0, \"ticks\": \"\"}}, \"marker\": {\"colorbar\": {\"outlinewidth\": 0, \"ticks\": \"\"}}, \"type\": \"scatter3d\"}], \"scattercarpet\": [{\"marker\": {\"colorbar\": {\"outlinewidth\": 0, \"ticks\": \"\"}}, \"type\": \"scattercarpet\"}], \"scattergeo\": [{\"marker\": {\"colorbar\": {\"outlinewidth\": 0, \"ticks\": \"\"}}, \"type\": \"scattergeo\"}], \"scattergl\": [{\"marker\": {\"colorbar\": {\"outlinewidth\": 0, \"ticks\": \"\"}}, \"type\": \"scattergl\"}], \"scattermapbox\": [{\"marker\": {\"colorbar\": {\"outlinewidth\": 0, \"ticks\": \"\"}}, \"type\": \"scattermapbox\"}], \"scatterpolar\": [{\"marker\": {\"colorbar\": {\"outlinewidth\": 0, \"ticks\": \"\"}}, \"type\": \"scatterpolar\"}], \"scatterpolargl\": [{\"marker\": {\"colorbar\": {\"outlinewidth\": 0, \"ticks\": \"\"}}, \"type\": \"scatterpolargl\"}], \"scatterternary\": [{\"marker\": {\"colorbar\": {\"outlinewidth\": 0, \"ticks\": \"\"}}, \"type\": \"scatterternary\"}], \"surface\": [{\"colorbar\": {\"outlinewidth\": 0, \"ticks\": \"\"}, \"colorscale\": [[0.0, \"#0d0887\"], [0.1111111111111111, \"#46039f\"], [0.2222222222222222, \"#7201a8\"], [0.3333333333333333, \"#9c179e\"], [0.4444444444444444, \"#bd3786\"], [0.5555555555555556, \"#d8576b\"], [0.6666666666666666, \"#ed7953\"], [0.7777777777777778, \"#fb9f3a\"], [0.8888888888888888, \"#fdca26\"], [1.0, \"#f0f921\"]], \"type\": \"surface\"}], \"table\": [{\"cells\": {\"fill\": {\"color\": \"#EBF0F8\"}, \"line\": {\"color\": \"white\"}}, \"header\": {\"fill\": {\"color\": \"#C8D4E3\"}, \"line\": {\"color\": \"white\"}}, \"type\": \"table\"}]}, \"layout\": {\"annotationdefaults\": {\"arrowcolor\": \"#2a3f5f\", \"arrowhead\": 0, \"arrowwidth\": 1}, \"coloraxis\": {\"colorbar\": {\"outlinewidth\": 0, \"ticks\": \"\"}}, \"colorscale\": {\"diverging\": [[0, \"#8e0152\"], [0.1, \"#c51b7d\"], [0.2, \"#de77ae\"], [0.3, \"#f1b6da\"], [0.4, \"#fde0ef\"], [0.5, \"#f7f7f7\"], [0.6, \"#e6f5d0\"], [0.7, \"#b8e186\"], [0.8, \"#7fbc41\"], [0.9, \"#4d9221\"], [1, \"#276419\"]], \"sequential\": [[0.0, \"#0d0887\"], [0.1111111111111111, \"#46039f\"], [0.2222222222222222, \"#7201a8\"], [0.3333333333333333, \"#9c179e\"], [0.4444444444444444, \"#bd3786\"], [0.5555555555555556, \"#d8576b\"], [0.6666666666666666, \"#ed7953\"], [0.7777777777777778, \"#fb9f3a\"], [0.8888888888888888, \"#fdca26\"], [1.0, \"#f0f921\"]], \"sequentialminus\": [[0.0, \"#0d0887\"], [0.1111111111111111, \"#46039f\"], [0.2222222222222222, \"#7201a8\"], [0.3333333333333333, \"#9c179e\"], [0.4444444444444444, \"#bd3786\"], [0.5555555555555556, \"#d8576b\"], [0.6666666666666666, \"#ed7953\"], [0.7777777777777778, \"#fb9f3a\"], [0.8888888888888888, \"#fdca26\"], [1.0, \"#f0f921\"]]}, \"colorway\": [\"#636efa\", \"#EF553B\", \"#00cc96\", \"#ab63fa\", \"#FFA15A\", \"#19d3f3\", \"#FF6692\", \"#B6E880\", \"#FF97FF\", \"#FECB52\"], \"font\": {\"color\": \"#2a3f5f\"}, \"geo\": {\"bgcolor\": \"white\", \"lakecolor\": \"white\", \"landcolor\": \"#E5ECF6\", \"showlakes\": true, \"showland\": true, \"subunitcolor\": \"white\"}, \"hoverlabel\": {\"align\": \"left\"}, \"hovermode\": \"closest\", \"mapbox\": {\"style\": \"light\"}, \"paper_bgcolor\": \"white\", \"plot_bgcolor\": \"#E5ECF6\", \"polar\": {\"angularaxis\": {\"gridcolor\": \"white\", \"linecolor\": \"white\", \"ticks\": \"\"}, \"bgcolor\": \"#E5ECF6\", \"radialaxis\": {\"gridcolor\": \"white\", \"linecolor\": \"white\", \"ticks\": \"\"}}, \"scene\": {\"xaxis\": {\"backgroundcolor\": \"#E5ECF6\", \"gridcolor\": \"white\", \"gridwidth\": 2, \"linecolor\": \"white\", \"showbackground\": true, \"ticks\": \"\", \"zerolinecolor\": \"white\"}, \"yaxis\": {\"backgroundcolor\": \"#E5ECF6\", \"gridcolor\": \"white\", \"gridwidth\": 2, \"linecolor\": \"white\", \"showbackground\": true, \"ticks\": \"\", \"zerolinecolor\": \"white\"}, \"zaxis\": {\"backgroundcolor\": \"#E5ECF6\", \"gridcolor\": \"white\", \"gridwidth\": 2, \"linecolor\": \"white\", \"showbackground\": true, \"ticks\": \"\", \"zerolinecolor\": \"white\"}}, \"shapedefaults\": {\"line\": {\"color\": \"#2a3f5f\"}}, \"ternary\": {\"aaxis\": {\"gridcolor\": \"white\", \"linecolor\": \"white\", \"ticks\": \"\"}, \"baxis\": {\"gridcolor\": \"white\", \"linecolor\": \"white\", \"ticks\": \"\"}, \"bgcolor\": \"#E5ECF6\", \"caxis\": {\"gridcolor\": \"white\", \"linecolor\": \"white\", \"ticks\": \"\"}}, \"title\": {\"x\": 0.05}, \"xaxis\": {\"automargin\": true, \"gridcolor\": \"white\", \"linecolor\": \"white\", \"ticks\": \"\", \"title\": {\"standoff\": 15}, \"zerolinecolor\": \"white\", \"zerolinewidth\": 2}, \"yaxis\": {\"automargin\": true, \"gridcolor\": \"white\", \"linecolor\": \"white\", \"ticks\": \"\", \"title\": {\"standoff\": 15}, \"zerolinecolor\": \"white\", \"zerolinewidth\": 2}}}, \"title\": {\"text\": \"Total Dept Budget per Year\"}, \"xaxis\": {\"rangeslider\": {\"visible\": false}}},\n",
              "                        {\"responsive\": true}\n",
              "                    ).then(function(){\n",
              "                            \n",
              "var gd = document.getElementById('3b53a9d0-ee54-4266-8c58-90f3fbeec543');\n",
              "var x = new MutationObserver(function (mutations, observer) {{\n",
              "        var display = window.getComputedStyle(gd).display;\n",
              "        if (!display || display === 'none') {{\n",
              "            console.log([gd, 'removed!']);\n",
              "            Plotly.purge(gd);\n",
              "            observer.disconnect();\n",
              "        }}\n",
              "}});\n",
              "\n",
              "// Listen for the removal of the full notebook cells\n",
              "var notebookContainer = gd.closest('#notebook-container');\n",
              "if (notebookContainer) {{\n",
              "    x.observe(notebookContainer, {childList: true});\n",
              "}}\n",
              "\n",
              "// Listen for the clearing of the current output cell\n",
              "var outputEl = gd.closest('.output');\n",
              "if (outputEl) {{\n",
              "    x.observe(outputEl, {childList: true});\n",
              "}}\n",
              "\n",
              "                        })\n",
              "                };\n",
              "                \n",
              "            </script>\n",
              "        </div>\n",
              "</body>\n",
              "</html>"
            ]
          },
          "metadata": {
            "tags": []
          }
        }
      ]
    },
    {
      "cell_type": "markdown",
      "metadata": {
        "id": "8P09HhwTfZeg",
        "colab_type": "text"
      },
      "source": [
        "Groupings"
      ]
    },
    {
      "cell_type": "code",
      "metadata": {
        "id": "SZYIT-bRbBro",
        "colab_type": "code",
        "outputId": "8258f9be-f8b3-4d8b-d8c2-ee9a342607d9",
        "colab": {
          "base_uri": "https://localhost:8080/",
          "height": 1000
        }
      },
      "source": [
        "#Budget vs calls \n",
        "\n",
        "!pip install scipy\n",
        "for s in range(0, len(mapping)):\n",
        "\n",
        "  budget_totals_sub = budget_totals[budget_totals['Department']==mapping[s]['budget']]\n",
        "  call_totals_sub = call_totals[call_totals['DEPARTMENT']==mapping[s]['call']]\n",
        "\n",
        "  print(mapping[s]['call'] + ' R-squared: ' + str(round(stats.pearsonr(budget_totals_sub.Total, call_totals_sub.Total)[0], 2)))\n",
        "\n",
        "  # Plot\n",
        "  plt.scatter(budget_totals_sub.Total, call_totals_sub.Total)\n",
        "  plt.title(mapping[s]['budget'])\n",
        "  plt.xlabel('Budget')\n",
        "  plt.ylabel('# of Calls')\n",
        "\n",
        "  z = np.polyfit(budget_totals_sub.Total, call_totals_sub.Total, 1)\n",
        "  p = np.poly1d(z)\n",
        "  plt.plot(budget_totals_sub.Total,p(budget_totals_sub.Total),\"r--\")\n",
        "\n",
        "\n",
        "  plt.show()\n",
        "\n"
      ],
      "execution_count": 14,
      "outputs": [
        {
          "output_type": "stream",
          "text": [
            "Requirement already satisfied: scipy in /usr/local/lib/python3.6/dist-packages (1.4.1)\n",
            "Requirement already satisfied: numpy>=1.13.3 in /usr/local/lib/python3.6/dist-packages (from scipy) (1.18.2)\n",
            "NHS R-squared: -0.48\n"
          ],
          "name": "stdout"
        },
        {
          "output_type": "display_data",
          "data": {
            "image/png": "[encoded data removed]",
            "text/plain": [
              "<Figure size 432x288 with 1 Axes>"
            ]
          },
          "metadata": {
            "tags": []
          }
        },
        {
          "output_type": "stream",
          "text": [
            "Public Works R-squared: 0.6\n"
          ],
          "name": "stdout"
        },
        {
          "output_type": "display_data",
          "data": {
            "image/png": "[encoded data removed]",
            "text/plain": [
              "<Figure size 432x288 with 1 Axes>"
            ]
          },
          "metadata": {
            "tags": []
          }
        },
        {
          "output_type": "stream",
          "text": [
            "Water Services R-squared: 0.42\n"
          ],
          "name": "stdout"
        },
        {
          "output_type": "display_data",
          "data": {
            "image/png": "[encoded data removed]",
            "text/plain": [
              "<Figure size 432x288 with 1 Axes>"
            ]
          },
          "metadata": {
            "tags": []
          }
        },
        {
          "output_type": "stream",
          "text": [
            "Parks and Rec R-squared: 0.75\n"
          ],
          "name": "stdout"
        },
        {
          "output_type": "display_data",
          "data": {
            "image/png": "[encoded data removed]",
            "text/plain": [
              "<Figure size 432x288 with 1 Axes>"
            ]
          },
          "metadata": {
            "tags": []
          }
        },
        {
          "output_type": "stream",
          "text": [
            "KCPD R-squared: 0.92\n"
          ],
          "name": "stdout"
        },
        {
          "output_type": "display_data",
          "data": {
            "image/png": "[encoded data removed]",
            "text/plain": [
              "<Figure size 432x288 with 1 Axes>"
            ]
          },
          "metadata": {
            "tags": []
          }
        },
        {
          "output_type": "stream",
          "text": [
            "Health R-squared: 0.54\n"
          ],
          "name": "stdout"
        },
        {
          "output_type": "display_data",
          "data": {
            "image/png": "[encoded data removed]",
            "text/plain": [
              "<Figure size 432x288 with 1 Axes>"
            ]
          },
          "metadata": {
            "tags": []
          }
        },
        {
          "output_type": "stream",
          "text": [
            "City Planning and Development R-squared: 0.7\n"
          ],
          "name": "stdout"
        },
        {
          "output_type": "display_data",
          "data": {
            "image/png": "[encoded data removed]",
            "text/plain": [
              "<Figure size 432x288 with 1 Axes>"
            ]
          },
          "metadata": {
            "tags": []
          }
        },
        {
          "output_type": "stream",
          "text": [
            "City Managers Office R-squared: 0.96\n"
          ],
          "name": "stdout"
        },
        {
          "output_type": "display_data",
          "data": {
            "image/png": "[encoded data removed]",
            "text/plain": [
              "<Figure size 432x288 with 1 Axes>"
            ]
          },
          "metadata": {
            "tags": []
          }
        },
        {
          "output_type": "stream",
          "text": [
            "Finance R-squared: 0.91\n"
          ],
          "name": "stdout"
        },
        {
          "output_type": "display_data",
          "data": {
            "image/png": "[encoded data removed]",
            "text/plain": [
              "<Figure size 432x288 with 1 Axes>"
            ]
          },
          "metadata": {
            "tags": []
          }
        },
        {
          "output_type": "stream",
          "text": [
            "Fire R-squared: 0.03\n"
          ],
          "name": "stdout"
        },
        {
          "output_type": "display_data",
          "data": {
            "image/png": "[encoded data removed]",
            "text/plain": [
              "<Figure size 432x288 with 1 Axes>"
            ]
          },
          "metadata": {
            "tags": []
          }
        },
        {
          "output_type": "stream",
          "text": [
            "General Service R-squared: -0.43\n"
          ],
          "name": "stdout"
        },
        {
          "output_type": "display_data",
          "data": {
            "image/png": "[encoded data removed]",
            "text/plain": [
              "<Figure size 432x288 with 1 Axes>"
            ]
          },
          "metadata": {
            "tags": []
          }
        },
        {
          "output_type": "stream",
          "text": [
            "Aviation R-squared: 0.16\n"
          ],
          "name": "stdout"
        },
        {
          "output_type": "display_data",
          "data": {
            "image/png": "[encoded data removed]",
            "text/plain": [
              "<Figure size 432x288 with 1 Axes>"
            ]
          },
          "metadata": {
            "tags": []
          }
        },
        {
          "output_type": "stream",
          "text": [
            "Convention and Entertainment Center R-squared: 0.71\n"
          ],
          "name": "stdout"
        },
        {
          "output_type": "display_data",
          "data": {
            "image/png": "[encoded data removed]",
            "text/plain": [
              "<Figure size 432x288 with 1 Axes>"
            ]
          },
          "metadata": {
            "tags": []
          }
        }
      ]
    },
    {
      "cell_type": "code",
      "metadata": {
        "id": "04XTTQjzaD67",
        "colab_type": "code",
        "outputId": "bfbe21ec-b596-4571-aa80-189918e77fe7",
        "colab": {
          "base_uri": "https://localhost:8080/",
          "height": 1000
        }
      },
      "source": [
        "#Expenses vs calls \n",
        "\n",
        "#!pip install scipy\n",
        "depts, corrs = [], []\n",
        "\n",
        "for s in range(0, len(mapping)):\n",
        "\n",
        "  depts.append(mapping[s]['call'])\n",
        "\n",
        "  expenses_totals_sub = expenses_totals[expenses_totals['department']==mapping[s]['budget']]\n",
        "  call_totals_sub = call_totals[call_totals['DEPARTMENT']==mapping[s]['call']]\n",
        "\n",
        "  corr = round(stats.pearsonr(budget_totals_sub.Total, call_totals_sub.Total)[0], 2)\n",
        "  corrs.append(corr)\n",
        "  print(mapping[s]['call'] + ' R-squared: ' + str(corr))\n",
        "  \n",
        "  # Plot\n",
        "  plt.scatter(budget_totals_sub.Total, call_totals_sub.Total)\n",
        "  plt.title(mapping[s]['budget'])\n",
        "  plt.xlabel('Budget')\n",
        "  plt.ylabel('# of Calls')\n",
        "\n",
        "  z = np.polyfit(budget_totals_sub.Total, call_totals_sub.Total, 1)\n",
        "  p = np.poly1d(z)\n",
        "  plt.plot(budget_totals_sub.Total,p(budget_totals_sub.Total),\"r--\")\n",
        "\n",
        "  plt.show()\n",
        "\n",
        "# table of r-squared values\n",
        "import plotly.graph_objects as go\n",
        "\n",
        "df = pd.DataFrame({'depts':depts, 'corrs':corrs})\n",
        "df = df.sort_values(by=['corrs'], ascending=False)\n",
        "values = [df.depts, df.corrs]\n",
        "\n",
        "fig = go.Figure(data=[go.Table(\n",
        "  columnorder = [1,2],\n",
        "  columnwidth = [70,30],\n",
        "  header = dict(\n",
        "    values = [['<b>DEPARTMENT</b>'], ['<b>R-SQUARED</b>']],\n",
        "    line_color='darkslategray',\n",
        "    fill_color='royalblue',\n",
        "    align=['left','center'],\n",
        "    font=dict(color='white', size=12),\n",
        "    height=40\n",
        "  ),\n",
        "  cells=dict(\n",
        "    values=values,\n",
        "    line_color='darkslategray',\n",
        "    fill=dict(color=['paleturquoise', 'white']),\n",
        "    align=['left', 'center'],\n",
        "    font_size=12,\n",
        "    height=30)\n",
        "    )\n",
        "])\n",
        "fig.show()\n"
      ],
      "execution_count": 15,
      "outputs": [
        {
          "output_type": "stream",
          "text": [
            "NHS R-squared: 0.93\n"
          ],
          "name": "stdout"
        },
        {
          "output_type": "display_data",
          "data": {
            "image/png": "[encoded data removed]",
            "text/plain": [
              "<Figure size 432x288 with 1 Axes>"
            ]
          },
          "metadata": {
            "tags": []
          }
        },
        {
          "output_type": "stream",
          "text": [
            "Public Works R-squared: 0.39\n"
          ],
          "name": "stdout"
        },
        {
          "output_type": "display_data",
          "data": {
            "image/png": "[encoded data removed]",
            "text/plain": [
              "<Figure size 432x288 with 1 Axes>"
            ]
          },
          "metadata": {
            "tags": []
          }
        },
        {
          "output_type": "stream",
          "text": [
            "Water Services R-squared: 0.73\n"
          ],
          "name": "stdout"
        },
        {
          "output_type": "display_data",
          "data": {
            "image/png": "[encoded data removed]",
            "text/plain": [
              "<Figure size 432x288 with 1 Axes>"
            ]
          },
          "metadata": {
            "tags": []
          }
        },
        {
          "output_type": "stream",
          "text": [
            "Parks and Rec R-squared: 0.87\n"
          ],
          "name": "stdout"
        },
        {
          "output_type": "display_data",
          "data": {
            "image/png": "[encoded data removed]",
            "text/plain": [
              "<Figure size 432x288 with 1 Axes>"
            ]
          },
          "metadata": {
            "tags": []
          }
        },
        {
          "output_type": "stream",
          "text": [
            "KCPD R-squared: 0.98\n"
          ],
          "name": "stdout"
        },
        {
          "output_type": "display_data",
          "data": {
            "image/png": "[encoded data removed]",
            "text/plain": [
              "<Figure size 432x288 with 1 Axes>"
            ]
          },
          "metadata": {
            "tags": []
          }
        },
        {
          "output_type": "stream",
          "text": [
            "Health R-squared: 0.9\n"
          ],
          "name": "stdout"
        },
        {
          "output_type": "display_data",
          "data": {
            "image/png": "[encoded data removed]",
            "text/plain": [
              "<Figure size 432x288 with 1 Axes>"
            ]
          },
          "metadata": {
            "tags": []
          }
        },
        {
          "output_type": "stream",
          "text": [
            "City Planning and Development R-squared: 0.93\n"
          ],
          "name": "stdout"
        },
        {
          "output_type": "display_data",
          "data": {
            "image/png": "[encoded data removed]",
            "text/plain": [
              "<Figure size 432x288 with 1 Axes>"
            ]
          },
          "metadata": {
            "tags": []
          }
        },
        {
          "output_type": "stream",
          "text": [
            "City Managers Office R-squared: 0.96\n"
          ],
          "name": "stdout"
        },
        {
          "output_type": "display_data",
          "data": {
            "image/png": "[encoded data removed]",
            "text/plain": [
              "<Figure size 432x288 with 1 Axes>"
            ]
          },
          "metadata": {
            "tags": []
          }
        },
        {
          "output_type": "stream",
          "text": [
            "Finance R-squared: 0.76\n"
          ],
          "name": "stdout"
        },
        {
          "output_type": "display_data",
          "data": {
            "image/png": "[encoded data removed]",
            "text/plain": [
              "<Figure size 432x288 with 1 Axes>"
            ]
          },
          "metadata": {
            "tags": []
          }
        },
        {
          "output_type": "stream",
          "text": [
            "Fire R-squared: 0.15\n"
          ],
          "name": "stdout"
        },
        {
          "output_type": "display_data",
          "data": {
            "image/png": "[encoded data removed]",
            "text/plain": [
              "<Figure size 432x288 with 1 Axes>"
            ]
          },
          "metadata": {
            "tags": []
          }
        },
        {
          "output_type": "stream",
          "text": [
            "General Service R-squared: 0.77\n"
          ],
          "name": "stdout"
        },
        {
          "output_type": "display_data",
          "data": {
            "image/png": "[encoded data removed]",
            "text/plain": [
              "<Figure size 432x288 with 1 Axes>"
            ]
          },
          "metadata": {
            "tags": []
          }
        },
        {
          "output_type": "stream",
          "text": [
            "Aviation R-squared: 0.3\n"
          ],
          "name": "stdout"
        },
        {
          "output_type": "display_data",
          "data": {
            "image/png": "[encoded data removed]",
            "text/plain": [
              "<Figure size 432x288 with 1 Axes>"
            ]
          },
          "metadata": {
            "tags": []
          }
        },
        {
          "output_type": "stream",
          "text": [
            "Convention and Entertainment Center R-squared: 0.71\n"
          ],
          "name": "stdout"
        },
        {
          "output_type": "display_data",
          "data": {
            "image/png": "[encoded data removed]",
            "text/plain": [
              "<Figure size 432x288 with 1 Axes>"
            ]
          },
          "metadata": {
            "tags": []
          }
        },
        {
          "output_type": "display_data",
          "data": {
            "text/html": [
              "<html>\n",
              "<head><meta charset=\"utf-8\" /></head>\n",
              "<body>\n",
              "    <div>\n",
              "            <script src=\"https://cdnjs.cloudflare.com/ajax/libs/mathjax/2.7.5/MathJax.js?config=TeX-AMS-MML_SVG\"></script><script type=\"text/javascript\">if (window.MathJax) {MathJax.Hub.Config({SVG: {font: \"STIX-Web\"}});}</script>\n",
              "                <script type=\"text/javascript\">window.PlotlyConfig = {MathJaxConfig: 'local'};</script>\n",
              "        <script src=\"https://cdn.plot.ly/plotly-latest.min.js\"></script>    \n",
              "            <div id=\"fd26f828-a60d-4674-9ec2-cfcdda97b527\" class=\"plotly-graph-div\" style=\"height:525px; width:100%;\"></div>\n",
              "            <script type=\"text/javascript\">\n",
              "                \n",
              "                    window.PLOTLYENV=window.PLOTLYENV || {};\n",
              "                    \n",
              "                if (document.getElementById(\"fd26f828-a60d-4674-9ec2-cfcdda97b527\")) {\n",
              "                    Plotly.newPlot(\n",
              "                        'fd26f828-a60d-4674-9ec2-cfcdda97b527',\n",
              "                        [{\"cells\": {\"align\": [\"left\", \"center\"], \"fill\": {\"color\": [\"paleturquoise\", \"white\"]}, \"font\": {\"size\": 12}, \"height\": 30, \"line\": {\"color\": \"darkslategray\"}, \"values\": [[\"KCPD\", \"City Managers Office\", \"NHS\", \"City Planning and Development\", \"Health\", \"Parks and Rec\", \"General Service\", \"Finance\", \"Water Services\", \"Convention and Entertainment Center\", \"Public Works\", \"Aviation\", \"Fire\"], [0.98, 0.96, 0.93, 0.93, 0.9, 0.87, 0.77, 0.76, 0.73, 0.71, 0.39, 0.3, 0.15]]}, \"columnorder\": [1, 2], \"columnwidth\": [70, 30], \"header\": {\"align\": [\"left\", \"center\"], \"fill\": {\"color\": \"royalblue\"}, \"font\": {\"color\": \"white\", \"size\": 12}, \"height\": 40, \"line\": {\"color\": \"darkslategray\"}, \"values\": [[\"<b>DEPARTMENT</b>\"], [\"<b>R-SQUARED</b>\"]]}, \"type\": \"table\"}],\n",
              "                        {\"template\": {\"data\": {\"bar\": [{\"error_x\": {\"color\": \"#2a3f5f\"}, \"error_y\": {\"color\": \"#2a3f5f\"}, \"marker\": {\"line\": {\"color\": \"#E5ECF6\", \"width\": 0.5}}, \"type\": \"bar\"}], \"barpolar\": [{\"marker\": {\"line\": {\"color\": \"#E5ECF6\", \"width\": 0.5}}, \"type\": \"barpolar\"}], \"carpet\": [{\"aaxis\": {\"endlinecolor\": \"#2a3f5f\", \"gridcolor\": \"white\", \"linecolor\": \"white\", \"minorgridcolor\": \"white\", \"startlinecolor\": \"#2a3f5f\"}, \"baxis\": {\"endlinecolor\": \"#2a3f5f\", \"gridcolor\": \"white\", \"linecolor\": \"white\", \"minorgridcolor\": \"white\", \"startlinecolor\": \"#2a3f5f\"}, \"type\": \"carpet\"}], \"choropleth\": [{\"colorbar\": {\"outlinewidth\": 0, \"ticks\": \"\"}, \"type\": \"choropleth\"}], \"contour\": [{\"colorbar\": {\"outlinewidth\": 0, \"ticks\": \"\"}, \"colorscale\": [[0.0, \"#0d0887\"], [0.1111111111111111, \"#46039f\"], [0.2222222222222222, \"#7201a8\"], [0.3333333333333333, \"#9c179e\"], [0.4444444444444444, \"#bd3786\"], [0.5555555555555556, \"#d8576b\"], [0.6666666666666666, \"#ed7953\"], [0.7777777777777778, \"#fb9f3a\"], [0.8888888888888888, \"#fdca26\"], [1.0, \"#f0f921\"]], \"type\": \"contour\"}], \"contourcarpet\": [{\"colorbar\": {\"outlinewidth\": 0, \"ticks\": \"\"}, \"type\": \"contourcarpet\"}], \"heatmap\": [{\"colorbar\": {\"outlinewidth\": 0, \"ticks\": \"\"}, \"colorscale\": [[0.0, \"#0d0887\"], [0.1111111111111111, \"#46039f\"], [0.2222222222222222, \"#7201a8\"], [0.3333333333333333, \"#9c179e\"], [0.4444444444444444, \"#bd3786\"], [0.5555555555555556, \"#d8576b\"], [0.6666666666666666, \"#ed7953\"], [0.7777777777777778, \"#fb9f3a\"], [0.8888888888888888, \"#fdca26\"], [1.0, \"#f0f921\"]], \"type\": \"heatmap\"}], \"heatmapgl\": [{\"colorbar\": {\"outlinewidth\": 0, \"ticks\": \"\"}, \"colorscale\": [[0.0, \"#0d0887\"], [0.1111111111111111, \"#46039f\"], [0.2222222222222222, \"#7201a8\"], [0.3333333333333333, \"#9c179e\"], [0.4444444444444444, \"#bd3786\"], [0.5555555555555556, \"#d8576b\"], [0.6666666666666666, \"#ed7953\"], [0.7777777777777778, \"#fb9f3a\"], [0.8888888888888888, \"#fdca26\"], [1.0, \"#f0f921\"]], \"type\": \"heatmapgl\"}], \"histogram\": [{\"marker\": {\"colorbar\": {\"outlinewidth\": 0, \"ticks\": \"\"}}, \"type\": \"histogram\"}], \"histogram2d\": [{\"colorbar\": {\"outlinewidth\": 0, \"ticks\": \"\"}, \"colorscale\": [[0.0, \"#0d0887\"], [0.1111111111111111, \"#46039f\"], [0.2222222222222222, \"#7201a8\"], [0.3333333333333333, \"#9c179e\"], [0.4444444444444444, \"#bd3786\"], [0.5555555555555556, \"#d8576b\"], [0.6666666666666666, \"#ed7953\"], [0.7777777777777778, \"#fb9f3a\"], [0.8888888888888888, \"#fdca26\"], [1.0, \"#f0f921\"]], \"type\": \"histogram2d\"}], \"histogram2dcontour\": [{\"colorbar\": {\"outlinewidth\": 0, \"ticks\": \"\"}, \"colorscale\": [[0.0, \"#0d0887\"], [0.1111111111111111, \"#46039f\"], [0.2222222222222222, \"#7201a8\"], [0.3333333333333333, \"#9c179e\"], [0.4444444444444444, \"#bd3786\"], [0.5555555555555556, \"#d8576b\"], [0.6666666666666666, \"#ed7953\"], [0.7777777777777778, \"#fb9f3a\"], [0.8888888888888888, \"#fdca26\"], [1.0, \"#f0f921\"]], \"type\": \"histogram2dcontour\"}], \"mesh3d\": [{\"colorbar\": {\"outlinewidth\": 0, \"ticks\": \"\"}, \"type\": \"mesh3d\"}], \"parcoords\": [{\"line\": {\"colorbar\": {\"outlinewidth\": 0, \"ticks\": \"\"}}, \"type\": \"parcoords\"}], \"pie\": [{\"automargin\": true, \"type\": \"pie\"}], \"scatter\": [{\"marker\": {\"colorbar\": {\"outlinewidth\": 0, \"ticks\": \"\"}}, \"type\": \"scatter\"}], \"scatter3d\": [{\"line\": {\"colorbar\": {\"outlinewidth\": 0, \"ticks\": \"\"}}, \"marker\": {\"colorbar\": {\"outlinewidth\": 0, \"ticks\": \"\"}}, \"type\": \"scatter3d\"}], \"scattercarpet\": [{\"marker\": {\"colorbar\": {\"outlinewidth\": 0, \"ticks\": \"\"}}, \"type\": \"scattercarpet\"}], \"scattergeo\": [{\"marker\": {\"colorbar\": {\"outlinewidth\": 0, \"ticks\": \"\"}}, \"type\": \"scattergeo\"}], \"scattergl\": [{\"marker\": {\"colorbar\": {\"outlinewidth\": 0, \"ticks\": \"\"}}, \"type\": \"scattergl\"}], \"scattermapbox\": [{\"marker\": {\"colorbar\": {\"outlinewidth\": 0, \"ticks\": \"\"}}, \"type\": \"scattermapbox\"}], \"scatterpolar\": [{\"marker\": {\"colorbar\": {\"outlinewidth\": 0, \"ticks\": \"\"}}, \"type\": \"scatterpolar\"}], \"scatterpolargl\": [{\"marker\": {\"colorbar\": {\"outlinewidth\": 0, \"ticks\": \"\"}}, \"type\": \"scatterpolargl\"}], \"scatterternary\": [{\"marker\": {\"colorbar\": {\"outlinewidth\": 0, \"ticks\": \"\"}}, \"type\": \"scatterternary\"}], \"surface\": [{\"colorbar\": {\"outlinewidth\": 0, \"ticks\": \"\"}, \"colorscale\": [[0.0, \"#0d0887\"], [0.1111111111111111, \"#46039f\"], [0.2222222222222222, \"#7201a8\"], [0.3333333333333333, \"#9c179e\"], [0.4444444444444444, \"#bd3786\"], [0.5555555555555556, \"#d8576b\"], [0.6666666666666666, \"#ed7953\"], [0.7777777777777778, \"#fb9f3a\"], [0.8888888888888888, \"#fdca26\"], [1.0, \"#f0f921\"]], \"type\": \"surface\"}], \"table\": [{\"cells\": {\"fill\": {\"color\": \"#EBF0F8\"}, \"line\": {\"color\": \"white\"}}, \"header\": {\"fill\": {\"color\": \"#C8D4E3\"}, \"line\": {\"color\": \"white\"}}, \"type\": \"table\"}]}, \"layout\": {\"annotationdefaults\": {\"arrowcolor\": \"#2a3f5f\", \"arrowhead\": 0, \"arrowwidth\": 1}, \"coloraxis\": {\"colorbar\": {\"outlinewidth\": 0, \"ticks\": \"\"}}, \"colorscale\": {\"diverging\": [[0, \"#8e0152\"], [0.1, \"#c51b7d\"], [0.2, \"#de77ae\"], [0.3, \"#f1b6da\"], [0.4, \"#fde0ef\"], [0.5, \"#f7f7f7\"], [0.6, \"#e6f5d0\"], [0.7, \"#b8e186\"], [0.8, \"#7fbc41\"], [0.9, \"#4d9221\"], [1, \"#276419\"]], \"sequential\": [[0.0, \"#0d0887\"], [0.1111111111111111, \"#46039f\"], [0.2222222222222222, \"#7201a8\"], [0.3333333333333333, \"#9c179e\"], [0.4444444444444444, \"#bd3786\"], [0.5555555555555556, \"#d8576b\"], [0.6666666666666666, \"#ed7953\"], [0.7777777777777778, \"#fb9f3a\"], [0.8888888888888888, \"#fdca26\"], [1.0, \"#f0f921\"]], \"sequentialminus\": [[0.0, \"#0d0887\"], [0.1111111111111111, \"#46039f\"], [0.2222222222222222, \"#7201a8\"], [0.3333333333333333, \"#9c179e\"], [0.4444444444444444, \"#bd3786\"], [0.5555555555555556, \"#d8576b\"], [0.6666666666666666, \"#ed7953\"], [0.7777777777777778, \"#fb9f3a\"], [0.8888888888888888, \"#fdca26\"], [1.0, \"#f0f921\"]]}, \"colorway\": [\"#636efa\", \"#EF553B\", \"#00cc96\", \"#ab63fa\", \"#FFA15A\", \"#19d3f3\", \"#FF6692\", \"#B6E880\", \"#FF97FF\", \"#FECB52\"], \"font\": {\"color\": \"#2a3f5f\"}, \"geo\": {\"bgcolor\": \"white\", \"lakecolor\": \"white\", \"landcolor\": \"#E5ECF6\", \"showlakes\": true, \"showland\": true, \"subunitcolor\": \"white\"}, \"hoverlabel\": {\"align\": \"left\"}, \"hovermode\": \"closest\", \"mapbox\": {\"style\": \"light\"}, \"paper_bgcolor\": \"white\", \"plot_bgcolor\": \"#E5ECF6\", \"polar\": {\"angularaxis\": {\"gridcolor\": \"white\", \"linecolor\": \"white\", \"ticks\": \"\"}, \"bgcolor\": \"#E5ECF6\", \"radialaxis\": {\"gridcolor\": \"white\", \"linecolor\": \"white\", \"ticks\": \"\"}}, \"scene\": {\"xaxis\": {\"backgroundcolor\": \"#E5ECF6\", \"gridcolor\": \"white\", \"gridwidth\": 2, \"linecolor\": \"white\", \"showbackground\": true, \"ticks\": \"\", \"zerolinecolor\": \"white\"}, \"yaxis\": {\"backgroundcolor\": \"#E5ECF6\", \"gridcolor\": \"white\", \"gridwidth\": 2, \"linecolor\": \"white\", \"showbackground\": true, \"ticks\": \"\", \"zerolinecolor\": \"white\"}, \"zaxis\": {\"backgroundcolor\": \"#E5ECF6\", \"gridcolor\": \"white\", \"gridwidth\": 2, \"linecolor\": \"white\", \"showbackground\": true, \"ticks\": \"\", \"zerolinecolor\": \"white\"}}, \"shapedefaults\": {\"line\": {\"color\": \"#2a3f5f\"}}, \"ternary\": {\"aaxis\": {\"gridcolor\": \"white\", \"linecolor\": \"white\", \"ticks\": \"\"}, \"baxis\": {\"gridcolor\": \"white\", \"linecolor\": \"white\", \"ticks\": \"\"}, \"bgcolor\": \"#E5ECF6\", \"caxis\": {\"gridcolor\": \"white\", \"linecolor\": \"white\", \"ticks\": \"\"}}, \"title\": {\"x\": 0.05}, \"xaxis\": {\"automargin\": true, \"gridcolor\": \"white\", \"linecolor\": \"white\", \"ticks\": \"\", \"title\": {\"standoff\": 15}, \"zerolinecolor\": \"white\", \"zerolinewidth\": 2}, \"yaxis\": {\"automargin\": true, \"gridcolor\": \"white\", \"linecolor\": \"white\", \"ticks\": \"\", \"title\": {\"standoff\": 15}, \"zerolinecolor\": \"white\", \"zerolinewidth\": 2}}}},\n",
              "                        {\"responsive\": true}\n",
              "                    ).then(function(){\n",
              "                            \n",
              "var gd = document.getElementById('fd26f828-a60d-4674-9ec2-cfcdda97b527');\n",
              "var x = new MutationObserver(function (mutations, observer) {{\n",
              "        var display = window.getComputedStyle(gd).display;\n",
              "        if (!display || display === 'none') {{\n",
              "            console.log([gd, 'removed!']);\n",
              "            Plotly.purge(gd);\n",
              "            observer.disconnect();\n",
              "        }}\n",
              "}});\n",
              "\n",
              "// Listen for the removal of the full notebook cells\n",
              "var notebookContainer = gd.closest('#notebook-container');\n",
              "if (notebookContainer) {{\n",
              "    x.observe(notebookContainer, {childList: true});\n",
              "}}\n",
              "\n",
              "// Listen for the clearing of the current output cell\n",
              "var outputEl = gd.closest('.output');\n",
              "if (outputEl) {{\n",
              "    x.observe(outputEl, {childList: true});\n",
              "}}\n",
              "\n",
              "                        })\n",
              "                };\n",
              "                \n",
              "            </script>\n",
              "        </div>\n",
              "</body>\n",
              "</html>"
            ]
          },
          "metadata": {
            "tags": []
          }
        }
      ]
    },
    {
      "cell_type": "code",
      "metadata": {
        "colab_type": "code",
        "id": "crxMGjNeMACQ",
        "outputId": "313cbad1-2d7b-4906-bd32-9ffb2d5de047",
        "colab": {
          "base_uri": "https://localhost:8080/",
          "height": 1000
        }
      },
      "source": [
        "np.set_printoptions(threshold=2000)\n",
        "kc_311_calls['REQUEST TYPE'].unique()"
      ],
      "execution_count": 16,
      "outputs": [
        {
          "output_type": "execute_result",
          "data": {
            "text/plain": [
              "array(['Trees-Land Bank-Hazardous', 'Property Violations',\n",
              "       'Prop/Build/Construct-Property Maintenance-NNI',\n",
              "       'Water-Pipeline Referral-Restoration',\n",
              "       'Water-Leak-At Curb / In Yard', 'Signs-Traffic Sign-Graffiti',\n",
              "       'Lights / Signals-Traffic Signal-Signal out',\n",
              "       'Sewer-Sewer Backup / Leak-In a house', 'Water-Leak-Hydrant',\n",
              "       'Signs-Traffic Sign-Missing – Emergency',\n",
              "       'Streets / Roadways / Alleys-Snow / Ice-District 1',\n",
              "       'Trash / Recycling-Trash Collection-Missed by City',\n",
              "       'Water-No Water / Pressure-Low Pressure',\n",
              "       'Stormwater-Stormwater Referral-Repair',\n",
              "       'Trash / Recycling-Leaf / Brush-Missed Pick Up',\n",
              "       'Public Health-Services-Healthy Homes Information',\n",
              "       'Streets / Roadways / Alleys-Broken Asphalt-District 2',\n",
              "       'Streets / Roadways / Alleys-Guardrail-Bridge',\n",
              "       'Animals / Pets-Stray-At Large - Aggressive',\n",
              "       'Streets / Roadways / Alleys-Pothole-District 3',\n",
              "       'Streets / Roadways / Alleys-Pothole-District 2',\n",
              "       'Trees-Services-Plant City Tree Request',\n",
              "       'Stormwater-Storm Drain / Catch Basin-Dropped Personal Item',\n",
              "       'Water-No Water / Pressure-No Water',\n",
              "       'Lights / Signals-Street Light-1 light out',\n",
              "       'Vehicles / Parking-Commercial Vehicle-On private property',\n",
              "       'Water-Services-Service Issue / Problem',\n",
              "       'Water - MFS Referral - Investigation',\n",
              "       'Animals / Pets-Cruelty or Neglect-Shelter / Food / Water',\n",
              "       'Water-Pipeline Referral-Water Main',\n",
              "       'Streets/Roadways/Alleys-Other Maintenance-District 1',\n",
              "       'Streets / Roadways / Alleys-Snow / Ice-District 2',\n",
              "       'Streets / Roadways / Alleys-Snow / Ice-District 3',\n",
              "       'Trash / Recycling-Dumping-ROW Central',\n",
              "       'Streets / Roadways / Alleys-Resurfacing-District 2',\n",
              "       'Prop/Build/Construct-Dangerous Building-Open to entry',\n",
              "       'Public Safety-Police-Homeless camp',\n",
              "       'Water-Quality-Color / Cloudy',\n",
              "       'Lights / Signals-Traffic Signal-Signal timing',\n",
              "       'Sewer-Sewer Referral-Restoration',\n",
              "       'Trash / Recycling-Recycling-Missed by Contractor North',\n",
              "       'Trash / Recycling-Leaf / Brush-Dumping in Street',\n",
              "       'Prop/Build/Construct-Land Use / Zoning Issue-Business in a residence',\n",
              "       'Trash / Recycling-Dumping-Solid Waste Referral',\n",
              "       'Public Health-Noise-Music', 'Water-Services-Call Back Request',\n",
              "       'Trash / Recycling-Trash Collection-Missed by Contractor North',\n",
              "       'Prop/Build/Construct-Dangerous Building-On list',\n",
              "       'Parks & Recreation-Park Maintenance-South',\n",
              "       'Public Health-Food Establishment-Other',\n",
              "       'Trash / Recycling-Trash Collection-Missed by Contractor South',\n",
              "       'Lights / Signals-Traffic Signal-Signal flashing',\n",
              "       'Government-Not Provided By KCMO-MODOT',\n",
              "       'Streets/Roadways/Alleys-Snow / Ice-Snow Verify List',\n",
              "       'Parks & Recreation-Park Maintenance-North',\n",
              "       'Trash / Recycling-Dumping-Private Property',\n",
              "       'Trash / Recycling-Nuisance-Land Bank',\n",
              "       'Trash / Recycling-Recycling-Missed by Contractor South',\n",
              "       'Animals / Pets-Wildlife-Inside',\n",
              "       'Animals / Pets-Dead Animal -Curb', 'Recycling Missed',\n",
              "       'Streets / Roadways / Alleys-Resurfacing-District 1',\n",
              "       'Vehicles / Parking-Abandoned On Street-Other',\n",
              "       'Public Safety-Regulated Industries-Adult Entertainment',\n",
              "       'Animals / Pets-Dead Animal -Street',\n",
              "       'Vehicles / Parking-Abandoned On Street-Car',\n",
              "       'Water-Quality-Smell / Odor',\n",
              "       'Lights / Signals-Street Light-2 to 4 lights out',\n",
              "       'Sidewalks / Curbs / Ditch-Unapproved Objects-Other',\n",
              "       'Sewer-Sewer Referral-Private Line', 'Water-Quality-Taste',\n",
              "       'Streets / Roadways / Alleys-Plate-Missing / Displaced',\n",
              "       'Animals / Pets-Rat Treatment-Outside',\n",
              "       'Sewer-Sewer Referral-Investigation', 'Water-Leak-Meter',\n",
              "       'Streets / Roadways / Alleys-Sinkhole Referral-District 2',\n",
              "       'Public Health-Food Establishment-Education / Health',\n",
              "       'Trash / Recycling - Dumping - Alley - D2',\n",
              "       'Public Health-Noise-Vehicles',\n",
              "       'Lights / Signals-Street Light-Blinking',\n",
              "       'Trash / Recycling-Dumping-Park - Central',\n",
              "       'Public Health-Food Establishment-Restaurant',\n",
              "       'Trees-Trimming-Block Pruning', 'Water-Pipeline Referral-Valve',\n",
              "       'Lights / Signals-Street Light-Pole down or leaning',\n",
              "       'Trash / Recycling-Recycling-Missed by City',\n",
              "       'Signs-Traffic Sign-New Sign Request',\n",
              "       'Public Health-Noise-Trash Truck',\n",
              "       'Lights / Signals-Traffic Signal-Pedestrian / Walkway',\n",
              "       'Trash / Recycling-Services-Call Back Request',\n",
              "       'Trash / Recycling-Services-Service Issue / Problem',\n",
              "       'Trash / Recycling-Services-Question',\n",
              "       'Streets / Roadways / Alleys-Sinkhole Referral-District 3',\n",
              "       'Trash / Recycling-Services-Disability Pick Up',\n",
              "       'Trees-Trimming-Tree Limbs',\n",
              "       'Vehicles / Parking-Abandoned On Street-Trailer',\n",
              "       'Trees-Removal-Declining', 'Water-Services-Feedback',\n",
              "       'Water-Leak-Emergency Off / Flooding',\n",
              "       'Streets/Roadways/Alleys-Other Maintenance-District 3',\n",
              "       'Lights / Signals-Street Light-Other Light Issue',\n",
              "       'Stormwater-Culvert-North',\n",
              "       'Water-Pipeline Referral-Curb-box / Service Line',\n",
              "       'Trash / Recycling-Bulky Pick Up -Missed Pick Up',\n",
              "       'Streets / Roadways / Alleys-Plate-Loose', 'Sewer-Sinkhole-Street',\n",
              "       'Sidewalks / Curbs / Ditch-Damage / Dis-Repair-Private Property',\n",
              "       'Streets / Roadways / Alleys-Markings / Paint-Lane lines',\n",
              "       'Mowing / Weeds-Right of Way (ROW)-Region - North',\n",
              "       'Signs-Street Name Signs-Missing',\n",
              "       'Signs-Traffic Sign-Damaged – Non-Emergency',\n",
              "       'Government-ADA-Sidewalks / Curbs',\n",
              "       'Capital Projects-Water-Engineering', 'Trees-Removal-Tree dead',\n",
              "       'Streets / Roadways / Alleys-Cut / Permit-District 2',\n",
              "       'Prop/Build/Construct-Construction Issue/Concern-Erosion - New Construction',\n",
              "       'Streets / Roadways / Alleys-Street Clean Up-Sweeping Schedule',\n",
              "       'Animals / Pets-Dead Animal -Private Property Pickup',\n",
              "       'Lights / Signals-Traffic Signal-Signal malfunction',\n",
              "       'Signs-Traffic Sign-Damaged – Emergency',\n",
              "       'Trash / Recycling-Dumping-ROW North',\n",
              "       'Trash / Recycling-Dumping-ROW South', 'Public Health-Noise-Other',\n",
              "       'Sewer-Sewer Odor-Indoor', 'Public Health-Outdoor Air Quality-All',\n",
              "       'Signs-Commercial Signs / Ads-In Right-Of-Way',\n",
              "       'Lights / Signals-Street Light-5+ lights out',\n",
              "       'Parks & Recreation-Community Center-Gregg/Klice CC',\n",
              "       'Animals / Pets-Rat Treatment-Vacant Home',\n",
              "       'Water-Pipeline Referral-Hydrant',\n",
              "       'Streets / Roadways / Alleys-Speed Bump-Request New',\n",
              "       'Animals / Pets-Bite-Animal on Animal',\n",
              "       'Government-Not Provided By KCMO-State',\n",
              "       'Stormwater-Storm Drain / Catch Basin-Clogged / Over-Flow',\n",
              "       'Mowing / Weeds-Right of Way (ROW)-On Demand (PW)',\n",
              "       'Animals / Pets-Rat Treatment-Vacant Property',\n",
              "       'Streets / Roadways / Alleys-Cut / Permit-District 3',\n",
              "       'Capital Projects-PIAC-Department Referral',\n",
              "       'Signs-Commercial Signs / Ads-Banner / Billboard',\n",
              "       'Mowing / Weeds-Right of Way (ROW)-Region - South',\n",
              "       'Animals / Pets-Stray-At Large - Non-Aggressive',\n",
              "       'Trash / Recycling-Bulky Pick Up -Address Validation',\n",
              "       'Sidewalks / Curbs / Ditch-Damage / Dis-Repair-City',\n",
              "       'Mowing / Weeds - Visibility - Intersection',\n",
              "       'Water-Leak-In Street', 'Sewer-Sinkhole-Yard',\n",
              "       'Animals / Pets-Cruelty or Neglect-Inclement Weather',\n",
              "       'Animals / Pets-Stray-At Large - Owned',\n",
              "       'Signs-Street Name Signs-New Sign Request',\n",
              "       'Stormwater-Stormwater Referral-Restoration',\n",
              "       'Streets / Roadways / Alleys-Street Services-Feedback',\n",
              "       'Prop/Build/Construct-Property Maintenance-No Utilities',\n",
              "       'Prop/Build/Construct-Services (CPD)-Question',\n",
              "       'Water-Services-Question',\n",
              "       'Streets / Roadways / Alleys-Crack-District 1',\n",
              "       'Prop/Build/Construct-Construction Issue/Concern-Work without permit',\n",
              "       'Animals / Pets-Cruelty or Neglect-Abuse / Injury / Death',\n",
              "       'Animals / Pets-Wildlife-Injured',\n",
              "       'Prop/Build/Construct - Land Use / Zoning - Miscellaneous Zoning',\n",
              "       'Trash / Recycling-Services-Feedback',\n",
              "       'Streets / Roadways / Alleys-Street Clean Up-District 2',\n",
              "       'Animals / Pets-Stray-Injured', 'Trees-Removal-Tree Limbs',\n",
              "       'Sewer-Sewer Odor-Outdoor',\n",
              "       'Storm Water / Sewer-Services-Question',\n",
              "       'Public Health-Food Establishment-Convenience/Grocery Store',\n",
              "       'Streets / Roadways / Alleys-Broken Asphalt-District 3',\n",
              "       'Streets/Roadways/Alleys-Other Maintenance-District 2',\n",
              "       'Streets / Roadways / Alleys-Sinkhole Referral-District 1',\n",
              "       'Lights / Signals-Traffic Signal-Signal pole damage',\n",
              "       'Bulky Appointment- FEB 23', 'Bulky Appointment- Apr 13',\n",
              "       'Health-All', 'Trees-Services-Service Issue / Problem',\n",
              "       'Streets / Roadways / Alleys-Markings / Paint-Crosswalk',\n",
              "       'Prop/Build/Construct-Property Maintenance-Land Bank',\n",
              "       'Streets / Roadways / Alleys-Pothole-District 1',\n",
              "       'Animals / Pets-Rat Treatment-Inside Residence',\n",
              "       'Animals / Pets-Bite-Owned',\n",
              "       'Parks & Recreation-Park Maintenance-Central',\n",
              "       'Animals / Pets-Stray-At Large - Pack',\n",
              "       'Lights / Signals-Street Light-Wire Down / Hanging Arm',\n",
              "       'Trash / Recycling-Early Set Out-Central',\n",
              "       'Sidewalks / Curbs / Ditch-Ditch-North',\n",
              "       'Animals / Pets-Stray-At Large - Highway',\n",
              "       'Animals / Pets-Cruelty or Neglect-Abandonment',\n",
              "       'Streets / Roadways / Alleys-Resurfacing-District 3',\n",
              "       'Capital Projects-Sewer-Engineering',\n",
              "       'Trash / Recycling-Dumping-Camera Request',\n",
              "       'Capital Projects-Parks-Service Issue / Problem',\n",
              "       'Lights / Signals-Street Light-Burning during the day',\n",
              "       'Prop/Build/Construct-Property Maintenance-SKCA',\n",
              "       'Capital Projects-PIAC-Resident Request', 'Trees-Care-Disease',\n",
              "       'Stormwater-Improved Channel-Clogged / Debris', 'Animal Control',\n",
              "       'Streets / Roadways / Alleys-Obstructed / Closure-Road Closed',\n",
              "       'Prop/Build/Construct-Land Use / Zoning Issue-Number of Residents',\n",
              "       'Sidewalks / Curbs / Ditch-Damage / Dis-Repair-ADA',\n",
              "       'Signs-Street Name Signs-Down / Damaged',\n",
              "       'Lights / Signals-Street Light-New/Remove Light',\n",
              "       'Lights / Signals-Services-Feedback',\n",
              "       'Trees-Storm Damage-Tree Down',\n",
              "       'Sidewalks / Curbs / Ditch-Obstructed / Closure-Blocked',\n",
              "       'Stormwater-Storm Drain / Catch Basin-Damaged / Broken',\n",
              "       'Capital Projects-Public Works-Service Issue / Problem',\n",
              "       'Water-Pipeline Referral-Pipeline/Restoration Issues',\n",
              "       'Trees-Removal-Stump', 'Trees-Trimming-Visibility',\n",
              "       'Abandoned Vehicle', 'Public Safety-Fire-Smell or see smoke',\n",
              "       'Bulky Appointment', 'Sewer-Sewer Backup / Leak-Outside',\n",
              "       'Streets / Roadways / Alleys-Street Services-Traffic Study Request',\n",
              "       'Trash / Recycling-Dumping-ROW Land Bank Central',\n",
              "       'Vehicles / Parking-Meter-Repair', 'Stormwater-Culvert-South',\n",
              "       'Sidewalks / Curbs / Ditch-Damage / Dis-Repair-Replace - City Project',\n",
              "       'Prop/Build/Construct - Land Use / Zoning - Unapproved Land Use',\n",
              "       'Prop/Build/Construct-Property Maintenance-DART',\n",
              "       'Government-311 Administration-Appearance / Speaker',\n",
              "       'Capital Projects-Storm Water-Engineering',\n",
              "       'Trees-Emerald Ash-Question / Feedback',\n",
              "       'Storm Water / Sewer-Sewer Odor-Outdoor',\n",
              "       'Animals / Pets-Services-Question',\n",
              "       'Streets / Roadways / Alleys-Obstructed / Closure-Detour',\n",
              "       'Trees-Land Bank-Tree Debris',\n",
              "       'Streets / Roadways / Alleys-Broken Asphalt-District 1',\n",
              "       'Streets / Roadways / Alleys-Obstructed / Closure-Lane Closed',\n",
              "       'Parks & Recreation-Graffiti-South',\n",
              "       'Lights / Signals-Traffic Signal-New Signal Request',\n",
              "       'Signs-Traffic Sign-Remove Sign', 'Trees-Removal-Brush pickup',\n",
              "       'Trees-Removal-Tree down', 'Trees-Permit-Remove',\n",
              "       'Streets / Roadways / Alleys-Markings / Paint-New Marking Request',\n",
              "       'Streets / Roadways / Alleys-Cut / Permit-District 1',\n",
              "       'Sewer-Manhole-Missing / Broken', 'Trees-Storm Damage-Trim',\n",
              "       'Streets / Roadways / Alleys-Street Clean Up-District 1',\n",
              "       'Government-Not Provided By KCMO-KCPD',\n",
              "       'Government-NHS (Neighborhood Housing Services)-No Known Property Owner',\n",
              "       'Stormwater-Stormwater Referral-Investigation',\n",
              "       'Public Health-Services-Bedbugs',\n",
              "       'Trash / Recycling-Services-Multi-Unit',\n",
              "       'Prop/Build/Construct-Construction Issue/Concern-Other',\n",
              "       'Government-City Manager‘s Office-All',\n",
              "       'Animals / Pets-Permit / License-Other',\n",
              "       'Mowing / Weeds-Parks-North',\n",
              "       'Streets / Roadways / Alleys-Street Services-Street Permit Research',\n",
              "       'Animals / Pets-Stray-Confined',\n",
              "       'Streets / Roadways / Alleys-Street Services-Service Issue / Problem',\n",
              "       'Stormwater / Sewer-Services-Call Back Request',\n",
              "       'Trees-Emerald Ash-Removal', 'Water-Leak-Ice Due to Leak',\n",
              "       'Streets / Roadways / Alleys-Street Services-Question',\n",
              "       'Parks & Recreation-Services-Question',\n",
              "       'Sidewalks / Curbs / Ditch-New Request-Blvd / Pkwy / Park',\n",
              "       'Sewer-Sewer Backup / Leak-From Manhole',\n",
              "       'Streets / Roadways / Alleys-Street Clean Up-District 3',\n",
              "       'Prop/Build/Construct-Land Use / Zoning-Short Term Rental',\n",
              "       'Animals / Pets-Questionable Activity-Over Limit / Hoarding',\n",
              "       'Parks & Recreation-Services-Service Issue / Problem',\n",
              "       'Trees-Services-Question', 'Trees-Care-Sick',\n",
              "       'City Facilities-Airports-KCI',\n",
              "       'Signs-Traffic Sign-Missing – Non-Emergency',\n",
              "       'Trash / Recycling-Early Set Out-North',\n",
              "       'Sidewalks / Curbs / Ditch-Ditch-South', 'Trees-Services-Feedback',\n",
              "       'Trees-Private Property-Hazardous',\n",
              "       'Parks & Recreation-Services-Feedback',\n",
              "       'Prop/Build/Construct-Elevator Inspection-Private / Commercial',\n",
              "       'Stormwater - Flood - Water Services Barricade',\n",
              "       'Mowing / Weeds-Public Property-Land Bank',\n",
              "       'Streets / Roadways / Alleys-Plate-Request',\n",
              "       'Trash / Recycling-Recycling-Repeat Missed',\n",
              "       'Animals / Pets-Questionable Activity-Other',\n",
              "       'Parks & Recreation-Trails-South',\n",
              "       'Prop/Build/Construct-Land Use / Zoning Issue-Number of Dwelling Units',\n",
              "       'Animals / Pets-Permit / License-Vaccination / Pet License',\n",
              "       'Streets / Roadways / Alleys-Broken Asphalt-Bridge',\n",
              "       'Public Safety-Police-Other',\n",
              "       'Trees-Storm Damage-Tree Limb / Brush',\n",
              "       'Capital Projects-Water-Service Issue / Problem',\n",
              "       'Sewer-Sewer Referral-Repair',\n",
              "       'Trash / Recycling-Trash Collection-City Owned Trash Container',\n",
              "       'Public Health-Pool / Hot Tub-Public',\n",
              "       'Streets / Roadways / Alleys-Obstructed / Closure-Event / Closure Request',\n",
              "       'Government-NHS (Neighborhood Housing Services)-Paint Program',\n",
              "       'Public Health-Hotel / Motel-Bedbugs',\n",
              "       'Mowing / Weeds-Right of Way (ROW)-Region - Central',\n",
              "       'Animals / Pets-Bite-Stray', 'Animals / Pets-Services-Off Leash',\n",
              "       'Streets / Roadways / Alleys-Crack-District 2',\n",
              "       'Streets / Roadways / Alleys-Pothole-Bridge',\n",
              "       'Capital Projects-Water-Question / Feedback',\n",
              "       'Prop/Build/Construct-Land Use / Zoning Issue-Excessive Yard Sale',\n",
              "       'Vehicles / Parking-Abandoned On Street-Boat',\n",
              "       'Animals / Pets-Services-Feedback',\n",
              "       'Prop/Build/Construct-Services (NPD)-Hazardous Structure',\n",
              "       'Prop/Build/Construct-Parking Lot - Surface',\n",
              "       'Signs-Street Name Signs-Remove Sign',\n",
              "       'Sewer-Sewer Referral-Restoration Issue',\n",
              "       'Trash / Recycling-Dumping-Right of Way',\n",
              "       'Animals / Pets-Services-Call Back Request',\n",
              "       'Signs-Street Name Signs-Honorary/Renaming',\n",
              "       'Trees-Land Bank-Dead',\n",
              "       'Capital Projects-Sewer-Service Issue / Problem',\n",
              "       'Trash / Recycling-Services-Blue Bag Program',\n",
              "       'Lights / Signals-Services-Service Issue / Problem',\n",
              "       'Trash / Recycling-Services-Medical Tags',\n",
              "       'Trash / Recycling-Solid Waste Operations-Bulky',\n",
              "       'Trash / Recycling-Solid Waste Operations-Brush',\n",
              "       'Animals / Pets-Permit / License-Livestock',\n",
              "       'Signs-No Dumping Sign-District 3',\n",
              "       'Government-NHS (Neighborhood Housing Services)-Home Repair',\n",
              "       'Government-City Managers Office-Compass KC',\n",
              "       'Signs-No Dumping Sign-District 2', 'Mowing / Weeds-Parks-South',\n",
              "       'Sidewalks / Curbs / Ditch-Snow / Ice-Park - North',\n",
              "       'Parks & Recreation-Graffiti-Central',\n",
              "       'Mowing / Weeds-Alley-District 2',\n",
              "       'Streets / Roadways / Alleys-Resurfacing-Service Issue / Problem',\n",
              "       'Trash / Recycling-Dumpsters-Street / Alley / ROW',\n",
              "       'Streets / Roadways / Alleys-Guardrail-District 2',\n",
              "       'Parks & Recreation-Athletics-Fields – Central',\n",
              "       'Sidewalks / Curbs / Ditch-Damage / Dis-Repair- Park / Blvd / Pkwy',\n",
              "       'Mowing / Weeds-Public Property-City Facility',\n",
              "       'City Facilities-Building / Property-Other City Buildings',\n",
              "       'Prop/Build/Construct-Construction Issue/Concern-Mud / Silt on street',\n",
              "       'Vehicles / Parking-Tow Services-Service Issue / Problem',\n",
              "       'Stormwater / Sewer-Services-Service Issue / Problem',\n",
              "       'Public Safety-Fire-Hazardous materials',\n",
              "       'Prop/Build/Construct-Construction Issue/Concern-Large Amount of Demo Debris',\n",
              "       'Lights / Signals-Traffic Signal-Audio',\n",
              "       'Streets / Roadways / Alleys-Markings / Paint-Turn lanes',\n",
              "       'Trash / Recycling-Dumping-ROW Land Bank South',\n",
              "       'Trash / Recycling-Solid Waste Operations-Trash',\n",
              "       'Animals / Pets-Permit / License-Chicken / Rooster',\n",
              "       'Prop/Build/Construct-Dangerous Building-Emergency',\n",
              "       'Public Health-Noise-All',\n",
              "       'Vehicles / Parking-Commercial Parking-Number of Handicap Spaces',\n",
              "       'Dead Animal Pick-up',\n",
              "       'Trash / Recycling-Dumpsters-Dumpster Request',\n",
              "       'Mowing / Weeds-Public Property-City Vacant Lot',\n",
              "       'Trees-Care-Insects', 'Storm Water / Sewer-Culvert-North',\n",
              "       'Stormwater / Sewer-Services-Feedback',\n",
              "       'Storm Water / Sewer-Manhole-Missing / Broken',\n",
              "       'Capital Projects-Storm Water-Service Issue / Problem',\n",
              "       'Visibility Problems at an Intersection',\n",
              "       'Stormwater-Improved Channel-Damaged',\n",
              "       'Trash / Recycling-Landlord Set Out-South',\n",
              "       'Signs-No Dumping Sign-District 1',\n",
              "       'Streets / Roadways / Alleys-Markings / Paint-Bike lanes',\n",
              "       'Animals / Pets-Rat Treatment-City Block',\n",
              "       'Public Safety-Fire-Question / Feedback',\n",
              "       'Water-No Water / Pressure-High Pressure',\n",
              "       'Public Health-Hotel / Motel-Unsanitary Conditions',\n",
              "       'Sidewalks / Curbs / Ditch-New Request-City Street',\n",
              "       'Animals / Pets-Rat Treatment-In the Sewer',\n",
              "       'Streets / Roadways / Alleys-Guardrail-District 3',\n",
              "       'Street Light Malfunctioning', 'Trees-Trimming-Streetlight',\n",
              "       'Animal Emergency', 'Sewer-Sinkhole-Sidewalk',\n",
              "       'City Facilities-Building / Property-Water Services Department',\n",
              "       'Trees-Emerald Ash-Treatment', 'Trash - Roll-out Cart Missing',\n",
              "       'Trash / Recycling-Early Set Out-South',\n",
              "       'Capital Projects-Parks-Question / Feedback',\n",
              "       'Streets / Roadways / Alleys-Crack-District 3',\n",
              "       'Trash / Recycling-Dumping-Park - South', 'Trees-Removal-Dumping',\n",
              "       'Fire - All', 'Trash - Missed by City',\n",
              "       'Illegal Dumping on Property',\n",
              "       'Parks & Recreation-Facilities / Attractions-Aquatics',\n",
              "       'Vehicle-Scooter-Feedback/Concern',\n",
              "       'City Facilities-Parking-Wolf Garage',\n",
              "       'Trash - Missed by Contractor', 'Solid Waste Customer Service',\n",
              "       'Vehicles / Parking-Tow Services-Feedback', 'Bulky Pick-up Missed',\n",
              "       'Public Health-Food Establishment-Catering',\n",
              "       'Parks & Recreation-Trails-Central',\n",
              "       'Prop/Build/Construct-Services (NPD)-Question',\n",
              "       'Sewer - Services - Sewer Restoration',\n",
              "       'Government-NHS (Neighborhood Housing Services)-Assessment Dispute',\n",
              "       'Signs-Traffic Sign-New Sign Installation', 'Nuisance Violations',\n",
              "       'Sidewalks / Curbs / Ditch-Obstructed / Closure-ADA',\n",
              "       'Storm Water / Sewer-Storm Referral-Creek/Green Solution',\n",
              "       'Prop/Build/Construct-Services (NPD)-Call Back Request',\n",
              "       'Public Health-Services-Pest Management Class',\n",
              "       'Water Leak or Pressure Problem',\n",
              "       'Trash / Recycling-Dumping-Park - North',\n",
              "       'Public Health-Services-Service Issue / Problem',\n",
              "       'Street Sign Damage', 'Street Light Out',\n",
              "       'Prop/Build/Construct-Services (NPD)-Service Issue / Problem',\n",
              "       'City Facilities-Building / Property-City Hall',\n",
              "       'Government-Not Provided By KCMO-County',\n",
              "       'Trash - Roll-Out Cart Administration',\n",
              "       'Streets / Roadways / Alleys-Snow / Ice-Feedback',\n",
              "       'Street/Roadway/Alley-Snow / Ice-Snow Blocking Drive',\n",
              "       'Capital Projects-Sewer-Question / Feedback',\n",
              "       'Rat Control Education',\n",
              "       'Storm Water / Sewer-Sewer Backup / Leak-In a house',\n",
              "       'Public Health-Hotel / Motel-Other',\n",
              "       'Storm Water / Sewer-Storm Drain / Catch Basin-Dropped Personal Item',\n",
              "       'Traffic Sign Damage',\n",
              "       'Prop/Build/Construct-Services (CPD)-Call Back Request',\n",
              "       'Streets / Roadways / Alleys-Speed Bump-Removal',\n",
              "       'Government-NHS (Neighborhood Housing Services)-Feedback',\n",
              "       'Animals / Pets-Services-Service Issue / Problem',\n",
              "       'Parks & Recreation-Facilities / Attractions-Fountains',\n",
              "       'City Facilities-Parking-Other Garage',\n",
              "       'Mowing / Weeds-Alley-District 3',\n",
              "       'Public Safety-Regulated Industries-Alcohol Business',\n",
              "       'Public Health-Services-Feedback',\n",
              "       'Government-NHS (Neighborhood Housing Services)-Weatherization Program',\n",
              "       'Public Health-Smoking / Tobacco-Public Building',\n",
              "       'Public Health-Services-Question',\n",
              "       'Streets / Roadways / Alleys-Guardrail-District 1',\n",
              "       'Sidewalks / Curbs / Ditch-Unapproved Objects-Landscaping',\n",
              "       'Sign Missing',\n",
              "       'Sidewalks / Curbs / Ditch-Unapproved Objects-Basketball Hoop/Goal',\n",
              "       'Public Safety-Fire-Fire Investigation',\n",
              "       'Water-Pipeline Referral-Materials left at site',\n",
              "       'Prop/Build/Construct-Construction Issue/Concern-Development Plans -Landscaping',\n",
              "       'Stormwater - Flood - Parks Barricade',\n",
              "       'Storm Water / Sewer-Sinkhole-Yard',\n",
              "       'Property and Nuisance Violations',\n",
              "       'Prop/Build/Construct-Parking Lot-Parking Spaces',\n",
              "       'Public Safety-Fire-New smoke alarm request',\n",
              "       'Trees-Care-Vandalism',\n",
              "       'Sewer - Sewer Backup - Owner Responsibility',\n",
              "       'Trash - Multi Unit Investigation',\n",
              "       'Parks & Recreation-Community Center-Westport Roanoke CC',\n",
              "       'Storm Water / Sewer-Sewer Backup / Leak-Outside',\n",
              "       'Parks & Recreation-Landscaping-Central (Dept. Use)',\n",
              "       'Lights / Signals-Street Light-Parks Maintained',\n",
              "       'Public Health-Services-Lead Poisoning Prevention Info',\n",
              "       'Streets / Roadways / Alleys-Street Services-Call Back Request',\n",
              "       'Signs/Banners/Removal', 'Public Health-Public Restroom-Other',\n",
              "       'Street Markings Painted',\n",
              "       'Water - Services - Pipeline Restoration', 'Animal Bite',\n",
              "       'Leaf and Brush Pick-up Missed',\n",
              "       'Parks & Recreation-Facilities / Attractions-Other',\n",
              "       'Government-Public Works-Service Issue / Problem',\n",
              "       'Trash / Recycling - Dumping - Alley - D3',\n",
              "       'Mowing / Weeds-Parks-Feedback',\n",
              "       'Prop/Build/Construct-Property Maintenance-Land Bank (Services)',\n",
              "       'Parks & Recreation-Landscaping-All',\n",
              "       'Public Health-Food Establishment-Food Truck',\n",
              "       'Streets / Roadways / Alleys-Street Clean Up-Bridge',\n",
              "       'Mowing / Weeds-Parks-Central',\n",
              "       'Tree Damage to City Tree from Storm Event',\n",
              "       'Graffiti on Private Property',\n",
              "       'Animals / Pets-Services-Officer Assist', 'Trees-Permit-Plant',\n",
              "       'Trees-Services-Review', 'Lights / Signals-Street Light-Graffiti',\n",
              "       'Animal Admin Call Back',\n",
              "       'Prop/Build/Construct-Services (CPD)-Post Demo Issues',\n",
              "       'Web SR - Trash, Recycle, Bulky',\n",
              "       'Prop/Build/Construct-Services (NPD)-Feedback',\n",
              "       'Lights / Signals-Services-Call Back Request',\n",
              "       'Storm Water / Sewer-Storm Drain / Catch Basin-Damaged / Broken',\n",
              "       'Water-Account-Account Services',\n",
              "       'Lights / Signals-Services-Question',\n",
              "       'Tree Trimming Central Region', 'Government-Public Works-Feedback',\n",
              "       'Parks & Recreation-Trails-North',\n",
              "       'Trash / Recycling - Trash Collection - South Trash - Recycle',\n",
              "       'Storm Water / Sewer-Culvert-South',\n",
              "       'Parks & Recreation-Community Center-Southeast CC',\n",
              "       'Parks & Recreation-Community Center-Marlborough CC',\n",
              "       'Water Repair and Restoration',\n",
              "       'Trash / Recycling-Trash Collection-Repeat Missed',\n",
              "       'Trash / Recycling-Nuisance-Early Set Out', 'Aviation - All',\n",
              "       'Street Light Pole Damage, Rust, Vandalism',\n",
              "       'Trash/Recycling - Leaf/Brush - Thursday - South',\n",
              "       'Street Maintenance General (South of 47th Street)',\n",
              "       'Dangerous Building', 'Animals / Pets-Services-Repeated Report',\n",
              "       'Mowing / Weeds-Blvd / Pkwy-Central',\n",
              "       'Drug Abatement Response Team', 'Government-Law-Vehicle Damage',\n",
              "       'Trash / Recycling-Leaf / Brush-Appointment Missed',\n",
              "       'Public Safety-Regulated Industries-Question / Feedback',\n",
              "       'Government-Public Works-Question',\n",
              "       'Capital Projects-PIAC-Question / Feedback',\n",
              "       'Traffic Signal Malfunction', 'Government-Law-Other Litigations',\n",
              "       'Storm Water / Sewer-Improved Channel-Clogged / Debris',\n",
              "       'Animals / Pets-Bite-Wildlife', 'Tree Storm Damage North Region',\n",
              "       'Illegal Dumping on Right of Way',\n",
              "       'Vacant Structure Open to Entry', 'Tow Services Administration',\n",
              "       'Recycle Bin New Service', 'Public Safety-Fire-Permit (Fireworks)',\n",
              "       'Mowing / Weeds-Blvd / Pkwy-South',\n",
              "       'Neighborhood Preservation Priority Review',\n",
              "       'Valve Repair Referral', 'Tree Removal of a City Tree',\n",
              "       'Noise Complaints', 'Catch Basins and Storm Water Concerns',\n",
              "       'Tree Trimming North Region', 'Dangerous Building Emergency',\n",
              "       'Tree Removal South Region',\n",
              "       'Snow or Ice on Street (South of 47th Street)',\n",
              "       'Vehicle Illegally Parked', 'Mowing / Weeds-Blvd / Pkwy-North',\n",
              "       'Stormwater - Flood - Public Works Barricade',\n",
              "       'Tree Storm Damage South Region', 'Trees-Trimming-Seasonal',\n",
              "       'Street Preservation or Overlay', 'Trash-Recycling Missed',\n",
              "       'Traffic Signal Out', 'Trash Storm Cleanup',\n",
              "       'Rat Control Treatment', 'Trash - Recycle Bin New Service',\n",
              "       'Traffic Sign Down or Missing - Emergency',\n",
              "       'Public Works Administration',\n",
              "       'Parks & Recreation-Landscaping-South (Dept. Use)',\n",
              "       'City Facilities-Building / Property-Convention Center',\n",
              "       'Sidewalk/Curb/Ditch-Park Property-North', 'Sidewalk Hazardous',\n",
              "       'Trash - Recycle Bin Damaged',\n",
              "       'Parks & Recreation-Community Center-Line Creek CC',\n",
              "       'Plate in Street',\n",
              "       'Tree Trimming from Electric Wire or Street Light',\n",
              "       'Tree Storm Damage Central Region', 'Mowing on Land Trust Lots',\n",
              "       'Trash - Roll-out Cart Damaged or Broken',\n",
              "       'Mowing on the Right of Way',\n",
              "       'Traffic Engineering and Traffic Studies',\n",
              "       'Tree Trimming at Intersection',\n",
              "       'Trash - Staff Complaints for Solid Waste',\n",
              "       'Sign Missing or Damaged - Non-emergency',\n",
              "       'Pipeline Repair Referral',\n",
              "       'Ditch Cleaning (South of 27th Street)',\n",
              "       'Sewer Cleaning or Repair and Waste Water Concern',\n",
              "       'Bulky Appointment DEC 18', 'Bulky Appointment DEC 12',\n",
              "       'Bulky Appointment DEC 16', 'Bulky Appointment DEC 11',\n",
              "       'Bulky Appointment DEC 09', 'Bulky Appointment DEC 17',\n",
              "       'Bulky Appointment December 01', 'Tree Removal Central Region',\n",
              "       'Bulky Appointment DEC 04', 'Bulky Appointment DEC 24',\n",
              "       'Bulky Appointment DEC 08', 'Bulky Appointment DEC 27',\n",
              "       'Bulky Appointment - DEC 26', 'Bulky Appointment JAN 14',\n",
              "       'Tree Trimming South Region', 'Bulky Appointment JAN 13',\n",
              "       'Snow or Ice on Street (South of 47th Street and West of Blue PKWY)',\n",
              "       'Bulky Appointment FEB 12', 'Bulky Appointment JAN 09',\n",
              "       'Bulky Appointment JAN 16', 'Bulky Appointment JAN 21',\n",
              "       'Snow or Ice on Street (North of River)',\n",
              "       'Bulky Appointment JAN 20', 'Bulky Appointment JAN 12',\n",
              "       'Bulky Appointment JAN 08', 'Parking Meter Repair',\n",
              "       'Bulky Appointment JAN 05', 'Bulky Appointment JAN 07',\n",
              "       'Emergency Animal Levacy Jackson County',\n",
              "       'Bulky Appointment JAN 03', 'Bulky Appointment JAN24',\n",
              "       'Bulky Appointment JAN 15', 'Bulky Appointment JAN 28',\n",
              "       'Bulky Appointment FEB 13', 'Bulky Appointment FEB 09',\n",
              "       'Bulky Appointment FEB 11', 'Emergency Home Repair Program',\n",
              "       'Bulky Appointment - FEB 18', 'Bulky Appointment FEB 05',\n",
              "       'Bulky Appointment FEB 06', 'Bulky Appointment FEB 04',\n",
              "       'Bulky Appointment- FEB 24', 'Bulky Appointment- FEB 27',\n",
              "       'Bulky Appointment- MAR 20', 'Bulky Appointment- FEB 25',\n",
              "       'Bulky Appointment- MAR 11',\n",
              "       'Animal Concerns Greenwood Jackson County',\n",
              "       'Bulky Appointment- MAR 2', 'Bulky Appointment- MAR 13',\n",
              "       'Bulky Appointment- MAR 9', 'Bulky Appointment- MAR 6',\n",
              "       'Bulky Appointment- Apr 17', 'Sewer Water in Basement',\n",
              "       'Bulky Appointment- MAR 19', 'Bulky Appointment- MAR 27',\n",
              "       'Bulky Appointment- MAR 25', 'Bulky Appointment- Apr 10',\n",
              "       'Bulky Appointment- Apr 3', 'Bulky Appointment- Apr 6',\n",
              "       'Bulky Appointment- Apr 22', 'Bulky Appointment- Apr 7',\n",
              "       'Bulky Appointment - April 28', 'Bulky Appointment - May 12',\n",
              "       'Bulky Appointment - May 14', 'Bulky Appointment- June 9',\n",
              "       'Bulky Appointment - May 18', 'Bulky Appointment - May 8',\n",
              "       'Bulky Appointment - May 11', 'Bulky Appointment - May 20',\n",
              "       'Bulky Appointment - May 27', 'Bulky Appointment - May 6',\n",
              "       'Bulky Appointment - May 22', 'Bulky Appointment - May 21',\n",
              "       'Bulky Appointment - May 15', 'Bulky Appointment- June 12',\n",
              "       'Bulky Appointment- June 16', 'Water Services Administration',\n",
              "       'Bulky Appointment - May 26', 'Bulky Appointment- July 8',\n",
              "       'Trash Recycling Missed by Contractor',\n",
              "       'Bulky Appointment- June 18', 'Bulky Appointment - May 29',\n",
              "       'Bulky Appointment- June 2', 'Bulky Appointment- June 17',\n",
              "       'Bulky Appointment- June 4', 'Bulky Appointment- July 17',\n",
              "       'Land Trust Mowing List', 'Bulky Appointment- July 10',\n",
              "       'Bulky Appointment- June 3', 'Trash Recycling Missed by City',\n",
              "       'Parks Facility Maintenance S Refer', 'Bulky Appointment- June 24',\n",
              "       'Bulky Appointment- June 22', 'Bulky Appointment- June 25',\n",
              "       'Graffiti on Signs', 'Bulky Appointment - August 12',\n",
              "       'Bulky Appointment- June 26', 'Bulky Appointment-  August 10',\n",
              "       'Bulky Appointment - August 13', 'Bulky Appointment - August 11',\n",
              "       'Bulky Appointment- August 14', 'Bulky Address Validation',\n",
              "       'Nuisance Violations on Private Property Vacant Structure',\n",
              "       'Tree Trimming for City Tree', 'Barking Dog',\n",
              "       'Park Maintenance North Region', 'Meter Leak or Problem',\n",
              "       'Outdoor Air Quality', 'Pipeline Turf Referral',\n",
              "       'Trash Missed by Contractor North',\n",
              "       'Trash Missed by Contractor South',\n",
              "       'Bulky Pick Up Due to Flood Damage',\n",
              "       'Snow or Ice on Street District 1',\n",
              "       'Trash Recycle Missed by Contractor South',\n",
              "       'Icing Caused by Water Leak', 'Snow or Ice on Street District 2',\n",
              "       'Trash Roll Out Cart Missing',\n",
              "       'Childhood Lead Poisoning Prevention', 'Wildlife',\n",
              "       'Sewer Water in Basement - Referral', 'Water Main Repair Referral',\n",
              "       'Trash Cart Damaged', 'Animal At Large', 'Stray Animal Confined',\n",
              "       'Trash Cart Missing', 'Animal Investigation',\n",
              "       'Food Establishment Complaints', 'Field Services Escalation',\n",
              "       'Hazardous Structure', 'SLG0 Streetlight Out - Single Light Out',\n",
              "       'Water Quality - Laboratory Services', 'Hydrant Repair Referral',\n",
              "       'Pipeline Pavement Restoration Referral',\n",
              "       'Injury or Cruelty Involving an Animal', 'Back Office Support',\n",
              "       'Snow or Ice on Street District 3',\n",
              "       'Tree or Limb Down Due to Snow',\n",
              "       'SLG3 Streetlights Out - Two to Four Lights',\n",
              "       'Street Sweeping Citywide', 'Bedbugs Problem',\n",
              "       'Pothole (North of River)', 'Questions or  Comments',\n",
              "       'Rural ROW Mowing', 'Healthy Homes Program',\n",
              "       'Animals / Pets-Services-Barking Dog Letter',\n",
              "       'Trash / Recycling-Dumping-Right of Way (ROW)',\n",
              "       'Trash / Recycling-Dumping-Alley',\n",
              "       'Storm Water / Sewer-Sewer Referral-Investigation',\n",
              "       'Trash/Recycling - Leaf/Brush - Friday - North',\n",
              "       'Trash/Recycling - Leaf/Brush - Wednesday - South',\n",
              "       'Bulky Appointment - July 14',\n",
              "       'Storm Water / Sewer-Improved Channel-Damaged',\n",
              "       'SLB0 Streetlight Wire Down or Hanging Arm',\n",
              "       'Mowing City Property',\n",
              "       'Storm / Sewer-Storm Water Referral-Repair',\n",
              "       'Public Safety-Regulated Industries-Vehicle for hire',\n",
              "       'Storm Water / Sewer-Services-Call Back Request',\n",
              "       'Public Health-Smoking / Tobacco-Sales to minors',\n",
              "       'Storm Water / Sewer-Sinkhole-Street',\n",
              "       'Storm Water / Sewer-Storm Drain / Catch Basin-Clogged / Over-Flow',\n",
              "       'Storm Water / Sewer-Sewer Odor-Indoor',\n",
              "       'Bulky Appointment FEB 10', 'SLP0 Streetlight Miscellaneous',\n",
              "       'Storm Water / Sewer-Sinkhole-Sidewalk',\n",
              "       'Pipeline Repair or Restoration Concerns',\n",
              "       'Bulky Appointment- June 11', 'Bulky Appointment- MAR 17',\n",
              "       'Storm Water / Sewer-Services-Feedback',\n",
              "       'Sewer Cleaning or Deodorizing - Referral',\n",
              "       'Bulky Appointment- July 9', 'Bulky Appointment- MAR 12',\n",
              "       'Storm Water / Sewer-Sewer Referral-Repair',\n",
              "       'Storm Water / Sewer-Sewer Referral-Restoration Issue',\n",
              "       'Pipeline Contractor Restoration',\n",
              "       'Parks & Recreation-Community Center-Brush Creek CC',\n",
              "       'Bulky Appointment JAN 26', 'Issues on City Maintained Property',\n",
              "       'Bulky Appointment- MAR 26', 'Bulky Appointment- Apr 20',\n",
              "       'Bulky Appointment- MAR 4',\n",
              "       'Storm Water / Sewer-Sewer Referral-Restoration',\n",
              "       'Storm Water / Sewer-Sewer Backup / Leak-From Manhole',\n",
              "       'Bulky Appointment - FEB 21',\n",
              "       'Storm Water / Sewer - Services - Sewer Restoration',\n",
              "       'Street Maintenance General (North of the River)',\n",
              "       'SLG2 Streetlight Burning During Day',\n",
              "       'Bulky Appointment - April 27',\n",
              "       'Storm Water / Sewer - Flood - Water Services Barricade',\n",
              "       'Sewer Deodorizing - Referral',\n",
              "       'SLA0 Streetlight Pole Down or Leaning',\n",
              "       'Government-Public Works-Call Back Request',\n",
              "       'Storm Water / Sewer-Services-Service Issue / Problem',\n",
              "       'Street Maintenance General (South of 47th Street and West of Blue PKWY)',\n",
              "       'Bulky Appointment- July 16', 'Capital Projects Office',\n",
              "       'Government-Law-Financial Loss',\n",
              "       'Pothole (South of 47th Street and West Of Blue PKWY)',\n",
              "       'Streets / Roadways / Alleys-Street Clean Up-Bike Route',\n",
              "       'Bulky Appointment- Apr 14',\n",
              "       'Mowing / Weeds-Paper Street-District 2',\n",
              "       'Bulky Appointment- Apr 9', 'Bulky Appointment - May 13',\n",
              "       'Violations and Encroachments on the Right of Way',\n",
              "       'Bulky Appointment- Apr 8', 'Hotel and Motel Inspections',\n",
              "       'Storm Water / Sewer-Sewer Referral-Private Line',\n",
              "       'Trash-Staff Compliments for Solid Waste',\n",
              "       'Sidewalk or Curb in Disrepair',\n",
              "       'Trash/Recycling - Leaf/Brush - Wednesday - Central',\n",
              "       'Bulky Appointment FEB 03', 'Sewer Investigation Referral',\n",
              "       'Smoking Complaints',\n",
              "       'Prop/Build/Construct-Land Use / Zoning Issue-Floodplan Management',\n",
              "       'Trash Multi Unit Investigation',\n",
              "       'Traffic Signal Pole Damage, Rust, Vandalism',\n",
              "       'Alley Cleaning (South of River to 47th Street)',\n",
              "       'Snow or Ice on Street (South of River to 47th Street)',\n",
              "       'Pothole (South of 47th Street)',\n",
              "       'Crack Sealing (South of River to 47th Street)',\n",
              "       'Pothole (South of River to 47th Street)',\n",
              "       'Traffic Study for Signs, Reduced Speed, Signal, Crosswalk',\n",
              "       'Water Main Break', 'Zoning Inspections and Violations',\n",
              "       'Tree Limb and Brush Removal from City Tree - South Region',\n",
              "       'Street Sign Missing', 'Convention and Entertainment Center-All',\n",
              "       'Dangerous Building and Emergency Board Up',\n",
              "       'Traffic Sign Down or Missing',\n",
              "       'Street Maintenance General (South of River to 47th Street)',\n",
              "       'Parking Meter Repair or Damage',\n",
              "       'Alley Cleaning (South of 47th Street)',\n",
              "       'Building Code and Permit Violations',\n",
              "       'Street Maintenance General',\n",
              "       'Ditch Cleaning (North from 27th Street )',\n",
              "       'Cleaning vacant Land Trust Lots',\n",
              "       'Alley Cleaning (North of the River)',\n",
              "       'Ditch Cleaning (South of 47th Street)',\n",
              "       'Bridge Repair (All Districts)',\n",
              "       \"City Manager's Office-Emergency Management\",\n",
              "       'Tree Stump Removal Central Region',\n",
              "       'Tree Trimming on Land Trust Lots',\n",
              "       'Crack Sealing (South of 47th Street)',\n",
              "       'Graffiti - Park Property North Region',\n",
              "       'Street Sweeping (South of River to 47th Street)',\n",
              "       'Metal Plate in Street (South of 47th Street)',\n",
              "       'Capital Projects-Water-Basement Backup Prev Prog',\n",
              "       'Storm Water-Storm Drain / Catch Basin-Clogged / Over-Flow',\n",
              "       'Tree Limb and Brush Removal from City Tree - North Region',\n",
              "       'City Planning & Development-Administration',\n",
              "       'Tree Stump Removal South Region',\n",
              "       \"City Manager's Office-Administration\",\n",
              "       'Guard Rail Repair (South of the River to 47th Street)',\n",
              "       'Streets / Roadways / Alleys-Crack-Bridge',\n",
              "       'Parks & Recreation-Facilities / Attractions-Shelter – South',\n",
              "       'Tree Planting North Region',\n",
              "       'Graffiti - Park Property Central Region',\n",
              "       'Metal Plate in Street (North of River)',\n",
              "       'Tree Limb and Brush Removal from City Tree - Central Region',\n",
              "       'Sidewalk to be replaced Due to City Project', 'Tree Live Removal',\n",
              "       'Parks & Recreation-Services-Call Back Request',\n",
              "       'Cleaning City Property',\n",
              "       \"City Manager's Office-Capital Improvement Management Office\",\n",
              "       'Street Sweeping (South of 47th Street)',\n",
              "       'Dead Tree on Land Trust Lots',\n",
              "       'Guard Rail Repair (South of 47th Street)',\n",
              "       'Crack Sealing (North of River)',\n",
              "       'Ditch Cleaning (North of River)',\n",
              "       'Trash was missed for Tuesday pickup for 2 bags.',\n",
              "       'Public Safety-Emergency Management-Weather Siren',\n",
              "       'Tree Planting South Region',\n",
              "       'Parks & Recreation-Landscaping-North (Dept. Use)',\n",
              "       'Facilities - City Owned', 'Parks and Recreation Administration',\n",
              "       'Park Maintenance Central Region',\n",
              "       'Guard Rail Repair (North of River)', 'Graffiti on City Property',\n",
              "       'Permit for Private Removal of a City Tree',\n",
              "       'Graffiti - Park Property South Region',\n",
              "       'Information Technology-All',\n",
              "       'Neighborhood and Community Services Administration',\n",
              "       'Tree Planting Central Region', 'Tree Removal North Region',\n",
              "       'Metal Plate in Street (South of River to 47th Street)',\n",
              "       'Minor Home Repair Program',\n",
              "       'Pothole (River south to 47th Street)',\n",
              "       'Tree Stump Removal North Region',\n",
              "       \"City Manager's Office-Public Improvement Advisory Committee\",\n",
              "       'Ditch Cleaning (South of River to 47th Street)',\n",
              "       'City Managers Office-Public Improvement Advisory Committee',\n",
              "       'Parks & Recreation-Community Center-Hillcrest CC',\n",
              "       'Street Sweeping (North of River)',\n",
              "       'Park Maintenance South Region',\n",
              "       'Water Facilities and Engineering', 'Street Light New',\n",
              "       'Street Light Restoration Referral',\n",
              "       'Water Facilities and Stormwater Engineering',\n",
              "       'Regulated Industries',\n",
              "       'City Managers Office-Capital Improvement Management Office',\n",
              "       'City Managers Office-Action Center',\n",
              "       'City Managers Office-Administration',\n",
              "       'Mowing of Private Property with No Structure',\n",
              "       'City Managers Office-Emergency Management',\n",
              "       'Street and Traffic Permit', 'Parks Capital Project Referral',\n",
              "       'Permit to prune, remove, or plant a City Tree',\n",
              "       'Erosion or Sediment', 'Pipeline Code 2 Repair - Referral',\n",
              "       'Street Maintenance General (South of River to 47th Street and East of Blue PKWY)',\n",
              "       'Staff Complaints for Solid Waste', 'Recycle Bin Damaged',\n",
              "       'Graffiti on Streetlight Pole', 'Graffiti Removed by Citizen',\n",
              "       'Tree Staff Compliment', 'Staff Compliments for Solid Waste',\n",
              "       'Water Restoration Contract', 'Pipeline Code 3 Repair - Referral',\n",
              "       'Water Bill Concerns', 'Water Services Pavement Restoration',\n",
              "       'Tree Staff Customer Service Complaint',\n",
              "       'Sewer Turf Restoration - Referral', 'Paint Program',\n",
              "       'Barrier Removal Program', 'Weatherization Program',\n",
              "       'Sewer Investigation and Repairs - Referral',\n",
              "       'Trahs-Recycle Bin Damaged', 'Parking Ticket Complaint',\n",
              "       'Trahs-Recycle Bin New Service',\n",
              "       'Trash - Solid Waste Customer Service', 'Water Pipeline Barricade',\n",
              "       'Trash-Leaf and Brush Pick-up Missed', 'Trash-Missed Bulky',\n",
              "       'Water Industrial Waste Control',\n",
              "       'Snow or Ice on Street (South of River to 47th Street and East of Blu',\n",
              "       'Pothole (River south to 47th Street and East of Blue PKWY)',\n",
              "       'Alley Cleaning (South of River to 47th Street and East of Blue PKWY)',\n",
              "       'Alley Cleaning (South of 47th Street and West of BLue PKWY)',\n",
              "       'Wastewater Code 1 - Referral',\n",
              "       'Crack Sealing (South of River to 47th Street and East of Blue PKWY)',\n",
              "       'Sign Violation Zoning', 'Mud and silt',\n",
              "       'Crack Sealing -(South of River to 47th Street and East of Blue PKWY)',\n",
              "       'Sewer Repair Referral', 'Fence or Wall',\n",
              "       'Demolition Debris and Landfill',\n",
              "       'Parks Facility Maintenance Referral',\n",
              "       'Animal Concers Unicorporated Jackson County', 'Plate Hazard',\n",
              "       'Storm Damage East', 'Animal Concerns Buckner Jackson County',\n",
              "       'ADA Accessibility',\n",
              "       'Animal Concerns Unity Village Jackson County',\n",
              "       'Animal Concerns Sibley Jackson County',\n",
              "       'Crack Sealing -(South of 47th Street and West of Blue PKWY)',\n",
              "       'Animal Emergency Unincorporated Jackson County',\n",
              "       'Parks Lighting North Referral',\n",
              "       'Animal Concerns Lone Jack Jackson County',\n",
              "       'Animal Emergency Buckner Jackson County',\n",
              "       'Guard Rail Repair (South of the River to 47th Street and East of Blue PKWY)',\n",
              "       'Parks Facility Outdoor Plumbing Central Referral',\n",
              "       'Parks Lighting Central Referral',\n",
              "       'Parks Drinking Fountain South Referral',\n",
              "       'Parks Facility Indoor Plumbing North Referral',\n",
              "       'Pipeline Code 1 Repair - Referral',\n",
              "       'Parks Facility Maintenance C Referral',\n",
              "       'Animal Emergency Greenwood Jackson County',\n",
              "       'Parks Facility Maintenance N Referral', 'Elevator Inspection',\n",
              "       'Animal Emergency Unity Village Jackson County',\n",
              "       'Animal Emergency Lone Jack Jackson County',\n",
              "       'Guard Rail Repair (South of 47th Street and West of Blue PKWY)',\n",
              "       'Automatic Meter Reading - VSI',\n",
              "       'Parks Drinking Fountain Central Referral',\n",
              "       'Animal Emergency Sibley Jackson County',\n",
              "       'Service or Curb Box Repair Referral',\n",
              "       'Wastewater Code 3 - Referral',\n",
              "       'Animal Concerns Levacy Jackson County',\n",
              "       'Bulky Appointment  DEC 10',\n",
              "       'City Managers Office-City Communications',\n",
              "       'Water Services Turf Restoration', 'Bulky Appointment DEC 03',\n",
              "       'Animal Emergency Sugar Creek Jackson County',\n",
              "       'Bulky Appointment DEC 19', 'Bulky Appointment DEC 23',\n",
              "       'Bulky Appointment DEC 02', 'Bulky Appointment DEC 15',\n",
              "       'Bulky Appointment DEC 05', 'Bulky Appointment DEC 22',\n",
              "       'Bulky Appointment JAN 22', 'PIAC Referral From Department',\n",
              "       'Bulky Appointment DEC 21', 'Bulky Appointment DEC 13',\n",
              "       'Bulky Appointment DEC 20', 'Bulky Appointment JAN 02',\n",
              "       'Bulky Appointment JAN 06', 'Bulky Appointment JAN 23',\n",
              "       'Bulky Appointment - FEB 19', 'Bulky Appointment JAN 27',\n",
              "       'Bulky Appointment - FEB 20', 'Bulky Appointment- FEB 26',\n",
              "       'Bulky Appointment FEB 02', 'Bulky Appointment - FEB 17',\n",
              "       'Bulky Appointment- MAR 10', 'Bulky Appointment- MAR 16',\n",
              "       'Bulky Appointment- MAR 3', 'Bulky Appointment - May 5',\n",
              "       'Bulky Appointment- MAR 23', 'Bulky Appointment- June 5',\n",
              "       'Animal Concerns Sugar Creek Jackson County',\n",
              "       'Bulky Appointment- MAR 5', 'Bulky Appointment- MAR 24',\n",
              "       'Bulky Appointment- MAR 18', 'Bulky Appointment- July 21',\n",
              "       'Bulky Appointment- Apr 15', 'Bulky Appointment- Apr 16',\n",
              "       'Bulky Appointment - May 1', 'Bulky Appointment- Apr 21',\n",
              "       'Bulky Appointment- Apr 2', 'Bulky Appointment- Apr 1',\n",
              "       'Bulky Appointment - May 4', 'Parks Community Services',\n",
              "       'Bulky Appointment- Apr 24', 'Bulky Appointment - May 19',\n",
              "       'Bulky Appointment- June 10', 'Bulky Appointment - May 7',\n",
              "       'Bulky Appointment- Apr 23', 'Bulky Appointment- June 15',\n",
              "       'Sewer Assessment Questions', 'Bulky Appointment- June 8',\n",
              "       'Bulky Appointment- June 1', 'Bulky Appointment - May 28',\n",
              "       'Bulky Appointment- June 19', 'City Maintained Property List',\n",
              "       'Bulky Appointment- July 7', 'Bruce R Watkins Freeway',\n",
              "       'Bulky Appointment - May 30', 'Bulky Appointment- July 15',\n",
              "       'Bulky Appointment- July 20', 'Bulky Appointment- July 3',\n",
              "       \"Vehicle Towed From Lot Without Owner's Permission by Tow Company\",\n",
              "       'Bulky Appointment- July 13', 'Bulky Appointment- June 23',\n",
              "       'Bulky Appointment- July 1', 'Law-All',\n",
              "       'Bulky Appointment-  August 17', 'Parks Lighting South Referral',\n",
              "       'Bulky Appointment-  August 21', 'Bulky Appointment- July 27',\n",
              "       'Bulky Appointment- July 24', 'Bulky Appointment- July 6',\n",
              "       'Automatic Meter Reading', 'Bulky Appointment-  August 24',\n",
              "       'Parks Drinking Fountain North Referral',\n",
              "       'Bulky Appointment-  August 5',\n",
              "       'Tree Limb or Brush Removal for City Tree',\n",
              "       'Tree Trimming from Street Light',\n",
              "       'Tree Stump Removal for City Tree',\n",
              "       'Good Neighbor Award Nomination', 'Tree Planting for New Tree',\n",
              "       'SLD0 Streetlight Out - Multiple Outage of Five or More',\n",
              "       'City Maintained Property Addition',\n",
              "       'Sewer Pavement Restoration Referral', 'Property Maintenance',\n",
              "       'Emergency Water Turn Off',\n",
              "       'Turn On Water Services - Internal Repairs Completed',\n",
              "       'High Water Bill Inspection', 'Wastewater Code 2 - Referral',\n",
              "       'Turn Off Water Service For A Repair', 'Tree Maintenance Seasonal',\n",
              "       'Water Main Projects',\n",
              "       'Dispute of Assessment for NCS Property Abatement',\n",
              "       'New Water Service', 'Turn On Water Services For Paid Bill',\n",
              "       'Pipeline Barricade Referral', 'Public Pool Inspections',\n",
              "       'Public Restroom Sanitation', 'No Known Property Owner',\n",
              "       'Street and Traffic Administration', 'Water Theft and Fraud',\n",
              "       'Trash Recycle Missed by Contractor North', 'Sewer Projects',\n",
              "       'Stormwater Charges', 'SLG1 Streetlight Blinking Off and On',\n",
              "       'SLQ0 Streetlight Problem Identification Referral',\n",
              "       'Stormwater Projects', 'Referral for Sewage on Private Property',\n",
              "       'Sinkhole or Sewer Repair - Referral', 'Wastewater Treatment',\n",
              "       'Mayors Office-All', 'Tree Disease, Insects or Vandalism',\n",
              "       'Pending Restoration Referral',\n",
              "       'Tree Inspection on Private Property', 'Finance - All',\n",
              "       'Salvage Yard Investigation', 'Snow and Ice Administration',\n",
              "       'No Water Bill Received', 'Water Payment or Refund',\n",
              "       'Water Bill Admin Tasks', 'Trash Roll Out Cart Damaged or Missing',\n",
              "       'Accelerated Abatement Program',\n",
              "       'Project Planning for Streets and Traffic',\n",
              "       'Information Request-Railroad Property',\n",
              "       'Action Center Escalation', 'Communicable Disease Control',\n",
              "       'Animal Control Administration', 'Info Center Escalation',\n",
              "       'Neighborhood Preservation Administration',\n",
              "       'Information Request - Assessment for Private Property',\n",
              "       'Animal Concerns Unincorporated Jackson County',\n",
              "       'Brush Creek Maintenance',\n",
              "       'Sidewalk projects that are funded by GO Bond funds',\n",
              "       'City Clerks Office-All',\n",
              "       \"Google's FTTH Project Contractor Verification\",\n",
              "       'Information Request-Neighborhood',\n",
              "       'Cooling Center Transportation',\n",
              "       'Forestry Customer Service Comment',\n",
              "       'Volunteer Inspection Program', 'Graffiti Abatement Training',\n",
              "       'Water Services Same Day Service',\n",
              "       'Web SR - Street Maintenance / Snow',\n",
              "       'Landscaping and Blvd/Pkwy Mowing',\n",
              "       'Additional Information Required',\n",
              "       'Emerald Ash Borer Tree Removal', 'Emerald Ash Borer Questions',\n",
              "       'Tree Pruning for Block', 'Bicycle or Pedestrian Trail',\n",
              "       'Snow or Ice on Sidewalk', 'Homeless Camp', 'High Bill Adjustment',\n",
              "       'Integrated Pest Management Class',\n",
              "       'Sewer Contractor Restoration Referral',\n",
              "       'Completed Contractor Restoration Concerns',\n",
              "       'Referral for Abatement of Illegal Dumping', '311 Action Center',\n",
              "       'Prop/Build/Construct-Services (CPD)-Service Issue / Problem',\n",
              "       'Water-Pipeline Referral-Restoration Issue',\n",
              "       'Prop/Build/Construct-Services (CPD)-Feedback',\n",
              "       'Parking Ticket Issue',\n",
              "       'Animals / Pets-Questionable Activity-Cock fighting',\n",
              "       'Sidewalks / Curbs / Ditch-Damage / Dis-Repair-Blvd / Pkwy',\n",
              "       'Streets / Roadways / Alleys-Broken Asphalt-Blvd / Pkwy',\n",
              "       'Trees-Removal-Dangerous',\n",
              "       'Streets / Roadways / Alleys-Guardrail-Blvd / Pkwy',\n",
              "       'Animals / Pets-Services-Off Leash - Investigation',\n",
              "       'Parks & Recreation-Graffiti-North', 'Trees-Permit-Trim',\n",
              "       'Parks & Recreation-Athletics-Fields – North',\n",
              "       'Public Safety-Regulated Industries-Day Labor Business',\n",
              "       'Government-Security / Safety-Tours',\n",
              "       'Parks & Recreation-Community Center-Tony Aguirre CC',\n",
              "       'Animals / Pets-Permit / License-Permit Request',\n",
              "       'Public Safety-Regulated Industries-Amusement Business',\n",
              "       'Signs-Street Name Signs-Graffiti',\n",
              "       'Parks & Recreation-Athletics-Fields – South',\n",
              "       'Capital Projects-Storm Water-Question / Feedback',\n",
              "       'Public Health-Disease Control-All',\n",
              "       'Capital Projects-Public Works-Question / Feedback',\n",
              "       'Public Health-Services-Call Back Request',\n",
              "       'Sidewalks / Curbs / Ditch-Unapproved Objects-Merchandise',\n",
              "       'Streets / Roadways / Alleys-Street Services-Traffic Video Request',\n",
              "       'Lights / Signals-Street Light-New Light Request',\n",
              "       'Parks & Recreation-Community Center-Kansas City North CC',\n",
              "       'Streets / Roadways / Alleys-Pothole-Blvd / Pkwy',\n",
              "       'Public Health-Smoking / Tobacco-Restaurant',\n",
              "       'Public Safety-Emergency Management-Feedback',\n",
              "       'Government-NHS (Neighborhood Housing Services)-Good Neighbor Award',\n",
              "       'Streets / Roadways / Alleys-Cut / Permit-Blvd / Pkwy',\n",
              "       'Public Safety-Regulated Industries-Salvage and Scrap',\n",
              "       'Mowing / Weeds-Alley-District 1', 'Trees-Services-EAB',\n",
              "       'Streets / Roadways / Alleys-Street Clean Up-Blvd / Pkwy - North',\n",
              "       'Animals / Pets-Questionable Activity-Dog fighting',\n",
              "       'Mowing / Weeds-Paper Street-District 3',\n",
              "       'Storm Water / Sewer - Flood - Public Works Barricade',\n",
              "       'Storm Water / Sewer - Flood - Parks Barricade',\n",
              "       'Street/Roadway/Alley - Obstructed / Closure - Marathon/Run/Race',\n",
              "       'Web SR - Trees (City Trees Only)',\n",
              "       'Public Health-Public Restroom-School',\n",
              "       'Mowing / Weeds-Paper Street-District 1',\n",
              "       'Animals / Pets-Rat Treatment-City Const Site',\n",
              "       'Signs-Traffic Sign-Bike Route',\n",
              "       'Streets / Roadways / Alleys-Street Clean Up-Blvd / Pkwy - Central',\n",
              "       'Public Health-Public Restroom-Restaurant',\n",
              "       'Lights / Signals-Traffic Signal-Graffiti',\n",
              "       'Public Safety-Fire-Carbon monoxide',\n",
              "       'Sidewalks / Curbs / Ditch-Snow / Ice-City Owned',\n",
              "       'Parks & Recreation-Facilities / Attractions-Starlight Theatre',\n",
              "       'Streets / Roadways / Alleys-Street Clean Up-Blvd / Pkwy - South',\n",
              "       'Sidewalks / Curbs / Ditch-Snow / Ice-Bridge',\n",
              "       'Sidewalks / Curbs / Ditch-Snow / Ice-Park - Central',\n",
              "       'Sidewalks / Curbs / Ditch-Snow / Ice-Park - South',\n",
              "       'Sidewalk/Curb/Ditch-Park Property-South',\n",
              "       'Sidewalk/Curb/Ditch-Park Property-Central',\n",
              "       'Government-Not Provided By KCMO-211',\n",
              "       'Government-IT / Websites-Water Website',\n",
              "       'Public Safety-Municipal Court-Accommodations',\n",
              "       'Storm Water / Sewer-Sewer Backup / Leak-Treatment Plant',\n",
              "       'Public Safety-Ambulance-Billing / Administration',\n",
              "       'Parks & Recreation-Facilities / Attractions-Shelter – Central',\n",
              "       'City Facilities-Building / Property-Municipal Court',\n",
              "       'Storm Water / Sewer-Stormwater Referral-Restoration',\n",
              "       'Parks & Recreation-Facilities / Attractions-Shelter – North',\n",
              "       'Government-Law-Property Damage',\n",
              "       'Trash / Recycling-Trash Cart-Not Delivered',\n",
              "       'Web SR - Health Code Violation',\n",
              "       'City Facilities-Airports-Wheeler (Downtown)',\n",
              "       'Vehicles / Parking-Illegally Parked-Street/Sidewalk',\n",
              "       'Trees - Permit - Ash Treatment',\n",
              "       'Lights / Signals-Traffic Signal-Bike Route',\n",
              "       'Government-IT / Websites-Parks Website',\n",
              "       'Government-Communications-News and Media',\n",
              "       'Vehicles / Parking-Commercial Parking-Parking Surface - Pay Lot',\n",
              "       'Public Health-Noise-Construction',\n",
              "       'Trash / Recycling-Trash Cart-Cart Size',\n",
              "       'Government-Communications-KCMO.gov',\n",
              "       'Sidewalks / Curbs / Ditch-Obstructed / Closure-Ramp',\n",
              "       'Parks & Recreation-Facilities / Attractions-Kansas City Museum',\n",
              "       'Prop/Build/Construct - Elevator Inspection - City Facility',\n",
              "       'Government-311 Administration-Review',\n",
              "       'Animals / Pets-Permit / License-Rescue Permit',\n",
              "       'Trash / Recycling-Dumping-Landlord Set Out',\n",
              "       'Trash/Recycling - Leaf/Brush - Tuesday - North',\n",
              "       'Parks & Recreation-Athletics-Programming',\n",
              "       'Government-311 Administration-Field Investigation',\n",
              "       'City Facilities-Building / Property-Aviation',\n",
              "       'Storm Water / Sewer - Construction Repair - Referral',\n",
              "       'Government - Not Provided by KCMO - KCATA/Metro',\n",
              "       'Trash/Recycling - Leaf/Brush - Monday - South',\n",
              "       'Trash/Recycling - Leaf/Brush - Monday - Central',\n",
              "       'Trash/Recycling - Leaf/Brush - Monday - North',\n",
              "       'Trash/Recycling - Leaf/Brush - Thursday - Central',\n",
              "       'Trash/Recycling - Leaf/Brush - Tuesday - Central',\n",
              "       'Trash/Recycling - Trash Collection - Storm Trash',\n",
              "       'Trash/Recycling - Leaf/Brush - Friday - Central',\n",
              "       'Trash/Recycling - Leaf/Brush - Wednesday - North',\n",
              "       'Trash/Recycling - Leaf/Brush - Thursday - North',\n",
              "       'Trash/Recycling - Leaf/Brush - Tuesday - South',\n",
              "       'Trash/Recycling - Leaf/Brush - Friday - South',\n",
              "       'Government-Communications-Citizen Satisfaction Survey',\n",
              "       'Storm / Sewer-Stormwater Referral-Investigation',\n",
              "       'Trash / Recycling - Trash Collection - North Trash - Recycle',\n",
              "       'City Facilities-Building / Property-Fire Station Maintenance',\n",
              "       'Trash / Recycling - Trash Collection - City Trash - Recycle',\n",
              "       'Trash / Recycling - Dumping - Alley - D1',\n",
              "       'City Facilities-Parking-City Hall Garage',\n",
              "       'Parks & Recreation-Community Center-Garrison CC',\n",
              "       'Storm Water / Sewer-Sewer Referral-Basement',\n",
              "       'Parks & Recreation-Facilities / Attractions-Lakeside Nature Center',\n",
              "       'Trash / Recycling-Landlord Set Out-Central',\n",
              "       'Trash / Recycling-Landlord Set Out-North',\n",
              "       'Government-311 Administration-Feedback',\n",
              "       'Trash / Recycling-Dumping-ROW Land Bank North',\n",
              "       'Public Safety-Regulated Industries-Tobacco Business',\n",
              "       'Government - ADA - Airport',\n",
              "       'Government-311 Administration-Lack of information',\n",
              "       'Web SR - Property Maintenance - Neighborhoods'], dtype=object)"
            ]
          },
          "metadata": {
            "tags": []
          },
          "execution_count": 16
        }
      ]
    },
    {
      "cell_type": "markdown",
      "metadata": {
        "id": "jYG5xbeRMFMW",
        "colab_type": "text"
      },
      "source": [
        "Can rat infestation be predicted?"
      ]
    },
    {
      "cell_type": "code",
      "metadata": {
        "id": "6ewaCtFZeGWj",
        "colab_type": "code",
        "colab": {}
      },
      "source": [
        "# rats\n",
        "txt = 'Animals / Pets-Rat'\n",
        "rat_calls = kc_311_calls[kc_311_calls['REQUEST TYPE'].str.match(txt)]\n",
        "rat_calls.head()\n",
        "\n",
        "rat_calls['CREATION DATE'] = pd.to_datetime(rat_calls['CREATION DATE'], format='%m/%d/%Y', errors='coerce')\n",
        "rat_calls = rat_calls.set_index('CREATION DATE')"
      ],
      "execution_count": 0,
      "outputs": []
    },
    {
      "cell_type": "code",
      "metadata": {
        "id": "d40aXDJcdwHV",
        "colab_type": "code",
        "outputId": "7b6f3775-827f-4148-92d4-195f0615dc41",
        "colab": {
          "base_uri": "https://localhost:8080/",
          "height": 542
        }
      },
      "source": [
        "rat_calls_m = pd.DataFrame(rat_calls.resample('M').count()['CASE ID'].values, index=rat_calls.resample('M').count().index, columns=['value'])\n",
        "\n",
        "# plot\n",
        "fig = go.Figure()\n",
        "fig.add_trace(go.Scatter(x=rat_calls_m.index, y=rat_calls_m.value, name='# of Calls about Rats',\n",
        "                          line_color='deepskyblue'))\n",
        "fig.update_layout(title_text='# of 311 Calls about Rats',\n",
        "                  xaxis_rangeslider_visible=False)\n",
        "fig.show()"
      ],
      "execution_count": 18,
      "outputs": [
        {
          "output_type": "display_data",
          "data": {
            "text/html": [
              "<html>\n",
              "<head><meta charset=\"utf-8\" /></head>\n",
              "<body>\n",
              "    <div>\n",
              "            <script src=\"https://cdnjs.cloudflare.com/ajax/libs/mathjax/2.7.5/MathJax.js?config=TeX-AMS-MML_SVG\"></script><script type=\"text/javascript\">if (window.MathJax) {MathJax.Hub.Config({SVG: {font: \"STIX-Web\"}});}</script>\n",
              "                <script type=\"text/javascript\">window.PlotlyConfig = {MathJaxConfig: 'local'};</script>\n",
              "        <script src=\"https://cdn.plot.ly/plotly-latest.min.js\"></script>    \n",
              "            <div id=\"f807a7b1-98c7-4571-b71a-78fa408f1a90\" class=\"plotly-graph-div\" style=\"height:525px; width:100%;\"></div>\n",
              "            <script type=\"text/javascript\">\n",
              "                \n",
              "                    window.PLOTLYENV=window.PLOTLYENV || {};\n",
              "                    \n",
              "                if (document.getElementById(\"f807a7b1-98c7-4571-b71a-78fa408f1a90\")) {\n",
              "                    Plotly.newPlot(\n",
              "                        'f807a7b1-98c7-4571-b71a-78fa408f1a90',\n",
              "                        [{\"line\": {\"color\": \"deepskyblue\"}, \"name\": \"# of Calls about Rats\", \"type\": \"scatter\", \"x\": [\"2015-06-30T00:00:00\", \"2015-07-31T00:00:00\", \"2015-08-31T00:00:00\", \"2015-09-30T00:00:00\", \"2015-10-31T00:00:00\", \"2015-11-30T00:00:00\", \"2015-12-31T00:00:00\", \"2016-01-31T00:00:00\", \"2016-02-29T00:00:00\", \"2016-03-31T00:00:00\", \"2016-04-30T00:00:00\", \"2016-05-31T00:00:00\", \"2016-06-30T00:00:00\", \"2016-07-31T00:00:00\", \"2016-08-31T00:00:00\", \"2016-09-30T00:00:00\", \"2016-10-31T00:00:00\", \"2016-11-30T00:00:00\", \"2016-12-31T00:00:00\", \"2017-01-31T00:00:00\", \"2017-02-28T00:00:00\", \"2017-03-31T00:00:00\", \"2017-04-30T00:00:00\", \"2017-05-31T00:00:00\", \"2017-06-30T00:00:00\", \"2017-07-31T00:00:00\", \"2017-08-31T00:00:00\", \"2017-09-30T00:00:00\", \"2017-10-31T00:00:00\", \"2017-11-30T00:00:00\", \"2017-12-31T00:00:00\", \"2018-01-31T00:00:00\", \"2018-02-28T00:00:00\", \"2018-03-31T00:00:00\", \"2018-04-30T00:00:00\", \"2018-05-31T00:00:00\", \"2018-06-30T00:00:00\", \"2018-07-31T00:00:00\", \"2018-08-31T00:00:00\", \"2018-09-30T00:00:00\", \"2018-10-31T00:00:00\", \"2018-11-30T00:00:00\", \"2018-12-31T00:00:00\", \"2019-01-31T00:00:00\", \"2019-02-28T00:00:00\", \"2019-03-31T00:00:00\", \"2019-04-30T00:00:00\", \"2019-05-31T00:00:00\", \"2019-06-30T00:00:00\", \"2019-07-31T00:00:00\", \"2019-08-31T00:00:00\", \"2019-09-30T00:00:00\", \"2019-10-31T00:00:00\", \"2019-11-30T00:00:00\", \"2019-12-31T00:00:00\", \"2020-01-31T00:00:00\", \"2020-02-29T00:00:00\"], \"y\": [45, 105, 133, 158, 190, 123, 100, 81, 81, 139, 99, 140, 128, 148, 202, 228, 260, 215, 153, 160, 157, 155, 160, 196, 213, 210, 283, 253, 292, 204, 140, 62, 60, 91, 93, 152, 100, 115, 178, 147, 202, 114, 73, 62, 34, 63, 60, 65, 72, 115, 121, 120, 152, 110, 62, 65, 3]}],\n",
              "                        {\"template\": {\"data\": {\"bar\": [{\"error_x\": {\"color\": \"#2a3f5f\"}, \"error_y\": {\"color\": \"#2a3f5f\"}, \"marker\": {\"line\": {\"color\": \"#E5ECF6\", \"width\": 0.5}}, \"type\": \"bar\"}], \"barpolar\": [{\"marker\": {\"line\": {\"color\": \"#E5ECF6\", \"width\": 0.5}}, \"type\": \"barpolar\"}], \"carpet\": [{\"aaxis\": {\"endlinecolor\": \"#2a3f5f\", \"gridcolor\": \"white\", \"linecolor\": \"white\", \"minorgridcolor\": \"white\", \"startlinecolor\": \"#2a3f5f\"}, \"baxis\": {\"endlinecolor\": \"#2a3f5f\", \"gridcolor\": \"white\", \"linecolor\": \"white\", \"minorgridcolor\": \"white\", \"startlinecolor\": \"#2a3f5f\"}, \"type\": \"carpet\"}], \"choropleth\": [{\"colorbar\": {\"outlinewidth\": 0, \"ticks\": \"\"}, \"type\": \"choropleth\"}], \"contour\": [{\"colorbar\": {\"outlinewidth\": 0, \"ticks\": \"\"}, \"colorscale\": [[0.0, \"#0d0887\"], [0.1111111111111111, \"#46039f\"], [0.2222222222222222, \"#7201a8\"], [0.3333333333333333, \"#9c179e\"], [0.4444444444444444, \"#bd3786\"], [0.5555555555555556, \"#d8576b\"], [0.6666666666666666, \"#ed7953\"], [0.7777777777777778, \"#fb9f3a\"], [0.8888888888888888, \"#fdca26\"], [1.0, \"#f0f921\"]], \"type\": \"contour\"}], \"contourcarpet\": [{\"colorbar\": {\"outlinewidth\": 0, \"ticks\": \"\"}, \"type\": \"contourcarpet\"}], \"heatmap\": [{\"colorbar\": {\"outlinewidth\": 0, \"ticks\": \"\"}, \"colorscale\": [[0.0, \"#0d0887\"], [0.1111111111111111, \"#46039f\"], [0.2222222222222222, \"#7201a8\"], [0.3333333333333333, \"#9c179e\"], [0.4444444444444444, \"#bd3786\"], [0.5555555555555556, \"#d8576b\"], [0.6666666666666666, \"#ed7953\"], [0.7777777777777778, \"#fb9f3a\"], [0.8888888888888888, \"#fdca26\"], [1.0, \"#f0f921\"]], \"type\": \"heatmap\"}], \"heatmapgl\": [{\"colorbar\": {\"outlinewidth\": 0, \"ticks\": \"\"}, \"colorscale\": [[0.0, \"#0d0887\"], [0.1111111111111111, \"#46039f\"], [0.2222222222222222, \"#7201a8\"], [0.3333333333333333, \"#9c179e\"], [0.4444444444444444, \"#bd3786\"], [0.5555555555555556, \"#d8576b\"], [0.6666666666666666, \"#ed7953\"], [0.7777777777777778, \"#fb9f3a\"], [0.8888888888888888, \"#fdca26\"], [1.0, \"#f0f921\"]], \"type\": \"heatmapgl\"}], \"histogram\": [{\"marker\": {\"colorbar\": {\"outlinewidth\": 0, \"ticks\": \"\"}}, \"type\": \"histogram\"}], \"histogram2d\": [{\"colorbar\": {\"outlinewidth\": 0, \"ticks\": \"\"}, \"colorscale\": [[0.0, \"#0d0887\"], [0.1111111111111111, \"#46039f\"], [0.2222222222222222, \"#7201a8\"], [0.3333333333333333, \"#9c179e\"], [0.4444444444444444, \"#bd3786\"], [0.5555555555555556, \"#d8576b\"], [0.6666666666666666, \"#ed7953\"], [0.7777777777777778, \"#fb9f3a\"], [0.8888888888888888, \"#fdca26\"], [1.0, \"#f0f921\"]], \"type\": \"histogram2d\"}], \"histogram2dcontour\": [{\"colorbar\": {\"outlinewidth\": 0, \"ticks\": \"\"}, \"colorscale\": [[0.0, \"#0d0887\"], [0.1111111111111111, \"#46039f\"], [0.2222222222222222, \"#7201a8\"], [0.3333333333333333, \"#9c179e\"], [0.4444444444444444, \"#bd3786\"], [0.5555555555555556, \"#d8576b\"], [0.6666666666666666, \"#ed7953\"], [0.7777777777777778, \"#fb9f3a\"], [0.8888888888888888, \"#fdca26\"], [1.0, \"#f0f921\"]], \"type\": \"histogram2dcontour\"}], \"mesh3d\": [{\"colorbar\": {\"outlinewidth\": 0, \"ticks\": \"\"}, \"type\": \"mesh3d\"}], \"parcoords\": [{\"line\": {\"colorbar\": {\"outlinewidth\": 0, \"ticks\": \"\"}}, \"type\": \"parcoords\"}], \"pie\": [{\"automargin\": true, \"type\": \"pie\"}], \"scatter\": [{\"marker\": {\"colorbar\": {\"outlinewidth\": 0, \"ticks\": \"\"}}, \"type\": \"scatter\"}], \"scatter3d\": [{\"line\": {\"colorbar\": {\"outlinewidth\": 0, \"ticks\": \"\"}}, \"marker\": {\"colorbar\": {\"outlinewidth\": 0, \"ticks\": \"\"}}, \"type\": \"scatter3d\"}], \"scattercarpet\": [{\"marker\": {\"colorbar\": {\"outlinewidth\": 0, \"ticks\": \"\"}}, \"type\": \"scattercarpet\"}], \"scattergeo\": [{\"marker\": {\"colorbar\": {\"outlinewidth\": 0, \"ticks\": \"\"}}, \"type\": \"scattergeo\"}], \"scattergl\": [{\"marker\": {\"colorbar\": {\"outlinewidth\": 0, \"ticks\": \"\"}}, \"type\": \"scattergl\"}], \"scattermapbox\": [{\"marker\": {\"colorbar\": {\"outlinewidth\": 0, \"ticks\": \"\"}}, \"type\": \"scattermapbox\"}], \"scatterpolar\": [{\"marker\": {\"colorbar\": {\"outlinewidth\": 0, \"ticks\": \"\"}}, \"type\": \"scatterpolar\"}], \"scatterpolargl\": [{\"marker\": {\"colorbar\": {\"outlinewidth\": 0, \"ticks\": \"\"}}, \"type\": \"scatterpolargl\"}], \"scatterternary\": [{\"marker\": {\"colorbar\": {\"outlinewidth\": 0, \"ticks\": \"\"}}, \"type\": \"scatterternary\"}], \"surface\": [{\"colorbar\": {\"outlinewidth\": 0, \"ticks\": \"\"}, \"colorscale\": [[0.0, \"#0d0887\"], [0.1111111111111111, \"#46039f\"], [0.2222222222222222, \"#7201a8\"], [0.3333333333333333, \"#9c179e\"], [0.4444444444444444, \"#bd3786\"], [0.5555555555555556, \"#d8576b\"], [0.6666666666666666, \"#ed7953\"], [0.7777777777777778, \"#fb9f3a\"], [0.8888888888888888, \"#fdca26\"], [1.0, \"#f0f921\"]], \"type\": \"surface\"}], \"table\": [{\"cells\": {\"fill\": {\"color\": \"#EBF0F8\"}, \"line\": {\"color\": \"white\"}}, \"header\": {\"fill\": {\"color\": \"#C8D4E3\"}, \"line\": {\"color\": \"white\"}}, \"type\": \"table\"}]}, \"layout\": {\"annotationdefaults\": {\"arrowcolor\": \"#2a3f5f\", \"arrowhead\": 0, \"arrowwidth\": 1}, \"coloraxis\": {\"colorbar\": {\"outlinewidth\": 0, \"ticks\": \"\"}}, \"colorscale\": {\"diverging\": [[0, \"#8e0152\"], [0.1, \"#c51b7d\"], [0.2, \"#de77ae\"], [0.3, \"#f1b6da\"], [0.4, \"#fde0ef\"], [0.5, \"#f7f7f7\"], [0.6, \"#e6f5d0\"], [0.7, \"#b8e186\"], [0.8, \"#7fbc41\"], [0.9, \"#4d9221\"], [1, \"#276419\"]], \"sequential\": [[0.0, \"#0d0887\"], [0.1111111111111111, \"#46039f\"], [0.2222222222222222, \"#7201a8\"], [0.3333333333333333, \"#9c179e\"], [0.4444444444444444, \"#bd3786\"], [0.5555555555555556, \"#d8576b\"], [0.6666666666666666, \"#ed7953\"], [0.7777777777777778, \"#fb9f3a\"], [0.8888888888888888, \"#fdca26\"], [1.0, \"#f0f921\"]], \"sequentialminus\": [[0.0, \"#0d0887\"], [0.1111111111111111, \"#46039f\"], [0.2222222222222222, \"#7201a8\"], [0.3333333333333333, \"#9c179e\"], [0.4444444444444444, \"#bd3786\"], [0.5555555555555556, \"#d8576b\"], [0.6666666666666666, \"#ed7953\"], [0.7777777777777778, \"#fb9f3a\"], [0.8888888888888888, \"#fdca26\"], [1.0, \"#f0f921\"]]}, \"colorway\": [\"#636efa\", \"#EF553B\", \"#00cc96\", \"#ab63fa\", \"#FFA15A\", \"#19d3f3\", \"#FF6692\", \"#B6E880\", \"#FF97FF\", \"#FECB52\"], \"font\": {\"color\": \"#2a3f5f\"}, \"geo\": {\"bgcolor\": \"white\", \"lakecolor\": \"white\", \"landcolor\": \"#E5ECF6\", \"showlakes\": true, \"showland\": true, \"subunitcolor\": \"white\"}, \"hoverlabel\": {\"align\": \"left\"}, \"hovermode\": \"closest\", \"mapbox\": {\"style\": \"light\"}, \"paper_bgcolor\": \"white\", \"plot_bgcolor\": \"#E5ECF6\", \"polar\": {\"angularaxis\": {\"gridcolor\": \"white\", \"linecolor\": \"white\", \"ticks\": \"\"}, \"bgcolor\": \"#E5ECF6\", \"radialaxis\": {\"gridcolor\": \"white\", \"linecolor\": \"white\", \"ticks\": \"\"}}, \"scene\": {\"xaxis\": {\"backgroundcolor\": \"#E5ECF6\", \"gridcolor\": \"white\", \"gridwidth\": 2, \"linecolor\": \"white\", \"showbackground\": true, \"ticks\": \"\", \"zerolinecolor\": \"white\"}, \"yaxis\": {\"backgroundcolor\": \"#E5ECF6\", \"gridcolor\": \"white\", \"gridwidth\": 2, \"linecolor\": \"white\", \"showbackground\": true, \"ticks\": \"\", \"zerolinecolor\": \"white\"}, \"zaxis\": {\"backgroundcolor\": \"#E5ECF6\", \"gridcolor\": \"white\", \"gridwidth\": 2, \"linecolor\": \"white\", \"showbackground\": true, \"ticks\": \"\", \"zerolinecolor\": \"white\"}}, \"shapedefaults\": {\"line\": {\"color\": \"#2a3f5f\"}}, \"ternary\": {\"aaxis\": {\"gridcolor\": \"white\", \"linecolor\": \"white\", \"ticks\": \"\"}, \"baxis\": {\"gridcolor\": \"white\", \"linecolor\": \"white\", \"ticks\": \"\"}, \"bgcolor\": \"#E5ECF6\", \"caxis\": {\"gridcolor\": \"white\", \"linecolor\": \"white\", \"ticks\": \"\"}}, \"title\": {\"x\": 0.05}, \"xaxis\": {\"automargin\": true, \"gridcolor\": \"white\", \"linecolor\": \"white\", \"ticks\": \"\", \"title\": {\"standoff\": 15}, \"zerolinecolor\": \"white\", \"zerolinewidth\": 2}, \"yaxis\": {\"automargin\": true, \"gridcolor\": \"white\", \"linecolor\": \"white\", \"ticks\": \"\", \"title\": {\"standoff\": 15}, \"zerolinecolor\": \"white\", \"zerolinewidth\": 2}}}, \"title\": {\"text\": \"# of 311 Calls about Rats\"}, \"xaxis\": {\"rangeslider\": {\"visible\": false}}},\n",
              "                        {\"responsive\": true}\n",
              "                    ).then(function(){\n",
              "                            \n",
              "var gd = document.getElementById('f807a7b1-98c7-4571-b71a-78fa408f1a90');\n",
              "var x = new MutationObserver(function (mutations, observer) {{\n",
              "        var display = window.getComputedStyle(gd).display;\n",
              "        if (!display || display === 'none') {{\n",
              "            console.log([gd, 'removed!']);\n",
              "            Plotly.purge(gd);\n",
              "            observer.disconnect();\n",
              "        }}\n",
              "}});\n",
              "\n",
              "// Listen for the removal of the full notebook cells\n",
              "var notebookContainer = gd.closest('#notebook-container');\n",
              "if (notebookContainer) {{\n",
              "    x.observe(notebookContainer, {childList: true});\n",
              "}}\n",
              "\n",
              "// Listen for the clearing of the current output cell\n",
              "var outputEl = gd.closest('.output');\n",
              "if (outputEl) {{\n",
              "    x.observe(outputEl, {childList: true});\n",
              "}}\n",
              "\n",
              "                        })\n",
              "                };\n",
              "                \n",
              "            </script>\n",
              "        </div>\n",
              "</body>\n",
              "</html>"
            ]
          },
          "metadata": {
            "tags": []
          }
        }
      ]
    },
    {
      "cell_type": "markdown",
      "metadata": {
        "id": "NHbzaVaYMT2z",
        "colab_type": "text"
      },
      "source": [
        "Can we forecast the budget based on calls?"
      ]
    },
    {
      "cell_type": "code",
      "metadata": {
        "id": "xL6ZI8oDiupU",
        "colab_type": "code",
        "colab": {
          "base_uri": "https://localhost:8080/",
          "height": 54
        },
        "outputId": "363fc20b-9cbb-4322-eb46-107170b9e0ce"
      },
      "source": [
        "# import vendor payments to compare monthly\n",
        "\n",
        "# https://data.kcmo.org/Budget/Vendor-Payments-Calendar-Year-2014/96p4-as6r (2014)\n",
        "# code used to gather 2010-2019, but for simplicity, I've exported into 1 csv file: \n",
        "# KC_Vendor_Payments_2010_to_2019.csv\n",
        "'''\n",
        "vendor_2010 = pd.read_csv('https://raw.githubusercontent.com/vksyr/IST718/master/Vendor_Payments_Calendar_Year_2010.csv')\n",
        "vendor_2011 = pd.read_csv('https://raw.githubusercontent.com/vksyr/IST718/master/Vendor_Payments_Calendar_Year_2011.csv')\n",
        "vendor_2012 = pd.read_csv('https://raw.githubusercontent.com/vksyr/IST718/master/Vendor_Payments_Calendar_Year_2012.csv')\n",
        "vendor_2013 = pd.read_csv('https://raw.githubusercontent.com/vksyr/IST718/master/Vendor_Payments_Calendar_Year_2013.csv')\n",
        "vendor_2014 = pd.read_csv('https://raw.githubusercontent.com/vksyr/IST718/master/Vendor_Payments_Calendar_Year_2014.csv')\n",
        "vendor_2015 = pd.read_csv('https://raw.githubusercontent.com/vksyr/IST718/master/Vendor_Payments_Calendar_Year_2015.csv')\n",
        "vendor_2016 = pd.read_csv('https://raw.githubusercontent.com/vksyr/IST718/master/Vendor_Payments_Calendar_Year_2016.csv')\n",
        "vendor_2017 = pd.read_csv('https://raw.githubusercontent.com/vksyr/IST718/master/Vendor_Payments_Calendar_Year_2017.csv')\n",
        "vendor_2018 = pd.read_csv('https://raw.githubusercontent.com/vksyr/IST718/master/Vendor_Payments_Calendar_Year_2018.csv')\n",
        "vendor_2019 = pd.read_csv('https://raw.githubusercontent.com/vksyr/IST718/master/Vendor_Payments_Calendar_Year_2019.csv')\n",
        "\n",
        "vendor_2010.rename(columns = {' Payment Amount ':'Payment Amount'}, inplace=True)\n",
        "vendor_2011.rename(columns = {' Payment Amount ':'Payment Amount'}, inplace=True)\n",
        "vendor_2012.rename(columns = {' Payment Amount ':'Payment Amount'}, inplace=True)\n",
        "vendor_2013.rename(columns = {'DeptID_Descr':'Dept Descr'}, inplace=True)\n",
        "vendor_2014.rename(columns = {'PAYMENT_DATE':'Payment Date', 'PAYMENT_AMOUNT':'Payment Amount','DEPTID_DESCR':'Dept Descr'}, inplace=True)\n",
        "vendor_2015.rename(columns = {'PAYMENT_DATE':'Payment Date', 'PAYMENT_AMOUNT':'Payment Amount','DEPTID_DESCR':'Dept Descr'}, inplace=True)\n",
        "vendor_2016.rename(columns = {'DeptID_Descr':'Dept Descr'}, inplace=True)\n",
        "vendor_2017.rename(columns = {'DeptID_Descr':'Dept Descr'}, inplace=True)\n",
        "vendor_2018.rename(columns = {'DeptID_Descr':'Dept Descr'}, inplace=True)\n",
        "vendor_2019.rename(columns = {'DeptID_Descr':'Dept Descr'}, inplace=True)\n",
        "\n",
        "vendor = pd.concat([vendor_2010, vendor_2011, vendor_2012, vendor_2013, vendor_2014, \n",
        "                    vendor_2015, vendor_2016, vendor_2017, vendor_2018, vendor_2019])\n",
        "\n",
        "\n",
        "# saving the dataframe \n",
        "vendor.to_csv('/content/drive/My Drive/IST718/KC_Vendor_Payments_2010_to_2019.csv', header=True, index=False) \n",
        "'''\n"
      ],
      "execution_count": 19,
      "outputs": [
        {
          "output_type": "execute_result",
          "data": {
            "text/plain": [
              "\"\\nvendor_2010 = pd.read_csv('https://raw.githubusercontent.com/vksyr/IST718/master/Vendor_Payments_Calendar_Year_2010.csv')\\nvendor_2011 = pd.read_csv('https://raw.githubusercontent.com/vksyr/IST718/master/Vendor_Payments_Calendar_Year_2011.csv')\\nvendor_2012 = pd.read_csv('https://raw.githubusercontent.com/vksyr/IST718/master/Vendor_Payments_Calendar_Year_2012.csv')\\nvendor_2013 = pd.read_csv('https://raw.githubusercontent.com/vksyr/IST718/master/Vendor_Payments_Calendar_Year_2013.csv')\\nvendor_2014 = pd.read_csv('https://raw.githubusercontent.com/vksyr/IST718/master/Vendor_Payments_Calendar_Year_2014.csv')\\nvendor_2015 = pd.read_csv('https://raw.githubusercontent.com/vksyr/IST718/master/Vendor_Payments_Calendar_Year_2015.csv')\\nvendor_2016 = pd.read_csv('https://raw.githubusercontent.com/vksyr/IST718/master/Vendor_Payments_Calendar_Year_2016.csv')\\nvendor_2017 = pd.read_csv('https://raw.githubusercontent.com/vksyr/IST718/master/Vendor_Payments_Calendar_Year_2017.csv')\\nvendor_2018 = pd.read_csv('https://raw.githubusercontent.com/vksyr/IST718/master/Vendor_Payments_Calendar_Year_2018.csv')\\nvendor_2019 = pd.read_csv('https://raw.githubusercontent.com/vksyr/IST718/master/Vendor_Payments_Calendar_Year_2019.csv')\\n\\nvendor_2010.rename(columns = {' Payment Amount ':'Payment Amount'}, inplace=True)\\nvendor_2011.rename(columns = {' Payment Amount ':'Payment Amount'}, inplace=True)\\nvendor_2012.rename(columns = {' Payment Amount ':'Payment Amount'}, inplace=True)\\nvendor_2013.rename(columns = {'DeptID_Descr':'Dept Descr'}, inplace=True)\\nvendor_2014.rename(columns = {'PAYMENT_DATE':'Payment Date', 'PAYMENT_AMOUNT':'Payment Amount','DEPTID_DESCR':'Dept Descr'}, inplace=True)\\nvendor_2015.rename(columns = {'PAYMENT_DATE':'Payment Date', 'PAYMENT_AMOUNT':'Payment Amount','DEPTID_DESCR':'Dept Descr'}, inplace=True)\\nvendor_2016.rename(columns = {'DeptID_Descr':'Dept Descr'}, inplace=True)\\nvendor_2017.rename(columns = {'DeptID_Descr':'Dept Descr'}, inplace=True)\\nvendor_2018.rename(columns = {'DeptID_Descr':'Dept Descr'}, inplace=True)\\nvendor_2019.rename(columns = {'DeptID_Descr':'Dept Descr'}, inplace=True)\\n\\nvendor = pd.concat([vendor_2010, vendor_2011, vendor_2012, vendor_2013, vendor_2014, \\n                    vendor_2015, vendor_2016, vendor_2017, vendor_2018, vendor_2019])\\n\\n\\n# saving the dataframe \\nvendor.to_csv('/content/drive/My Drive/IST718/KC_Vendor_Payments_2010_to_2019.csv', header=True, index=False) \\n\""
            ]
          },
          "metadata": {
            "tags": []
          },
          "execution_count": 19
        }
      ]
    },
    {
      "cell_type": "code",
      "metadata": {
        "id": "WxUEj2P6xSXZ",
        "colab_type": "code",
        "colab": {}
      },
      "source": [
        "vendor = pd.read_csv('/content/drive/My Drive/IST718/KC_Vendor_Payments_2010_to_2019.csv')"
      ],
      "execution_count": 0,
      "outputs": []
    },
    {
      "cell_type": "markdown",
      "metadata": {
        "id": "otph_4lKHmTb",
        "colab_type": "text"
      },
      "source": [
        "Cleanup vendor payment data"
      ]
    },
    {
      "cell_type": "code",
      "metadata": {
        "id": "WkjwX_u0_KSB",
        "colab_type": "code",
        "colab": {}
      },
      "source": [
        "vendor['Payment Date'] = pd.to_datetime(vendor['Payment Date'], format='%m/%d/%Y', errors='coerce')\n",
        "vendor = vendor.set_index('Payment Date')\n",
        "\n",
        "vendor = vendor[vendor['Dept Descr'].notna()]\n",
        "vendor = pd.DataFrame({'amount':vendor['Payment Amount'], 'dept':vendor['Dept Descr'].values}, index=vendor.index)"
      ],
      "execution_count": 0,
      "outputs": []
    },
    {
      "cell_type": "markdown",
      "metadata": {
        "id": "9ZmuQTdmIkUO",
        "colab_type": "text"
      },
      "source": [
        "ARIMA functions"
      ]
    },
    {
      "cell_type": "code",
      "metadata": {
        "id": "kc_muheUIi3z",
        "colab_type": "code",
        "colab": {}
      },
      "source": [
        "# define a function to run auto arima and search for best model parameters\n",
        "def find_orders(ts, exog=None):\n",
        "\n",
        "    stepwise_model = pm.auto_arima(ts, start_p=1, start_q=1, max_p=4, max_q=14,\n",
        "                                exogenous=exog, \n",
        "                                m=12, seasonal=True, stationary=False,\n",
        "                                stepwise=True, trend='ct',\n",
        "                                suppress_warnings=True, trace=False, \n",
        "                                error_action='ignore')\n",
        "\n",
        "    return stepwise_model.order, stepwise_model.seasonal_order\n",
        "\n",
        "def fit_sarimax_model(ts, exog=None, order=(1,1,1), seasonal_order=(0, 0, 0, 12), summary=True, plot=True):\n",
        "  \n",
        "    # fit model with exog\n",
        "    model = sm.tsa.statespace.SARIMAX(ts, \n",
        "                                  exog = exog,  \n",
        "                                  order=order,\n",
        "                                  seasonal_order=seasonal_order,\n",
        "                                  trend='ct',\n",
        "                                  enforce_stationarity=True,\n",
        "                                  enforce_invertibility=False)\n",
        "\n",
        "    output = model.fit(d=0)\n",
        "    \n",
        "    if summary==True:\n",
        "        print(output.summary())\n",
        "\n",
        "    if plot==True:\n",
        "        # plot model diagnostics\n",
        "        output.plot_diagnostics(figsize=(15, 18))\n",
        "        plt.show()\n",
        "        \n",
        "    return output\n",
        "\n",
        "def get_predictions(test, exog, model_output, plot=True, show=True):\n",
        "    \n",
        "    # Use the model to forecast twelve months into 2018 and store the confidence intervals\n",
        "    pred = model_output.get_prediction(start=pd.to_datetime('2019-01-31'), end=pd.to_datetime('2019-12-31'), dynamic=False, exog=exog)\n",
        "    pred_ci = pred.conf_int()\n",
        "    \n",
        "    # Plot the actual results for 2018 vs the projected results. \n",
        "    ax = test['2019-01-31':].plot(label='observed')\n",
        "    pred.predicted_mean.plot(ax=ax, label='One-step ahead Forecast', alpha=.7, figsize=(8,6))\n",
        "    \n",
        "    \n",
        "    if plot:\n",
        "        #Plot observed and predicted values with confidence interval\n",
        "        ax.fill_between(pred_ci.index,\n",
        "                    pred_ci.iloc[:, 0],\n",
        "                    pred_ci.iloc[:, 1], color='k', alpha=.2)\n",
        "\n",
        "        ax.set_xlabel('Date')\n",
        "        ax.set_ylabel('Household Value')\n",
        "        plt.legend(loc='upper left')\n",
        "        plt.show()\n",
        "\n",
        "    \n",
        "    if show:\n",
        "        \n",
        "        # Obtain the predicted mean, merge with the actual values, and compute the MSE. \n",
        "        y_pred = pred.predicted_mean.reset_index()\n",
        "        y_pred.columns = ['date', 'value']\n",
        "        \n",
        "        y_test = test.reset_index()\n",
        "        \n",
        "        # Compute the mean square error / RMSE\n",
        "        mse = mean_squared_error(y_test.value, y_pred.value)\n",
        "\n",
        "        rmse = math.sqrt(mse)\n",
        "        r2 = r2_score(y_test.value, y_pred.value)\n",
        "\n",
        "        # Print the results. \n",
        "        print('RMSE: ' +  str(format(round(rmse, 3))))\n",
        "        print('R-squared: ' + str(format(round(r2, 3))))\n",
        "\n",
        "def get_future(ds, exog, model_output, plot):\n",
        "\n",
        "    # Get forecast and confidence interval from base model, by steps 60\n",
        "    \n",
        "\n",
        "    #future_1y= model_output.forecast(steps=12, exog=exog)\n",
        "    future_1y = model_output.get_forecast(steps=12, exog=exog, dynamic=True)\n",
        "    future_conf_1y = future_1y.conf_int(steps=12)\n",
        "\n",
        "    if plot: # plot results\n",
        "\n",
        "        # 1 yr\n",
        "        ax = ds.plot(label='Observed', figsize=(12, 8))\n",
        "        future_1y.predicted_mean.plot(ax=ax, label='Forecast')\n",
        "        ax.fill_between(future_conf_1y.index,\n",
        "                        future_conf_1y.iloc[:, 0],\n",
        "                        future_conf_1y.iloc[:, 1], color='k', alpha=.25)\n",
        "        ax.set_xlabel('Date')\n",
        "        ax.set_ylabel('Returns')\n",
        "        ax.set_title('1-Year Forecast')\n",
        "        ax.legend()\n",
        "        plt.show()        \n",
        "\n",
        "    df_out = future_conf_1y\n",
        "    df_out['yhat'] = future_1y.predicted_mean\n",
        "    df_out.columns = ['yhat_lower', 'yhat_upper', 'yhat']\n",
        "\n",
        "\n",
        "    gain_df = pd.DataFrame({'value':df_out['yhat'].values, 'date':df_out.index})\n",
        "    lastObs = pd.DataFrame({'value':ds.iloc[-1]['value'], 'date':ds.index[-1]}, index=[0])\n",
        "\n",
        "    # preappend one row from actuals to forecast so that roi can be projected.\n",
        "    gain_df = pd.concat([ lastObs, gain_df])\n",
        "    gain_df = gain_df.set_index('date')\n",
        "\n",
        "    roi = calculate_gain(gain_df, plot=False)\n",
        "\n",
        "    print('1-Year ROI:')\n",
        "    print(roi)\n",
        "    return (df_out)\n",
        "\n",
        "# function to calculate gain percentage (ROI) on previous 2, 5 and 10 years\n",
        "# source: https://github.com/gioamorim80/Zillow-Time-Series/blob/master/Module%204%20Final%20Project.ipynb\n",
        "def calculate_gain(ts, plot=True): \n",
        "    \n",
        "    '''Takes a time series and performs calculations on returns over investments\n",
        "    for period of 1 year'''\n",
        "    \n",
        "    # calculates ROI by taking current value, decreasing investment(value at x steps in past) and \n",
        "    # dividing by investment. Multiplies by 100 to get percentage number\n",
        "    roi_1 = (ts - ts.shift(periods=12))/ts.shift(periods=12)*100\n",
        "    roi_1.dropna(inplace=True)  \n",
        "\n",
        "    # plot results\n",
        "    if plot:\n",
        "        fig = go.Figure()\n",
        "        fig.add_trace(go.Scatter(x=roi_1.index, y=roi_1.value, name='1-Year Investment',\n",
        "                                 line_color='deepskyblue'))\n",
        "        \n",
        "        fig.update_layout(title_text='ROI',\n",
        "                          yaxis_title=\"ROI (%)\", \n",
        "                          xaxis_rangeslider_visible=False)\n",
        "        fig.show()\n",
        "    \n",
        "    # saves new ts with returns for 1 period\n",
        "    return roi_1"
      ],
      "execution_count": 0,
      "outputs": []
    },
    {
      "cell_type": "markdown",
      "metadata": {
        "id": "gTieDDhnIqf5",
        "colab_type": "text"
      },
      "source": [
        "Granger test, and SARIMAX model evaluation"
      ]
    },
    {
      "cell_type": "code",
      "metadata": {
        "id": "1FtDcYzjHIKx",
        "colab_type": "code",
        "outputId": "cf347752-9480-46ab-bfb4-447a20e8f6cb",
        "colab": {
          "base_uri": "https://localhost:8080/",
          "height": 155
        }
      },
      "source": [
        "# run granger causailty test, determining if dept 311-call volume affects dept vendor payment\n",
        "def doTest(mapIndex):\n",
        "      \n",
        "  map = mapping[mapIndex]\n",
        "\n",
        "  print('############# ' + map['call'] + ' #############')\n",
        "\n",
        "  # vendor payments\n",
        "  if(mapIndex==0):\n",
        "    vendor_dept = vendor.loc[(vendor['dept'].str.lower().str.find(map['expense'][0].lower())>-1) | \n",
        "                              (vendor['dept'].str.lower().str.find(map['expense'][1].lower())>-1) | \n",
        "                              (vendor['dept'].str.lower().str.find(map['expense'][2].lower())>-1) | \n",
        "                              (vendor['dept'].str.lower().str.find(map['expense'][3].lower())>-1) | \n",
        "                              (vendor['dept'].str.lower().str.find(map['expense'][4].lower())>-1) |\n",
        "                              (vendor['dept'].str.lower().str.find(map['expense'][5].lower())>-1) |\n",
        "                              (vendor['dept'].str.lower().str.find(map['expense'][6].lower())>-1) | \n",
        "                              (vendor['dept'].str.lower().str.find(map['expense'][7].lower())>-1) | \n",
        "                              (vendor['dept'].str.lower().str.find(map['expense'][8].lower())>-1) | \n",
        "                              (vendor['dept'].str.lower().str.find(map['expense'][9].lower())>-1) | \n",
        "                              (vendor['dept'].str.lower().str.find(map['expense'][10].lower())>-1) | \n",
        "                              (vendor['dept'].str.lower().str.find(map['expense'][11].lower())>-1) |\n",
        "                              (vendor['dept'].str.lower().str.find(map['expense'][12].lower())>-1) | \n",
        "                              (vendor['dept'].str.lower().str.find(map['expense'][13].lower())>-1)]\n",
        "\n",
        "  elif(mapIndex==1):\n",
        "    vendor_dept = vendor.loc[(vendor['dept'].str.lower().str.find(map['expense'][0].lower())>-1) | \n",
        "                              (vendor['dept'].str.lower().str.find(map['expense'][1].lower())>-1) | \n",
        "                              (vendor['dept'].str.lower().str.find(map['expense'][2].lower())>-1) | \n",
        "                              (vendor['dept'].str.lower().str.find(map['expense'][3].lower())>-1) | \n",
        "                              (vendor['dept'].str.lower().str.find(map['expense'][4].lower())>-1) |\n",
        "                              (vendor['dept'].str.lower().str.find(map['expense'][5].lower())>-1) |\n",
        "                              (vendor['dept'].str.lower().str.find(map['expense'][6].lower())>-1) | \n",
        "                              (vendor['dept'].str.lower().str.find(map['expense'][7].lower())>-1) | \n",
        "                              (vendor['dept'].str.lower().str.find(map['expense'][8].lower())>-1) | \n",
        "                              (vendor['dept'].str.lower().str.find(map['expense'][9].lower())>-1) | \n",
        "                              (vendor['dept'].str.lower().str.find(map['expense'][10].lower())>-1) | \n",
        "                              (vendor['dept'].str.lower().str.find(map['expense'][11].lower())>-1) |\n",
        "                              (vendor['dept'].str.lower().str.find(map['expense'][12].lower())>-1)]\n",
        "\n",
        "  elif(mapIndex==3):\n",
        "    vendor_dept = vendor.loc[(vendor['dept'].str.lower().str.find(map['expense'][0].lower())>-1) | \n",
        "                              (vendor['dept'].str.lower().str.find(map['expense'][1].lower())>-1) | \n",
        "                              (vendor['dept'].str.lower().str.find(map['expense'][2].lower())>-1) | \n",
        "                              (vendor['dept'].str.lower().str.find(map['expense'][3].lower())>-1) | \n",
        "                              (vendor['dept'].str.lower().str.find(map['expense'][4].lower())>-1) |\n",
        "                              (vendor['dept'].str.lower().str.find(map['expense'][5].lower())>-1) |\n",
        "                              (vendor['dept'].str.lower().str.find(map['expense'][6].lower())>-1) | \n",
        "                              (vendor['dept'].str.lower().str.find(map['expense'][7].lower())>-1) | \n",
        "                              (vendor['dept'].str.lower().str.find(map['expense'][8].lower())>-1) | \n",
        "                              (vendor['dept'].str.lower().str.find(map['expense'][9].lower())>-1) | \n",
        "                              (vendor['dept'].str.lower().str.find(map['expense'][10].lower())>-1) | \n",
        "                              (vendor['dept'].str.lower().str.find(map['expense'][11].lower())>-1) |\n",
        "                              (vendor['dept'].str.lower().str.find(map['expense'][12].lower())>-1) | \n",
        "                            (vendor['dept'].str.lower().str.find(map['expense'][13].lower())>-1) | \n",
        "                            (vendor['dept'].str.lower().str.find(map['expense'][14].lower())>-1)]\n",
        "\n",
        "  elif(mapIndex==4):\n",
        "    vendor_dept = vendor.loc[(vendor['dept'].str.lower().str.find(map['expense'][0].lower())>-1)]     \n",
        "\n",
        "  elif(mapIndex==5):\n",
        "    vendor_dept = vendor.loc[(vendor['dept'].str.lower().str.find(map['expense'][0].lower())>-1) | \n",
        "                              (vendor['dept'].str.lower().str.find(map['expense'][1].lower())>-1) | \n",
        "                              (vendor['dept'].str.lower().str.find(map['expense'][2].lower())>-1) | \n",
        "                              (vendor['dept'].str.lower().str.find(map['expense'][3].lower())>-1) | \n",
        "                              (vendor['dept'].str.lower().str.find(map['expense'][4].lower())>-1) |\n",
        "                              (vendor['dept'].str.lower().str.find(map['expense'][5].lower())>-1) |\n",
        "                              (vendor['dept'].str.lower().str.find(map['expense'][6].lower())>-1) | \n",
        "                              (vendor['dept'].str.lower().str.find(map['expense'][7].lower())>-1) | \n",
        "                              (vendor['dept'].str.lower().str.find(map['expense'][8].lower())>-1) | \n",
        "                              (vendor['dept'].str.lower().str.find(map['expense'][9].lower())>-1) | \n",
        "                              (vendor['dept'].str.lower().str.find(map['expense'][10].lower())>-1) | \n",
        "                              (vendor['dept'].str.lower().str.find(map['expense'][11].lower())>-1) |\n",
        "                              (vendor['dept'].str.lower().str.find(map['expense'][12].lower())>-1) | \n",
        "                            (vendor['dept'].str.lower().str.find(map['expense'][13].lower())>-1) | \n",
        "                            (vendor['dept'].str.lower().str.find(map['expense'][14].lower())>-1) | \n",
        "                            (vendor['dept'].str.lower().str.find(map['expense'][15].lower())>-1) | \n",
        "                            (vendor['dept'].str.lower().str.find(map['expense'][16].lower())>-1) |\n",
        "                            (vendor['dept'].str.lower().str.find(map['expense'][17].lower())>-1) |\n",
        "                            (vendor['dept'].str.lower().str.find(map['expense'][18].lower())>-1)]             \n",
        "\n",
        "  elif(mapIndex==6):\n",
        "    vendor_dept = vendor.loc[(vendor['dept'].str.lower().str.find(map['expense'][0].lower())>-1) | \n",
        "                              (vendor['dept'].str.lower().str.find(map['expense'][1].lower())>-1) | \n",
        "                              (vendor['dept'].str.lower().str.find(map['expense'][2].lower())>-1) | \n",
        "                              (vendor['dept'].str.lower().str.find(map['expense'][3].lower())>-1) | \n",
        "                              (vendor['dept'].str.lower().str.find(map['expense'][4].lower())>-1) |\n",
        "                              (vendor['dept'].str.lower().str.find(map['expense'][5].lower())>-1) |\n",
        "                              (vendor['dept'].str.lower().str.find(map['expense'][6].lower())>-1) | \n",
        "                              (vendor['dept'].str.lower().str.find(map['expense'][7].lower())>-1) | \n",
        "                              (vendor['dept'].str.lower().str.find(map['expense'][8].lower())>-1) | \n",
        "                              (vendor['dept'].str.lower().str.find(map['expense'][9].lower())>-1)]\n",
        "\n",
        "  elif(mapIndex==7):\n",
        "    vendor_dept = vendor.loc[(vendor['dept'].str.lower().str.find(map['expense'][0].lower())>-1) | \n",
        "                              (vendor['dept'].str.lower().str.find(map['expense'][1].lower())>-1) | \n",
        "                              (vendor['dept'].str.lower().str.find(map['expense'][2].lower())>-1) | \n",
        "                              (vendor['dept'].str.lower().str.find(map['expense'][3].lower())>-1) | \n",
        "                              (vendor['dept'].str.lower().str.find(map['expense'][4].lower())>-1) |\n",
        "                              (vendor['dept'].str.lower().str.find(map['expense'][5].lower())>-1) |\n",
        "                              (vendor['dept'].str.lower().str.find(map['expense'][6].lower())>-1) | \n",
        "                              (vendor['dept'].str.lower().str.find(map['expense'][7].lower())>-1) | \n",
        "                              (vendor['dept'].str.lower().str.find(map['expense'][8].lower())>-1) | \n",
        "                              (vendor['dept'].str.lower().str.find(map['expense'][9].lower())>-1) | \n",
        "                              (vendor['dept'].str.lower().str.find(map['expense'][10].lower())>-1) | \n",
        "                              (vendor['dept'].str.lower().str.find(map['expense'][11].lower())>-1) |\n",
        "                              (vendor['dept'].str.lower().str.find(map['expense'][12].lower())>-1) | \n",
        "                            (vendor['dept'].str.lower().str.find(map['expense'][13].lower())>-1) | \n",
        "                            (vendor['dept'].str.lower().str.find(map['expense'][14].lower())>-1)]  \n",
        "\n",
        "\n",
        "\n",
        "  vendor_dept = vendor_dept.resample('M').sum()\n",
        "\n",
        "  # 311 calls\n",
        "  kc_311_dept = kc_311_calls[kc_311_calls['DEPARTMENT']==map['call']]\n",
        "  kc_311_dept['CREATION DATE'] = pd.to_datetime(kc_311_dept['CREATION DATE'], format='%m/%d/%Y', errors='coerce')\n",
        "  kc_311_dept = kc_311_dept[(kc_311_dept['CREATION DATE'] >= '2010-04-30') & (kc_311_dept['CREATION DATE'] <= '2019-12-31') ]\n",
        "\n",
        "  #kc_311_dept = kc_311_dept.reset_index()\n",
        "  kc_311_dept = kc_311_dept.set_index('CREATION DATE')\n",
        "  kc_311_dept = kc_311_dept.resample('M').count()\n",
        "\n",
        "  # Granger Causality Test\n",
        "  offset = len(vendor_dept.amount) - len(kc_311_dept['CASE ID'])\n",
        "  vendor_dept = vendor_dept.iloc[offset:,:]\n",
        "\n",
        "  df = pd.DataFrame({'y':vendor_dept.amount, 'x':kc_311_dept['CASE ID']})\n",
        "  gr = st.grangercausalitytests(df, maxlag = 12, addconst=True, verbose=False)\n",
        "\n",
        "  aics, lags, pvalues = [], [], []\n",
        "\n",
        "  #print('Granger Test: ')\n",
        "\n",
        "  for g in range(1, len(gr)+1):\n",
        "    if ((gr[g][0]['lrtest'][1] < 0.05) & \n",
        "      (gr[g][0]['params_ftest'][1] < 0.05) & \n",
        "      (gr[g][0]['ssr_chi2test'][1] < 0.05) & \n",
        "      (gr[g][0]['ssr_ftest'][1] < 0.05)):\n",
        "        #print('Lag ' + str(g) + ' is significant.')\n",
        "        lag = g\n",
        "\n",
        "        # shift by lag\n",
        "        kc_311_dept_lag = kc_311_dept.shift(lag)\n",
        "        kc_311_dept_lag = kc_311_dept_lag.iloc[lag:,:]\n",
        "        #kc_311_dept_lag = kc_311_dept_lag.fillna(method='bfill')\n",
        "\n",
        "\n",
        "        vendor_dept_aligned_w_lag = vendor_dept.iloc[lag:,:]\n",
        "        #vendor_dept_aligned_w_lag = vendor_dept_aligned_w_lag.fillna(method='bfill')\n",
        "\n",
        "        # train/test datasets\n",
        "        df = pd.DataFrame({'value':vendor_dept_aligned_w_lag['amount']}, index=vendor_dept_aligned_w_lag.index)\n",
        "        col='value'\n",
        "        pd_before2019 = pd.DataFrame(df[col].loc[:'2018'], index=df.loc[:'2018'].index)\n",
        "        pd_2019 = pd.DataFrame(df[col].loc['2019'], index=df.loc['2019'].index)\n",
        "        train = pd_before2019\n",
        "        train.columns = [col]\n",
        "        test = pd_2019 \n",
        "        test.columns = [col]\n",
        "\n",
        "        # exog\n",
        "        exogs = pd.DataFrame(data=kc_311_dept_lag['CASE ID'].values, index=kc_311_dept_lag.index, columns=['311_Calls'])\n",
        "\n",
        "        # find best orders\n",
        "        orders = find_orders(train, exogs.loc[:'2018']) # takes a bit of time, best --> ((1, 1, 1), (1, 0, 1, 12))\n",
        "        #print('Using orders: ' + str(orders))\n",
        "        \n",
        "        # base model\n",
        "        model_output = fit_sarimax_model(train, exogs.loc[:'2018'], order=orders[0], seasonal_order=orders[1], summary=False, plot=False)  \n",
        "        aics.append(model_output.aic)\n",
        "        lags.append(lag)\n",
        "        pvalues.append(list(model_output.pvalues)[2])\n",
        "\n",
        "\n",
        "  if len(aics) > 0:\n",
        "    for a in range(0, len(aics)):\n",
        "      print('311_Call Lag: ' + str(lags[a]) + ', AIC: ' + str(np.round(aics[a], 3)) + ', 311_Call p-value: ' + str(np.round(pvalues[a], 6)) )\n",
        "\n",
        "  else:\n",
        "    print('No significant lags found.')\n",
        "\n",
        "  print('')\n",
        "  print('')\n",
        "  print('')\n",
        "\n",
        "#doTest(0) # NHS, no significant lags\n",
        "#doTest(1) # pw, no significant lags\n",
        "doTest(3) # parks - lag 11, p-value < 0.05, AIC: 3329.497\n",
        "#doTest(4) # police, 311_Call Lag: 8, AIC: 2788.082, 311_Call p-value: 0.909 \n",
        "#doTest(5) # health, no significant lags\n",
        "#doTest(6) # planning & dev, 311_Call Lag: 12, AIC: 3084.973, 311_Call p-value: 0.0\n",
        "#doTest(7) # city mgmt, no significant lags\n"
      ],
      "execution_count": 23,
      "outputs": [
        {
          "output_type": "stream",
          "text": [
            "############# Parks and Rec #############\n",
            "311_Call Lag: 4, AIC: 3574.725, 311_Call p-value: 0.0\n",
            "311_Call Lag: 9, AIC: 3419.123, 311_Call p-value: 0.0\n",
            "311_Call Lag: 10, AIC: 3372.786, 311_Call p-value: 0.0\n",
            "311_Call Lag: 11, AIC: 3329.497, 311_Call p-value: 0.0\n",
            "\n",
            "\n",
            "\n"
          ],
          "name": "stdout"
        }
      ]
    },
    {
      "cell_type": "code",
      "metadata": {
        "id": "M8h1xRJEi39K",
        "colab_type": "code",
        "outputId": "1a8dbbe8-432b-4741-8990-e457db370e89",
        "colab": {
          "base_uri": "https://localhost:8080/",
          "height": 449
        }
      },
      "source": [
        "def doForecast(mapIndex, lag):\n",
        "\n",
        "  map = mapping[mapIndex]\n",
        "\n",
        "  print('############# ' + map['call'] + ' #############')\n",
        "\n",
        "  # vendor payments\n",
        "  if(mapIndex==0):\n",
        "    vendor_dept = vendor.loc[(vendor['dept'].str.lower().str.find(map['expense'][0].lower())>-1) | \n",
        "                              (vendor['dept'].str.lower().str.find(map['expense'][1].lower())>-1) | \n",
        "                              (vendor['dept'].str.lower().str.find(map['expense'][2].lower())>-1) | \n",
        "                              (vendor['dept'].str.lower().str.find(map['expense'][3].lower())>-1) | \n",
        "                              (vendor['dept'].str.lower().str.find(map['expense'][4].lower())>-1) |\n",
        "                              (vendor['dept'].str.lower().str.find(map['expense'][5].lower())>-1) |\n",
        "                              (vendor['dept'].str.lower().str.find(map['expense'][6].lower())>-1) | \n",
        "                              (vendor['dept'].str.lower().str.find(map['expense'][7].lower())>-1) | \n",
        "                              (vendor['dept'].str.lower().str.find(map['expense'][8].lower())>-1) | \n",
        "                              (vendor['dept'].str.lower().str.find(map['expense'][9].lower())>-1) | \n",
        "                              (vendor['dept'].str.lower().str.find(map['expense'][10].lower())>-1) | \n",
        "                              (vendor['dept'].str.lower().str.find(map['expense'][11].lower())>-1) |\n",
        "                              (vendor['dept'].str.lower().str.find(map['expense'][12].lower())>-1) | \n",
        "                              (vendor['dept'].str.lower().str.find(map['expense'][13].lower())>-1)]\n",
        "\n",
        "  elif(mapIndex==1):\n",
        "    vendor_dept = vendor.loc[(vendor['dept'].str.lower().str.find(map['expense'][0].lower())>-1) | \n",
        "                              (vendor['dept'].str.lower().str.find(map['expense'][1].lower())>-1) | \n",
        "                              (vendor['dept'].str.lower().str.find(map['expense'][2].lower())>-1) | \n",
        "                              (vendor['dept'].str.lower().str.find(map['expense'][3].lower())>-1) | \n",
        "                              (vendor['dept'].str.lower().str.find(map['expense'][4].lower())>-1) |\n",
        "                              (vendor['dept'].str.lower().str.find(map['expense'][5].lower())>-1) |\n",
        "                              (vendor['dept'].str.lower().str.find(map['expense'][6].lower())>-1) | \n",
        "                              (vendor['dept'].str.lower().str.find(map['expense'][7].lower())>-1) | \n",
        "                              (vendor['dept'].str.lower().str.find(map['expense'][8].lower())>-1) | \n",
        "                              (vendor['dept'].str.lower().str.find(map['expense'][9].lower())>-1) | \n",
        "                              (vendor['dept'].str.lower().str.find(map['expense'][10].lower())>-1) | \n",
        "                              (vendor['dept'].str.lower().str.find(map['expense'][11].lower())>-1) |\n",
        "                              (vendor['dept'].str.lower().str.find(map['expense'][12].lower())>-1)]\n",
        "\n",
        "  elif(mapIndex==3):\n",
        "    vendor_dept = vendor.loc[(vendor['dept'].str.lower().str.find(map['expense'][0].lower())>-1) | \n",
        "                              (vendor['dept'].str.lower().str.find(map['expense'][1].lower())>-1) | \n",
        "                              (vendor['dept'].str.lower().str.find(map['expense'][2].lower())>-1) | \n",
        "                              (vendor['dept'].str.lower().str.find(map['expense'][3].lower())>-1) | \n",
        "                              (vendor['dept'].str.lower().str.find(map['expense'][4].lower())>-1) |\n",
        "                              (vendor['dept'].str.lower().str.find(map['expense'][5].lower())>-1) |\n",
        "                              (vendor['dept'].str.lower().str.find(map['expense'][6].lower())>-1) | \n",
        "                              (vendor['dept'].str.lower().str.find(map['expense'][7].lower())>-1) | \n",
        "                              (vendor['dept'].str.lower().str.find(map['expense'][8].lower())>-1) | \n",
        "                              (vendor['dept'].str.lower().str.find(map['expense'][9].lower())>-1) | \n",
        "                              (vendor['dept'].str.lower().str.find(map['expense'][10].lower())>-1) | \n",
        "                              (vendor['dept'].str.lower().str.find(map['expense'][11].lower())>-1) |\n",
        "                              (vendor['dept'].str.lower().str.find(map['expense'][12].lower())>-1) | \n",
        "                            (vendor['dept'].str.lower().str.find(map['expense'][13].lower())>-1) | \n",
        "                            (vendor['dept'].str.lower().str.find(map['expense'][14].lower())>-1)]\n",
        "\n",
        "  elif(mapIndex==4):\n",
        "    vendor_dept = vendor.loc[(vendor['dept'].str.lower().str.find(map['expense'][0].lower())>-1)]     \n",
        "\n",
        "  elif(mapIndex==5):\n",
        "    vendor_dept = vendor.loc[(vendor['dept'].str.lower().str.find(map['expense'][0].lower())>-1) | \n",
        "                              (vendor['dept'].str.lower().str.find(map['expense'][1].lower())>-1) | \n",
        "                              (vendor['dept'].str.lower().str.find(map['expense'][2].lower())>-1) | \n",
        "                              (vendor['dept'].str.lower().str.find(map['expense'][3].lower())>-1) | \n",
        "                              (vendor['dept'].str.lower().str.find(map['expense'][4].lower())>-1) |\n",
        "                              (vendor['dept'].str.lower().str.find(map['expense'][5].lower())>-1) |\n",
        "                              (vendor['dept'].str.lower().str.find(map['expense'][6].lower())>-1) | \n",
        "                              (vendor['dept'].str.lower().str.find(map['expense'][7].lower())>-1) | \n",
        "                              (vendor['dept'].str.lower().str.find(map['expense'][8].lower())>-1) | \n",
        "                              (vendor['dept'].str.lower().str.find(map['expense'][9].lower())>-1) | \n",
        "                              (vendor['dept'].str.lower().str.find(map['expense'][10].lower())>-1) | \n",
        "                              (vendor['dept'].str.lower().str.find(map['expense'][11].lower())>-1) |\n",
        "                              (vendor['dept'].str.lower().str.find(map['expense'][12].lower())>-1) | \n",
        "                            (vendor['dept'].str.lower().str.find(map['expense'][13].lower())>-1) | \n",
        "                            (vendor['dept'].str.lower().str.find(map['expense'][14].lower())>-1) | \n",
        "                            (vendor['dept'].str.lower().str.find(map['expense'][15].lower())>-1) | \n",
        "                            (vendor['dept'].str.lower().str.find(map['expense'][16].lower())>-1) |\n",
        "                            (vendor['dept'].str.lower().str.find(map['expense'][17].lower())>-1) |\n",
        "                            (vendor['dept'].str.lower().str.find(map['expense'][18].lower())>-1)]             \n",
        "\n",
        "  elif(mapIndex==6):\n",
        "    vendor_dept = vendor.loc[(vendor['dept'].str.lower().str.find(map['expense'][0].lower())>-1) | \n",
        "                              (vendor['dept'].str.lower().str.find(map['expense'][1].lower())>-1) | \n",
        "                              (vendor['dept'].str.lower().str.find(map['expense'][2].lower())>-1) | \n",
        "                              (vendor['dept'].str.lower().str.find(map['expense'][3].lower())>-1) | \n",
        "                              (vendor['dept'].str.lower().str.find(map['expense'][4].lower())>-1) |\n",
        "                              (vendor['dept'].str.lower().str.find(map['expense'][5].lower())>-1) |\n",
        "                              (vendor['dept'].str.lower().str.find(map['expense'][6].lower())>-1) | \n",
        "                              (vendor['dept'].str.lower().str.find(map['expense'][7].lower())>-1) | \n",
        "                              (vendor['dept'].str.lower().str.find(map['expense'][8].lower())>-1) | \n",
        "                              (vendor['dept'].str.lower().str.find(map['expense'][9].lower())>-1)]\n",
        "\n",
        "  elif(mapIndex==7):\n",
        "    vendor_dept = vendor.loc[(vendor['dept'].str.lower().str.find(map['expense'][0].lower())>-1) | \n",
        "                              (vendor['dept'].str.lower().str.find(map['expense'][1].lower())>-1) | \n",
        "                              (vendor['dept'].str.lower().str.find(map['expense'][2].lower())>-1) | \n",
        "                              (vendor['dept'].str.lower().str.find(map['expense'][3].lower())>-1) | \n",
        "                              (vendor['dept'].str.lower().str.find(map['expense'][4].lower())>-1) |\n",
        "                              (vendor['dept'].str.lower().str.find(map['expense'][5].lower())>-1) |\n",
        "                              (vendor['dept'].str.lower().str.find(map['expense'][6].lower())>-1) | \n",
        "                              (vendor['dept'].str.lower().str.find(map['expense'][7].lower())>-1) | \n",
        "                              (vendor['dept'].str.lower().str.find(map['expense'][8].lower())>-1) | \n",
        "                              (vendor['dept'].str.lower().str.find(map['expense'][9].lower())>-1) | \n",
        "                              (vendor['dept'].str.lower().str.find(map['expense'][10].lower())>-1) | \n",
        "                              (vendor['dept'].str.lower().str.find(map['expense'][11].lower())>-1) |\n",
        "                              (vendor['dept'].str.lower().str.find(map['expense'][12].lower())>-1) | \n",
        "                            (vendor['dept'].str.lower().str.find(map['expense'][13].lower())>-1) | \n",
        "                            (vendor['dept'].str.lower().str.find(map['expense'][14].lower())>-1)]  \n",
        "\n",
        "  vendor_dept = vendor_dept.resample('M').sum()\n",
        "\n",
        "  # 311 calls\n",
        "  kc_311_dept = kc_311_calls[kc_311_calls['DEPARTMENT']==map['call']]\n",
        "  kc_311_dept['CREATION DATE'] = pd.to_datetime(kc_311_dept['CREATION DATE'], format='%m/%d/%Y', errors='coerce')\n",
        "  kc_311_dept = kc_311_dept[(kc_311_dept['CREATION DATE'] >= '2010-04-30') & (kc_311_dept['CREATION DATE'] <= '2019-12-31') ]\n",
        "\n",
        "  #kc_311_dept = kc_311_dept.reset_index()\n",
        "  kc_311_dept = kc_311_dept.set_index('CREATION DATE')\n",
        "  kc_311_dept = kc_311_dept.resample('M').count()\n",
        "\n",
        "  offset = len(vendor_dept.amount) - len(kc_311_dept['CASE ID'])\n",
        "  vendor_dept = vendor_dept.iloc[offset:,:]\n",
        "\n",
        "\n",
        "  # shift by lag\n",
        "  kc_311_dept_lag = kc_311_dept.shift(lag)\n",
        "  kc_311_dept_lag = kc_311_dept_lag.iloc[lag:,:]\n",
        "  #kc_311_dept_lag = kc_311_dept_lag.fillna(method='bfill')\n",
        "\n",
        "\n",
        "  vendor_dept_aligned_w_lag = vendor_dept.iloc[lag:,:]\n",
        "  #vendor_dept_aligned_w_lag = vendor_dept_aligned_w_lag.fillna(method='bfill')\n",
        "\n",
        "  # train/test datasets\n",
        "  df = pd.DataFrame({'value':vendor_dept_aligned_w_lag['amount']}, index=vendor_dept_aligned_w_lag.index)\n",
        "  col='value'\n",
        "  pd_before2019 = pd.DataFrame(df[col].loc[:'2018'], index=df.loc[:'2018'].index)\n",
        "  pd_2019 = pd.DataFrame(df[col].loc['2019'], index=df.loc['2019'].index)\n",
        "  train = pd_before2019\n",
        "  train.columns = [col]\n",
        "  test = pd_2019 \n",
        "  test.columns = [col]\n",
        "\n",
        "  # exog\n",
        "  exogs = pd.DataFrame(data=kc_311_dept_lag['CASE ID'].values, index=kc_311_dept_lag.index, columns=['311_Calls'])\n",
        "\n",
        "  # find best orders\n",
        "  orders = find_orders(train, exogs.loc[:'2018']) # takes a bit of time, best --> ((1, 1, 1), (1, 0, 1, 12))\n",
        "  #print('Using orders: ' + str(orders))\n",
        "\n",
        "  # base model\n",
        "  model_output = fit_sarimax_model(train, exogs.loc[:'2018'], order=orders[0], seasonal_order=orders[1], summary=False, plot=False)  \n",
        "\n",
        "  # plot 2 ts, side by side\n",
        "  fig = make_subplots(rows=2, cols=1)\n",
        "  fig.append_trace(go.Scatter(x=vendor_dept_aligned_w_lag.index, y=vendor_dept_aligned_w_lag.amount, name='Vendor Payments',\n",
        "                            line_color='deepskyblue'), row=1, col=1)\n",
        "  fig.append_trace(go.Scatter(x=kc_311_dept_lag.index, y=kc_311_dept_lag['CASE ID'], name='Calls',\n",
        "                            line_color='red'), row=2, col=1)\n",
        "  fig.update_layout(title_text = map['call'] + ' Vendor Payments vs Calls (Calls lagged +' + str(lag)  + ')',\n",
        "                    xaxis_rangeslider_visible=False, legend = dict(x = 0.6, y = 1.2))\n",
        "  fig.show()\n",
        "\n",
        "  # predict\n",
        "  get_predictions(test, exog=exogs.loc['2019'], model_output=model_output, plot=True, show=True)\n",
        "\n",
        "  # forecast\n",
        "  # 1. make new model for expenses\n",
        "  model_output = fit_sarimax_model(df, exogs, order=orders[0], seasonal_order=orders[1], summary=False, plot=False)  \n",
        "\n",
        "  # 2. We must forecast 311-call volumes to be used to make budget forecast\n",
        "  df_calls = pd.DataFrame({'value':kc_311_dept_lag['CASE ID']}, index=kc_311_dept_lag['CASE ID'].index)\n",
        "  call_orders = find_orders(df_calls) # takes a bit of time\n",
        "  call_model_output = fit_sarimax_model(df_calls, order=call_orders[0], seasonal_order=call_orders[1], summary=False, plot=False)  \n",
        "  call_future = get_future(df_calls, exog=None, model_output=call_model_output, plot=False)\n",
        "\n",
        "  df_calls_future = pd.DataFrame({'value':call_future['yhat']}, index=call_future.index)\n",
        "  exogs = pd.DataFrame(data=df_calls_future.values, index=df_calls_future.index, columns=['311_Calls'])\n",
        "\n",
        "  # 3. forecast expenses\n",
        "  expense_future = get_future(df, exogs, model_output, plot=True)\n",
        "\n",
        "\n",
        "\n",
        "  print('')\n",
        "  print('')\n",
        "  print('')\n",
        "\n",
        "\n",
        "doForecast(3, 11) \n",
        "#doForecast(6, 12) \n"
      ],
      "execution_count": 70,
      "outputs": [
        {
          "output_type": "stream",
          "text": [
            "############# Parks and Rec #############\n"
          ],
          "name": "stdout"
        },
        {
          "output_type": "error",
          "ename": "KeyboardInterrupt",
          "evalue": "ignored",
          "traceback": [
            "\u001b[0;31m---------------------------------------------------------------------------\u001b[0m",
            "\u001b[0;31mKeyboardInterrupt\u001b[0m                         Traceback (most recent call last)",
            "\u001b[0;32m<ipython-input-70-82dd12a49fd1>\u001b[0m in \u001b[0;36m<module>\u001b[0;34m()\u001b[0m\n\u001b[1;32m    187\u001b[0m \u001b[0;34m\u001b[0m\u001b[0m\n\u001b[1;32m    188\u001b[0m \u001b[0;34m\u001b[0m\u001b[0m\n\u001b[0;32m--> 189\u001b[0;31m \u001b[0mdoForecast\u001b[0m\u001b[0;34m(\u001b[0m\u001b[0;36m3\u001b[0m\u001b[0;34m,\u001b[0m \u001b[0;36m11\u001b[0m\u001b[0;34m)\u001b[0m\u001b[0;34m\u001b[0m\u001b[0;34m\u001b[0m\u001b[0m\n\u001b[0m\u001b[1;32m    190\u001b[0m \u001b[0;31m#doForecast(6, 12)\u001b[0m\u001b[0;34m\u001b[0m\u001b[0;34m\u001b[0m\u001b[0;34m\u001b[0m\u001b[0m\n",
            "\u001b[0;32m<ipython-input-70-82dd12a49fd1>\u001b[0m in \u001b[0;36mdoForecast\u001b[0;34m(mapIndex, lag)\u001b[0m\n\u001b[1;32m     51\u001b[0m                               \u001b[0;34m(\u001b[0m\u001b[0mvendor\u001b[0m\u001b[0;34m[\u001b[0m\u001b[0;34m'dept'\u001b[0m\u001b[0;34m]\u001b[0m\u001b[0;34m.\u001b[0m\u001b[0mstr\u001b[0m\u001b[0;34m.\u001b[0m\u001b[0mlower\u001b[0m\u001b[0;34m(\u001b[0m\u001b[0;34m)\u001b[0m\u001b[0;34m.\u001b[0m\u001b[0mstr\u001b[0m\u001b[0;34m.\u001b[0m\u001b[0mfind\u001b[0m\u001b[0;34m(\u001b[0m\u001b[0mmap\u001b[0m\u001b[0;34m[\u001b[0m\u001b[0;34m'expense'\u001b[0m\u001b[0;34m]\u001b[0m\u001b[0;34m[\u001b[0m\u001b[0;36m11\u001b[0m\u001b[0;34m]\u001b[0m\u001b[0;34m.\u001b[0m\u001b[0mlower\u001b[0m\u001b[0;34m(\u001b[0m\u001b[0;34m)\u001b[0m\u001b[0;34m)\u001b[0m\u001b[0;34m>\u001b[0m\u001b[0;34m-\u001b[0m\u001b[0;36m1\u001b[0m\u001b[0;34m)\u001b[0m \u001b[0;34m|\u001b[0m\u001b[0;34m\u001b[0m\u001b[0;34m\u001b[0m\u001b[0m\n\u001b[1;32m     52\u001b[0m                               \u001b[0;34m(\u001b[0m\u001b[0mvendor\u001b[0m\u001b[0;34m[\u001b[0m\u001b[0;34m'dept'\u001b[0m\u001b[0;34m]\u001b[0m\u001b[0;34m.\u001b[0m\u001b[0mstr\u001b[0m\u001b[0;34m.\u001b[0m\u001b[0mlower\u001b[0m\u001b[0;34m(\u001b[0m\u001b[0;34m)\u001b[0m\u001b[0;34m.\u001b[0m\u001b[0mstr\u001b[0m\u001b[0;34m.\u001b[0m\u001b[0mfind\u001b[0m\u001b[0;34m(\u001b[0m\u001b[0mmap\u001b[0m\u001b[0;34m[\u001b[0m\u001b[0;34m'expense'\u001b[0m\u001b[0;34m]\u001b[0m\u001b[0;34m[\u001b[0m\u001b[0;36m12\u001b[0m\u001b[0;34m]\u001b[0m\u001b[0;34m.\u001b[0m\u001b[0mlower\u001b[0m\u001b[0;34m(\u001b[0m\u001b[0;34m)\u001b[0m\u001b[0;34m)\u001b[0m\u001b[0;34m>\u001b[0m\u001b[0;34m-\u001b[0m\u001b[0;36m1\u001b[0m\u001b[0;34m)\u001b[0m \u001b[0;34m|\u001b[0m\u001b[0;34m\u001b[0m\u001b[0;34m\u001b[0m\u001b[0m\n\u001b[0;32m---> 53\u001b[0;31m                             \u001b[0;34m(\u001b[0m\u001b[0mvendor\u001b[0m\u001b[0;34m[\u001b[0m\u001b[0;34m'dept'\u001b[0m\u001b[0;34m]\u001b[0m\u001b[0;34m.\u001b[0m\u001b[0mstr\u001b[0m\u001b[0;34m.\u001b[0m\u001b[0mlower\u001b[0m\u001b[0;34m(\u001b[0m\u001b[0;34m)\u001b[0m\u001b[0;34m.\u001b[0m\u001b[0mstr\u001b[0m\u001b[0;34m.\u001b[0m\u001b[0mfind\u001b[0m\u001b[0;34m(\u001b[0m\u001b[0mmap\u001b[0m\u001b[0;34m[\u001b[0m\u001b[0;34m'expense'\u001b[0m\u001b[0;34m]\u001b[0m\u001b[0;34m[\u001b[0m\u001b[0;36m13\u001b[0m\u001b[0;34m]\u001b[0m\u001b[0;34m.\u001b[0m\u001b[0mlower\u001b[0m\u001b[0;34m(\u001b[0m\u001b[0;34m)\u001b[0m\u001b[0;34m)\u001b[0m\u001b[0;34m>\u001b[0m\u001b[0;34m-\u001b[0m\u001b[0;36m1\u001b[0m\u001b[0;34m)\u001b[0m \u001b[0;34m|\u001b[0m\u001b[0;34m\u001b[0m\u001b[0;34m\u001b[0m\u001b[0m\n\u001b[0m\u001b[1;32m     54\u001b[0m                             (vendor['dept'].str.lower().str.find(map['expense'][14].lower())>-1)]\n\u001b[1;32m     55\u001b[0m \u001b[0;34m\u001b[0m\u001b[0m\n",
            "\u001b[0;32m/usr/local/lib/python3.6/dist-packages/pandas/core/accessor.py\u001b[0m in \u001b[0;36m__get__\u001b[0;34m(self, obj, cls)\u001b[0m\n\u001b[1;32m    173\u001b[0m             \u001b[0;31m# we're accessing the attribute of the class, i.e., Dataset.geo\u001b[0m\u001b[0;34m\u001b[0m\u001b[0;34m\u001b[0m\u001b[0;34m\u001b[0m\u001b[0m\n\u001b[1;32m    174\u001b[0m             \u001b[0;32mreturn\u001b[0m \u001b[0mself\u001b[0m\u001b[0;34m.\u001b[0m\u001b[0m_accessor\u001b[0m\u001b[0;34m\u001b[0m\u001b[0;34m\u001b[0m\u001b[0m\n\u001b[0;32m--> 175\u001b[0;31m         \u001b[0maccessor_obj\u001b[0m \u001b[0;34m=\u001b[0m \u001b[0mself\u001b[0m\u001b[0;34m.\u001b[0m\u001b[0m_accessor\u001b[0m\u001b[0;34m(\u001b[0m\u001b[0mobj\u001b[0m\u001b[0;34m)\u001b[0m\u001b[0;34m\u001b[0m\u001b[0;34m\u001b[0m\u001b[0m\n\u001b[0m\u001b[1;32m    176\u001b[0m         \u001b[0;31m# Replace the property with the accessor object. Inspired by:\u001b[0m\u001b[0;34m\u001b[0m\u001b[0;34m\u001b[0m\u001b[0;34m\u001b[0m\u001b[0m\n\u001b[1;32m    177\u001b[0m         \u001b[0;31m# http://www.pydanny.com/cached-property.html\u001b[0m\u001b[0;34m\u001b[0m\u001b[0;34m\u001b[0m\u001b[0;34m\u001b[0m\u001b[0m\n",
            "\u001b[0;32m/usr/local/lib/python3.6/dist-packages/pandas/core/strings.py\u001b[0m in \u001b[0;36m__init__\u001b[0;34m(self, data)\u001b[0m\n\u001b[1;32m   1915\u001b[0m \u001b[0;34m\u001b[0m\u001b[0m\n\u001b[1;32m   1916\u001b[0m     \u001b[0;32mdef\u001b[0m \u001b[0m__init__\u001b[0m\u001b[0;34m(\u001b[0m\u001b[0mself\u001b[0m\u001b[0;34m,\u001b[0m \u001b[0mdata\u001b[0m\u001b[0;34m)\u001b[0m\u001b[0;34m:\u001b[0m\u001b[0;34m\u001b[0m\u001b[0;34m\u001b[0m\u001b[0m\n\u001b[0;32m-> 1917\u001b[0;31m         \u001b[0mself\u001b[0m\u001b[0;34m.\u001b[0m\u001b[0m_inferred_dtype\u001b[0m \u001b[0;34m=\u001b[0m \u001b[0mself\u001b[0m\u001b[0;34m.\u001b[0m\u001b[0m_validate\u001b[0m\u001b[0;34m(\u001b[0m\u001b[0mdata\u001b[0m\u001b[0;34m)\u001b[0m\u001b[0;34m\u001b[0m\u001b[0;34m\u001b[0m\u001b[0m\n\u001b[0m\u001b[1;32m   1918\u001b[0m         \u001b[0mself\u001b[0m\u001b[0;34m.\u001b[0m\u001b[0m_is_categorical\u001b[0m \u001b[0;34m=\u001b[0m \u001b[0mis_categorical_dtype\u001b[0m\u001b[0;34m(\u001b[0m\u001b[0mdata\u001b[0m\u001b[0;34m)\u001b[0m\u001b[0;34m\u001b[0m\u001b[0;34m\u001b[0m\u001b[0m\n\u001b[1;32m   1919\u001b[0m \u001b[0;34m\u001b[0m\u001b[0m\n",
            "\u001b[0;32m/usr/local/lib/python3.6/dist-packages/pandas/core/strings.py\u001b[0m in \u001b[0;36m_validate\u001b[0;34m(data)\u001b[0m\n\u001b[1;32m   1959\u001b[0m \u001b[0;34m\u001b[0m\u001b[0m\n\u001b[1;32m   1960\u001b[0m         \u001b[0;32mtry\u001b[0m\u001b[0;34m:\u001b[0m\u001b[0;34m\u001b[0m\u001b[0;34m\u001b[0m\u001b[0m\n\u001b[0;32m-> 1961\u001b[0;31m             \u001b[0minferred_dtype\u001b[0m \u001b[0;34m=\u001b[0m \u001b[0mlib\u001b[0m\u001b[0;34m.\u001b[0m\u001b[0minfer_dtype\u001b[0m\u001b[0;34m(\u001b[0m\u001b[0mvalues\u001b[0m\u001b[0;34m,\u001b[0m \u001b[0mskipna\u001b[0m\u001b[0;34m=\u001b[0m\u001b[0;32mTrue\u001b[0m\u001b[0;34m)\u001b[0m\u001b[0;34m\u001b[0m\u001b[0;34m\u001b[0m\u001b[0m\n\u001b[0m\u001b[1;32m   1962\u001b[0m         \u001b[0;32mexcept\u001b[0m \u001b[0mValueError\u001b[0m\u001b[0;34m:\u001b[0m\u001b[0;34m\u001b[0m\u001b[0;34m\u001b[0m\u001b[0m\n\u001b[1;32m   1963\u001b[0m             \u001b[0;31m# GH#27571 mostly occurs with ExtensionArray\u001b[0m\u001b[0;34m\u001b[0m\u001b[0;34m\u001b[0m\u001b[0;34m\u001b[0m\u001b[0m\n",
            "\u001b[0;32mpandas/_libs/lib.pyx\u001b[0m in \u001b[0;36mpandas._libs.lib.infer_dtype\u001b[0;34m()\u001b[0m\n",
            "\u001b[0;32mpandas/_libs/lib.pyx\u001b[0m in \u001b[0;36mpandas._libs.lib._try_infer_map\u001b[0;34m()\u001b[0m\n",
            "\u001b[0;32m/usr/local/lib/python3.6/dist-packages/numpy/core/_dtype.py\u001b[0m in \u001b[0;36m_name_get\u001b[0;34m(dtype)\u001b[0m\n\u001b[1;32m    331\u001b[0m \u001b[0;34m\u001b[0m\u001b[0m\n\u001b[1;32m    332\u001b[0m \u001b[0;34m\u001b[0m\u001b[0m\n\u001b[0;32m--> 333\u001b[0;31m \u001b[0;32mdef\u001b[0m \u001b[0m_name_get\u001b[0m\u001b[0;34m(\u001b[0m\u001b[0mdtype\u001b[0m\u001b[0;34m)\u001b[0m\u001b[0;34m:\u001b[0m\u001b[0;34m\u001b[0m\u001b[0;34m\u001b[0m\u001b[0m\n\u001b[0m\u001b[1;32m    334\u001b[0m     \u001b[0;31m# provides dtype.name.__get__, documented as returning a \"bit name\"\u001b[0m\u001b[0;34m\u001b[0m\u001b[0;34m\u001b[0m\u001b[0;34m\u001b[0m\u001b[0m\n\u001b[1;32m    335\u001b[0m \u001b[0;34m\u001b[0m\u001b[0m\n",
            "\u001b[0;31mKeyboardInterrupt\u001b[0m: "
          ]
        }
      ]
    },
    {
      "cell_type": "code",
      "metadata": {
        "id": "wJpe3CDXN5V_",
        "colab_type": "code",
        "outputId": "cb635494-f73a-4f80-b029-ff5d4deeb1db",
        "colab": {
          "base_uri": "https://localhost:8080/",
          "height": 54
        }
      },
      "source": [
        "#ccf\n",
        "'''\n",
        "my_ccf = ccf(kc_311_pw['CASE ID'], vendor_pw.amount)\n",
        "\n",
        "import scipy.signal as ss\n",
        "import numpy as np\n",
        "import matplotlib.pyplot as plt\n",
        "\n",
        "maxlags = 10\n",
        "result = ss.correlate(kc_311_pw['CASE ID'], vendor_pw.amount, method='direct') \n",
        "lo = (len(result)-1)//2-10 #just get +/- 10 elements around lag 0\n",
        "hi = (len(result)-1)//2+11\n",
        "\n",
        "locs = np.arange(lo, hi)\n",
        "#for loc in locs:\n",
        "#    print(str(loc)+'\\t:\\t'+str(result[loc]))\n",
        "\n",
        "#Make a plot like ccf\n",
        "f, ax = plt.subplots()\n",
        "ax.stem(np.arange(-10,11), result[lo:hi], '-.')\n",
        "ax.set_xticks(np.arange(-10,11))\n",
        "plt.show()\n",
        "'''"
      ],
      "execution_count": 25,
      "outputs": [
        {
          "output_type": "execute_result",
          "data": {
            "text/plain": [
              "\"\\nmy_ccf = ccf(kc_311_pw['CASE ID'], vendor_pw.amount)\\n\\nimport scipy.signal as ss\\nimport numpy as np\\nimport matplotlib.pyplot as plt\\n\\nmaxlags = 10\\nresult = ss.correlate(kc_311_pw['CASE ID'], vendor_pw.amount, method='direct') \\nlo = (len(result)-1)//2-10 #just get +/- 10 elements around lag 0\\nhi = (len(result)-1)//2+11\\n\\nlocs = np.arange(lo, hi)\\n#for loc in locs:\\n#    print(str(loc)+'\\t:\\t'+str(result[loc]))\\n\\n#Make a plot like ccf\\nf, ax = plt.subplots()\\nax.stem(np.arange(-10,11), result[lo:hi], '-.')\\nax.set_xticks(np.arange(-10,11))\\nplt.show()\\n\""
            ]
          },
          "metadata": {
            "tags": []
          },
          "execution_count": 25
        }
      ]
    },
    {
      "cell_type": "code",
      "metadata": {
        "id": "ggIhfJdVGtG9",
        "colab_type": "code",
        "outputId": "02ec063f-3c39-4608-b224-4dba81f06e96",
        "colab": {
          "base_uri": "https://localhost:8080/",
          "height": 542
        }
      },
      "source": [
        "# output table for presentation regarding model performance\n",
        "df = pd.DataFrame({'cat':['Call Lag', 'Model AIC', 'Call p-value'], 'parks':[11,3330,'p<0.05'], 'plans':[12,3085,'p<0.05']})\n",
        "#df = df.sort_values(by=['corrs'], ascending=False)\n",
        "values = [df.cat, df.parks, df.plans]\n",
        "\n",
        "fig = go.Figure(data=[go.Table(\n",
        "  columnorder = [1,2,3],\n",
        "  columnwidth = [50,25,25],\n",
        "  header = dict(\n",
        "    values = [[''], ['<b>PARKS & REC</b>'], ['<b>CITY PLANNING & DEV</b>']],\n",
        "    line_color='darkslategray',\n",
        "    fill_color='royalblue',\n",
        "    align=['left','center'],\n",
        "    font=dict(color='white', size=12),\n",
        "    height=40\n",
        "  ),\n",
        "  cells=dict(\n",
        "    values=values,\n",
        "    line_color='darkslategray',\n",
        "    fill=dict(color=['paleturquoise', 'white']),\n",
        "    align=['left', 'center'],\n",
        "    font_size=12,\n",
        "    height=30)\n",
        "    )\n",
        "])\n",
        "fig.show()"
      ],
      "execution_count": 26,
      "outputs": [
        {
          "output_type": "display_data",
          "data": {
            "text/html": [
              "<html>\n",
              "<head><meta charset=\"utf-8\" /></head>\n",
              "<body>\n",
              "    <div>\n",
              "            <script src=\"https://cdnjs.cloudflare.com/ajax/libs/mathjax/2.7.5/MathJax.js?config=TeX-AMS-MML_SVG\"></script><script type=\"text/javascript\">if (window.MathJax) {MathJax.Hub.Config({SVG: {font: \"STIX-Web\"}});}</script>\n",
              "                <script type=\"text/javascript\">window.PlotlyConfig = {MathJaxConfig: 'local'};</script>\n",
              "        <script src=\"https://cdn.plot.ly/plotly-latest.min.js\"></script>    \n",
              "            <div id=\"0bebc864-fe00-44e4-abf7-edb2e0b8e6d5\" class=\"plotly-graph-div\" style=\"height:525px; width:100%;\"></div>\n",
              "            <script type=\"text/javascript\">\n",
              "                \n",
              "                    window.PLOTLYENV=window.PLOTLYENV || {};\n",
              "                    \n",
              "                if (document.getElementById(\"0bebc864-fe00-44e4-abf7-edb2e0b8e6d5\")) {\n",
              "                    Plotly.newPlot(\n",
              "                        '0bebc864-fe00-44e4-abf7-edb2e0b8e6d5',\n",
              "                        [{\"cells\": {\"align\": [\"left\", \"center\"], \"fill\": {\"color\": [\"paleturquoise\", \"white\"]}, \"font\": {\"size\": 12}, \"height\": 30, \"line\": {\"color\": \"darkslategray\"}, \"values\": [[\"Call Lag\", \"Model AIC\", \"Call p-value\"], [11, 3330, \"p<0.05\"], [12, 3085, \"p<0.05\"]]}, \"columnorder\": [1, 2, 3], \"columnwidth\": [50, 25, 25], \"header\": {\"align\": [\"left\", \"center\"], \"fill\": {\"color\": \"royalblue\"}, \"font\": {\"color\": \"white\", \"size\": 12}, \"height\": 40, \"line\": {\"color\": \"darkslategray\"}, \"values\": [[\"\"], [\"<b>PARKS & REC</b>\"], [\"<b>CITY PLANNING & DEV</b>\"]]}, \"type\": \"table\"}],\n",
              "                        {\"template\": {\"data\": {\"bar\": [{\"error_x\": {\"color\": \"#2a3f5f\"}, \"error_y\": {\"color\": \"#2a3f5f\"}, \"marker\": {\"line\": {\"color\": \"#E5ECF6\", \"width\": 0.5}}, \"type\": \"bar\"}], \"barpolar\": [{\"marker\": {\"line\": {\"color\": \"#E5ECF6\", \"width\": 0.5}}, \"type\": \"barpolar\"}], \"carpet\": [{\"aaxis\": {\"endlinecolor\": \"#2a3f5f\", \"gridcolor\": \"white\", \"linecolor\": \"white\", \"minorgridcolor\": \"white\", \"startlinecolor\": \"#2a3f5f\"}, \"baxis\": {\"endlinecolor\": \"#2a3f5f\", \"gridcolor\": \"white\", \"linecolor\": \"white\", \"minorgridcolor\": \"white\", \"startlinecolor\": \"#2a3f5f\"}, \"type\": \"carpet\"}], \"choropleth\": [{\"colorbar\": {\"outlinewidth\": 0, \"ticks\": \"\"}, \"type\": \"choropleth\"}], \"contour\": [{\"colorbar\": {\"outlinewidth\": 0, \"ticks\": \"\"}, \"colorscale\": [[0.0, \"#0d0887\"], [0.1111111111111111, \"#46039f\"], [0.2222222222222222, \"#7201a8\"], [0.3333333333333333, \"#9c179e\"], [0.4444444444444444, \"#bd3786\"], [0.5555555555555556, \"#d8576b\"], [0.6666666666666666, \"#ed7953\"], [0.7777777777777778, \"#fb9f3a\"], [0.8888888888888888, \"#fdca26\"], [1.0, \"#f0f921\"]], \"type\": \"contour\"}], \"contourcarpet\": [{\"colorbar\": {\"outlinewidth\": 0, \"ticks\": \"\"}, \"type\": \"contourcarpet\"}], \"heatmap\": [{\"colorbar\": {\"outlinewidth\": 0, \"ticks\": \"\"}, \"colorscale\": [[0.0, \"#0d0887\"], [0.1111111111111111, \"#46039f\"], [0.2222222222222222, \"#7201a8\"], [0.3333333333333333, \"#9c179e\"], [0.4444444444444444, \"#bd3786\"], [0.5555555555555556, \"#d8576b\"], [0.6666666666666666, \"#ed7953\"], [0.7777777777777778, \"#fb9f3a\"], [0.8888888888888888, \"#fdca26\"], [1.0, \"#f0f921\"]], \"type\": \"heatmap\"}], \"heatmapgl\": [{\"colorbar\": {\"outlinewidth\": 0, \"ticks\": \"\"}, \"colorscale\": [[0.0, \"#0d0887\"], [0.1111111111111111, \"#46039f\"], [0.2222222222222222, \"#7201a8\"], [0.3333333333333333, \"#9c179e\"], [0.4444444444444444, \"#bd3786\"], [0.5555555555555556, \"#d8576b\"], [0.6666666666666666, \"#ed7953\"], [0.7777777777777778, \"#fb9f3a\"], [0.8888888888888888, \"#fdca26\"], [1.0, \"#f0f921\"]], \"type\": \"heatmapgl\"}], \"histogram\": [{\"marker\": {\"colorbar\": {\"outlinewidth\": 0, \"ticks\": \"\"}}, \"type\": \"histogram\"}], \"histogram2d\": [{\"colorbar\": {\"outlinewidth\": 0, \"ticks\": \"\"}, \"colorscale\": [[0.0, \"#0d0887\"], [0.1111111111111111, \"#46039f\"], [0.2222222222222222, \"#7201a8\"], [0.3333333333333333, \"#9c179e\"], [0.4444444444444444, \"#bd3786\"], [0.5555555555555556, \"#d8576b\"], [0.6666666666666666, \"#ed7953\"], [0.7777777777777778, \"#fb9f3a\"], [0.8888888888888888, \"#fdca26\"], [1.0, \"#f0f921\"]], \"type\": \"histogram2d\"}], \"histogram2dcontour\": [{\"colorbar\": {\"outlinewidth\": 0, \"ticks\": \"\"}, \"colorscale\": [[0.0, \"#0d0887\"], [0.1111111111111111, \"#46039f\"], [0.2222222222222222, \"#7201a8\"], [0.3333333333333333, \"#9c179e\"], [0.4444444444444444, \"#bd3786\"], [0.5555555555555556, \"#d8576b\"], [0.6666666666666666, \"#ed7953\"], [0.7777777777777778, \"#fb9f3a\"], [0.8888888888888888, \"#fdca26\"], [1.0, \"#f0f921\"]], \"type\": \"histogram2dcontour\"}], \"mesh3d\": [{\"colorbar\": {\"outlinewidth\": 0, \"ticks\": \"\"}, \"type\": \"mesh3d\"}], \"parcoords\": [{\"line\": {\"colorbar\": {\"outlinewidth\": 0, \"ticks\": \"\"}}, \"type\": \"parcoords\"}], \"pie\": [{\"automargin\": true, \"type\": \"pie\"}], \"scatter\": [{\"marker\": {\"colorbar\": {\"outlinewidth\": 0, \"ticks\": \"\"}}, \"type\": \"scatter\"}], \"scatter3d\": [{\"line\": {\"colorbar\": {\"outlinewidth\": 0, \"ticks\": \"\"}}, \"marker\": {\"colorbar\": {\"outlinewidth\": 0, \"ticks\": \"\"}}, \"type\": \"scatter3d\"}], \"scattercarpet\": [{\"marker\": {\"colorbar\": {\"outlinewidth\": 0, \"ticks\": \"\"}}, \"type\": \"scattercarpet\"}], \"scattergeo\": [{\"marker\": {\"colorbar\": {\"outlinewidth\": 0, \"ticks\": \"\"}}, \"type\": \"scattergeo\"}], \"scattergl\": [{\"marker\": {\"colorbar\": {\"outlinewidth\": 0, \"ticks\": \"\"}}, \"type\": \"scattergl\"}], \"scattermapbox\": [{\"marker\": {\"colorbar\": {\"outlinewidth\": 0, \"ticks\": \"\"}}, \"type\": \"scattermapbox\"}], \"scatterpolar\": [{\"marker\": {\"colorbar\": {\"outlinewidth\": 0, \"ticks\": \"\"}}, \"type\": \"scatterpolar\"}], \"scatterpolargl\": [{\"marker\": {\"colorbar\": {\"outlinewidth\": 0, \"ticks\": \"\"}}, \"type\": \"scatterpolargl\"}], \"scatterternary\": [{\"marker\": {\"colorbar\": {\"outlinewidth\": 0, \"ticks\": \"\"}}, \"type\": \"scatterternary\"}], \"surface\": [{\"colorbar\": {\"outlinewidth\": 0, \"ticks\": \"\"}, \"colorscale\": [[0.0, \"#0d0887\"], [0.1111111111111111, \"#46039f\"], [0.2222222222222222, \"#7201a8\"], [0.3333333333333333, \"#9c179e\"], [0.4444444444444444, \"#bd3786\"], [0.5555555555555556, \"#d8576b\"], [0.6666666666666666, \"#ed7953\"], [0.7777777777777778, \"#fb9f3a\"], [0.8888888888888888, \"#fdca26\"], [1.0, \"#f0f921\"]], \"type\": \"surface\"}], \"table\": [{\"cells\": {\"fill\": {\"color\": \"#EBF0F8\"}, \"line\": {\"color\": \"white\"}}, \"header\": {\"fill\": {\"color\": \"#C8D4E3\"}, \"line\": {\"color\": \"white\"}}, \"type\": \"table\"}]}, \"layout\": {\"annotationdefaults\": {\"arrowcolor\": \"#2a3f5f\", \"arrowhead\": 0, \"arrowwidth\": 1}, \"coloraxis\": {\"colorbar\": {\"outlinewidth\": 0, \"ticks\": \"\"}}, \"colorscale\": {\"diverging\": [[0, \"#8e0152\"], [0.1, \"#c51b7d\"], [0.2, \"#de77ae\"], [0.3, \"#f1b6da\"], [0.4, \"#fde0ef\"], [0.5, \"#f7f7f7\"], [0.6, \"#e6f5d0\"], [0.7, \"#b8e186\"], [0.8, \"#7fbc41\"], [0.9, \"#4d9221\"], [1, \"#276419\"]], \"sequential\": [[0.0, \"#0d0887\"], [0.1111111111111111, \"#46039f\"], [0.2222222222222222, \"#7201a8\"], [0.3333333333333333, \"#9c179e\"], [0.4444444444444444, \"#bd3786\"], [0.5555555555555556, \"#d8576b\"], [0.6666666666666666, \"#ed7953\"], [0.7777777777777778, \"#fb9f3a\"], [0.8888888888888888, \"#fdca26\"], [1.0, \"#f0f921\"]], \"sequentialminus\": [[0.0, \"#0d0887\"], [0.1111111111111111, \"#46039f\"], [0.2222222222222222, \"#7201a8\"], [0.3333333333333333, \"#9c179e\"], [0.4444444444444444, \"#bd3786\"], [0.5555555555555556, \"#d8576b\"], [0.6666666666666666, \"#ed7953\"], [0.7777777777777778, \"#fb9f3a\"], [0.8888888888888888, \"#fdca26\"], [1.0, \"#f0f921\"]]}, \"colorway\": [\"#636efa\", \"#EF553B\", \"#00cc96\", \"#ab63fa\", \"#FFA15A\", \"#19d3f3\", \"#FF6692\", \"#B6E880\", \"#FF97FF\", \"#FECB52\"], \"font\": {\"color\": \"#2a3f5f\"}, \"geo\": {\"bgcolor\": \"white\", \"lakecolor\": \"white\", \"landcolor\": \"#E5ECF6\", \"showlakes\": true, \"showland\": true, \"subunitcolor\": \"white\"}, \"hoverlabel\": {\"align\": \"left\"}, \"hovermode\": \"closest\", \"mapbox\": {\"style\": \"light\"}, \"paper_bgcolor\": \"white\", \"plot_bgcolor\": \"#E5ECF6\", \"polar\": {\"angularaxis\": {\"gridcolor\": \"white\", \"linecolor\": \"white\", \"ticks\": \"\"}, \"bgcolor\": \"#E5ECF6\", \"radialaxis\": {\"gridcolor\": \"white\", \"linecolor\": \"white\", \"ticks\": \"\"}}, \"scene\": {\"xaxis\": {\"backgroundcolor\": \"#E5ECF6\", \"gridcolor\": \"white\", \"gridwidth\": 2, \"linecolor\": \"white\", \"showbackground\": true, \"ticks\": \"\", \"zerolinecolor\": \"white\"}, \"yaxis\": {\"backgroundcolor\": \"#E5ECF6\", \"gridcolor\": \"white\", \"gridwidth\": 2, \"linecolor\": \"white\", \"showbackground\": true, \"ticks\": \"\", \"zerolinecolor\": \"white\"}, \"zaxis\": {\"backgroundcolor\": \"#E5ECF6\", \"gridcolor\": \"white\", \"gridwidth\": 2, \"linecolor\": \"white\", \"showbackground\": true, \"ticks\": \"\", \"zerolinecolor\": \"white\"}}, \"shapedefaults\": {\"line\": {\"color\": \"#2a3f5f\"}}, \"ternary\": {\"aaxis\": {\"gridcolor\": \"white\", \"linecolor\": \"white\", \"ticks\": \"\"}, \"baxis\": {\"gridcolor\": \"white\", \"linecolor\": \"white\", \"ticks\": \"\"}, \"bgcolor\": \"#E5ECF6\", \"caxis\": {\"gridcolor\": \"white\", \"linecolor\": \"white\", \"ticks\": \"\"}}, \"title\": {\"x\": 0.05}, \"xaxis\": {\"automargin\": true, \"gridcolor\": \"white\", \"linecolor\": \"white\", \"ticks\": \"\", \"title\": {\"standoff\": 15}, \"zerolinecolor\": \"white\", \"zerolinewidth\": 2}, \"yaxis\": {\"automargin\": true, \"gridcolor\": \"white\", \"linecolor\": \"white\", \"ticks\": \"\", \"title\": {\"standoff\": 15}, \"zerolinecolor\": \"white\", \"zerolinewidth\": 2}}}},\n",
              "                        {\"responsive\": true}\n",
              "                    ).then(function(){\n",
              "                            \n",
              "var gd = document.getElementById('0bebc864-fe00-44e4-abf7-edb2e0b8e6d5');\n",
              "var x = new MutationObserver(function (mutations, observer) {{\n",
              "        var display = window.getComputedStyle(gd).display;\n",
              "        if (!display || display === 'none') {{\n",
              "            console.log([gd, 'removed!']);\n",
              "            Plotly.purge(gd);\n",
              "            observer.disconnect();\n",
              "        }}\n",
              "}});\n",
              "\n",
              "// Listen for the removal of the full notebook cells\n",
              "var notebookContainer = gd.closest('#notebook-container');\n",
              "if (notebookContainer) {{\n",
              "    x.observe(notebookContainer, {childList: true});\n",
              "}}\n",
              "\n",
              "// Listen for the clearing of the current output cell\n",
              "var outputEl = gd.closest('.output');\n",
              "if (outputEl) {{\n",
              "    x.observe(outputEl, {childList: true});\n",
              "}}\n",
              "\n",
              "                        })\n",
              "                };\n",
              "                \n",
              "            </script>\n",
              "        </div>\n",
              "</body>\n",
              "</html>"
            ]
          },
          "metadata": {
            "tags": []
          }
        }
      ]
    },
    {
      "cell_type": "markdown",
      "metadata": {
        "id": "5CZTN2vbaZGC",
        "colab_type": "text"
      },
      "source": [
        "COVID-19"
      ]
    },
    {
      "cell_type": "code",
      "metadata": {
        "id": "CcNbZeCoaYnE",
        "colab_type": "code",
        "colab": {}
      },
      "source": [
        "baseUrl = \"https://raw.githubusercontent.com/CSSEGISandData/COVID-19/master/csse_covid_19_data/csse_covid_19_time_series/\"\n",
        "covid = pd.read_csv(baseUrl + 'time_series_19-covid-Confirmed.csv')"
      ],
      "execution_count": 0,
      "outputs": []
    },
    {
      "cell_type": "code",
      "metadata": {
        "id": "rRNPQ0zxcl8Y",
        "colab_type": "code",
        "colab": {}
      },
      "source": [
        "covid_us = covid.loc[covid['Country/Region']=='US']\n",
        "covid_fl = covid_us[covid['Province/State']=='Florida']\n",
        "\n",
        "covid_us = covid_us.transpose()\n",
        "covid_us = covid_us.iloc[4:,:]\n",
        "\n",
        "covid_fl = covid_fl.transpose()\n",
        "covid_fl = covid_fl.iloc[4:,:]\n",
        "\n",
        "covid_fl = covid_fl.reset_index()\n",
        "covid_fl.head()\n",
        "covid_fl.columns = ['date', 'value']\n",
        "covid_fl = covid_fl.set_index('date')\n",
        "\n",
        "#covid_us.columns = ['value']\n",
        "covid_fl['value'] = pd.to_numeric(covid_fl['value'])"
      ],
      "execution_count": 0,
      "outputs": []
    },
    {
      "cell_type": "code",
      "metadata": {
        "id": "ZA3mzNWxdXdK",
        "colab_type": "code",
        "colab": {}
      },
      "source": [
        "# find best orders\n",
        "orders = find_orders(covid_fl, exog=None) # takes a bit of time, best --> ((1, 1, 1), (1, 0, 1, 12))"
      ],
      "execution_count": 0,
      "outputs": []
    },
    {
      "cell_type": "code",
      "metadata": {
        "id": "3_RynQnl-fNm",
        "colab_type": "code",
        "colab": {}
      },
      "source": [
        "model_output = fit_sarimax_model(covid_fl, None, order=orders[0], seasonal_order=orders[1], summary=False, plot=False)  "
      ],
      "execution_count": 0,
      "outputs": []
    },
    {
      "cell_type": "code",
      "metadata": {
        "id": "dNmNX_71mu-F",
        "colab_type": "code",
        "colab": {}
      },
      "source": [
        "# forecast\n",
        "get_future(covid_fl, exog=None, model_output=model_output, plot=True)"
      ],
      "execution_count": 0,
      "outputs": []
    },
    {
      "cell_type": "code",
      "metadata": {
        "id": "trjX_pEBVT5D",
        "colab_type": "code",
        "colab": {
          "base_uri": "https://localhost:8080/",
          "height": 626
        },
        "outputId": "d14d4605-2970-4607-be0e-e7c1e4c2c028"
      },
      "source": [
        "ds = covid_fl\n",
        "exog = None\n",
        "plot = True\n",
        "\n",
        "# Get forecast and confidence interval from base model, by steps 60\n",
        "\n",
        "future_1y = model_output.get_forecast(steps=12, exog=exog, dynamic=True)\n",
        "future_conf_1y = future_1y.conf_int(steps=12)\n",
        "\n",
        "print(future_conf_1y.iloc[:, 1])\n",
        "\n",
        "if plot: # plot results\n",
        "\n",
        "    # 1 yr\n",
        "    ax = ds.plot(label='Observed', figsize=(12, 18))\n",
        "    future_1y.predicted_mean.plot(ax=ax, label='Forecast')\n",
        "    ax.fill_between(future_conf_1y.index,\n",
        "                    future_conf_1y.iloc[:, 0],\n",
        "                    future_conf_1y.iloc[:, 1], color='k', alpha=.25)\n",
        "    ax.set_xlabel('Date')\n",
        "    ax.set_ylabel('Returns')\n",
        "    ax.set_title('1-Year Forecast')\n",
        "    ax.legend()\n",
        "    plt.show()        \n",
        "\n",
        "df_out = future_conf_1y\n",
        "df_out['yhat'] = future_1y.predicted_mean\n",
        "df_out.columns = ['yhat_lower', 'yhat_upper', 'yhat']\n",
        "\n",
        "\n",
        "gain_df = pd.DataFrame({'value':df_out['yhat'].values, 'date':df_out.index})\n",
        "lastObs = pd.DataFrame({'value':ds.iloc[-1]['value'], 'date':ds.index[-1]}, index=[0])\n",
        "\n",
        "# preappend one row from actuals to forecast so that roi can be projected.\n",
        "gain_df = pd.concat([ lastObs, gain_df])\n",
        "gain_df = gain_df.set_index('date')\n",
        "\n",
        "roi = calculate_gain(gain_df, plot=False)\n",
        "\n",
        "print('1-Year ROI:')\n",
        "print(roi)\n"
      ],
      "execution_count": 109,
      "outputs": [
        {
          "output_type": "stream",
          "text": [
            "DatetimeIndex(['2020-03-20', '2020-03-21', '2020-03-22', '2020-03-23',\n",
            "               '2020-03-24', '2020-03-25', '2020-03-26', '2020-03-27',\n",
            "               '2020-03-28', '2020-03-29', '2020-03-30', '2020-03-31'],\n",
            "              dtype='datetime64[ns]', freq='D')\n"
          ],
          "name": "stdout"
        },
        {
          "output_type": "display_data",
          "data": {
            "image/png": "[encoded data removed]",
            "text/plain": [
              "<Figure size 864x576 with 1 Axes>"
            ]
          },
          "metadata": {
            "tags": []
          }
        },
        {
          "output_type": "stream",
          "text": [
            "1-Year ROI:\n",
            "                          value\n",
            "date                           \n",
            "2020-03-31 00:00:00  608.953476\n"
          ],
          "name": "stdout"
        }
      ]
    }
  ]
}