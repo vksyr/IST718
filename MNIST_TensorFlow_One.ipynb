{
  "nbformat": 4,
  "nbformat_minor": 0,
  "metadata": {
    "kernelspec": {
      "display_name": "Python 3",
      "language": "python",
      "name": "python3"
    },
    "language_info": {
      "codemirror_mode": {
        "name": "ipython",
        "version": 3
      },
      "file_extension": ".py",
      "mimetype": "text/x-python",
      "name": "python",
      "nbconvert_exporter": "python",
      "pygments_lexer": "ipython3",
      "version": "3.6.2"
    },
    "colab": {
      "name": "MNIST TensorFlow One.ipynb",
      "provenance": []
    }
  },
  "cells": [
    {
      "cell_type": "code",
      "metadata": {
        "id": "ib2Q0z3zx-3a",
        "colab_type": "code",
        "colab": {
          "base_uri": "https://localhost:8080/",
          "height": 63
        },
        "outputId": "4a2786df-d57c-467a-95fa-cd2ce965b99b"
      },
      "source": [
        "# SINGLE LAYER AND MULTI LAYER NETWORKS FOR MNIST\n",
        "# BASED ON CODE FROM TENSORFLOW TUTORIAL\n",
        "\n",
        "import tensorflow as tf"
      ],
      "execution_count": 1,
      "outputs": [
        {
          "output_type": "display_data",
          "data": {
            "text/html": [
              "<p style=\"color: red;\">\n",
              "The default version of TensorFlow in Colab will soon switch to TensorFlow 2.x.<br>\n",
              "We recommend you <a href=\"https://www.tensorflow.org/guide/migrate\" target=\"_blank\">upgrade</a> now \n",
              "or ensure your notebook will continue to use TensorFlow 1.x via the <code>%tensorflow_version 1.x</code> magic:\n",
              "<a href=\"https://colab.research.google.com/notebooks/tensorflow_version.ipynb\" target=\"_blank\">more info</a>.</p>\n"
            ],
            "text/plain": [
              "<IPython.core.display.HTML object>"
            ]
          },
          "metadata": {
            "tags": []
          }
        }
      ]
    },
    {
      "cell_type": "code",
      "metadata": {
        "id": "_kQLzirXx-3i",
        "colab_type": "code",
        "colab": {},
        "outputId": "b7ace76d-ccf0-4b9b-cebe-ab91fd346aba"
      },
      "source": [
        "# MY TEST TO MAKE SURE TF IS WORKING\n",
        "\n",
        "hello = tf.constant('Hello, TensorFlow!')\n",
        "sess = tf.Session()\n",
        "print(sess.run(hello))"
      ],
      "execution_count": 0,
      "outputs": [
        {
          "output_type": "stream",
          "text": [
            "b'Hello, TensorFlow!'\n"
          ],
          "name": "stdout"
        }
      ]
    },
    {
      "cell_type": "code",
      "metadata": {
        "id": "oYBjaBz5x-3q",
        "colab_type": "code",
        "colab": {
          "base_uri": "https://localhost:8080/",
          "height": 539
        },
        "outputId": "9dd68f09-7954-4a25-9620-e5f4d86fe438"
      },
      "source": [
        "# OBTAIN DATA\n",
        "# DATA WITHIN TF TUTORIAL HAS BEEN PREPROCESSED\n",
        "\n",
        "from tensorflow.examples.tutorials.mnist import input_data\n",
        "mnist = input_data.read_data_sets(\"MNIST_data/\", one_hot=True)"
      ],
      "execution_count": 2,
      "outputs": [
        {
          "output_type": "stream",
          "text": [
            "WARNING:tensorflow:From <ipython-input-2-2bad89c735c8>:3: read_data_sets (from tensorflow.contrib.learn.python.learn.datasets.mnist) is deprecated and will be removed in a future version.\n",
            "Instructions for updating:\n",
            "Please use alternatives such as official/mnist/dataset.py from tensorflow/models.\n",
            "WARNING:tensorflow:From /usr/local/lib/python3.6/dist-packages/tensorflow_core/contrib/learn/python/learn/datasets/mnist.py:260: maybe_download (from tensorflow.contrib.learn.python.learn.datasets.base) is deprecated and will be removed in a future version.\n",
            "Instructions for updating:\n",
            "Please write your own downloading logic.\n",
            "WARNING:tensorflow:From /usr/local/lib/python3.6/dist-packages/tensorflow_core/contrib/learn/python/learn/datasets/base.py:252: _internal_retry.<locals>.wrap.<locals>.wrapped_fn (from tensorflow.contrib.learn.python.learn.datasets.base) is deprecated and will be removed in a future version.\n",
            "Instructions for updating:\n",
            "Please use urllib or similar directly.\n",
            "Successfully downloaded train-images-idx3-ubyte.gz 9912422 bytes.\n",
            "WARNING:tensorflow:From /usr/local/lib/python3.6/dist-packages/tensorflow_core/contrib/learn/python/learn/datasets/mnist.py:262: extract_images (from tensorflow.contrib.learn.python.learn.datasets.mnist) is deprecated and will be removed in a future version.\n",
            "Instructions for updating:\n",
            "Please use tf.data to implement this functionality.\n",
            "Extracting MNIST_data/train-images-idx3-ubyte.gz\n",
            "Successfully downloaded train-labels-idx1-ubyte.gz 28881 bytes.\n",
            "WARNING:tensorflow:From /usr/local/lib/python3.6/dist-packages/tensorflow_core/contrib/learn/python/learn/datasets/mnist.py:267: extract_labels (from tensorflow.contrib.learn.python.learn.datasets.mnist) is deprecated and will be removed in a future version.\n",
            "Instructions for updating:\n",
            "Please use tf.data to implement this functionality.\n",
            "Extracting MNIST_data/train-labels-idx1-ubyte.gz\n",
            "WARNING:tensorflow:From /usr/local/lib/python3.6/dist-packages/tensorflow_core/contrib/learn/python/learn/datasets/mnist.py:110: dense_to_one_hot (from tensorflow.contrib.learn.python.learn.datasets.mnist) is deprecated and will be removed in a future version.\n",
            "Instructions for updating:\n",
            "Please use tf.one_hot on tensors.\n",
            "Successfully downloaded t10k-images-idx3-ubyte.gz 1648877 bytes.\n",
            "Extracting MNIST_data/t10k-images-idx3-ubyte.gz\n",
            "Successfully downloaded t10k-labels-idx1-ubyte.gz 4542 bytes.\n",
            "Extracting MNIST_data/t10k-labels-idx1-ubyte.gz\n",
            "WARNING:tensorflow:From /usr/local/lib/python3.6/dist-packages/tensorflow_core/contrib/learn/python/learn/datasets/mnist.py:290: DataSet.__init__ (from tensorflow.contrib.learn.python.learn.datasets.mnist) is deprecated and will be removed in a future version.\n",
            "Instructions for updating:\n",
            "Please use alternatives such as official/mnist/dataset.py from tensorflow/models.\n"
          ],
          "name": "stdout"
        }
      ]
    },
    {
      "cell_type": "code",
      "metadata": {
        "id": "rtAtm3kd3apD",
        "colab_type": "code",
        "colab": {
          "base_uri": "https://localhost:8080/",
          "height": 34
        },
        "outputId": "b74d8d44-a3d4-4302-9914-676ad4ffcb7a"
      },
      "source": [
        "mnist.train."
      ],
      "execution_count": 5,
      "outputs": [
        {
          "output_type": "execute_result",
          "data": {
            "text/plain": [
              "<tensorflow.contrib.learn.python.learn.datasets.mnist.DataSet at 0x7f66387509b0>"
            ]
          },
          "metadata": {
            "tags": []
          },
          "execution_count": 5
        }
      ]
    },
    {
      "cell_type": "code",
      "metadata": {
        "id": "6tEqBebMx-3u",
        "colab_type": "code",
        "colab": {}
      },
      "source": [
        "# MODEL\n",
        "# CREATE PLACEHOLDER VARIABLES FOR OPERATION MANIPULATION\n",
        "# THE 784 MATCHES THE VECTOR SIZE OF THE MNIST IMAGES - 28*28\n",
        "\n",
        "x = tf.placeholder(tf.float32, [None, 784])"
      ],
      "execution_count": 0,
      "outputs": []
    },
    {
      "cell_type": "code",
      "metadata": {
        "id": "7HZCGXj5x-3y",
        "colab_type": "code",
        "colab": {}
      },
      "source": [
        "# MODEL\n",
        "# CREATE WEIGHTS & BIASES VARIABLES\n",
        "# IN TF, OUR MODEL PARAMETERS ARE OFTEN MANAGED AS VARIABLES\n",
        "\n",
        "W = tf.Variable(tf.zeros([784, 10]))\n",
        "b = tf.Variable(tf.zeros([10]))"
      ],
      "execution_count": 0,
      "outputs": []
    },
    {
      "cell_type": "code",
      "metadata": {
        "id": "cjZO_8zOx-33",
        "colab_type": "code",
        "colab": {}
      },
      "source": [
        "# MODEL\n",
        "# CREATE MODEL - USES SOFTMAX AS THE ACTIVATION FUNCTION\n",
        "# REMEMBER GOAL FOR ACTIVATION FUNCTION IS TO \"SHAPE\" THE \n",
        "# OUTPUT INTO A PROBABILITY DISTRO OVER THE 10 CLASSES\n",
        "\n",
        "y = tf.nn.softmax(tf.matmul(x, W) + b)\n"
      ],
      "execution_count": 0,
      "outputs": []
    },
    {
      "cell_type": "code",
      "metadata": {
        "id": "sb75guTSx-38",
        "colab_type": "code",
        "colab": {}
      },
      "source": [
        "# MODEL\n",
        "# CREATE PREDICTED VARIABLE Y-HAT\n",
        "# AND USE CROSS ENTROPY TO DETERMINE LOSS\n",
        "# CROSS ENTROPY - HOW INEFFICIENT ARE OUR PREDICTIONS?\n",
        "\n",
        "y_ = tf.placeholder(tf.float32, [None, 10])\n",
        "cross_entropy = tf.reduce_mean(-tf.reduce_sum(y_ * tf.log(y), reduction_indices=[1]))\n"
      ],
      "execution_count": 0,
      "outputs": []
    },
    {
      "cell_type": "code",
      "metadata": {
        "id": "ikt-b5njx-3_",
        "colab_type": "code",
        "colab": {}
      },
      "source": [
        "# MODEL\n",
        "# TRAIN USING GRADIENT DESCENT\n",
        "# LEARNING RATE AT MIDPOINT - .5 - MAKE SMALL ADJUSTMENTS TO MINIMIZE COST\n",
        "\n",
        "train_step = tf.train.GradientDescentOptimizer(0.5).minimize(cross_entropy)"
      ],
      "execution_count": 0,
      "outputs": []
    },
    {
      "cell_type": "code",
      "metadata": {
        "id": "xFfkUMlux-4C",
        "colab_type": "code",
        "colab": {}
      },
      "source": [
        "# MODEL - RUN\n",
        "\n",
        "sess = tf.InteractiveSession()\n",
        "tf.global_variables_initializer().run()\n",
        "for _ in range(10000):\n",
        "  batch_xs, batch_ys = mnist.train.next_batch(100)\n",
        "  sess.run(train_step, feed_dict={x: batch_xs, y_: batch_ys})"
      ],
      "execution_count": 0,
      "outputs": []
    },
    {
      "cell_type": "code",
      "metadata": {
        "id": "Bbw_IE0Ax-4K",
        "colab_type": "code",
        "colab": {},
        "outputId": "281eca17-7878-43f3-f8fa-70226d272b67"
      },
      "source": [
        "# EVALUATE MODEL\n",
        "\n",
        "correct_prediction = tf.equal(tf.argmax(y,1), tf.argmax(y_,1))\n",
        "accuracy = tf.reduce_mean(tf.cast(correct_prediction, tf.float32))\n",
        "print(sess.run(accuracy, feed_dict={x: mnist.test.images, y_: mnist.test.labels}))\n"
      ],
      "execution_count": 0,
      "outputs": [
        {
          "output_type": "stream",
          "text": [
            "0.9203\n"
          ],
          "name": "stdout"
        }
      ]
    },
    {
      "cell_type": "markdown",
      "metadata": {
        "id": "pgIFnfstx-4O",
        "colab_type": "text"
      },
      "source": [
        "## Block Two for MNIST on TensorFlow"
      ]
    },
    {
      "cell_type": "markdown",
      "metadata": {
        "id": "L7L_Gwv8x-4P",
        "colab_type": "text"
      },
      "source": [
        "The following code offers an alternative approach to the MNIST classification problem.\n",
        "Using two convolution layers, we can significantly improve upon the original model and explore some of the options for a deep neural network.\n"
      ]
    },
    {
      "cell_type": "code",
      "metadata": {
        "id": "cAAkq_7Tx-4Q",
        "colab_type": "code",
        "colab": {}
      },
      "source": [
        "# WEIGHT INITIALIZATION\n",
        "\n",
        "def weight_variable(shape):\n",
        "  initial = tf.truncated_normal(shape, stddev=0.1)\n",
        "  return tf.Variable(initial)\n",
        "\n",
        "def bias_variable(shape):\n",
        "  initial = tf.constant(0.1, shape=shape)\n",
        "  return tf.Variable(initial)"
      ],
      "execution_count": 0,
      "outputs": []
    },
    {
      "cell_type": "code",
      "metadata": {
        "id": "HAgkDoTTx-4T",
        "colab_type": "code",
        "colab": {}
      },
      "source": [
        "# CREATE CONVOLUTION AND POOLING LAYERS\n",
        "\n",
        "def conv2d(x, W):\n",
        "  return tf.nn.conv2d(x, W, strides=[1, 1, 1, 1], padding='SAME')\n",
        "\n",
        "def max_pool_2x2(x):\n",
        "  return tf.nn.max_pool(x, ksize=[1, 2, 2, 1],\n",
        "                        strides=[1, 2, 2, 1], padding='SAME')"
      ],
      "execution_count": 0,
      "outputs": []
    },
    {
      "cell_type": "code",
      "metadata": {
        "id": "_z6K_xJVx-4W",
        "colab_type": "code",
        "colab": {}
      },
      "source": [
        "# FIRST CONVOLUTION LAYER\n",
        "\n",
        "W_conv1 = weight_variable([5, 5, 1, 32])\n",
        "b_conv1 = bias_variable([32])\n",
        "\n",
        "x_image = tf.reshape(x, [-1, 28, 28, 1]) # BASE IMAGE SIZE OF 28 * 28\n",
        "\n",
        "h_conv1 = tf.nn.relu(conv2d(x_image, W_conv1) + b_conv1)\n",
        "h_pool1 = max_pool_2x2(h_conv1)  # RESULTING IMAGE SIZE IS 14 * 14\n"
      ],
      "execution_count": 0,
      "outputs": []
    },
    {
      "cell_type": "code",
      "metadata": {
        "id": "X0a5zAMAx-4d",
        "colab_type": "code",
        "colab": {}
      },
      "source": [
        "# SECOND CONOLUTION LAYER \n",
        "# MORE THAN ONE LAYER?  DEEP LEARNING\n",
        "\n",
        "W_conv2 = weight_variable([5, 5, 32, 64])\n",
        "b_conv2 = bias_variable([64])\n",
        "\n",
        "h_conv2 = tf.nn.relu(conv2d(h_pool1, W_conv2) + b_conv2)\n",
        "h_pool2 = max_pool_2x2(h_conv2)"
      ],
      "execution_count": 0,
      "outputs": []
    },
    {
      "cell_type": "code",
      "metadata": {
        "id": "uBuTHpTPx-4g",
        "colab_type": "code",
        "colab": {}
      },
      "source": [
        "# FULLY CONNECTED LAYER - BEFORE OUTPUT\n",
        "\n",
        "W_fc1 = weight_variable([7 * 7 * 64, 1024])\n",
        "b_fc1 = bias_variable([1024])\n",
        "\n",
        "h_pool2_flat = tf.reshape(h_pool2, [-1, 7*7*64])\n",
        "h_fc1 = tf.nn.relu(tf.matmul(h_pool2_flat, W_fc1) + b_fc1)  # ADD THE RECTIFIED LINEAR UNIT\n"
      ],
      "execution_count": 0,
      "outputs": []
    },
    {
      "cell_type": "code",
      "metadata": {
        "id": "8dKidXkVx-4j",
        "colab_type": "code",
        "colab": {}
      },
      "source": [
        "# DROP LAYER - REDUCE OVERFITTING\n",
        "\n",
        "keep_prob = tf.placeholder(tf.float32)\n",
        "h_fc1_drop = tf.nn.dropout(h_fc1, keep_prob)"
      ],
      "execution_count": 0,
      "outputs": []
    },
    {
      "cell_type": "code",
      "metadata": {
        "id": "rhgc9uEOx-4m",
        "colab_type": "code",
        "colab": {}
      },
      "source": [
        "# LAST LAYER - OUTPUT\n",
        "\n",
        "W_fc2 = weight_variable([1024, 10])\n",
        "b_fc2 = bias_variable([10])\n",
        "\n",
        "y_conv = tf.matmul(h_fc1_drop, W_fc2) + b_fc2"
      ],
      "execution_count": 0,
      "outputs": []
    },
    {
      "cell_type": "code",
      "metadata": {
        "id": "ntVgNBY4x-4r",
        "colab_type": "code",
        "colab": {},
        "outputId": "da237425-d042-4e22-fcdd-219a387cfbf9"
      },
      "source": [
        "# RUN THE MODEL\n",
        "\n",
        "cross_entropy = tf.reduce_mean(\n",
        "    tf.nn.softmax_cross_entropy_with_logits(labels=y_, logits=y_conv))\n",
        "train_step = tf.train.AdamOptimizer(1e-4).minimize(cross_entropy)\n",
        "correct_prediction = tf.equal(tf.argmax(y_conv, 1), tf.argmax(y_, 1))\n",
        "accuracy = tf.reduce_mean(tf.cast(correct_prediction, tf.float32))\n",
        "\n",
        "with tf.Session() as sess:\n",
        "  sess.run(tf.global_variables_initializer())\n",
        "  for i in range(10000):\n",
        "    batch = mnist.train.next_batch(50)\n",
        "    if i % 100 == 0:\n",
        "      train_accuracy = accuracy.eval(feed_dict={\n",
        "          x: batch[0], y_: batch[1], keep_prob: 1.0})\n",
        "      print('step %d, training accuracy %g' % (i, train_accuracy))\n",
        "    train_step.run(feed_dict={x: batch[0], y_: batch[1], keep_prob: 0.5})\n",
        "\n",
        "  print('test accuracy %g' % accuracy.eval(feed_dict={\n",
        "      x: mnist.test.images, y_: mnist.test.labels, keep_prob: 1.0}))"
      ],
      "execution_count": 0,
      "outputs": [
        {
          "output_type": "stream",
          "text": [
            "step 0, training accuracy 0.04\n",
            "step 100, training accuracy 0.86\n",
            "step 200, training accuracy 0.9\n",
            "step 300, training accuracy 0.9\n",
            "step 400, training accuracy 0.98\n",
            "step 500, training accuracy 0.82\n",
            "step 600, training accuracy 0.98\n",
            "step 700, training accuracy 0.96\n",
            "step 800, training accuracy 0.96\n",
            "step 900, training accuracy 0.98\n",
            "step 1000, training accuracy 0.92\n",
            "step 1100, training accuracy 0.94\n",
            "step 1200, training accuracy 0.94\n",
            "step 1300, training accuracy 0.92\n",
            "step 1400, training accuracy 1\n",
            "step 1500, training accuracy 0.92\n",
            "step 1600, training accuracy 0.98\n",
            "step 1700, training accuracy 0.94\n",
            "step 1800, training accuracy 0.96\n",
            "step 1900, training accuracy 0.98\n",
            "step 2000, training accuracy 0.98\n",
            "step 2100, training accuracy 0.98\n",
            "step 2200, training accuracy 0.98\n",
            "step 2300, training accuracy 0.96\n",
            "step 2400, training accuracy 0.96\n",
            "step 2500, training accuracy 1\n",
            "step 2600, training accuracy 0.98\n",
            "step 2700, training accuracy 1\n",
            "step 2800, training accuracy 1\n",
            "step 2900, training accuracy 0.94\n",
            "step 3000, training accuracy 1\n",
            "step 3100, training accuracy 0.98\n",
            "step 3200, training accuracy 0.98\n",
            "step 3300, training accuracy 0.96\n",
            "step 3400, training accuracy 1\n",
            "step 3500, training accuracy 0.98\n",
            "step 3600, training accuracy 0.98\n",
            "step 3700, training accuracy 1\n",
            "step 3800, training accuracy 1\n",
            "step 3900, training accuracy 0.98\n",
            "step 4000, training accuracy 0.98\n",
            "step 4100, training accuracy 1\n",
            "step 4200, training accuracy 1\n",
            "step 4300, training accuracy 0.98\n",
            "step 4400, training accuracy 1\n",
            "step 4500, training accuracy 1\n",
            "step 4600, training accuracy 1\n",
            "step 4700, training accuracy 1\n",
            "step 4800, training accuracy 1\n",
            "step 4900, training accuracy 0.98\n",
            "step 5000, training accuracy 0.98\n",
            "step 5100, training accuracy 0.98\n",
            "step 5200, training accuracy 1\n",
            "step 5300, training accuracy 0.96\n",
            "step 5400, training accuracy 0.96\n",
            "step 5500, training accuracy 0.98\n",
            "step 5600, training accuracy 1\n",
            "step 5700, training accuracy 0.98\n",
            "step 5800, training accuracy 0.98\n",
            "step 5900, training accuracy 1\n",
            "step 6000, training accuracy 1\n",
            "step 6100, training accuracy 1\n",
            "step 6200, training accuracy 1\n",
            "step 6300, training accuracy 1\n",
            "step 6400, training accuracy 0.98\n",
            "step 6500, training accuracy 1\n",
            "step 6600, training accuracy 1\n",
            "step 6700, training accuracy 0.98\n",
            "step 6800, training accuracy 0.98\n",
            "step 6900, training accuracy 1\n",
            "step 7000, training accuracy 1\n",
            "step 7100, training accuracy 1\n",
            "step 7200, training accuracy 1\n",
            "step 7300, training accuracy 1\n",
            "step 7400, training accuracy 1\n",
            "step 7500, training accuracy 0.92\n",
            "step 7600, training accuracy 1\n",
            "step 7700, training accuracy 1\n",
            "step 7800, training accuracy 1\n",
            "step 7900, training accuracy 0.98\n",
            "step 8000, training accuracy 1\n",
            "step 8100, training accuracy 1\n",
            "step 8200, training accuracy 1\n",
            "step 8300, training accuracy 1\n",
            "step 8400, training accuracy 1\n",
            "step 8500, training accuracy 1\n",
            "step 8600, training accuracy 0.98\n",
            "step 8700, training accuracy 0.98\n",
            "step 8800, training accuracy 1\n",
            "step 8900, training accuracy 1\n",
            "step 9000, training accuracy 1\n",
            "step 9100, training accuracy 1\n",
            "step 9200, training accuracy 1\n",
            "step 9300, training accuracy 1\n",
            "step 9400, training accuracy 1\n",
            "step 9500, training accuracy 1\n",
            "step 9600, training accuracy 1\n",
            "step 9700, training accuracy 1\n",
            "step 9800, training accuracy 1\n",
            "step 9900, training accuracy 1\n",
            "test accuracy 0.9906\n"
          ],
          "name": "stdout"
        }
      ]
    },
    {
      "cell_type": "code",
      "metadata": {
        "id": "7X-6Y6xyx-4u",
        "colab_type": "code",
        "colab": {},
        "outputId": "8597d936-d3a9-4236-cfb4-0e3bb63b1b55"
      },
      "source": [
        "# System Information\n",
        "import platform\n",
        "import pandas as pd\n",
        "print('Python is ' + platform.python_version())\n",
        "\n",
        "pd.show_versions(as_json=False)"
      ],
      "execution_count": 0,
      "outputs": [
        {
          "output_type": "stream",
          "text": [
            "Python is 3.5.3\n",
            "\n",
            "INSTALLED VERSIONS\n",
            "------------------\n",
            "commit: None\n",
            "python: 3.5.3.final.0\n",
            "python-bits: 64\n",
            "OS: Windows\n",
            "OS-release: 10\n",
            "machine: AMD64\n",
            "processor: Intel64 Family 6 Model 158 Stepping 9, GenuineIntel\n",
            "byteorder: little\n",
            "LC_ALL: None\n",
            "LANG: None\n",
            "LOCALE: None.None\n",
            "\n",
            "pandas: 0.20.1\n",
            "pytest: 3.0.7\n",
            "pip: 9.0.1\n",
            "setuptools: 27.2.0\n",
            "Cython: 0.25.2\n",
            "numpy: 1.12.1\n",
            "scipy: 0.19.1\n",
            "xarray: None\n",
            "IPython: 5.3.0\n",
            "sphinx: 1.5.6\n",
            "patsy: 0.4.1\n",
            "dateutil: 2.6.0\n",
            "pytz: 2017.2\n",
            "blosc: None\n",
            "bottleneck: 1.2.1\n",
            "tables: 3.2.2\n",
            "numexpr: 2.6.2\n",
            "feather: None\n",
            "matplotlib: 2.0.2\n",
            "openpyxl: 2.4.7\n",
            "xlrd: 1.0.0\n",
            "xlwt: 1.2.0\n",
            "xlsxwriter: 0.9.6\n",
            "lxml: 3.7.3\n",
            "bs4: 4.6.0\n",
            "html5lib: 0.9999999\n",
            "sqlalchemy: 1.1.9\n",
            "pymysql: None\n",
            "psycopg2: None\n",
            "jinja2: 2.9.6\n",
            "s3fs: None\n",
            "pandas_gbq: None\n",
            "pandas_datareader: None\n"
          ],
          "name": "stdout"
        }
      ]
    },
    {
      "cell_type": "code",
      "metadata": {
        "id": "J01KOtzIx-4x",
        "colab_type": "code",
        "colab": {}
      },
      "source": [
        ""
      ],
      "execution_count": 0,
      "outputs": []
    }
  ]
}