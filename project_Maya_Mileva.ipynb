{
  "nbformat": 4,
  "nbformat_minor": 0,
  "metadata": {
    "kernelspec": {
      "display_name": "Python 3",
      "language": "python",
      "name": "python3"
    },
    "language_info": {
      "codemirror_mode": {
        "name": "ipython",
        "version": 3
      },
      "file_extension": ".py",
      "mimetype": "text/x-python",
      "name": "python",
      "nbconvert_exporter": "python",
      "pygments_lexer": "ipython3",
      "version": "3.8.3"
    },
    "colab": {
      "name": "project_Maya_Mileva.ipynb",
      "provenance": [],
      "toc_visible": true,
      "include_colab_link": true
    }
  },
  "cells": [
    {
      "cell_type": "markdown",
      "metadata": {
        "id": "view-in-github",
        "colab_type": "text"
      },
      "source": [
        "<a href=\"https://colab.research.google.com/github/vksyr/IST718/blob/master/project_Maya_Mileva.ipynb\" target=\"_parent\"><img src=\"https://colab.research.google.com/assets/colab-badge.svg\" alt=\"Open In Colab\"/></a>"
      ]
    },
    {
      "cell_type": "markdown",
      "metadata": {
        "id": "woNb4b3pC5Q1"
      },
      "source": [
        "# Time Series Project \n",
        "\n",
        "## ELUTIONS"
      ]
    },
    {
      "cell_type": "code",
      "metadata": {
        "id": "Yl46QEg4C5Q6"
      },
      "source": [
        "## Load the packages\n",
        "%matplotlib inline\n",
        "import pandas as pd\n",
        "import matplotlib.pyplot as plt\n",
        "plt.style.use('seaborn-whitegrid')\n",
        "\n",
        "import numpy as np\n",
        "from sklearn.metrics import mean_squared_error\n",
        "from math import sqrt\n",
        "import scipy.stats\n",
        "import pylab\n",
        "\n",
        "from pandas import Series\n",
        "from statistics import mean\n",
        "from statistics import median\n",
        "\n",
        "import itertools\n",
        "import warnings\n",
        "warnings.filterwarnings('ignore')\n",
        "pd.set_option('display.max_columns', 50)\n",
        "pd.set_option('display.max_rows', 300)\n",
        "\n",
        "import matplotlib\n",
        "matplotlib.rcParams['axes.labelsize'] = 14\n",
        "matplotlib.rcParams['xtick.labelsize'] = 12\n",
        "matplotlib.rcParams['ytick.labelsize'] = 12\n",
        "matplotlib.rcParams['text.color'] = 'k'\n",
        "from pandas.plotting import register_matplotlib_converters\n",
        "import seaborn as sns\n",
        "import plotly.graph_objects as go\n",
        "\n",
        "import statsmodels.api as sm  # statistical models (including regression)\n",
        "import statsmodels.formula.api as smf  # R-like model specification\n",
        "\n",
        "from fbprophet import Prophet\n",
        "from matplotlib import pyplot\n",
        "\n",
        "from scipy.stats import boxcox\n",
        "from statsmodels.tsa.stattools import adfuller\n",
        "from statsmodels.tsa.stattools import acf\n",
        "from statsmodels.tsa.stattools import pacf\n",
        "from statsmodels.graphics.tsaplots import plot_acf\n",
        "from statsmodels.graphics.tsaplots import plot_pacf\n",
        "\n",
        "from sklearn.metrics import mean_squared_error, r2_score\n",
        "from statsmodels.tsa.arima_model import ARIMA\n",
        "from statsmodels.tsa.arima_model import ARIMAResults\n",
        "\n",
        "\n",
        "!pip install pmdarima\n",
        "import pmdarima as pm\n",
        "from pmdarima.arima import auto_arima\n",
        "\n",
        "pd.plotting.register_matplotlib_converters() \n",
        "\n",
        "from IPython.display import display\n",
        "from dateutil.parser import parse "
      ],
      "execution_count": null,
      "outputs": []
    },
    {
      "cell_type": "code",
      "metadata": {
        "id": "5Y4wRVWLC5RA"
      },
      "source": [
        "df = pd.read_csv('/content/dataset_for_technical_assessment.csv', parse_dates=['Description'])"
      ],
      "execution_count": 3,
      "outputs": []
    },
    {
      "cell_type": "markdown",
      "metadata": {
        "id": "dFTtu1SIRw8-"
      },
      "source": [
        "VK - View TS Plot"
      ]
    },
    {
      "cell_type": "code",
      "metadata": {
        "id": "sU4wa8yuiU4k",
        "outputId": "630bf3dc-1a8e-4dbf-e002-119fa24c6b72",
        "colab": {
          "base_uri": "https://localhost:8080/",
          "height": 286
        }
      },
      "source": [
        "df.footer()"
      ],
      "execution_count": 4,
      "outputs": [
        {
          "output_type": "error",
          "ename": "AttributeError",
          "evalue": "ignored",
          "traceback": [
            "\u001b[0;31m---------------------------------------------------------------------------\u001b[0m",
            "\u001b[0;31mAttributeError\u001b[0m                            Traceback (most recent call last)",
            "\u001b[0;32m<ipython-input-4-122d17265de2>\u001b[0m in \u001b[0;36m<module>\u001b[0;34m()\u001b[0m\n\u001b[0;32m----> 1\u001b[0;31m \u001b[0mdf\u001b[0m\u001b[0;34m.\u001b[0m\u001b[0mfooter\u001b[0m\u001b[0;34m(\u001b[0m\u001b[0;34m)\u001b[0m\u001b[0;34m\u001b[0m\u001b[0;34m\u001b[0m\u001b[0m\n\u001b[0m",
            "\u001b[0;32m/usr/local/lib/python3.6/dist-packages/pandas/core/generic.py\u001b[0m in \u001b[0;36m__getattr__\u001b[0;34m(self, name)\u001b[0m\n\u001b[1;32m   5134\u001b[0m             \u001b[0;32mif\u001b[0m \u001b[0mself\u001b[0m\u001b[0;34m.\u001b[0m\u001b[0m_info_axis\u001b[0m\u001b[0;34m.\u001b[0m\u001b[0m_can_hold_identifiers_and_holds_name\u001b[0m\u001b[0;34m(\u001b[0m\u001b[0mname\u001b[0m\u001b[0;34m)\u001b[0m\u001b[0;34m:\u001b[0m\u001b[0;34m\u001b[0m\u001b[0;34m\u001b[0m\u001b[0m\n\u001b[1;32m   5135\u001b[0m                 \u001b[0;32mreturn\u001b[0m \u001b[0mself\u001b[0m\u001b[0;34m[\u001b[0m\u001b[0mname\u001b[0m\u001b[0;34m]\u001b[0m\u001b[0;34m\u001b[0m\u001b[0;34m\u001b[0m\u001b[0m\n\u001b[0;32m-> 5136\u001b[0;31m             \u001b[0;32mreturn\u001b[0m \u001b[0mobject\u001b[0m\u001b[0;34m.\u001b[0m\u001b[0m__getattribute__\u001b[0m\u001b[0;34m(\u001b[0m\u001b[0mself\u001b[0m\u001b[0;34m,\u001b[0m \u001b[0mname\u001b[0m\u001b[0;34m)\u001b[0m\u001b[0;34m\u001b[0m\u001b[0;34m\u001b[0m\u001b[0m\n\u001b[0m\u001b[1;32m   5137\u001b[0m \u001b[0;34m\u001b[0m\u001b[0m\n\u001b[1;32m   5138\u001b[0m     \u001b[0;32mdef\u001b[0m \u001b[0m__setattr__\u001b[0m\u001b[0;34m(\u001b[0m\u001b[0mself\u001b[0m\u001b[0;34m,\u001b[0m \u001b[0mname\u001b[0m\u001b[0;34m:\u001b[0m \u001b[0mstr\u001b[0m\u001b[0;34m,\u001b[0m \u001b[0mvalue\u001b[0m\u001b[0;34m)\u001b[0m \u001b[0;34m->\u001b[0m \u001b[0;32mNone\u001b[0m\u001b[0;34m:\u001b[0m\u001b[0;34m\u001b[0m\u001b[0;34m\u001b[0m\u001b[0m\n",
            "\u001b[0;31mAttributeError\u001b[0m: 'DataFrame' object has no attribute 'footer'"
          ]
        }
      ]
    },
    {
      "cell_type": "code",
      "metadata": {
        "id": "tMQ1AjS0iXma",
        "outputId": "5bf6ebaa-41fa-49a6-f9c0-cd6a172d5ea2",
        "colab": {
          "base_uri": "https://localhost:8080/",
          "height": 593
        }
      },
      "source": [
        "df"
      ],
      "execution_count": 5,
      "outputs": [
        {
          "output_type": "execute_result",
          "data": {
            "text/html": [
              "<div>\n",
              "<style scoped>\n",
              "    .dataframe tbody tr th:only-of-type {\n",
              "        vertical-align: middle;\n",
              "    }\n",
              "\n",
              "    .dataframe tbody tr th {\n",
              "        vertical-align: top;\n",
              "    }\n",
              "\n",
              "    .dataframe thead th {\n",
              "        text-align: right;\n",
              "    }\n",
              "</style>\n",
              "<table border=\"1\" class=\"dataframe\">\n",
              "  <thead>\n",
              "    <tr style=\"text-align: right;\">\n",
              "      <th></th>\n",
              "      <th>Description</th>\n",
              "      <th>y1</th>\n",
              "      <th>y2</th>\n",
              "      <th>x1</th>\n",
              "      <th>x2</th>\n",
              "      <th>x3</th>\n",
              "      <th>x4</th>\n",
              "      <th>x5</th>\n",
              "      <th>x6</th>\n",
              "      <th>x7</th>\n",
              "      <th>x8</th>\n",
              "    </tr>\n",
              "  </thead>\n",
              "  <tbody>\n",
              "    <tr>\n",
              "      <th>0</th>\n",
              "      <td>2016-01-01 00:00:00</td>\n",
              "      <td>0.008133</td>\n",
              "      <td>0.805288</td>\n",
              "      <td>0.934119</td>\n",
              "      <td>0.182838</td>\n",
              "      <td>0.282637</td>\n",
              "      <td>0.612302</td>\n",
              "      <td>0.218844</td>\n",
              "      <td>0.036615</td>\n",
              "      <td>0.695623</td>\n",
              "      <td>0.286383</td>\n",
              "    </tr>\n",
              "    <tr>\n",
              "      <th>1</th>\n",
              "      <td>2016-01-01 00:05:00</td>\n",
              "      <td>0.008964</td>\n",
              "      <td>0.799772</td>\n",
              "      <td>0.934014</td>\n",
              "      <td>0.180689</td>\n",
              "      <td>0.281720</td>\n",
              "      <td>0.611908</td>\n",
              "      <td>0.220869</td>\n",
              "      <td>0.037616</td>\n",
              "      <td>0.693026</td>\n",
              "      <td>0.296014</td>\n",
              "    </tr>\n",
              "    <tr>\n",
              "      <th>2</th>\n",
              "      <td>2016-01-01 00:10:00</td>\n",
              "      <td>0.008906</td>\n",
              "      <td>0.809219</td>\n",
              "      <td>0.934031</td>\n",
              "      <td>0.181439</td>\n",
              "      <td>0.282202</td>\n",
              "      <td>0.610927</td>\n",
              "      <td>0.222187</td>\n",
              "      <td>0.034264</td>\n",
              "      <td>0.692654</td>\n",
              "      <td>0.289457</td>\n",
              "    </tr>\n",
              "    <tr>\n",
              "      <th>3</th>\n",
              "      <td>2016-01-01 00:15:00</td>\n",
              "      <td>0.008469</td>\n",
              "      <td>0.804602</td>\n",
              "      <td>0.934367</td>\n",
              "      <td>0.182620</td>\n",
              "      <td>0.282305</td>\n",
              "      <td>0.612801</td>\n",
              "      <td>0.221935</td>\n",
              "      <td>0.034894</td>\n",
              "      <td>0.693397</td>\n",
              "      <td>0.290959</td>\n",
              "    </tr>\n",
              "    <tr>\n",
              "      <th>4</th>\n",
              "      <td>2016-01-01 00:20:00</td>\n",
              "      <td>0.006882</td>\n",
              "      <td>0.799026</td>\n",
              "      <td>0.934884</td>\n",
              "      <td>0.180871</td>\n",
              "      <td>0.281051</td>\n",
              "      <td>0.610566</td>\n",
              "      <td>0.218883</td>\n",
              "      <td>0.038596</td>\n",
              "      <td>0.690928</td>\n",
              "      <td>0.287653</td>\n",
              "    </tr>\n",
              "    <tr>\n",
              "      <th>...</th>\n",
              "      <td>...</td>\n",
              "      <td>...</td>\n",
              "      <td>...</td>\n",
              "      <td>...</td>\n",
              "      <td>...</td>\n",
              "      <td>...</td>\n",
              "      <td>...</td>\n",
              "      <td>...</td>\n",
              "      <td>...</td>\n",
              "      <td>...</td>\n",
              "      <td>...</td>\n",
              "    </tr>\n",
              "    <tr>\n",
              "      <th>157807</th>\n",
              "      <td>2017-07-01 23:35:00</td>\n",
              "      <td>0.007516</td>\n",
              "      <td>0.725023</td>\n",
              "      <td>0.948420</td>\n",
              "      <td>0.627338</td>\n",
              "      <td>0.632173</td>\n",
              "      <td>0.631040</td>\n",
              "      <td>0.261269</td>\n",
              "      <td>0.042838</td>\n",
              "      <td>0.683385</td>\n",
              "      <td>0.231942</td>\n",
              "    </tr>\n",
              "    <tr>\n",
              "      <th>157808</th>\n",
              "      <td>2017-07-01 23:40:00</td>\n",
              "      <td>0.007683</td>\n",
              "      <td>0.722261</td>\n",
              "      <td>0.949335</td>\n",
              "      <td>0.633572</td>\n",
              "      <td>0.639500</td>\n",
              "      <td>0.628861</td>\n",
              "      <td>0.260363</td>\n",
              "      <td>0.046228</td>\n",
              "      <td>0.683139</td>\n",
              "      <td>0.227148</td>\n",
              "    </tr>\n",
              "    <tr>\n",
              "      <th>157809</th>\n",
              "      <td>2017-07-01 23:45:00</td>\n",
              "      <td>0.008906</td>\n",
              "      <td>0.728316</td>\n",
              "      <td>0.948450</td>\n",
              "      <td>0.639345</td>\n",
              "      <td>0.645229</td>\n",
              "      <td>0.632574</td>\n",
              "      <td>0.262826</td>\n",
              "      <td>0.043451</td>\n",
              "      <td>0.690426</td>\n",
              "      <td>0.236186</td>\n",
              "    </tr>\n",
              "    <tr>\n",
              "      <th>157810</th>\n",
              "      <td>2017-07-01 23:50:00</td>\n",
              "      <td>0.009094</td>\n",
              "      <td>0.733958</td>\n",
              "      <td>0.946910</td>\n",
              "      <td>0.640376</td>\n",
              "      <td>0.646174</td>\n",
              "      <td>0.634153</td>\n",
              "      <td>0.269820</td>\n",
              "      <td>0.045295</td>\n",
              "      <td>0.693872</td>\n",
              "      <td>0.242765</td>\n",
              "    </tr>\n",
              "    <tr>\n",
              "      <th>157811</th>\n",
              "      <td>2017-07-01 23:55:00</td>\n",
              "      <td>0.008133</td>\n",
              "      <td>0.732525</td>\n",
              "      <td>0.946880</td>\n",
              "      <td>0.640178</td>\n",
              "      <td>0.645763</td>\n",
              "      <td>0.632321</td>\n",
              "      <td>0.264719</td>\n",
              "      <td>0.044135</td>\n",
              "      <td>0.691252</td>\n",
              "      <td>0.242006</td>\n",
              "    </tr>\n",
              "  </tbody>\n",
              "</table>\n",
              "<p>157812 rows × 11 columns</p>\n",
              "</div>"
            ],
            "text/plain": [
              "               Description        y1        y2        x1        x2        x3  \\\n",
              "0      2016-01-01 00:00:00  0.008133  0.805288  0.934119  0.182838  0.282637   \n",
              "1      2016-01-01 00:05:00  0.008964  0.799772  0.934014  0.180689  0.281720   \n",
              "2      2016-01-01 00:10:00  0.008906  0.809219  0.934031  0.181439  0.282202   \n",
              "3      2016-01-01 00:15:00  0.008469  0.804602  0.934367  0.182620  0.282305   \n",
              "4      2016-01-01 00:20:00  0.006882  0.799026  0.934884  0.180871  0.281051   \n",
              "...                    ...       ...       ...       ...       ...       ...   \n",
              "157807 2017-07-01 23:35:00  0.007516  0.725023  0.948420  0.627338  0.632173   \n",
              "157808 2017-07-01 23:40:00  0.007683  0.722261  0.949335  0.633572  0.639500   \n",
              "157809 2017-07-01 23:45:00  0.008906  0.728316  0.948450  0.639345  0.645229   \n",
              "157810 2017-07-01 23:50:00  0.009094  0.733958  0.946910  0.640376  0.646174   \n",
              "157811 2017-07-01 23:55:00  0.008133  0.732525  0.946880  0.640178  0.645763   \n",
              "\n",
              "              x4        x5        x6        x7        x8  \n",
              "0       0.612302  0.218844  0.036615  0.695623  0.286383  \n",
              "1       0.611908  0.220869  0.037616  0.693026  0.296014  \n",
              "2       0.610927  0.222187  0.034264  0.692654  0.289457  \n",
              "3       0.612801  0.221935  0.034894  0.693397  0.290959  \n",
              "4       0.610566  0.218883  0.038596  0.690928  0.287653  \n",
              "...          ...       ...       ...       ...       ...  \n",
              "157807  0.631040  0.261269  0.042838  0.683385  0.231942  \n",
              "157808  0.628861  0.260363  0.046228  0.683139  0.227148  \n",
              "157809  0.632574  0.262826  0.043451  0.690426  0.236186  \n",
              "157810  0.634153  0.269820  0.045295  0.693872  0.242765  \n",
              "157811  0.632321  0.264719  0.044135  0.691252  0.242006  \n",
              "\n",
              "[157812 rows x 11 columns]"
            ]
          },
          "metadata": {
            "tags": []
          },
          "execution_count": 5
        }
      ]
    },
    {
      "cell_type": "code",
      "metadata": {
        "id": "cDLg0_ACR8Yc"
      },
      "source": [
        "df['Date'] = pd.to_datetime(df['Description'], format='%Y-%m-%d %h:%m%s', errors='coerce')\n",
        "df = df.set_index('Date')"
      ],
      "execution_count": 126,
      "outputs": []
    },
    {
      "cell_type": "code",
      "metadata": {
        "id": "wCYnZ-BdeTAT"
      },
      "source": [
        "df.head()"
      ],
      "execution_count": null,
      "outputs": []
    },
    {
      "cell_type": "markdown",
      "metadata": {
        "id": "IzQrnYyqWeMs"
      },
      "source": [
        "VK: Find anomolies\n",
        "\n",
        "Source: https://towardsdatascience.com/time-series-of-price-anomaly-detection-13586cd5ff46"
      ]
    },
    {
      "cell_type": "markdown",
      "metadata": {
        "id": "X7Xf-g3TceCH"
      },
      "source": [
        "WIth only **Y1**"
      ]
    },
    {
      "cell_type": "code",
      "metadata": {
        "id": "neZVeRYKegqm"
      },
      "source": [
        "# 1. Find elbow\n",
        "data = df[['y1','x1','x2','x3','x4','x5','x6','x7','x8']]\n",
        "data = data.fillna(method='bfill')\n",
        "n_cluster = range(1, 5)\n",
        "from sklearn.cluster import KMeans\n",
        "#import sklearn.cluster.KMeans\n",
        "kmeans = [KMeans(n_clusters=i).fit(data) for i in n_cluster]\n",
        "scores = [kmeans[i].score(data) for i in range(len(kmeans))]\n",
        "\n",
        "fig, ax = plt.subplots(figsize=(10,6))\n",
        "ax.plot(n_cluster, scores)\n",
        "plt.xlabel('Number of Clusters')\n",
        "plt.ylabel('Score')\n",
        "plt.title('Elbow Curve')\n",
        "plt.show();"
      ],
      "execution_count": null,
      "outputs": []
    },
    {
      "cell_type": "code",
      "metadata": {
        "id": "-EATnWmjW5Ho",
        "outputId": "bbc42b57-1fad-4a16-ed1b-2e490a76cc75",
        "colab": {
          "base_uri": "https://localhost:8080/",
          "height": 773
        }
      },
      "source": [
        "# 1. Find elbow\n",
        "data = df[['y1','x1','x2','x3','x4','x5','x6','x7','x8']]\n",
        "data = data.fillna(method='bfill')\n",
        "n_cluster = range(1, 5)\n",
        "from sklearn.cluster import KMeans\n",
        "#import sklearn.cluster.KMeans\n",
        "kmeans = [KMeans(n_clusters=i).fit(data) for i in n_cluster]\n",
        "scores = [kmeans[i].score(data) for i in range(len(kmeans))]\n",
        "\n",
        "fig, ax = plt.subplots(figsize=(10,6))\n",
        "ax.plot(n_cluster, scores)\n",
        "plt.xlabel('Number of Clusters')\n",
        "plt.ylabel('Score')\n",
        "plt.title('Elbow Curve')\n",
        "plt.show();\n",
        "\n",
        "# Elbow at 2 clusters\n",
        "\n",
        "# 2. Find anomalies, and label them in df\n",
        "import numpy as np\n",
        "def getDistanceByPoint(data, model):\n",
        "    distance = pd.Series()\n",
        "    for i in range(0,len(data)):\n",
        "        Xa = np.array(data.iloc[i])\n",
        "        Xb = model.cluster_centers_[model.labels_[i]-1]\n",
        "        distance.at[i] = np.linalg.norm(Xa-Xb)\n",
        "    return distance\n",
        "\n",
        "outliers_fraction = 0.01\n",
        "# get the distance between each point and its nearest centroid. The biggest distances are considered as anomaly\n",
        "distance = getDistanceByPoint(data, kmeans[2])\n",
        "number_of_outliers = int(outliers_fraction*len(distance))\n",
        "threshold = distance.nlargest(number_of_outliers).min()\n",
        "# anomaly1 contain the anomaly result of the above method Cluster (0:normal, 1:anomaly) \n",
        "df['anomaly1'] = np.array((distance >= threshold).astype(int))\n",
        "\n",
        "# 3. View anomalies in TS View\n",
        "fig, ax = plt.subplots(figsize=(16,6))\n",
        "a = df.loc[df['anomaly1'] == 1, ['y1']] #anomaly\n",
        "ax.plot(df.index, df['y1'], color='blue', label='Normal')\n",
        "ax.scatter(a.index, a['y1'], color='red', label='Anomaly')\n",
        "plt.xlabel('Date')\n",
        "plt.ylabel('y1')\n",
        "plt.legend()\n",
        "plt.show();"
      ],
      "execution_count": 6,
      "outputs": [
        {
          "output_type": "display_data",
          "data": {
            "image/png": "[encoded data removed]",
            "text/plain": [
              "<Figure size 720x432 with 1 Axes>"
            ]
          },
          "metadata": {
            "tags": [],
            "needs_background": "light"
          }
        },
        {
          "output_type": "display_data",
          "data": {
            "image/png": "[encoded data removed]",
            "text/plain": [
              "<Figure size 1152x432 with 1 Axes>"
            ]
          },
          "metadata": {
            "tags": [],
            "needs_background": "light"
          }
        }
      ]
    },
    {
      "cell_type": "markdown",
      "metadata": {
        "id": "tGQixwknwRie"
      },
      "source": [
        "WIth only **Y2**"
      ]
    },
    {
      "cell_type": "code",
      "metadata": {
        "id": "VAQ0LA_VeccU",
        "outputId": "ee2e5cff-5afa-4dbb-8ade-2f7f37b24731",
        "colab": {
          "base_uri": "https://localhost:8080/",
          "height": 773
        }
      },
      "source": [
        "# 1. Find elbow\n",
        "data = df[['y2','x1','x2','x3','x4','x5','x6','x7','x8']]\n",
        "data = data.fillna(method='bfill')\n",
        "n_cluster = range(1, 5)\n",
        "from sklearn.cluster import KMeans\n",
        "#import sklearn.cluster.KMeans\n",
        "kmeans = [KMeans(n_clusters=i).fit(data) for i in n_cluster]\n",
        "scores = [kmeans[i].score(data) for i in range(len(kmeans))]\n",
        "\n",
        "fig, ax = plt.subplots(figsize=(10,6))\n",
        "ax.plot(n_cluster, scores)\n",
        "plt.xlabel('Number of Clusters')\n",
        "plt.ylabel('Score')\n",
        "plt.title('Elbow Curve')\n",
        "plt.show();\n",
        "\n",
        "# Elbow at 2 clusters\n",
        "\n",
        "# 2. Find anomalies, and label them in df\n",
        "import numpy as np\n",
        "def getDistanceByPoint(data, model):\n",
        "    distance = pd.Series()\n",
        "    for i in range(0,len(data)):\n",
        "        Xa = np.array(data.iloc[i])\n",
        "        Xb = model.cluster_centers_[model.labels_[i]-1]\n",
        "        distance.at[i] = np.linalg.norm(Xa-Xb)\n",
        "    return distance\n",
        "\n",
        "outliers_fraction = 0.01\n",
        "# get the distance between each point and its nearest centroid. The biggest distances are considered as anomaly\n",
        "distance = getDistanceByPoint(data, kmeans[2])\n",
        "number_of_outliers = int(outliers_fraction*len(distance))\n",
        "threshold = distance.nlargest(number_of_outliers).min()\n",
        "# anomaly1 contain the anomaly result of the above method Cluster (0:normal, 1:anomaly) \n",
        "df['anomaly2'] = np.array((distance >= threshold).astype(int))\n",
        "\n",
        "# 3. View anomalies in TS View\n",
        "fig, ax = plt.subplots(figsize=(16,6))\n",
        "a = df.loc[df['anomaly2'] == 1, ['y2']] #anomaly\n",
        "ax.plot(df.index, df['y2'], color='blue', label='Normal')\n",
        "ax.scatter(a.index, a['y2'], color='red', label='Anomaly')\n",
        "plt.xlabel('Date')\n",
        "plt.ylabel('y2')\n",
        "plt.legend()\n",
        "plt.show();"
      ],
      "execution_count": 8,
      "outputs": [
        {
          "output_type": "display_data",
          "data": {
            "image/png": "[encoded data removed]",
            "text/plain": [
              "<Figure size 720x432 with 1 Axes>"
            ]
          },
          "metadata": {
            "tags": [],
            "needs_background": "light"
          }
        },
        {
          "output_type": "display_data",
          "data": {
            "image/png": "[encoded data removed]",
            "text/plain": [
              "<Figure size 1152x432 with 1 Axes>"
            ]
          },
          "metadata": {
            "tags": [],
            "needs_background": "light"
          }
        }
      ]
    }
  ]
}