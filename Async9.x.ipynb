{
  "nbformat": 4,
  "nbformat_minor": 0,
  "metadata": {
    "colab": {
      "name": "HW3.ipynb",
      "provenance": [],
      "mount_file_id": "https://github.com/vksyr/IST718/blob/master/Async9.x.ipynb",
      "authorship_tag": "ABX9TyNuHeiTPEi+8WrhiQ0y59BQ",
      "include_colab_link": true
    },
    "kernelspec": {
      "name": "python3",
      "display_name": "Python 3"
    },
    "accelerator": "GPU"
  },
  "cells": [
    {
      "cell_type": "markdown",
      "metadata": {
        "id": "view-in-github",
        "colab_type": "text"
      },
      "source": [
        "<a href=\"https://colab.research.google.com/github/vksyr/IST718/blob/master/Async9.x.ipynb\" target=\"_parent\"><img src=\"https://colab.research.google.com/assets/colab-badge.svg\" alt=\"Open In Colab\"/></a>"
      ]
    },
    {
      "cell_type": "code",
      "metadata": {
        "id": "Dz4MTDFG7V97",
        "colab_type": "code",
        "colab": {}
      },
      "source": [
        "import pandas as pd  # data frame operations\n",
        "import numpy as np  # arrays and math functions\n",
        "from scipy.stats import uniform  # for training-and-test split\n",
        "import statsmodels.api as sm  # statistical models (including regression)\n",
        "import statsmodels.formula.api as smf  # R-like model specification\n",
        "import matplotlib.pyplot as plt  # 2D plotting\n",
        "import seaborn as sns  # PROVIDES TRELLIS AND SMALL MULTIPLE PLOTTING\n",
        "import math\n",
        "\n",
        "import pandas as pd\n",
        "\n",
        "from numpy import mean\n",
        "from numpy import std\n",
        "from matplotlib import pyplot\n",
        "from sklearn.model_selection import KFold\n",
        "from tensorflow import keras\n",
        "from keras.datasets import fashion_mnist\n",
        "from keras.utils import to_categorical\n",
        "from keras.models import Sequential\n",
        "from keras.layers import Conv2D\n",
        "from keras.layers import MaxPooling2D\n",
        "from keras.layers import Dense\n",
        "from keras.layers import Flatten\n",
        "from keras.optimizers import SGD\n",
        "\n",
        "import plotly as py\n",
        "import plotly.graph_objects as go\n",
        "\n",
        "from datetime import datetime\n",
        "\n",
        "import warnings\n",
        "warnings.filterwarnings(\"ignore\")"
      ],
      "execution_count": 0,
      "outputs": []
    },
    {
      "cell_type": "code",
      "metadata": {
        "id": "HXTogXzU-HMd",
        "colab_type": "code",
        "colab": {}
      },
      "source": [
        "# Dataset was converted to CSV with this script: \n",
        "# https://pjreddie.com/projects/mnist-in-csv/\n",
        "def convert(imgf, labelf, outf, n):\n",
        "    f = open(imgf, \"rb\")\n",
        "    o = open(outf, \"w\")\n",
        "    l = open(labelf, \"rb\")\n",
        "\n",
        "    f.read(16)\n",
        "    l.read(8)\n",
        "    images = []\n",
        "\n",
        "    for i in range(n):\n",
        "        image = [ord(l.read(1))]\n",
        "        for j in range(28*28):\n",
        "            image.append(ord(f.read(1)))\n",
        "        images.append(image)\n",
        "\n",
        "    for image in images:\n",
        "        o.write(\",\".join(str(pix) for pix in image)+\"\\n\")\n",
        "    f.close()\n",
        "    o.close()\n",
        "    l.close()\n",
        "\n",
        "convert(\"/content/drive/My Drive/IST718/HW3/train-images-idx3-ubyte\", \"/content/drive/My Drive/IST718/HW3/train-labels-idx1-ubyte\",\n",
        "        \"/content/drive/My Drive/IST718/HW3/mnist_train.csv\", 60000)\n",
        "convert(\"/content/drive/My Drive/IST718/HW3/t10k-images-idx3-ubyte\", \"/content/drive/My Drive/IST718/HW3/t10k-labels-idx1-ubyte\",\n",
        "        \"/content/drive/My Drive/IST718/HW3/mnist_test.csv\", 10000)"
      ],
      "execution_count": 0,
      "outputs": []
    },
    {
      "cell_type": "code",
      "metadata": {
        "id": "YMjC5ardKfvy",
        "colab_type": "code",
        "colab": {
          "base_uri": "https://localhost:8080/",
          "height": 51
        },
        "outputId": "1ba3e4ad-6d23-4be5-a6c9-57877aa436cc"
      },
      "source": [
        "# create pandas df\n",
        "cols = np.array(['label'])\n",
        "for i in range(1,785):\n",
        "  cols = np.append(cols, ['pixel' + str(i)])\n",
        "\n",
        "train_images = pd.read_csv('/content/drive/My Drive/IST718/HW3/mnist_train.csv', \n",
        "                          header=None, names=cols)\n",
        "test_images = pd.read_csv('/content/drive/My Drive/IST718/HW3/mnist_test.csv', \n",
        "                          header=None, names=cols)\n",
        "\n",
        "\n",
        "# Train/Validation Split\n",
        "idx = np.arange(60000)\n",
        "np.random.shuffle(idx)\n",
        "print(idx[:5])\n",
        "val_images = train_images.iloc[idx[:10000]]\n",
        "train_images = train_images.iloc[idx[10000:]]\n",
        "print(train_images.shape, val_images.shape)\n"
      ],
      "execution_count": 3,
      "outputs": [
        {
          "output_type": "stream",
          "text": [
            "[40586 52001 43764 51549 51287]\n",
            "(50000, 785) (10000, 785)\n"
          ],
          "name": "stdout"
        }
      ]
    },
    {
      "cell_type": "code",
      "metadata": {
        "id": "gcqFRd2uhvmr",
        "colab_type": "code",
        "outputId": "0181a07c-ff19-482b-fe50-e71d258a9bf4",
        "colab": {
          "base_uri": "https://localhost:8080/",
          "height": 282
        }
      },
      "source": [
        "# plotting an image\n",
        "import matplotlib.pyplot as plt\n",
        "image = np.asarray(train_images.loc[0][1:]).squeeze()\n",
        "plt.imshow(image.reshape(28, 28, 1).squeeze())\n",
        "plt.show()\n",
        "\n",
        "print('Label: ' + str(train_images.loc[0][0]))"
      ],
      "execution_count": 3,
      "outputs": [
        {
          "output_type": "display_data",
          "data": {
            "image/png": "[encoded data removed]",
            "text/plain": [
              "<Figure size 432x288 with 1 Axes>"
            ]
          },
          "metadata": {
            "tags": []
          }
        },
        {
          "output_type": "stream",
          "text": [
            "Label: 9\n"
          ],
          "name": "stdout"
        }
      ]
    },
    {
      "cell_type": "code",
      "metadata": {
        "id": "v2iGIr4lXt0N",
        "colab_type": "code",
        "colab": {
          "base_uri": "https://localhost:8080/",
          "height": 190
        },
        "outputId": "a9a845e0-e757-421a-b9d6-6a6458f7eec8"
      },
      "source": [
        "# how many categories?\n",
        "from collections import Counter\n",
        "Counter(train_images.iloc[:,0])"
      ],
      "execution_count": 66,
      "outputs": [
        {
          "output_type": "execute_result",
          "data": {
            "text/plain": [
              "Counter({0: 5047,\n",
              "         1: 4935,\n",
              "         2: 5018,\n",
              "         3: 5015,\n",
              "         4: 5052,\n",
              "         5: 4997,\n",
              "         6: 4985,\n",
              "         7: 4958,\n",
              "         8: 4996,\n",
              "         9: 4997})"
            ]
          },
          "metadata": {
            "tags": []
          },
          "execution_count": 66
        }
      ]
    },
    {
      "cell_type": "markdown",
      "metadata": {
        "id": "DOCgpKbczWAF",
        "colab_type": "text"
      },
      "source": [
        "TensorFlow"
      ]
    },
    {
      "cell_type": "code",
      "metadata": {
        "id": "kvyoEY6zh1lN",
        "colab_type": "code",
        "colab": {}
      },
      "source": [
        "%tensorflow_version 1.x  #gpu\n",
        "import tensorflow as tf\n",
        "tf.compat.v1.disable_eager_execution() \n",
        "# needs to be disabled for placeholder\n",
        "# enabled for iteration"
      ],
      "execution_count": 0,
      "outputs": []
    },
    {
      "cell_type": "markdown",
      "metadata": {
        "id": "BtTY-y9djpbe",
        "colab_type": "text"
      },
      "source": [
        "TCN"
      ]
    },
    {
      "cell_type": "markdown",
      "metadata": {
        "id": "LpHibuObIAfm",
        "colab_type": "text"
      },
      "source": [
        "Code From https://colab.research.google.com/drive/1DYPojFY8iYxPMma5Fee3LcIC2RbZoTgN#scrollTo=gKbqF6g0rKVe"
      ]
    },
    {
      "cell_type": "code",
      "metadata": {
        "id": "XQENehQyjnYg",
        "colab_type": "code",
        "colab": {}
      },
      "source": [
        "class CausalConv1D(tf.layers.Conv1D):\n",
        "    def __init__(self, filters,\n",
        "               kernel_size,\n",
        "               strides=1,\n",
        "               dilation_rate=1,\n",
        "               activation=None,\n",
        "               use_bias=True,\n",
        "               kernel_initializer=None,\n",
        "               bias_initializer=tf.zeros_initializer(),\n",
        "               kernel_regularizer=None,\n",
        "               bias_regularizer=None,\n",
        "               activity_regularizer=None,\n",
        "               kernel_constraint=None,\n",
        "               bias_constraint=None,\n",
        "               trainable=True,\n",
        "               name=None,\n",
        "               **kwargs):\n",
        "        super(CausalConv1D, self).__init__(\n",
        "            filters=filters,\n",
        "            kernel_size=kernel_size,\n",
        "            strides=strides,\n",
        "            padding='valid',\n",
        "            data_format='channels_last',\n",
        "            dilation_rate=dilation_rate,\n",
        "            activation=activation,\n",
        "            use_bias=use_bias,\n",
        "            kernel_initializer=kernel_initializer,\n",
        "            bias_initializer=bias_initializer,\n",
        "            kernel_regularizer=kernel_regularizer,\n",
        "            bias_regularizer=bias_regularizer,\n",
        "            activity_regularizer=activity_regularizer,\n",
        "            kernel_constraint=kernel_constraint,\n",
        "            bias_constraint=bias_constraint,\n",
        "            trainable=trainable,\n",
        "            name=name, **kwargs\n",
        "        )\n",
        "       \n",
        "    def call(self, inputs):\n",
        "        padding = (self.kernel_size[0] - 1) * self.dilation_rate[0]\n",
        "        inputs = tf.pad(inputs, tf.constant([(0, 0,), (1, 0), (0, 0)]) * padding)\n",
        "        return super(CausalConv1D, self).call(inputs)"
      ],
      "execution_count": 0,
      "outputs": []
    },
    {
      "cell_type": "code",
      "metadata": {
        "id": "ufQzCFWUj0yo",
        "colab_type": "code",
        "colab": {}
      },
      "source": [
        "class TemporalBlock(tf.layers.Layer):\n",
        "    def __init__(self, n_outputs, kernel_size, strides, dilation_rate, dropout=0.2, \n",
        "                 trainable=True, name=None, dtype=None, batch_size=32,\n",
        "                 activity_regularizer=None, **kwargs):\n",
        "        super(TemporalBlock, self).__init__(\n",
        "            trainable=trainable, dtype=dtype,\n",
        "            activity_regularizer=activity_regularizer,\n",
        "            name=name, **kwargs\n",
        "        )        \n",
        "        self.dropout = dropout\n",
        "        self.batch_size = tf.cast(batch_size, tf.int32)\n",
        "        self.n_outputs = n_outputs\n",
        "        self.conv1 = CausalConv1D(\n",
        "            n_outputs, kernel_size, strides=strides, \n",
        "            dilation_rate=dilation_rate, activation=tf.nn.relu, \n",
        "            name=\"conv1\")\n",
        "        self.conv2 = CausalConv1D(\n",
        "            n_outputs, kernel_size, strides=strides, \n",
        "            dilation_rate=dilation_rate, activation=tf.nn.relu, \n",
        "            name=\"conv2\")\n",
        "        self.down_sample = None\n",
        "\n",
        "    \n",
        "    def build(self, input_shape):\n",
        "        channel_dim = 2\n",
        "        self.dropout1 = tf.layers.Dropout(self.dropout, [self.batch_size, tf.constant(1), tf.constant(self.n_outputs)])\n",
        "        self.dropout2 = tf.layers.Dropout(self.dropout, [self.batch_size, tf.constant(1), tf.constant(self.n_outputs)])\n",
        "        if input_shape[channel_dim] != self.n_outputs:\n",
        "            # self.down_sample = tf.layers.Conv1D(\n",
        "            #     self.n_outputs, kernel_size=1, \n",
        "            #     activation=None, data_format=\"channels_last\", padding=\"valid\")\n",
        "            self.down_sample = tf.layers.Dense(self.n_outputs, activation=None)\n",
        "        self.built = True\n",
        "    \n",
        "    def call(self, inputs, training=True):\n",
        "        x = self.conv1(inputs)\n",
        "        x = tf.contrib.layers.layer_norm(x)\n",
        "        x = self.dropout1(x, training=training)\n",
        "        x = self.conv2(x)\n",
        "        x = tf.contrib.layers.layer_norm(x)\n",
        "        x = self.dropout2(x, training=training)\n",
        "        if self.down_sample is not None:\n",
        "            inputs = self.down_sample(inputs)\n",
        "        return tf.nn.relu(x + inputs)"
      ],
      "execution_count": 0,
      "outputs": []
    },
    {
      "cell_type": "code",
      "metadata": {
        "id": "rqaKofvPj3RC",
        "colab_type": "code",
        "colab": {}
      },
      "source": [
        "class TemporalConvNet(tf.layers.Layer):\n",
        "    def __init__(self, num_channels, kernel_size=2, dropout=0.2,\n",
        "                 trainable=True, name=None, dtype=None, batch_size=32,\n",
        "                 activity_regularizer=None, **kwargs):\n",
        "        super(TemporalConvNet, self).__init__(\n",
        "            trainable=trainable, dtype=dtype,\n",
        "            activity_regularizer=activity_regularizer,\n",
        "            name=name, **kwargs\n",
        "        )\n",
        "        self.layers = []\n",
        "        num_levels = len(num_channels)\n",
        "        for i in range(num_levels):\n",
        "            dilation_size = 2 ** i\n",
        "            out_channels = num_channels[i]\n",
        "            self.layers.append(\n",
        "                TemporalBlock(\n",
        "                    out_channels, kernel_size, strides=1, \n",
        "                    dilation_rate=dilation_size, batch_size=batch_size,\n",
        "                    dropout=dropout, name=\"tblock_{}\".format(i))\n",
        "            )\n",
        "    \n",
        "    def call(self, inputs, training=True):\n",
        "        outputs = inputs\n",
        "        for layer in self.layers:\n",
        "            outputs = layer(outputs, training=training)\n",
        "        return outputs"
      ],
      "execution_count": 0,
      "outputs": []
    },
    {
      "cell_type": "markdown",
      "metadata": {
        "id": "thsCJm4hkBRm",
        "colab_type": "text"
      },
      "source": [
        "Build the Model"
      ]
    },
    {
      "cell_type": "code",
      "metadata": {
        "id": "a1Rb9GSCGt2s",
        "colab_type": "code",
        "colab": {
          "base_uri": "https://localhost:8080/",
          "height": 34
        },
        "outputId": "316b6309-f7a1-45d0-90c3-68ff637a4451"
      },
      "source": [
        "# Training Parameters\n",
        "learning_rate = 0.001\n",
        "batch_size = 32\n",
        "display_step = 500\n",
        "print(\"Total batches per epoch:\", np.ceil(train_images.shape[0] / batch_size))\n",
        "training_steps = 10000\n",
        "\n",
        "# Network Parameters\n",
        "num_input = 1 # MNIST data input (img shape: 28*28)\n",
        "timesteps = 28 * 28 # timesteps\n",
        "num_classes = 10 # MNIST total classes (0-9 digits)\n",
        "dropout = 0.05\n",
        "kernel_size = 8\n",
        "levels = 6\n",
        "nhid = 24 # hidden layer num of features"
      ],
      "execution_count": 9,
      "outputs": [
        {
          "output_type": "stream",
          "text": [
            "Total batches per epoch: 1563.0\n"
          ],
          "name": "stdout"
        }
      ]
    },
    {
      "cell_type": "code",
      "metadata": {
        "id": "Xcou628PoptJ",
        "colab_type": "code",
        "colab": {}
      },
      "source": [
        "def process_batch(batch_x, batch_y):\n",
        "    return tf.expand_dims(batch_x, -1), tf.one_hot(batch_y, num_classes)"
      ],
      "execution_count": 0,
      "outputs": []
    },
    {
      "cell_type": "code",
      "metadata": {
        "id": "Q2bOgjd_iN0y",
        "colab_type": "code",
        "colab": {
          "base_uri": "https://localhost:8080/",
          "height": 522
        },
        "outputId": "07349485-b39f-444d-bacf-aa26be516b39"
      },
      "source": [
        "tf.reset_default_graph()\n",
        "graph = tf.Graph()\n",
        "with graph.as_default():\n",
        "    tf.set_random_seed(10)\n",
        "    \n",
        "    with tf.variable_scope(\"datasets\"):\n",
        "        training_batch_size = tf.placeholder(tf.int64) # tf.constant(32, dtype=\"int64\")\n",
        "        inference_batch_size = tf.placeholder(tf.int64) # tf.constant(500, dtype=\"int64\")\n",
        "        is_training = tf.placeholder(\"bool\")\n",
        "\n",
        "        fminst_ds_train = tf.data.Dataset.from_tensor_slices(\n",
        "            (train_images.iloc[:, 1:].astype(\"float32\") / 255, train_images.iloc[:, 0].astype(\"int32\"))\n",
        "        ).shuffle(50000, reshuffle_each_iteration=True).repeat().batch(training_batch_size).map(process_batch)\n",
        "        fminst_ds_val = tf.data.Dataset.from_tensor_slices(\n",
        "            (val_images.iloc[:, 1:].astype(\"float32\") / 255, val_images.iloc[:, 0].astype(\"int32\"))\n",
        "        ).repeat().batch(inference_batch_size).map(process_batch)\n",
        "        fminst_ds_test = tf.data.Dataset.from_tensor_slices((\n",
        "            test_images.iloc[:, 1:].astype(\"float32\") / 255, test_images.iloc[:, 0].astype(\"int32\"))\n",
        "        ).repeat().batch(inference_batch_size).map(process_batch)\n",
        "\n",
        "        handle = tf.placeholder(tf.string, shape=[])\n",
        "        iterator = tf.data.Iterator.from_string_handle(\n",
        "            handle, fminst_ds_train.output_types, fminst_ds_train.output_shapes)\n",
        "\n",
        "        train_iterator = fminst_ds_train.make_initializable_iterator()\n",
        "        val_iterator = fminst_ds_val.make_initializable_iterator()\n",
        "        test_iterator = fminst_ds_test.make_initializable_iterator() \n",
        "    \n",
        "    X_0, Y = iterator.get_next()\n",
        "    X = tf.reshape(X_0, (-1, timesteps, num_input))\n",
        "\n",
        "    # Define weights\n",
        "    logits = tf.layers.dense(\n",
        "        TemporalConvNet(\n",
        "            [nhid] * levels, kernel_size, dropout, \n",
        "            batch_size=tf.shape(X)[0])(\n",
        "            X, training=is_training)[:, -1, :],\n",
        "        num_classes, activation=None, \n",
        "        kernel_initializer=tf.orthogonal_initializer()\n",
        "    )\n",
        "    prediction = tf.nn.softmax(logits)\n",
        "   \n",
        "    with tf.name_scope(\"loss\"):\n",
        "        # Define loss and optimizer\n",
        "        loss = tf.reduce_mean(tf.nn.softmax_cross_entropy_with_logits_v2(\n",
        "            logits=logits, labels=Y))\n",
        "        ema_loss = tf.get_variable(\"ema_loss\", shape=[], dtype=tf.float32, trainable=False, initializer=tf.constant_initializer(2.5))\n",
        "        ema_update = ema_loss.assign(ema_loss * 0.99 + loss * 0.01)\n",
        "    tf.summary.scalar('Loss', ema_loss)\n",
        "    \n",
        "    with tf.variable_scope(\"optimizer\"):\n",
        "        optimizer = tf.train.AdamOptimizer(learning_rate=learning_rate)\n",
        "        with tf.control_dependencies([ema_update]):\n",
        "            train_op = optimizer.minimize(loss)\n",
        "\n",
        "    with tf.variable_scope(\"inference\"):\n",
        "        # Evaluate model (with test logits, for dropout to be disabled)\n",
        "        correct_pred = tf.equal(tf.argmax(prediction, 1), tf.argmax(Y, 1))\n",
        "        accuracy = tf.reduce_mean(tf.cast(correct_pred, tf.float32))\n",
        "            \n",
        "    # Initialize the variables (i.e. assign their default value)\n",
        "    init = tf.global_variables_initializer()\n",
        "    saver = tf.train.Saver()\n",
        "    merged_summary_op = tf.summary.merge_all()\n",
        "    print(\"All parameters:\", np.sum([np.product([xi.value for xi in x.get_shape()]) for x in tf.global_variables()]))\n",
        "    print(\"Trainable parameters:\", np.sum([np.product([xi.value for xi in x.get_shape()]) for x in tf.trainable_variables()]))"
      ],
      "execution_count": 11,
      "outputs": [
        {
          "output_type": "stream",
          "text": [
            "WARNING:tensorflow:From /usr/local/lib/python3.6/dist-packages/tensorflow_core/python/data/util/random_seed.py:58: where (from tensorflow.python.ops.array_ops) is deprecated and will be removed in a future version.\n",
            "Instructions for updating:\n",
            "Use tf.where in 2.0, which has the same broadcast rule as np.where\n",
            "WARNING:tensorflow:From <ipython-input-11-c4082c3ea352>:23: DatasetV1.output_types (from tensorflow.python.data.ops.dataset_ops) is deprecated and will be removed in a future version.\n",
            "Instructions for updating:\n",
            "Use `tf.compat.v1.data.get_output_types(dataset)`.\n",
            "WARNING:tensorflow:From <ipython-input-11-c4082c3ea352>:23: DatasetV1.output_shapes (from tensorflow.python.data.ops.dataset_ops) is deprecated and will be removed in a future version.\n",
            "Instructions for updating:\n",
            "Use `tf.compat.v1.data.get_output_shapes(dataset)`.\n",
            "WARNING:tensorflow:From <ipython-input-11-c4082c3ea352>:25: DatasetV1.make_initializable_iterator (from tensorflow.python.data.ops.dataset_ops) is deprecated and will be removed in a future version.\n",
            "Instructions for updating:\n",
            "Use `for ... in dataset:` to iterate over a dataset. If using `tf.estimator`, return the `Dataset` object directly from your input function. As a last resort, you can use `tf.compat.v1.data.make_initializable_iterator(dataset)`.\n",
            "WARNING:tensorflow:\n",
            "The TensorFlow contrib module will not be included in TensorFlow 2.0.\n",
            "For more information, please see:\n",
            "  * https://github.com/tensorflow/community/blob/master/rfcs/20180907-contrib-sunset.md\n",
            "  * https://github.com/tensorflow/addons\n",
            "  * https://github.com/tensorflow/io (for I/O related ops)\n",
            "If you depend on functionality not listed there, please file an issue.\n",
            "\n",
            "WARNING:tensorflow:From <ipython-input-11-c4082c3ea352>:39: dense (from tensorflow.python.layers.core) is deprecated and will be removed in a future version.\n",
            "Instructions for updating:\n",
            "Use keras.layers.Dense instead.\n",
            "WARNING:tensorflow:From /usr/local/lib/python3.6/dist-packages/tensorflow_core/python/layers/core.py:187: Layer.apply (from tensorflow.python.keras.engine.base_layer) is deprecated and will be removed in a future version.\n",
            "Instructions for updating:\n",
            "Please use `layer.__call__` method instead.\n",
            "All parameters: 156129.0\n",
            "Trainable parameters: 52042\n"
          ],
          "name": "stdout"
        }
      ]
    },
    {
      "cell_type": "markdown",
      "metadata": {
        "id": "5F8wt-PJk0U-",
        "colab_type": "text"
      },
      "source": [
        "Training and Evaluating"
      ]
    },
    {
      "cell_type": "code",
      "metadata": {
        "id": "GlGksFu5kxFs",
        "colab_type": "code",
        "colab": {
          "base_uri": "https://localhost:8080/",
          "height": 623
        },
        "outputId": "3c3408c6-9a20-4ce0-b495-d6a947a1b523"
      },
      "source": [
        "# Start training\n",
        "config = tf.ConfigProto()\n",
        "config.gpu_options.allow_growth = True\n",
        "best_val_acc = 0.8\n",
        "\n",
        "train_writer = tf.summary.FileWriter(\"logs/fminst_tcn/%s/train\" % datetime.now().strftime(\"%Y%m%d_%H%M\"), graph)\n",
        "val_writer = tf.summary.FileWriter(\"logs/fminst_tcn/%s/val\" % datetime.now().strftime(\"%Y%m%d_%H%M\"))\n",
        "\n",
        "with tf.Session(graph=graph, config=config) as sess:\n",
        "    # Run the initializer    \n",
        "    sess.run(init) \n",
        "    sess.run([train_iterator.initializer, val_iterator.initializer, test_iterator.initializer],\n",
        "             feed_dict={training_batch_size: batch_size, inference_batch_size: 500})\n",
        "    train_handle, val_handle, test_handle = sess.run(\n",
        "        [train_iterator.string_handle(), val_iterator.string_handle(), test_iterator.string_handle()])\n",
        "    for step in range(1, training_steps+1):\n",
        "        sess.run([train_op], feed_dict={handle: train_handle, is_training: True})\n",
        "        \n",
        "        if step % display_step == 0 or step == 1:\n",
        "            # Calculate batch loss and accuracy\n",
        "            loss_local, acc, summary = sess.run(\n",
        "                [loss, accuracy, merged_summary_op], \n",
        "                feed_dict={handle: train_handle, is_training: False})\n",
        "            train_writer.add_summary(summary, global_step=step)\n",
        "            train_writer.flush()            \n",
        "            val_acc, val_loss = [], []\n",
        "            for _ in range(20):\n",
        "                tmp = sess.run(\n",
        "                    [accuracy, loss], \n",
        "                    feed_dict={handle: val_handle, is_training: False})\n",
        "                val_acc.append(tmp[0])\n",
        "                val_loss.append(tmp[1])\n",
        "            summary = tf.Summary()\n",
        "            val_loss = np.mean(val_loss)            \n",
        "            val_acc = np.mean(val_acc)            \n",
        "            summary.value.add(tag='Loss', simple_value=val_loss)\n",
        "            val_writer.add_summary(summary, global_step=step)\n",
        "            val_writer.flush() \n",
        "            print(\"Step \" + str(step) + \", Train Batch Loss= \" + \\\n",
        "                  \"{:.4f}\".format(loss_local) + \", Training Accuracy= \" + \\\n",
        "                  \"{:.3f}\".format(acc) + \", Val Accuracy= \" + \\\n",
        "                  \"{:.3f}\".format(val_acc))\n",
        "            if val_acc > best_val_acc:\n",
        "                best_val_acc = val_acc\n",
        "                save_path = saver.save(sess, \"/tmp/model.ckpt\")\n",
        "                print(\"Model saved in path: %s\" % save_path)  \n",
        "    test_acc = []\n",
        "    for _ in range(20):\n",
        "        test_acc.append(sess.run(accuracy, feed_dict={handle: test_handle, is_training: False}))\n",
        "    test_acc = np.mean(test_acc)\n",
        "    print(\"Test Accuracy= {:.3f}\".format(test_acc))                \n",
        "    print(\"Optimization Finished!\")\n",
        "    \n",
        "train_writer.close()\n",
        "val_writer.close()"
      ],
      "execution_count": 15,
      "outputs": [
        {
          "output_type": "stream",
          "text": [
            "Step 1, Train Batch Loss= 4.1810, Training Accuracy= 0.094, Val Accuracy= 0.076\n",
            "Step 500, Train Batch Loss= 0.6465, Training Accuracy= 0.812, Val Accuracy= 0.778\n",
            "Step 1000, Train Batch Loss= 0.7379, Training Accuracy= 0.656, Val Accuracy= 0.823\n",
            "Model saved in path: /tmp/model.ckpt\n",
            "Step 1500, Train Batch Loss= 0.4148, Training Accuracy= 0.844, Val Accuracy= 0.838\n",
            "Model saved in path: /tmp/model.ckpt\n",
            "Step 2000, Train Batch Loss= 0.2062, Training Accuracy= 0.906, Val Accuracy= 0.855\n",
            "Model saved in path: /tmp/model.ckpt\n",
            "Step 2500, Train Batch Loss= 0.4277, Training Accuracy= 0.781, Val Accuracy= 0.859\n",
            "Model saved in path: /tmp/model.ckpt\n",
            "Step 3000, Train Batch Loss= 0.3055, Training Accuracy= 0.875, Val Accuracy= 0.870\n",
            "Model saved in path: /tmp/model.ckpt\n",
            "Step 3500, Train Batch Loss= 0.3222, Training Accuracy= 0.906, Val Accuracy= 0.872\n",
            "Model saved in path: /tmp/model.ckpt\n",
            "Step 4000, Train Batch Loss= 0.5693, Training Accuracy= 0.750, Val Accuracy= 0.881\n",
            "Model saved in path: /tmp/model.ckpt\n",
            "Step 4500, Train Batch Loss= 0.4439, Training Accuracy= 0.812, Val Accuracy= 0.879\n",
            "Step 5000, Train Batch Loss= 0.1480, Training Accuracy= 0.969, Val Accuracy= 0.885\n",
            "Model saved in path: /tmp/model.ckpt\n",
            "Step 5500, Train Batch Loss= 0.4353, Training Accuracy= 0.812, Val Accuracy= 0.889\n",
            "Model saved in path: /tmp/model.ckpt\n",
            "Step 6000, Train Batch Loss= 0.5219, Training Accuracy= 0.781, Val Accuracy= 0.881\n",
            "Step 6500, Train Batch Loss= 0.2766, Training Accuracy= 0.875, Val Accuracy= 0.887\n",
            "Step 7000, Train Batch Loss= 0.1796, Training Accuracy= 0.969, Val Accuracy= 0.883\n",
            "Step 7500, Train Batch Loss= 0.3946, Training Accuracy= 0.844, Val Accuracy= 0.892\n",
            "Model saved in path: /tmp/model.ckpt\n",
            "Step 8000, Train Batch Loss= 0.2108, Training Accuracy= 0.938, Val Accuracy= 0.887\n",
            "Step 8500, Train Batch Loss= 0.1349, Training Accuracy= 0.938, Val Accuracy= 0.896\n",
            "Model saved in path: /tmp/model.ckpt\n",
            "Step 9000, Train Batch Loss= 0.1595, Training Accuracy= 0.938, Val Accuracy= 0.888\n",
            "Step 9500, Train Batch Loss= 0.2518, Training Accuracy= 0.938, Val Accuracy= 0.893\n",
            "Step 10000, Train Batch Loss= 0.1303, Training Accuracy= 0.969, Val Accuracy= 0.899\n",
            "Model saved in path: /tmp/model.ckpt\n",
            "Test Accuracy= 0.883\n",
            "Optimization Finished!\n"
          ],
          "name": "stdout"
        }
      ]
    },
    {
      "cell_type": "code",
      "metadata": {
        "id": "KzmALeKpH1pV",
        "colab_type": "code",
        "colab": {
          "base_uri": "https://localhost:8080/",
          "height": 51
        },
        "outputId": "efc029be-dc19-4d89-b8ba-2986c0f119ef"
      },
      "source": [
        "with tf.Session(graph=graph, config=config) as sess:\n",
        "    saver.restore(sess, '/tmp/model.ckpt')\n",
        "    sess.run(test_iterator.initializer,\n",
        "             feed_dict={inference_batch_size: 500})\n",
        "    test_handle = sess.run(test_iterator.string_handle())    \n",
        "    test_acc = []\n",
        "    for _ in range(20):\n",
        "        test_acc.append(sess.run(accuracy, feed_dict={handle: test_handle, is_training: False}))\n",
        "    test_acc = np.mean(test_acc)\n",
        "    print(\"Test Accuracy= {:.3f}\".format(test_acc))"
      ],
      "execution_count": 17,
      "outputs": [
        {
          "output_type": "stream",
          "text": [
            "INFO:tensorflow:Restoring parameters from /tmp/model.ckpt\n",
            "Test Accuracy= 0.883\n"
          ],
          "name": "stdout"
        }
      ]
    },
    {
      "cell_type": "markdown",
      "metadata": {
        "id": "xI4lXYE1zZ37",
        "colab_type": "text"
      },
      "source": [
        "Keras"
      ]
    },
    {
      "cell_type": "code",
      "metadata": {
        "colab_type": "code",
        "id": "mNwwek3OzXTJ",
        "colab": {}
      },
      "source": [
        "# load train and test dataset\n",
        "# functions from https://machinelearningmastery.com/how-to-develop-a-cnn-from-scratch-for-fashion-mnist-clothing-classification/\n",
        "def load_dataset():\n",
        "\t# load dataset\n",
        "\t(trainX, trainY), (testX, testY) = fashion_mnist.load_data()\n",
        "\t# reshape dataset to have a single channel\n",
        "\ttrainX = trainX.reshape((trainX.shape[0], 28, 28, 1))\n",
        "\ttestX = testX.reshape((testX.shape[0], 28, 28, 1))\n",
        "\t# one hot encode target values\n",
        "\ttrainY = to_categorical(trainY)\n",
        "\ttestY = to_categorical(testY)\n",
        "\treturn trainX, trainY, testX, testY\n",
        "\n",
        "# scale pixels\n",
        "def prep_pixels(train, test):\n",
        "\t# convert from integers to floats\n",
        "\ttrain_norm = train.astype('float32')\n",
        "\ttest_norm = test.astype('float32')\n",
        "\t# normalize to range 0-1\n",
        "\ttrain_norm = train_norm / 255.0\n",
        "\ttest_norm = test_norm / 255.0\n",
        "\t# return normalized images\n",
        "\treturn train_norm, test_norm\n",
        "\n",
        "# plot diagnostic learning curves\n",
        "def summarize_diagnostics(histories):\n",
        "\tfor i in range(len(histories)):\n",
        "\t\t# plot loss\n",
        "\t\tpyplot.subplot(211)\n",
        "\t\tpyplot.title('Cross Entropy Loss')\n",
        "\t\tpyplot.plot(histories[i].history['loss'], color='blue', label='train')\n",
        "\t\tpyplot.plot(histories[i].history['val_loss'], color='orange', label='test')\n",
        "\t\t# plot accuracy\n",
        "\t\tpyplot.subplot(212)\n",
        "\t\tpyplot.title('Classification Accuracy')\n",
        "\t\tpyplot.plot(histories[i].history['acc'], color='blue', label='train')\n",
        "\t\tpyplot.plot(histories[i].history['val_acc'], color='orange', label='test')\n",
        "\tpyplot.show()\n",
        "\n",
        "def summarize_performance(scores):\n",
        "\t# print summary\n",
        "\tprint('Accuracy: mean=%.3f std=%.3f, n=%d' % (mean(scores)*100, std(scores)*100, len(scores)))\n",
        "\t# box and whisker plots of results\n",
        "\tpyplot.boxplot(scores)\n",
        "\tpyplot.show()\n",
        "\n",
        "# evaluate a model using k-fold cross-validation\n",
        "def evaluate_model(dataX, dataY, n_folds=5):\n",
        "\tscores, histories = list(), list()\n",
        "\t# prepare cross validation\n",
        "\tkfold = KFold(n_folds, shuffle=True, random_state=1)\n",
        "\t# enumerate splits\n",
        "\tfor train_ix, test_ix in kfold.split(dataX):\n",
        "\t\t# define model\n",
        "\t\tmodel = define_model()\n",
        "\t\t# select rows for train and test\n",
        "\t\ttrainX, trainY, testX, testY = dataX[train_ix], dataY[train_ix], dataX[test_ix], dataY[test_ix]\n",
        "\t\t# fit model\n",
        "\t\thistory = model.fit(trainX, trainY, epochs=10, batch_size=32, validation_data=(testX, testY), verbose=0)\n",
        "\t\t# evaluate model\n",
        "\t\t_, acc = model.evaluate(testX, testY, verbose=0)\n",
        "\t\tprint('> %.3f' % (acc * 100.0))\n",
        "\t\t# append scores\n",
        "\t\tscores.append(acc)\n",
        "\t\thistories.append(history)\n",
        "\treturn scores, histories, model"
      ],
      "execution_count": 0,
      "outputs": []
    },
    {
      "cell_type": "code",
      "metadata": {
        "id": "YS0E9GrPAD5N",
        "colab_type": "code",
        "outputId": "e9dba4d8-42ef-4f77-a860-d3e2036b156b",
        "colab": {
          "base_uri": "https://localhost:8080/",
          "height": 1000
        }
      },
      "source": [
        "# define cnn model with convoloution\n",
        "def define_model():\n",
        "\tmodel = Sequential()\n",
        "\tmodel.add(Conv2D(32, (3, 3), activation='relu', kernel_initializer='he_uniform', input_shape=(28, 28, 1)))\n",
        "\tmodel.add(MaxPooling2D((2, 2)))\n",
        "\tmodel.add(Flatten())\n",
        "\tmodel.add(Dense(100, activation='relu', kernel_initializer='he_uniform'))\n",
        "\tmodel.add(Dense(10, activation='softmax'))\n",
        "\t# compile model\n",
        "\topt = SGD(lr=0.01, momentum=0.9)\n",
        "\tmodel.compile(optimizer=opt, loss='categorical_crossentropy', metrics=['accuracy'])\n",
        "\treturn model\n",
        "\n",
        "# run\n",
        "# load dataset\n",
        "trainX, trainY, testX, testY = load_dataset()\n",
        "# prepare pixel data\n",
        "trainX, testX = prep_pixels(trainX, testX)\n",
        "# evaluate model\n",
        "scores, histories, model = evaluate_model(trainX, trainY)\n",
        "# learning curves\n",
        "summarize_diagnostics(histories)\n",
        "# summarize estimated performance\n",
        "summarize_performance(scores)\n",
        "\n",
        "# time: 1445s\n",
        "# 91.148 std=0.346, n=5"
      ],
      "execution_count": 41,
      "outputs": [
        {
          "output_type": "stream",
          "text": [
            "Downloading data from http://fashion-mnist.s3-website.eu-central-1.amazonaws.com/train-labels-idx1-ubyte.gz\n",
            "32768/29515 [=================================] - 0s 9us/step\n",
            "Downloading data from http://fashion-mnist.s3-website.eu-central-1.amazonaws.com/train-images-idx3-ubyte.gz\n",
            "26427392/26421880 [==============================] - 4s 0us/step\n",
            "Downloading data from http://fashion-mnist.s3-website.eu-central-1.amazonaws.com/t10k-labels-idx1-ubyte.gz\n",
            "8192/5148 [===============================================] - 0s 0us/step\n",
            "Downloading data from http://fashion-mnist.s3-website.eu-central-1.amazonaws.com/t10k-images-idx3-ubyte.gz\n",
            "4423680/4422102 [==============================] - 2s 1us/step\n",
            "WARNING:tensorflow:From /usr/local/lib/python3.6/dist-packages/keras/backend/tensorflow_backend.py:66: The name tf.get_default_graph is deprecated. Please use tf.compat.v1.get_default_graph instead.\n",
            "\n",
            "WARNING:tensorflow:From /usr/local/lib/python3.6/dist-packages/keras/backend/tensorflow_backend.py:4432: The name tf.random_uniform is deprecated. Please use tf.random.uniform instead.\n",
            "\n",
            "WARNING:tensorflow:From /usr/local/lib/python3.6/dist-packages/keras/backend/tensorflow_backend.py:4267: The name tf.nn.max_pool is deprecated. Please use tf.nn.max_pool2d instead.\n",
            "\n",
            "WARNING:tensorflow:From /usr/local/lib/python3.6/dist-packages/keras/optimizers.py:793: The name tf.train.Optimizer is deprecated. Please use tf.compat.v1.train.Optimizer instead.\n",
            "\n",
            "WARNING:tensorflow:From /usr/local/lib/python3.6/dist-packages/keras/backend/tensorflow_backend.py:3576: The name tf.log is deprecated. Please use tf.math.log instead.\n",
            "\n",
            "WARNING:tensorflow:From /usr/local/lib/python3.6/dist-packages/keras/backend/tensorflow_backend.py:1033: The name tf.assign_add is deprecated. Please use tf.compat.v1.assign_add instead.\n",
            "\n",
            "WARNING:tensorflow:From /usr/local/lib/python3.6/dist-packages/keras/backend/tensorflow_backend.py:1020: The name tf.assign is deprecated. Please use tf.compat.v1.assign instead.\n",
            "\n",
            "WARNING:tensorflow:From /usr/local/lib/python3.6/dist-packages/keras/backend/tensorflow_backend.py:190: The name tf.get_default_session is deprecated. Please use tf.compat.v1.get_default_session instead.\n",
            "\n",
            "WARNING:tensorflow:From /usr/local/lib/python3.6/dist-packages/keras/backend/tensorflow_backend.py:216: The name tf.is_variable_initialized is deprecated. Please use tf.compat.v1.is_variable_initialized instead.\n",
            "\n",
            "WARNING:tensorflow:From /usr/local/lib/python3.6/dist-packages/keras/backend/tensorflow_backend.py:223: The name tf.variables_initializer is deprecated. Please use tf.compat.v1.variables_initializer instead.\n",
            "\n",
            "> 91.175\n",
            "> 91.633\n",
            "> 91.042\n",
            "> 90.883\n",
            "> 91.558\n"
          ],
          "name": "stdout"
        },
        {
          "output_type": "display_data",
          "data": {
            "image/png": "[encoded data removed]",
            "text/plain": [
              "<Figure size 432x288 with 2 Axes>"
            ]
          },
          "metadata": {
            "tags": []
          }
        },
        {
          "output_type": "stream",
          "text": [
            "Accuracy: mean=91.258 std=0.292, n=5\n"
          ],
          "name": "stdout"
        },
        {
          "output_type": "display_data",
          "data": {
            "image/png": "[encoded data removed]",
            "text/plain": [
              "<Figure size 432x288 with 1 Axes>"
            ]
          },
          "metadata": {
            "tags": []
          }
        }
      ]
    },
    {
      "cell_type": "code",
      "metadata": {
        "id": "vBAv064nPJ8d",
        "colab_type": "code",
        "outputId": "0534d98e-1e40-44a9-c5a9-0fcbd35c78a1",
        "colab": {
          "base_uri": "https://localhost:8080/",
          "height": 633
        }
      },
      "source": [
        "# add padded convolutions and rerun\n",
        "# time: 1503s\n",
        "# mean acc: 91.07\n",
        "\n",
        "# define cnn model\n",
        "def define_model():\n",
        "\tmodel = Sequential()\n",
        "\tmodel.add(Conv2D(32, (3, 3), padding='same', activation='relu', kernel_initializer='he_uniform', input_shape=(28, 28, 1)))\n",
        "\tmodel.add(MaxPooling2D((2, 2)))\n",
        "\tmodel.add(Flatten())\n",
        "\tmodel.add(Dense(100, activation='relu', kernel_initializer='he_uniform'))\n",
        "\tmodel.add(Dense(10, activation='softmax'))\n",
        "\t# compile model\n",
        "\topt = SGD(lr=0.01, momentum=0.9)\n",
        "\tmodel.compile(optimizer=opt, loss='categorical_crossentropy', metrics=['accuracy'])\n",
        "\treturn model\n",
        "\n",
        "# load dataset\n",
        "trainX, trainY, testX, testY = load_dataset()\n",
        "# prepare pixel data\n",
        "trainX, testX = prep_pixels(trainX, testX)\n",
        "# evaluate model\n",
        "scores, histories, model = evaluate_model(trainX, trainY)\n",
        "# learning curves\n",
        "summarize_diagnostics(histories)\n",
        "# summarize estimated performance\n",
        "summarize_performance(scores)"
      ],
      "execution_count": 56,
      "outputs": [
        {
          "output_type": "stream",
          "text": [
            "> 91.008\n",
            "> 91.758\n",
            "> 91.058\n",
            "> 91.092\n",
            "> 91.117\n"
          ],
          "name": "stdout"
        },
        {
          "output_type": "display_data",
          "data": {
            "image/png": "[encoded data removed]",
            "text/plain": [
              "<Figure size 432x288 with 2 Axes>"
            ]
          },
          "metadata": {
            "tags": []
          }
        },
        {
          "output_type": "stream",
          "text": [
            "Accuracy: mean=91.207 std=0.278, n=5\n"
          ],
          "name": "stdout"
        },
        {
          "output_type": "display_data",
          "data": {
            "image/png": "[encoded data removed]",
            "text/plain": [
              "<Figure size 432x288 with 1 Axes>"
            ]
          },
          "metadata": {
            "tags": []
          }
        }
      ]
    },
    {
      "cell_type": "code",
      "metadata": {
        "id": "YrisczdWUXHm",
        "colab_type": "code",
        "outputId": "818ecd46-e4cd-4eea-d644-2a8698b887cf",
        "colab": {
          "base_uri": "https://localhost:8080/",
          "height": 633
        }
      },
      "source": [
        "# add filters and rerun\n",
        "def define_model():\n",
        "\tmodel = Sequential()\n",
        "\tmodel.add(Conv2D(64, (3, 3), padding='same', activation='relu', kernel_initializer='he_uniform', input_shape=(28, 28, 1)))\n",
        "\tmodel.add(MaxPooling2D((2, 2)))\n",
        "\tmodel.add(Flatten())\n",
        "\tmodel.add(Dense(100, activation='relu', kernel_initializer='he_uniform'))\n",
        "\tmodel.add(Dense(10, activation='softmax'))\n",
        "\t# compile model\n",
        "\topt = SGD(lr=0.01, momentum=0.9)\n",
        "\tmodel.compile(optimizer=opt, loss='categorical_crossentropy', metrics=['accuracy'])\n",
        "\treturn model\n",
        "\n",
        "# load dataset\n",
        "trainX, trainY, testX, testY = load_dataset()\n",
        "# prepare pixel data\n",
        "trainX, testX = prep_pixels(trainX, testX)\n",
        "# evaluate model\n",
        "scores, histories, model = evaluate_model(trainX, trainY)\n",
        "# learning curves\n",
        "summarize_diagnostics(histories)\n",
        "# summarize estimated performance\n",
        "summarize_performance(scores)\n",
        "\n",
        "# 2397s cpu=none, 318s cpu=gpu\n",
        "# mean acc: 91.175"
      ],
      "execution_count": 55,
      "outputs": [
        {
          "output_type": "stream",
          "text": [
            "> 91.017\n",
            "> 91.508\n",
            "> 90.925\n",
            "> 91.558\n",
            "> 91.608\n"
          ],
          "name": "stdout"
        },
        {
          "output_type": "display_data",
          "data": {
            "image/png": "[encoded data removed]",
            "text/plain": [
              "<Figure size 432x288 with 2 Axes>"
            ]
          },
          "metadata": {
            "tags": []
          }
        },
        {
          "output_type": "stream",
          "text": [
            "Accuracy: mean=91.323 std=0.291, n=5\n"
          ],
          "name": "stdout"
        },
        {
          "output_type": "display_data",
          "data": {
            "image/png": "[encoded data removed]",
            "text/plain": [
              "<Figure size 432x288 with 1 Axes>"
            ]
          },
          "metadata": {
            "tags": []
          }
        }
      ]
    },
    {
      "cell_type": "code",
      "metadata": {
        "id": "3ymC_1QZvd2-",
        "colab_type": "code",
        "colab": {
          "base_uri": "https://localhost:8080/",
          "height": 633
        },
        "outputId": "92f10a7d-f9f4-4541-a8ef-a65c1ea9ecc1"
      },
      "source": [
        "from keras.models import Sequential\n",
        "from keras.layers.normalization import BatchNormalization\n",
        "from keras.layers.convolutional import Conv2D\n",
        "from keras.layers.convolutional import MaxPooling2D\n",
        "from keras.layers.core import Activation\n",
        "from keras.layers.core import Flatten\n",
        "from keras.layers.core import Dropout\n",
        "from keras.layers.core import Dense\n",
        "from keras import backend as K\n",
        "\n",
        "# add filters and rerun\n",
        "def define_model():\n",
        "\n",
        "\tchanDim = -1  \n",
        "\tclasses = 10\n",
        "\tmodel = Sequential()\n",
        "  # first CONV => RELU => CONV => RELU => POOL layer set\n",
        "\tmodel.add(Conv2D(32, (3, 3), padding='same', input_shape=(28, 28, 1)))\n",
        "\tmodel.add(Activation(\"relu\"))\n",
        "\tmodel.add(BatchNormalization(axis=chanDim))\n",
        "\tmodel.add(Conv2D(32, (3, 3), padding=\"same\"))\n",
        "\tmodel.add(Activation(\"relu\"))\n",
        "\tmodel.add(BatchNormalization(axis=chanDim))\n",
        "\tmodel.add(MaxPooling2D(pool_size=(2, 2)))\n",
        "\tmodel.add(Dropout(0.25))\n",
        "\n",
        "  # second CONV => RELU => CONV => RELU => POOL layer set\n",
        "\tmodel.add(Conv2D(64, (3, 3), padding=\"same\"))\n",
        "\tmodel.add(Activation(\"relu\"))\n",
        "\tmodel.add(BatchNormalization(axis=chanDim))\n",
        "\tmodel.add(Conv2D(64, (3, 3), padding=\"same\"))\n",
        "\tmodel.add(Activation(\"relu\"))\n",
        "\tmodel.add(BatchNormalization(axis=chanDim))\n",
        "\tmodel.add(MaxPooling2D(pool_size=(2, 2)))\n",
        "\tmodel.add(Dropout(0.25))\n",
        "  # first (and only) set of FC => RELU layers\n",
        "\tmodel.add(Flatten())\n",
        "\tmodel.add(Dense(512))\n",
        "\tmodel.add(Activation(\"relu\"))\n",
        "\tmodel.add(BatchNormalization())\n",
        "\tmodel.add(Dropout(0.5))\n",
        "  # softmax classifier\n",
        "\tmodel.add(Dense(classes))\n",
        "\tmodel.add(Activation(\"softmax\"))\n",
        "  \n",
        "\t# compile model\topt = SGD(lr=0.01, momentum=0.9)\n",
        "\topt = SGD(lr=0.01, momentum=0.9)\n",
        "\tmodel.compile(optimizer=opt, loss='categorical_crossentropy', metrics=['accuracy'])\n",
        "\treturn model\n",
        "\n",
        "\n",
        "\n",
        "\n",
        "# load dataset\n",
        "trainX, trainY, testX, testY = load_dataset()\n",
        "# prepare pixel data\n",
        "trainX, testX = prep_pixels(trainX, testX)\n",
        "# evaluate model\n",
        "scores, histories, model = evaluate_model(trainX, trainY)\n",
        "# learning curves\n",
        "summarize_diagnostics(histories)\n",
        "# summarize estimated performance\n",
        "summarize_performance(scores)"
      ],
      "execution_count": 73,
      "outputs": [
        {
          "output_type": "stream",
          "text": [
            "> 90.492\n",
            "> 92.867\n",
            "> 92.500\n",
            "> 92.342\n",
            "> 92.875\n"
          ],
          "name": "stdout"
        },
        {
          "output_type": "display_data",
          "data": {
            "image/png": "[encoded data removed]",
            "text/plain": [
              "<Figure size 432x288 with 2 Axes>"
            ]
          },
          "metadata": {
            "tags": []
          }
        },
        {
          "output_type": "stream",
          "text": [
            "Accuracy: mean=92.215 std=0.886, n=5\n"
          ],
          "name": "stdout"
        },
        {
          "output_type": "display_data",
          "data": {
            "image/png": "[encoded data removed]",
            "text/plain": [
              "<Figure size 432x288 with 1 Axes>"
            ]
          },
          "metadata": {
            "tags": []
          }
        }
      ]
    },
    {
      "cell_type": "code",
      "metadata": {
        "id": "GR2Vq4aB4zcb",
        "colab_type": "code",
        "colab": {}
      },
      "source": [
        "from sklearn.metrics import classification_report\n",
        "\n",
        "labelNames = [\"top\", \"trouser\", \"pullover\", \"dress\", \"coat\",\n",
        "\t\"sandal\", \"shirt\", \"sneaker\", \"bag\", \"ankle boot\"]\n",
        "\n",
        "model = define_model()\n",
        "# make predictions on the test set\n",
        "preds = model.predict(testX[:10000])\n",
        "# show a nicely formatted classification report\n",
        "print(\"[INFO] evaluating network...\")\n",
        "print(classification_report(testY.argmax(axis=1), preds.argmax(axis=1),\n",
        "\ttarget_names=labelNames))"
      ],
      "execution_count": 0,
      "outputs": []
    },
    {
      "cell_type": "code",
      "metadata": {
        "id": "e2V1G9NtsSuF",
        "colab_type": "code",
        "colab": {}
      },
      "source": [
        "# confusion matrix\n",
        "import seaborn as sn\n",
        "\n",
        "model = define_model()\n",
        "trainX, testX = prep_pixels(trainX, testX)\n",
        "y_pred = model.predict(testX)\n",
        "\n",
        "\n",
        "\n",
        "df = pd.DataFrame(data={'y_Actual':np.argmax(testY, axis=1), 'y_Predicted':np.argmax(y_pred, axis=1)} )\n",
        "confusion_matrix = pd.crosstab(df['y_Actual'], df['y_Predicted'], rownames=['Actual'], colnames=['Predicted'])\n",
        "\n",
        "sn.heatmap(confusion_matrix, annot=True)"
      ],
      "execution_count": 0,
      "outputs": []
    }
  ]
}